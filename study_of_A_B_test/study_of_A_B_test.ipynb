{
 "cells": [
  {
   "cell_type": "markdown",
   "metadata": {},
   "source": [
    "# Исследование результатов A/B-теста"
   ]
  },
  {
   "cell_type": "markdown",
   "metadata": {},
   "source": [
    "В вашем распоряжении есть датасет с действиями пользователей, техническое задание и несколько вспомогательных датасетов.   \n",
    "\n",
    "Необходимо провести оценку корректности проведения A/B-теста и оценку его результатов."
   ]
  },
  {
   "cell_type": "markdown",
   "metadata": {},
   "source": [
    "**ЦЕЛЬ ИССЛЕДОВАНИЯ**:\n",
    "\n",
    "1. Оценить результаты А/В-теста о внедрении улучшенной рекомендательной системы для региона EU;\n",
    "\n",
    "\n",
    "2. Проверить гипотезы о равенстве долей уникальных пользователей, совершивших определенное событие, контрольной группы А и экспериментальной группы В:\n",
    "*  о равенстве долей уникальных пользователей, совершивших просмотр карточки товара, контрольной группы А и экспериментальной группы В;\n",
    "* о равенстве долей уникальных пользователей, совершивших просмотр корзины, контрольной группы А и экспериментальной группы В;\n",
    "* о равенстве долей уникальных пользователей, совершивших покупку, контрольной группы А и экспериментальной группы В."
   ]
  },
  {
   "cell_type": "markdown",
   "metadata": {},
   "source": [
    "**ТЕХНИЧЕСКОЕ ЗАДАНИЕ**    \n",
    "\n",
    "- Название теста: `recommender_system_test`;\n",
    "- группы: А — контрольная, B — новая платёжная воронка;\n",
    "- дата запуска: 2020-12-07;\n",
    "- дата остановки набора новых пользователей: 2020-12-21;\n",
    "- дата остановки: 2021-01-04;\n",
    "- аудитория: в тест должно быть отобрано 15% новых пользователей из региона EU;\n",
    "- назначение теста: тестирование изменений, связанных с внедрением улучшенной рекомендательной системы;\n",
    "- ожидаемое количество участников теста: 6000.\n",
    "- ожидаемый эффект: за 14 дней с момента регистрации пользователи покажут улучшение каждой метрики не менее, чем на 10%:\n",
    "    - конверсии в просмотр карточек товаров — событие `product_page`,\n",
    "    - просмотры корзины — `product_cart`,\n",
    "    - покупки — `purchase`."
   ]
  },
  {
   "cell_type": "markdown",
   "metadata": {},
   "source": [
    "**ХОД ИССЛЕДОВАНИЯ**\n",
    "\n",
    "Данные о действиях пользователей получили из файла final_ab_events.csv.    \n",
    "Вспомогательными файлами являются: final_ab_new_users.csv - о пользователях, зарегистрировавшихся с 7 по 21 декабря 2020 года, ab_project_marketing_events.csv - календарь маркетинговых событий на 2020 год; final_ab_participants.csv - таблица участников тестов.  \n",
    "\n",
    "О качестве данных ничего не известно. Поэтому перед исследованием данных и оценкой результатов теста понадобится их обзор, предобработка и оценка теста на корректность проведения. Проверим данные на ошибки и оценим их влияние на исследование.   \n",
    "Таким образом, исследование пройдёт в пять этапов:\n",
    "\n",
    "1. Обзор и предобработка данных.   \n",
    "2. Оценка корректности проведения теста. \n",
    "3. Исследовательский анализ данных.   \n",
    "4. Исследование результатов эксперимента: проверка гипотез.    \n",
    "5. Выводы и рекомендации."
   ]
  },
  {
   "cell_type": "markdown",
   "metadata": {},
   "source": [
    "### Обзор и предобработка данных"
   ]
  },
  {
   "cell_type": "markdown",
   "metadata": {},
   "source": [
    "Импортируем необходимые библиотеки, настроим отображение таблиц и загрузим данные в переменные `events`, `users`, `marketing` и  `participants`."
   ]
  },
  {
   "cell_type": "code",
   "execution_count": 1,
   "metadata": {},
   "outputs": [],
   "source": [
    "import pandas as pd\n",
    "import scipy.stats as stats\n",
    "import datetime as dt\n",
    "import numpy as np\n",
    "import math as mth\n",
    "import matplotlib.pyplot as plt\n",
    "import seaborn as sns\n",
    "from plotly import graph_objects as go\n",
    "\n",
    "import warnings\n",
    "warnings.simplefilter(\"ignore\")"
   ]
  },
  {
   "cell_type": "code",
   "execution_count": 2,
   "metadata": {},
   "outputs": [],
   "source": [
    "pd.set_option('display.max_columns', None) # настроим отображение всех столбцов на экране\n",
    "pd.set_option('display.max_colwidth', None) # настроим отображение текста в ячейках\n",
    "pd.set_option('display.float_format', '{:.3f}'.format) # настроим отображение вещественных чисел до 3 наков\n",
    "plt.style.use('seaborn-pastel')"
   ]
  },
  {
   "cell_type": "code",
   "execution_count": 3,
   "metadata": {},
   "outputs": [],
   "source": [
    "# загружаем данные\n",
    "try:\n",
    "    events = pd.read_csv('/datasets/final_ab_events.csv')\n",
    "    users = pd.read_csv('/datasets/final_ab_new_users.csv')\n",
    "    marketing = pd.read_csv('/datasets/ab_project_marketing_events.csv')\n",
    "    participants = pd.read_csv('/datasets/final_ab_participants.csv')\n",
    "\n",
    "except:\n",
    "    events = pd.read_csv('final_ab_events.csv')\n",
    "    users = pd.read_csv('final_ab_new_users.csv')\n",
    "    marketing = pd.read_csv('ab_project_marketing_events.csv')\n",
    "    participants = pd.read_csv('final_ab_participants.csv')"
   ]
  },
  {
   "cell_type": "markdown",
   "metadata": {},
   "source": [
    "---"
   ]
  },
  {
   "cell_type": "markdown",
   "metadata": {},
   "source": [
    "Для быстрого изучения данных создадим функцию `data_info`, которая выведет на экран первые 5 строк таблицы, основную инфоромацию по ней с типами данных каждого признака, информацию о числе пропусков и о количистве дубликатов."
   ]
  },
  {
   "cell_type": "code",
   "execution_count": 4,
   "metadata": {},
   "outputs": [],
   "source": [
    "def data_info(df):\n",
    "    # выводим первые 5 строк датафрема\n",
    "    display(df.head())\n",
    "    # применяем метод info()\n",
    "    print()\n",
    "    print('Общая информация:')\n",
    "    print(df.info())\n",
    "    print()\n",
    "    # считаем пропущенные значения:\n",
    "    print('Число пропущенных значений:')\n",
    "    print(df.isna().sum())\n",
    "    print()\n",
    "    # находим число строк-дубликатов в датафреме\n",
    "    print('Количество строк-дубликатов:', df.duplicated().sum())"
   ]
  },
  {
   "cell_type": "markdown",
   "metadata": {},
   "source": [
    "---"
   ]
  },
  {
   "cell_type": "markdown",
   "metadata": {},
   "source": [
    "Поочередно применим функцию к каждому датасету и предобработаем данные в случае необходимости."
   ]
  },
  {
   "cell_type": "markdown",
   "metadata": {},
   "source": [
    "#### Датасет \"events\""
   ]
  },
  {
   "cell_type": "code",
   "execution_count": 5,
   "metadata": {},
   "outputs": [
    {
     "data": {
      "text/html": [
       "<div>\n",
       "<style scoped>\n",
       "    .dataframe tbody tr th:only-of-type {\n",
       "        vertical-align: middle;\n",
       "    }\n",
       "\n",
       "    .dataframe tbody tr th {\n",
       "        vertical-align: top;\n",
       "    }\n",
       "\n",
       "    .dataframe thead th {\n",
       "        text-align: right;\n",
       "    }\n",
       "</style>\n",
       "<table border=\"1\" class=\"dataframe\">\n",
       "  <thead>\n",
       "    <tr style=\"text-align: right;\">\n",
       "      <th></th>\n",
       "      <th>user_id</th>\n",
       "      <th>event_dt</th>\n",
       "      <th>event_name</th>\n",
       "      <th>details</th>\n",
       "    </tr>\n",
       "  </thead>\n",
       "  <tbody>\n",
       "    <tr>\n",
       "      <th>0</th>\n",
       "      <td>E1BDDCE0DAFA2679</td>\n",
       "      <td>2020-12-07 20:22:03</td>\n",
       "      <td>purchase</td>\n",
       "      <td>99.990</td>\n",
       "    </tr>\n",
       "    <tr>\n",
       "      <th>1</th>\n",
       "      <td>7B6452F081F49504</td>\n",
       "      <td>2020-12-07 09:22:53</td>\n",
       "      <td>purchase</td>\n",
       "      <td>9.990</td>\n",
       "    </tr>\n",
       "    <tr>\n",
       "      <th>2</th>\n",
       "      <td>9CD9F34546DF254C</td>\n",
       "      <td>2020-12-07 12:59:29</td>\n",
       "      <td>purchase</td>\n",
       "      <td>4.990</td>\n",
       "    </tr>\n",
       "    <tr>\n",
       "      <th>3</th>\n",
       "      <td>96F27A054B191457</td>\n",
       "      <td>2020-12-07 04:02:40</td>\n",
       "      <td>purchase</td>\n",
       "      <td>4.990</td>\n",
       "    </tr>\n",
       "    <tr>\n",
       "      <th>4</th>\n",
       "      <td>1FD7660FDF94CA1F</td>\n",
       "      <td>2020-12-07 10:15:09</td>\n",
       "      <td>purchase</td>\n",
       "      <td>4.990</td>\n",
       "    </tr>\n",
       "  </tbody>\n",
       "</table>\n",
       "</div>"
      ],
      "text/plain": [
       "            user_id             event_dt event_name  details\n",
       "0  E1BDDCE0DAFA2679  2020-12-07 20:22:03   purchase   99.990\n",
       "1  7B6452F081F49504  2020-12-07 09:22:53   purchase    9.990\n",
       "2  9CD9F34546DF254C  2020-12-07 12:59:29   purchase    4.990\n",
       "3  96F27A054B191457  2020-12-07 04:02:40   purchase    4.990\n",
       "4  1FD7660FDF94CA1F  2020-12-07 10:15:09   purchase    4.990"
      ]
     },
     "metadata": {},
     "output_type": "display_data"
    },
    {
     "name": "stdout",
     "output_type": "stream",
     "text": [
      "\n",
      "Общая информация:\n",
      "<class 'pandas.core.frame.DataFrame'>\n",
      "RangeIndex: 440317 entries, 0 to 440316\n",
      "Data columns (total 4 columns):\n",
      " #   Column      Non-Null Count   Dtype  \n",
      "---  ------      --------------   -----  \n",
      " 0   user_id     440317 non-null  object \n",
      " 1   event_dt    440317 non-null  object \n",
      " 2   event_name  440317 non-null  object \n",
      " 3   details     62740 non-null   float64\n",
      "dtypes: float64(1), object(3)\n",
      "memory usage: 13.4+ MB\n",
      "None\n",
      "\n",
      "Число пропущенных значений:\n",
      "user_id            0\n",
      "event_dt           0\n",
      "event_name         0\n",
      "details       377577\n",
      "dtype: int64\n",
      "\n",
      "Количество строк-дубликатов: 0\n"
     ]
    }
   ],
   "source": [
    "data_info(events)"
   ]
  },
  {
   "cell_type": "markdown",
   "metadata": {},
   "source": [
    "<div style=\"border:solid Gray 1px; padding: 20px\">  \n",
    "    \n",
    "В таблице описаны действия новых пользователей в период с 7 декабря 2020 по 4 января 2021 года.    \n",
    "    В таблице 4 столбца. Встречаются разные типы данных в столбцах: object и float64.     \n",
    "\n",
    "Согласно документации:      \n",
    "**user_id** — идентификатор пользователя;   \n",
    "**event_dt** — дата и время события;   \n",
    "**event_name** — тип события;   \n",
    "**details** — дополнительные данные о событии (например, для покупок, `purchase`, в этом поле хранится стоимость покупки в долларах).\n",
    "  \n",
    "Тип данных признака `event_dt` не соответствует заявленному описанию, для исследования понадобится привести дату к формату datetime.     \n",
    "Выявлено большое число пропущенных значений в признаке `details`, с природой которых попробуем разобраться.    \n",
    "Названия колонок оформлены в соответствии с хорошим стилем, явных дубликатов не обнаружено. "
   ]
  },
  {
   "cell_type": "markdown",
   "metadata": {},
   "source": [
    "Проверим какие типы событий есть в датасете, и сразу оценим наличие неявных дубликатов:"
   ]
  },
  {
   "cell_type": "code",
   "execution_count": 6,
   "metadata": {},
   "outputs": [
    {
     "data": {
      "text/plain": [
       "array(['login', 'product_cart', 'product_page', 'purchase'], dtype=object)"
      ]
     },
     "execution_count": 6,
     "metadata": {},
     "output_type": "execute_result"
    }
   ],
   "source": [
    "events['event_name'].sort_values().unique()"
   ]
  },
  {
   "cell_type": "markdown",
   "metadata": {},
   "source": [
    "Пользователи совершают 4 типа событий:    \n",
    "\n",
    "**login** - авторизация,     \n",
    "**product_page** - просмотр карточки товаров,    \n",
    "**product_cart** - просмотр корзины,    \n",
    "**purchase** - покупка.\n"
   ]
  },
  {
   "cell_type": "code",
   "execution_count": 7,
   "metadata": {},
   "outputs": [
    {
     "data": {
      "text/plain": [
       "array([  4.99,   9.99,  99.99, 499.99,    nan])"
      ]
     },
     "execution_count": 7,
     "metadata": {},
     "output_type": "execute_result"
    }
   ],
   "source": [
    "# проверим какие значения принимает признак details\n",
    "events['details'].sort_values().unique()"
   ]
  },
  {
   "cell_type": "markdown",
   "metadata": {},
   "source": [
    "В признаке `details` неявных дубликатов тоже нет.    \n",
    "\n",
    "Известно, что признак с пропущенными значениями `details` является дополнительными данными, поэтому кажется не обязательным; а такой высокий процент пропусков (86%) - объяснимым и допустимым.   \n",
    "Но также нам известно, что для покупок в этом поле хранится их стоимость, поэтому выясним есть ли пропущенные значения именно для покупок `purchase`:"
   ]
  },
  {
   "cell_type": "code",
   "execution_count": 8,
   "metadata": {},
   "outputs": [
    {
     "data": {
      "text/plain": [
       "0"
      ]
     },
     "execution_count": 8,
     "metadata": {},
     "output_type": "execute_result"
    }
   ],
   "source": [
    "events[events['event_name'] == 'purchase']['details'].isna().sum()"
   ]
  },
  {
   "cell_type": "markdown",
   "metadata": {},
   "source": [
    "Пропусков нет - для всех покупок цены указаны.    \n",
    "\n",
    "Кроме того, проверим встречаются ли другие типы событий, по которым заполнены дополнительные данные:"
   ]
  },
  {
   "cell_type": "code",
   "execution_count": 9,
   "metadata": {},
   "outputs": [
    {
     "name": "stdout",
     "output_type": "stream",
     "text": [
      "['purchase']\n"
     ]
    }
   ],
   "source": [
    "# фильтруем датасет по заполненным значениям details и отбираем уникальные значения столбца event_name\n",
    "print(events[~events['details'].isna()]['event_name'].unique())"
   ]
  },
  {
   "cell_type": "markdown",
   "metadata": {},
   "source": [
    "Убедились, что в признаке `details` указаны данные только о цене совершенных покупок (причем цена на товары фиксированная) и среди них - пропусков нет.  Таким образом, все пропущенные значения - объяснимы, оставляем столбец без изменений."
   ]
  },
  {
   "cell_type": "markdown",
   "metadata": {},
   "source": [
    "Приведем признак `event_dt` к типу datetime."
   ]
  },
  {
   "cell_type": "code",
   "execution_count": 10,
   "metadata": {},
   "outputs": [
    {
     "data": {
      "text/plain": [
       "user_id               object\n",
       "event_dt      datetime64[ns]\n",
       "event_name            object\n",
       "details              float64\n",
       "dtype: object"
      ]
     },
     "execution_count": 10,
     "metadata": {},
     "output_type": "execute_result"
    }
   ],
   "source": [
    "events['event_dt'] = pd.to_datetime(events['event_dt'], format='%Y-%m-%d %H:%M:%S')\n",
    "events.dtypes"
   ]
  },
  {
   "cell_type": "markdown",
   "metadata": {},
   "source": [
    "Таким образом, располагаем данными о 440317 событиях."
   ]
  },
  {
   "cell_type": "markdown",
   "metadata": {},
   "source": [
    "#### Датасет \"users\""
   ]
  },
  {
   "cell_type": "code",
   "execution_count": 11,
   "metadata": {},
   "outputs": [
    {
     "data": {
      "text/html": [
       "<div>\n",
       "<style scoped>\n",
       "    .dataframe tbody tr th:only-of-type {\n",
       "        vertical-align: middle;\n",
       "    }\n",
       "\n",
       "    .dataframe tbody tr th {\n",
       "        vertical-align: top;\n",
       "    }\n",
       "\n",
       "    .dataframe thead th {\n",
       "        text-align: right;\n",
       "    }\n",
       "</style>\n",
       "<table border=\"1\" class=\"dataframe\">\n",
       "  <thead>\n",
       "    <tr style=\"text-align: right;\">\n",
       "      <th></th>\n",
       "      <th>user_id</th>\n",
       "      <th>first_date</th>\n",
       "      <th>region</th>\n",
       "      <th>device</th>\n",
       "    </tr>\n",
       "  </thead>\n",
       "  <tbody>\n",
       "    <tr>\n",
       "      <th>0</th>\n",
       "      <td>D72A72121175D8BE</td>\n",
       "      <td>2020-12-07</td>\n",
       "      <td>EU</td>\n",
       "      <td>PC</td>\n",
       "    </tr>\n",
       "    <tr>\n",
       "      <th>1</th>\n",
       "      <td>F1C668619DFE6E65</td>\n",
       "      <td>2020-12-07</td>\n",
       "      <td>N.America</td>\n",
       "      <td>Android</td>\n",
       "    </tr>\n",
       "    <tr>\n",
       "      <th>2</th>\n",
       "      <td>2E1BF1D4C37EA01F</td>\n",
       "      <td>2020-12-07</td>\n",
       "      <td>EU</td>\n",
       "      <td>PC</td>\n",
       "    </tr>\n",
       "    <tr>\n",
       "      <th>3</th>\n",
       "      <td>50734A22C0C63768</td>\n",
       "      <td>2020-12-07</td>\n",
       "      <td>EU</td>\n",
       "      <td>iPhone</td>\n",
       "    </tr>\n",
       "    <tr>\n",
       "      <th>4</th>\n",
       "      <td>E1BDDCE0DAFA2679</td>\n",
       "      <td>2020-12-07</td>\n",
       "      <td>N.America</td>\n",
       "      <td>iPhone</td>\n",
       "    </tr>\n",
       "  </tbody>\n",
       "</table>\n",
       "</div>"
      ],
      "text/plain": [
       "            user_id  first_date     region   device\n",
       "0  D72A72121175D8BE  2020-12-07         EU       PC\n",
       "1  F1C668619DFE6E65  2020-12-07  N.America  Android\n",
       "2  2E1BF1D4C37EA01F  2020-12-07         EU       PC\n",
       "3  50734A22C0C63768  2020-12-07         EU   iPhone\n",
       "4  E1BDDCE0DAFA2679  2020-12-07  N.America   iPhone"
      ]
     },
     "metadata": {},
     "output_type": "display_data"
    },
    {
     "name": "stdout",
     "output_type": "stream",
     "text": [
      "\n",
      "Общая информация:\n",
      "<class 'pandas.core.frame.DataFrame'>\n",
      "RangeIndex: 61733 entries, 0 to 61732\n",
      "Data columns (total 4 columns):\n",
      " #   Column      Non-Null Count  Dtype \n",
      "---  ------      --------------  ----- \n",
      " 0   user_id     61733 non-null  object\n",
      " 1   first_date  61733 non-null  object\n",
      " 2   region      61733 non-null  object\n",
      " 3   device      61733 non-null  object\n",
      "dtypes: object(4)\n",
      "memory usage: 1.9+ MB\n",
      "None\n",
      "\n",
      "Число пропущенных значений:\n",
      "user_id       0\n",
      "first_date    0\n",
      "region        0\n",
      "device        0\n",
      "dtype: int64\n",
      "\n",
      "Количество строк-дубликатов: 0\n"
     ]
    }
   ],
   "source": [
    "data_info(users)"
   ]
  },
  {
   "cell_type": "markdown",
   "metadata": {},
   "source": [
    "<div style=\"border:solid Gray 1px; padding: 20px\">  \n",
    "    \n",
    "В таблице отражены пользователи, зарегистрировавшиеся с 7 по 21 декабря 2020 года.    \n",
    "В таблице 4 столбца. Тип данных во всех столбцах: object.    \n",
    "\n",
    "Согласно документации:      \n",
    "**user_id** — идентификатор пользователя;   \n",
    "**first_date** — дата регистрации;   \n",
    "**region** — регион пользователя;   \n",
    "**device** — устройство, с которого происходила регистрация.\n",
    "  \n",
    "Тип данных признака `first_date` не соответствует заявленному описанию, для исследования понадобится привести дату к формату datetime.     \n",
    "Пропущенных значений нет, названия колонок оформлены в соответствии с хорошим стилем, явных дубликатов не обнаружено. "
   ]
  },
  {
   "cell_type": "markdown",
   "metadata": {},
   "source": [
    "Проверим столбцы `region` и `device` на неявные дубликаты, для этого выведем их уникальные значения на экран."
   ]
  },
  {
   "cell_type": "code",
   "execution_count": 12,
   "metadata": {},
   "outputs": [
    {
     "name": "stdout",
     "output_type": "stream",
     "text": [
      "Регионы: ['EU' 'N.America' 'APAC' 'CIS']\n",
      "\n",
      "Девайсы: ['PC' 'Android' 'iPhone' 'Mac']\n"
     ]
    }
   ],
   "source": [
    "print('Регионы:', users['region'].unique())\n",
    "print('')\n",
    "print('Девайсы:', users['device'].unique())"
   ]
  },
  {
   "cell_type": "markdown",
   "metadata": {},
   "source": [
    "Располагаем данными о 61733 пользователях из 4 регионов, которые используют 4 вида девайсов.    \n",
    "Изменим тип данных у даты регистрации:"
   ]
  },
  {
   "cell_type": "code",
   "execution_count": 13,
   "metadata": {},
   "outputs": [
    {
     "data": {
      "text/plain": [
       "user_id               object\n",
       "first_date    datetime64[ns]\n",
       "region                object\n",
       "device                object\n",
       "dtype: object"
      ]
     },
     "execution_count": 13,
     "metadata": {},
     "output_type": "execute_result"
    }
   ],
   "source": [
    "users['first_date'] = pd.to_datetime(users['first_date'], format='%Y-%m-%d')\n",
    "users.dtypes"
   ]
  },
  {
   "cell_type": "markdown",
   "metadata": {},
   "source": [
    "#### Датасет \"participants\""
   ]
  },
  {
   "cell_type": "code",
   "execution_count": 14,
   "metadata": {},
   "outputs": [
    {
     "data": {
      "text/html": [
       "<div>\n",
       "<style scoped>\n",
       "    .dataframe tbody tr th:only-of-type {\n",
       "        vertical-align: middle;\n",
       "    }\n",
       "\n",
       "    .dataframe tbody tr th {\n",
       "        vertical-align: top;\n",
       "    }\n",
       "\n",
       "    .dataframe thead th {\n",
       "        text-align: right;\n",
       "    }\n",
       "</style>\n",
       "<table border=\"1\" class=\"dataframe\">\n",
       "  <thead>\n",
       "    <tr style=\"text-align: right;\">\n",
       "      <th></th>\n",
       "      <th>user_id</th>\n",
       "      <th>group</th>\n",
       "      <th>ab_test</th>\n",
       "    </tr>\n",
       "  </thead>\n",
       "  <tbody>\n",
       "    <tr>\n",
       "      <th>0</th>\n",
       "      <td>D1ABA3E2887B6A73</td>\n",
       "      <td>A</td>\n",
       "      <td>recommender_system_test</td>\n",
       "    </tr>\n",
       "    <tr>\n",
       "      <th>1</th>\n",
       "      <td>A7A3664BD6242119</td>\n",
       "      <td>A</td>\n",
       "      <td>recommender_system_test</td>\n",
       "    </tr>\n",
       "    <tr>\n",
       "      <th>2</th>\n",
       "      <td>DABC14FDDFADD29E</td>\n",
       "      <td>A</td>\n",
       "      <td>recommender_system_test</td>\n",
       "    </tr>\n",
       "    <tr>\n",
       "      <th>3</th>\n",
       "      <td>04988C5DF189632E</td>\n",
       "      <td>A</td>\n",
       "      <td>recommender_system_test</td>\n",
       "    </tr>\n",
       "    <tr>\n",
       "      <th>4</th>\n",
       "      <td>482F14783456D21B</td>\n",
       "      <td>B</td>\n",
       "      <td>recommender_system_test</td>\n",
       "    </tr>\n",
       "  </tbody>\n",
       "</table>\n",
       "</div>"
      ],
      "text/plain": [
       "            user_id group                  ab_test\n",
       "0  D1ABA3E2887B6A73     A  recommender_system_test\n",
       "1  A7A3664BD6242119     A  recommender_system_test\n",
       "2  DABC14FDDFADD29E     A  recommender_system_test\n",
       "3  04988C5DF189632E     A  recommender_system_test\n",
       "4  482F14783456D21B     B  recommender_system_test"
      ]
     },
     "metadata": {},
     "output_type": "display_data"
    },
    {
     "name": "stdout",
     "output_type": "stream",
     "text": [
      "\n",
      "Общая информация:\n",
      "<class 'pandas.core.frame.DataFrame'>\n",
      "RangeIndex: 18268 entries, 0 to 18267\n",
      "Data columns (total 3 columns):\n",
      " #   Column   Non-Null Count  Dtype \n",
      "---  ------   --------------  ----- \n",
      " 0   user_id  18268 non-null  object\n",
      " 1   group    18268 non-null  object\n",
      " 2   ab_test  18268 non-null  object\n",
      "dtypes: object(3)\n",
      "memory usage: 428.3+ KB\n",
      "None\n",
      "\n",
      "Число пропущенных значений:\n",
      "user_id    0\n",
      "group      0\n",
      "ab_test    0\n",
      "dtype: int64\n",
      "\n",
      "Количество строк-дубликатов: 0\n"
     ]
    }
   ],
   "source": [
    "data_info(participants)"
   ]
  },
  {
   "cell_type": "markdown",
   "metadata": {},
   "source": [
    "<div style=\"border:solid Gray 1px; padding: 20px\">  \n",
    "    \n",
    "В таблице отражены участники теста. В таблице 3 столбца. Тип данных во всех столбцах: object. \n",
    "\n",
    "Согласно документации:      \n",
    "**user_id** — идентификатор пользователя;   \n",
    "**group** — группа пользователя;   \n",
    "**ab_test** — название теста.   \n",
    "\n",
    "  \n",
    "Все типы данных соответствуют заявленному описанию.     \n",
    "Пропущенных значений нет.   \n",
    "Названия колонок оформлены в соответствии с хорошим стилем.   \n",
    "Явных дубликатов не обнаружено.   "
   ]
  },
  {
   "cell_type": "markdown",
   "metadata": {},
   "source": [
    "Проверим какие значения принимают признаки `group` и  `ab_test`:"
   ]
  },
  {
   "cell_type": "code",
   "execution_count": 15,
   "metadata": {},
   "outputs": [
    {
     "name": "stdout",
     "output_type": "stream",
     "text": [
      "Группа: ['A' 'B']\n",
      "Название теста: ['recommender_system_test' 'interface_eu_test']\n"
     ]
    }
   ],
   "source": [
    "print('Группа:', participants['group'].unique())\n",
    "print('Название теста:', participants['ab_test'].unique())"
   ]
  },
  {
   "cell_type": "markdown",
   "metadata": {},
   "source": [
    "Неявных дубликатов нет.   \n",
    "Отметитм, что данные в таблице отражены по двум тестам. Подробнее исследуем на следующем шаге."
   ]
  },
  {
   "cell_type": "markdown",
   "metadata": {},
   "source": [
    "#### Датасет \"marketing\""
   ]
  },
  {
   "cell_type": "code",
   "execution_count": 16,
   "metadata": {},
   "outputs": [
    {
     "data": {
      "text/html": [
       "<div>\n",
       "<style scoped>\n",
       "    .dataframe tbody tr th:only-of-type {\n",
       "        vertical-align: middle;\n",
       "    }\n",
       "\n",
       "    .dataframe tbody tr th {\n",
       "        vertical-align: top;\n",
       "    }\n",
       "\n",
       "    .dataframe thead th {\n",
       "        text-align: right;\n",
       "    }\n",
       "</style>\n",
       "<table border=\"1\" class=\"dataframe\">\n",
       "  <thead>\n",
       "    <tr style=\"text-align: right;\">\n",
       "      <th></th>\n",
       "      <th>name</th>\n",
       "      <th>regions</th>\n",
       "      <th>start_dt</th>\n",
       "      <th>finish_dt</th>\n",
       "    </tr>\n",
       "  </thead>\n",
       "  <tbody>\n",
       "    <tr>\n",
       "      <th>0</th>\n",
       "      <td>Christmas&amp;New Year Promo</td>\n",
       "      <td>EU, N.America</td>\n",
       "      <td>2020-12-25</td>\n",
       "      <td>2021-01-03</td>\n",
       "    </tr>\n",
       "    <tr>\n",
       "      <th>1</th>\n",
       "      <td>St. Valentine's Day Giveaway</td>\n",
       "      <td>EU, CIS, APAC, N.America</td>\n",
       "      <td>2020-02-14</td>\n",
       "      <td>2020-02-16</td>\n",
       "    </tr>\n",
       "    <tr>\n",
       "      <th>2</th>\n",
       "      <td>St. Patric's Day Promo</td>\n",
       "      <td>EU, N.America</td>\n",
       "      <td>2020-03-17</td>\n",
       "      <td>2020-03-19</td>\n",
       "    </tr>\n",
       "    <tr>\n",
       "      <th>3</th>\n",
       "      <td>Easter Promo</td>\n",
       "      <td>EU, CIS, APAC, N.America</td>\n",
       "      <td>2020-04-12</td>\n",
       "      <td>2020-04-19</td>\n",
       "    </tr>\n",
       "    <tr>\n",
       "      <th>4</th>\n",
       "      <td>4th of July Promo</td>\n",
       "      <td>N.America</td>\n",
       "      <td>2020-07-04</td>\n",
       "      <td>2020-07-11</td>\n",
       "    </tr>\n",
       "  </tbody>\n",
       "</table>\n",
       "</div>"
      ],
      "text/plain": [
       "                           name                   regions    start_dt  \\\n",
       "0      Christmas&New Year Promo             EU, N.America  2020-12-25   \n",
       "1  St. Valentine's Day Giveaway  EU, CIS, APAC, N.America  2020-02-14   \n",
       "2        St. Patric's Day Promo             EU, N.America  2020-03-17   \n",
       "3                  Easter Promo  EU, CIS, APAC, N.America  2020-04-12   \n",
       "4             4th of July Promo                 N.America  2020-07-04   \n",
       "\n",
       "    finish_dt  \n",
       "0  2021-01-03  \n",
       "1  2020-02-16  \n",
       "2  2020-03-19  \n",
       "3  2020-04-19  \n",
       "4  2020-07-11  "
      ]
     },
     "metadata": {},
     "output_type": "display_data"
    },
    {
     "name": "stdout",
     "output_type": "stream",
     "text": [
      "\n",
      "Общая информация:\n",
      "<class 'pandas.core.frame.DataFrame'>\n",
      "RangeIndex: 14 entries, 0 to 13\n",
      "Data columns (total 4 columns):\n",
      " #   Column     Non-Null Count  Dtype \n",
      "---  ------     --------------  ----- \n",
      " 0   name       14 non-null     object\n",
      " 1   regions    14 non-null     object\n",
      " 2   start_dt   14 non-null     object\n",
      " 3   finish_dt  14 non-null     object\n",
      "dtypes: object(4)\n",
      "memory usage: 576.0+ bytes\n",
      "None\n",
      "\n",
      "Число пропущенных значений:\n",
      "name         0\n",
      "regions      0\n",
      "start_dt     0\n",
      "finish_dt    0\n",
      "dtype: int64\n",
      "\n",
      "Количество строк-дубликатов: 0\n"
     ]
    }
   ],
   "source": [
    "data_info(marketing)"
   ]
  },
  {
   "cell_type": "markdown",
   "metadata": {},
   "source": [
    "<div style=\"border:solid Gray 1px; padding: 20px\">  \n",
    "    \n",
    "В таблице отражен календарь маркетинговых событий на 2020 год, содержащий 14 событий. В таблице 4 столбца. Тип данных во всех столбцах: object. \n",
    "\n",
    "Согласно документации:      \n",
    "**name** — название маркетингового события;   \n",
    "**regions** — регионы, в которых будет проводиться рекламная кампания;   \n",
    "**start_dt** — дата начала кампании;   \n",
    "**finish_dt** — дата завершения кампании.\n",
    "\n",
    "  \n",
    "Тип данных признаков `start_dt` и `finish_dt` не соответствует заявленному описанию, заменим на datetime.     \n",
    "Пропущенных значений нет.   \n",
    "Названия колонок оформлены в соответствии с хорошим стилем.   \n",
    "Явных дубликатов не обнаружено.   "
   ]
  },
  {
   "cell_type": "code",
   "execution_count": 17,
   "metadata": {},
   "outputs": [
    {
     "data": {
      "text/plain": [
       "name                 object\n",
       "regions              object\n",
       "start_dt     datetime64[ns]\n",
       "finish_dt    datetime64[ns]\n",
       "dtype: object"
      ]
     },
     "execution_count": 17,
     "metadata": {},
     "output_type": "execute_result"
    }
   ],
   "source": [
    "# изменяем тип данных\n",
    "marketing['start_dt'] = pd.to_datetime(marketing['start_dt'], format='%Y-%m-%d')\n",
    "marketing['finish_dt'] = pd.to_datetime(marketing['finish_dt'], format='%Y-%m-%d')\n",
    "marketing.dtypes"
   ]
  },
  {
   "cell_type": "markdown",
   "metadata": {},
   "source": [
    "**Вывод**  \n",
    "Данные загружены и предобработаны: типы данных заменены, где это требовалось, все заголовки оформлены в соответствии с хорошим стилем, явных и неявных дубликатов не выявлено, природа пропусков в дополнительном признаке `details` из переменной `events` понятна (признак заполнен только для действия \"покупка\"). Таким образом, данные готовы к следующему этапу.    \n",
    "После этапа предобработки располагаем данными о 440317 событиях, о 61733 пользователях из 4 регионов, которые используют 4 вида девайсов. "
   ]
  },
  {
   "cell_type": "markdown",
   "metadata": {},
   "source": [
    "### Оценка корректности проведения теста"
   ]
  },
  {
   "cell_type": "markdown",
   "metadata": {},
   "source": [
    "#### Соответствие данных требованиям технического задания"
   ]
  },
  {
   "cell_type": "markdown",
   "metadata": {},
   "source": [
    "* **Название теста: \"recommender_system_test\"**"
   ]
  },
  {
   "cell_type": "markdown",
   "metadata": {},
   "source": [
    "Из этапа предобработки мы знаем, что параллельно с нашим проводилось еще одно тестирование `'interface_eu_test'`, о котором из вводных данных ничего не известно, судя по названию - только можем предположить, что тестировался интерфейс среди пользователей региона EU.     \n",
    "Отберем участников только нашего теста `'recommender_system_test'` в переменную `participants_recommender`"
   ]
  },
  {
   "cell_type": "code",
   "execution_count": 18,
   "metadata": {},
   "outputs": [
    {
     "name": "stdout",
     "output_type": "stream",
     "text": [
      "Число участников теста \"recommender_system_test\": 6701\n"
     ]
    }
   ],
   "source": [
    "participants_recommender = participants[participants['ab_test'] == 'recommender_system_test']\n",
    "print('Число участников теста \"recommender_system_test\":', participants_recommender.shape[0])"
   ]
  },
  {
   "cell_type": "markdown",
   "metadata": {},
   "source": [
    "Под тестирование новой рекомендательной системы попал 6701 пользователь."
   ]
  },
  {
   "cell_type": "markdown",
   "metadata": {},
   "source": [
    "* **Дата запуска и остановки теста**"
   ]
  },
  {
   "cell_type": "markdown",
   "metadata": {},
   "source": [
    "Выведем на экран дату начала и окончания тестирования в наших данных:"
   ]
  },
  {
   "cell_type": "code",
   "execution_count": 19,
   "metadata": {},
   "outputs": [
    {
     "name": "stdout",
     "output_type": "stream",
     "text": [
      "Первое событие после регистрации: 2020-12-07 00:00:33\n",
      "Последнее событие: 2020-12-30 23:36:33\n"
     ]
    }
   ],
   "source": [
    "print('Первое событие после регистрации:', events['event_dt'].min())\n",
    "print('Последнее событие:', events['event_dt'].max())"
   ]
  },
  {
   "cell_type": "markdown",
   "metadata": {},
   "source": [
    "Тест стартовал вовремя, но интересно, что последнее событие совершено 30.12.2020, в то время как тест должен был закончиться 04.01.2021.    \n",
    "Из документации известно, что в `events` должны отражаться действия новых пользователей в период с 7 декабря 2020 по 4 января 2021 года, что может свидетельствовать **об ошибке на этапе сбора данных**. Таким образом, не хватает данных за 5 дней."
   ]
  },
  {
   "cell_type": "markdown",
   "metadata": {},
   "source": [
    "* **Дата остановки набора новых пользователей**"
   ]
  },
  {
   "cell_type": "markdown",
   "metadata": {},
   "source": [
    "Проверим в какие сроки осуществлялся набор новых пользователей, для этого будем использовать датасет `users`:"
   ]
  },
  {
   "cell_type": "code",
   "execution_count": 20,
   "metadata": {},
   "outputs": [
    {
     "name": "stdout",
     "output_type": "stream",
     "text": [
      "Начало набора: 2020-12-07 00:00:00\n",
      "Окончание набора: 2020-12-23 00:00:00\n"
     ]
    }
   ],
   "source": [
    "print('Начало набора:', users['first_date'].min())\n",
    "print('Окончание набора:', users['first_date'].max())"
   ]
  },
  {
   "cell_type": "markdown",
   "metadata": {},
   "source": [
    "Видим, что окончание набора пользователей произошло 23.12.2020 вместо 21.12.2020 (которое указано в техническом задании).   \n",
    "\n",
    "Уберем пользователей, зарегистрированных после 21.12.2020 в соответствии с техническим заданием, результат сохраним в переменную `users_filtred`:"
   ]
  },
  {
   "cell_type": "code",
   "execution_count": 21,
   "metadata": {},
   "outputs": [
    {
     "name": "stdout",
     "output_type": "stream",
     "text": [
      "Начало набора в отфильтрованных данных: 2020-12-07 00:00:00\n",
      "Окончание набора в отфильтрованных данных: 2020-12-21 00:00:00\n"
     ]
    }
   ],
   "source": [
    "users_filtred = users[users['first_date'] <= \"2020-12-21 23:59:59\"]\n",
    "print('Начало набора в отфильтрованных данных:', users_filtred['first_date'].min())\n",
    "print('Окончание набора в отфильтрованных данных:', users_filtred['first_date'].max())"
   ]
  },
  {
   "cell_type": "markdown",
   "metadata": {},
   "source": [
    "Проверим, попали ли в наш тест пользователи с \"нарушенной\" датой регистрации. Для этого отфильтруем `participants_recommender` по пользователям из `users_filtred`."
   ]
  },
  {
   "cell_type": "code",
   "execution_count": 22,
   "metadata": {},
   "outputs": [
    {
     "data": {
      "text/html": [
       "<div>\n",
       "<style scoped>\n",
       "    .dataframe tbody tr th:only-of-type {\n",
       "        vertical-align: middle;\n",
       "    }\n",
       "\n",
       "    .dataframe tbody tr th {\n",
       "        vertical-align: top;\n",
       "    }\n",
       "\n",
       "    .dataframe thead th {\n",
       "        text-align: right;\n",
       "    }\n",
       "</style>\n",
       "<table border=\"1\" class=\"dataframe\">\n",
       "  <thead>\n",
       "    <tr style=\"text-align: right;\">\n",
       "      <th></th>\n",
       "      <th>user_id</th>\n",
       "      <th>group</th>\n",
       "      <th>ab_test</th>\n",
       "    </tr>\n",
       "  </thead>\n",
       "  <tbody>\n",
       "  </tbody>\n",
       "</table>\n",
       "</div>"
      ],
      "text/plain": [
       "Empty DataFrame\n",
       "Columns: [user_id, group, ab_test]\n",
       "Index: []"
      ]
     },
     "execution_count": 22,
     "metadata": {},
     "output_type": "execute_result"
    }
   ],
   "source": [
    "# смотрим сколько пользователей с датой регистрации позже 2020-12-21 приняли участие в тесте\n",
    "participants_recommender[~participants_recommender['user_id'].isin(users_filtred['user_id'])]"
   ]
  },
  {
   "cell_type": "markdown",
   "metadata": {},
   "source": [
    "Здесь нарушений не произошло и все пользователи, принявшие участие в тесте зарегистрированы в системе в подходящие даты."
   ]
  },
  {
   "cell_type": "markdown",
   "metadata": {},
   "source": [
    "* **В тест должно быть отобрано 15% новых пользователей из региона EU**"
   ]
  },
  {
   "cell_type": "markdown",
   "metadata": {},
   "source": [
    "Проверим механизм отбора пользователей в тест. Для этого из таблицы с данными о пользователях отберем клиентов из Европы, которые были зарегистрированы в даты нашего теста (то есть будем использовать `users_filtred`) и посмотрим какая доля из них попала в наш тест:"
   ]
  },
  {
   "cell_type": "code",
   "execution_count": 23,
   "metadata": {
    "scrolled": true
   },
   "outputs": [
    {
     "name": "stdout",
     "output_type": "stream",
     "text": [
      "В тест отобрано: 15.00% новых пользователей из региона EU\n"
     ]
    }
   ],
   "source": [
    "# отбираем пользователей из EU\n",
    "users_eu = users_filtred[users_filtred['region'] == 'EU']['user_id'].nunique()\n",
    "\n",
    "# отбираем участников теста из EU\n",
    "users_test = participants_recommender.merge(users_filtred, on='user_id', how='left')\n",
    "users_test_eu = users_test[users_test['region'] == 'EU']['user_id'].nunique()\n",
    "\n",
    "#оцениваем долю попавших в тест\n",
    "print('В тест отобрано: {:.2%}'.format(users_test_eu / users_eu), 'новых пользователей из региона EU')"
   ]
  },
  {
   "cell_type": "markdown",
   "metadata": {},
   "source": [
    "Механизм отбора соответствует техническому заданию."
   ]
  },
  {
   "cell_type": "markdown",
   "metadata": {},
   "source": [
    "* **Ожидаемое количество участников теста: 6000**"
   ]
  },
  {
   "cell_type": "markdown",
   "metadata": {},
   "source": [
    "Проверим сколько пользователей из EU принимают участие в тесте:"
   ]
  },
  {
   "cell_type": "code",
   "execution_count": 24,
   "metadata": {},
   "outputs": [
    {
     "data": {
      "text/plain": [
       "6351"
      ]
     },
     "execution_count": 24,
     "metadata": {},
     "output_type": "execute_result"
    }
   ],
   "source": [
    "users_test_eu"
   ]
  },
  {
   "cell_type": "markdown",
   "metadata": {},
   "source": [
    "На первый взгляд, число пользователей даже превышает ожидаемое число участников."
   ]
  },
  {
   "cell_type": "markdown",
   "metadata": {},
   "source": [
    "Интересно, что число пользователей из европы отличается от числа участников теста - следовательно, в  тесте приняли участие пользователи и из других регионов. Посмотрим как распределились участники теста по странам:"
   ]
  },
  {
   "cell_type": "code",
   "execution_count": 25,
   "metadata": {},
   "outputs": [
    {
     "data": {
      "image/png": "[encoded data removed]",
      "text/plain": [
       "<Figure size 1500x600 with 1 Axes>"
      ]
     },
     "metadata": {},
     "output_type": "display_data"
    }
   ],
   "source": [
    "# строим график распределения числа участников по странам\n",
    "plt.figure(figsize=(15, 6))\n",
    "ax = sns.countplot(x = users_test['region'])\n",
    "ax.set_title('Число участников теста \"recommender_system_test\" по странам')\n",
    "ax.set_ylabel('Число пользователей')\n",
    "ax.set_xlabel('Регион')\n",
    "plt.show()"
   ]
  },
  {
   "cell_type": "markdown",
   "metadata": {},
   "source": [
    "Подавляющее число пользователей, как и положено по техническому заданию из европейских стран, но 350 участников теста относятся к другим регионам. Оценим насколько критичным будет влияние таких пользователей на результаты тестирования, для этого проверим насколько равномерно распределились участники других стран между группами с помощью z-теста.    "
   ]
  },
  {
   "cell_type": "markdown",
   "metadata": {},
   "source": [
    "---"
   ]
  },
  {
   "cell_type": "markdown",
   "metadata": {},
   "source": [
    "Для проверки находят ли статистические критерии разницу между выборками будем использовать z-тест, который проверит гипотезы для долей.\n",
    "\n",
    "Для простоты расчетов создадим функцию `z_test`"
   ]
  },
  {
   "cell_type": "code",
   "execution_count": 26,
   "metadata": {},
   "outputs": [],
   "source": [
    "def z_test(successes, trials, alpha):\n",
    "    \"\"\"\n",
    "    Функция принимает на вход \n",
    "    successes - массив данных, состоящий из числа \"успешных\" пользователей для сравниваемых групп,   \n",
    "    trials - массив данных, состоящий из общего числа пользователей для сравниваемых групп,   \n",
    "    alpha - уровень статистической значимости.   \n",
    "   \n",
    "    \"\"\"\n",
    "    \n",
    "    # пропорция успехов в первой группе:\n",
    "    p1 = successes[0]/trials[0]\n",
    "\n",
    "    # пропорция успехов во второй группе:\n",
    "    p2 = successes[1]/trials[1]\n",
    "\n",
    "    # пропорция успехов в комбинированном датасете:\n",
    "    p_combined = (successes[0] + successes[1]) / (trials[0] + trials[1])\n",
    "\n",
    "    # разница пропорций в датасетах\n",
    "    difference = p1 - p2 \n",
    "\n",
    "    # считаем статистику в ст.отклонениях стандартного нормального распределения по формуле\n",
    "    z_value = difference / mth.sqrt(p_combined * (1 - p_combined) * (1/trials[0] + 1/trials[1]))\n",
    "\n",
    "    # задаем стандартное нормальное распределение (среднее 0, ст.отклонение 1)\n",
    "    distr = stats.norm(0, 1) \n",
    "    \n",
    "    # считаем p-value и удваиваем результат, поскольку проверка двусторонняя\n",
    "    p_value = (1 - distr.cdf(abs(z_value))) * 2\n",
    "    \n",
    "    print('p-value: ', p_value)\n",
    "\n",
    "    if p_value < alpha:\n",
    "        print('Отвергаем нулевую гипотезу: между долями есть значимая разница')\n",
    "    else:\n",
    "        print(\n",
    "        'Не получилось отвергнуть нулевую гипотезу, нет оснований считать доли разными'\n",
    "    )"
   ]
  },
  {
   "cell_type": "markdown",
   "metadata": {},
   "source": [
    "---"
   ]
  },
  {
   "cell_type": "markdown",
   "metadata": {},
   "source": [
    "Проверим гипотезу о равенстве пропорций пользователей, не относящихся к европейскому региону в группах А и В:"
   ]
  },
  {
   "cell_type": "markdown",
   "metadata": {},
   "source": [
    "Сформулируем гипотезы:\n",
    "```\n",
    "H_0: Доли пользователей не из региона EU в группах А и В одинаковы.\n",
    "H_1: Доли пользователей не из региона EU в группах А и В различаются.\n",
    "\n",
    "```"
   ]
  },
  {
   "cell_type": "markdown",
   "metadata": {},
   "source": [
    "Найдем массивы данных для проверки и проведем тест:"
   ]
  },
  {
   "cell_type": "code",
   "execution_count": 27,
   "metadata": {},
   "outputs": [
    {
     "name": "stdout",
     "output_type": "stream",
     "text": [
      "successes: [160 190]\n",
      "trials: [3824 2877]\n"
     ]
    }
   ],
   "source": [
    "     # число уникальных пользователей \n",
    "successes = np.array([\n",
    "        users_test[(users_test['region'] != 'EU') & (users_test['group'] != 'A')]['user_id'].nunique(), \n",
    "        users_test[(users_test['region'] != 'EU') & (users_test['group'] != 'B')]['user_id'].nunique()\n",
    "   ])    \n",
    " \n",
    "    # число уникальных пользователей в сравниваемых группах\n",
    "trials = np.array([\n",
    "        users_test[users_test['group'] == 'A']['user_id'].nunique(),\n",
    "        users_test[users_test['group'] == 'B']['user_id'].nunique()\n",
    "    ])\n",
    "print('successes:', successes)\n",
    "print('trials:', trials)"
   ]
  },
  {
   "cell_type": "code",
   "execution_count": 28,
   "metadata": {},
   "outputs": [
    {
     "name": "stdout",
     "output_type": "stream",
     "text": [
      "p-value:  1.0473313185821453e-05\n",
      "Отвергаем нулевую гипотезу: между долями есть значимая разница\n",
      "Доля для группы А: 4.2%\n",
      "Доля для группы B: 6.6%\n"
     ]
    }
   ],
   "source": [
    "# устонавливаем уровень статистической значимости\n",
    "alpha = 0.05\n",
    "# применяем функцию z-test\n",
    "z_test(successes, trials, alpha)\n",
    "print('Доля для группы А: {0:.1%}'.format(successes[0]/trials[0]))\n",
    "print('Доля для группы B: {0:.1%}'.format(successes[1]/trials[1]))"
   ]
  },
  {
   "cell_type": "markdown",
   "metadata": {},
   "source": [
    "Пользователи по группам распределились не достаточно равномерно, поэтому в исследовании оставим только тех, кто относится к региону EU."
   ]
  },
  {
   "cell_type": "code",
   "execution_count": 29,
   "metadata": {},
   "outputs": [
    {
     "data": {
      "text/plain": [
       "6351"
      ]
     },
     "execution_count": 29,
     "metadata": {},
     "output_type": "execute_result"
    }
   ],
   "source": [
    "users_test = users_test[users_test['region']=='EU']\n",
    "\n",
    "# отфильтруем участников теста по региону\n",
    "participants_recommender = participants_recommender[participants_recommender['user_id'].isin(users_test['user_id'])]\n",
    "participants_recommender.shape[0]"
   ]
  },
  {
   "cell_type": "markdown",
   "metadata": {},
   "source": [
    "* **ожидаемый эффект: за 14 дней с момента регистрации пользователи покажут улучшение каждой метрики не менее, чем на 10%**"
   ]
  },
  {
   "cell_type": "markdown",
   "metadata": {},
   "source": [
    "Улучшение и сравнение самих метрик уже будет рассмотренно непосредственно на этапе исследовательского анализа.     \n",
    "\n",
    "Для того, чтобы оценить корректность проведения теста по этому пункту важно ограничить события по лайфтайму, равному 14 дням, а также разобраться как поступить с пользователями, которые физически не имели возможности \"прожить\" до 14 дней. Считаем разумным провести такую оценку после полного изучения и фильтрации аудитории теста в следующем пункте."
   ]
  },
  {
   "cell_type": "markdown",
   "metadata": {},
   "source": [
    "#### Аудитория  теста"
   ]
  },
  {
   "cell_type": "markdown",
   "metadata": {},
   "source": [
    "Проверим сколько всего пользоваелей, зарегистрированных с 7 по 21 декабря 2020 года:"
   ]
  },
  {
   "cell_type": "code",
   "execution_count": 30,
   "metadata": {
    "scrolled": true
   },
   "outputs": [
    {
     "name": "stdout",
     "output_type": "stream",
     "text": [
      "Число пользователей, зарегистрированных с 7 по 21 декабря 2020:  56470\n"
     ]
    }
   ],
   "source": [
    "print('Число пользователей, зарегистрированных с 7 по 21 декабря 2020: ', users_filtred.shape[0])"
   ]
  },
  {
   "cell_type": "markdown",
   "metadata": {},
   "source": [
    "Как мы уже знаем, кроме нашего тестирования проводилось еще одно. В связи с чем необходимо убедитьтся, что нет пересечений с конкурирующим тестом и нет пользователей, участвующих в двух группах теста одновременно.    "
   ]
  },
  {
   "cell_type": "markdown",
   "metadata": {},
   "source": [
    "**Оценка пересечения с конкурирующим тестом**"
   ]
  },
  {
   "cell_type": "markdown",
   "metadata": {},
   "source": [
    "Проверим как вообще распределились пользователи всего и по группам в обоих тестах:"
   ]
  },
  {
   "cell_type": "code",
   "execution_count": 31,
   "metadata": {},
   "outputs": [
    {
     "name": "stdout",
     "output_type": "stream",
     "text": [
      "Всего уникальных участников в двух тестах: 16666\n",
      "Число уникальных участников в тесте \"interface_eu_test\": 11567\n",
      "Число уникальных участников в тесте \"recommender_system_test\": 6701\n"
     ]
    },
    {
     "data": {
      "text/html": [
       "<div>\n",
       "<style scoped>\n",
       "    .dataframe tbody tr th:only-of-type {\n",
       "        vertical-align: middle;\n",
       "    }\n",
       "\n",
       "    .dataframe tbody tr th {\n",
       "        vertical-align: top;\n",
       "    }\n",
       "\n",
       "    .dataframe thead th {\n",
       "        text-align: right;\n",
       "    }\n",
       "</style>\n",
       "<table border=\"1\" class=\"dataframe\">\n",
       "  <thead>\n",
       "    <tr style=\"text-align: right;\">\n",
       "      <th></th>\n",
       "      <th></th>\n",
       "      <th>user_id</th>\n",
       "    </tr>\n",
       "    <tr>\n",
       "      <th>ab_test</th>\n",
       "      <th>group</th>\n",
       "      <th></th>\n",
       "    </tr>\n",
       "  </thead>\n",
       "  <tbody>\n",
       "    <tr>\n",
       "      <th rowspan=\"2\" valign=\"top\">interface_eu_test</th>\n",
       "      <th>A</th>\n",
       "      <td>5831</td>\n",
       "    </tr>\n",
       "    <tr>\n",
       "      <th>B</th>\n",
       "      <td>5736</td>\n",
       "    </tr>\n",
       "    <tr>\n",
       "      <th rowspan=\"2\" valign=\"top\">recommender_system_test</th>\n",
       "      <th>A</th>\n",
       "      <td>3824</td>\n",
       "    </tr>\n",
       "    <tr>\n",
       "      <th>B</th>\n",
       "      <td>2877</td>\n",
       "    </tr>\n",
       "  </tbody>\n",
       "</table>\n",
       "</div>"
      ],
      "text/plain": [
       "                               user_id\n",
       "ab_test                 group         \n",
       "interface_eu_test       A         5831\n",
       "                        B         5736\n",
       "recommender_system_test A         3824\n",
       "                        B         2877"
      ]
     },
     "execution_count": 31,
     "metadata": {},
     "output_type": "execute_result"
    }
   ],
   "source": [
    "# число уникальных участников  в двух тестах\n",
    "print('Всего уникальных участников в двух тестах:', participants['user_id'].nunique())\n",
    "# число уникальных участников  в нашем тесте\n",
    "print('Число уникальных участников в тесте \"interface_eu_test\":',\n",
    "      participants[participants['ab_test']=='interface_eu_test']['user_id'].nunique())\n",
    "# число уникальных участников в конкурирующем тесте\n",
    "print('Число уникальных участников в тесте \"recommender_system_test\":',\n",
    "      participants[participants['ab_test']=='recommender_system_test']['user_id'].nunique())\n",
    "\n",
    "# распределение участников по группам в разных тестах\n",
    "participants.groupby(['ab_test', 'group']).agg({'user_id':'nunique'})"
   ]
  },
  {
   "cell_type": "markdown",
   "metadata": {},
   "source": [
    "Участники нашего теста распределены между группами неравномерно (разница составляет 947 человек, или 25%).\n",
    "\n",
    "Можем заметить, что число уникальных участников в двух тестах не соответствует сумме числа участников в разных тестах, что свидетельствует о пересечении пользователей с конкурирующим тестом.    \n",
    "Для того чтобы оценить насколько это может повлиять на результат тестирования отберем тех пользователей, которые попали в оба теста, результат сохраним в `double_participants`:"
   ]
  },
  {
   "cell_type": "code",
   "execution_count": 32,
   "metadata": {},
   "outputs": [
    {
     "data": {
      "text/plain": [
       "1602"
      ]
     },
     "execution_count": 32,
     "metadata": {},
     "output_type": "execute_result"
    }
   ],
   "source": [
    "# находим список \"задвоившихся\" участников\n",
    "double_participants_list = participants.groupby('user_id').agg({'ab_test':'nunique'}).reset_index().query('ab_test > 1')\n",
    "double_participants_list = list(double_participants_list['user_id'])\n",
    "\n",
    "# фильтруем исходные данные согласно этого списка\n",
    "double_participants = participants[participants['user_id'].isin(double_participants_list)]\n",
    "len(double_participants_list)"
   ]
  },
  {
   "cell_type": "markdown",
   "metadata": {},
   "source": [
    "**1602 пользователя приняли участие в двух тестах.**    \n",
    "Мы не знаем наверняка, в какое время проводилось другое тестирование: в одно время с нашим, или в разное, поэтому риск влияния тестирования interface_eu_test на результаты тестирования recommender_system_test присутствует.   \n",
    "\n",
    "В таком случае важно рассмотреть подробнее участников группы В конкурирующего теста, поскольку именно они видели изменения и могут повлиять на результат нашего теста (в том случае, если они тоже попали в экспериментальную группу в другом тесте), участники контрольной группы А на результаты нашего теста влияния не окажут.   \n",
    "Поэтому отберем участников группы B конкурирующего теста в переменную `double_interface_B` и проверим как они распределились среди участников нашего теста."
   ]
  },
  {
   "cell_type": "code",
   "execution_count": 33,
   "metadata": {},
   "outputs": [
    {
     "name": "stdout",
     "output_type": "stream",
     "text": [
      "Число участников группы В конкурирующего теста: 783\n"
     ]
    }
   ],
   "source": [
    "# отбираем участников, которые могли повлиять на результат\n",
    "double_interface_B = double_participants[\n",
    "    (double_participants['ab_test'] == 'interface_eu_test') & \n",
    "    (double_participants['group'] == 'B')\n",
    "]\n",
    "print('Число участников группы В конкурирующего теста:', len(double_interface_B)) "
   ]
  },
  {
   "cell_type": "markdown",
   "metadata": {},
   "source": [
    "Проверим как они распределились на группы в нашем тесте:"
   ]
  },
  {
   "cell_type": "code",
   "execution_count": 34,
   "metadata": {},
   "outputs": [
    {
     "data": {
      "text/html": [
       "<div>\n",
       "<style scoped>\n",
       "    .dataframe tbody tr th:only-of-type {\n",
       "        vertical-align: middle;\n",
       "    }\n",
       "\n",
       "    .dataframe tbody tr th {\n",
       "        vertical-align: top;\n",
       "    }\n",
       "\n",
       "    .dataframe thead th {\n",
       "        text-align: right;\n",
       "    }\n",
       "</style>\n",
       "<table border=\"1\" class=\"dataframe\">\n",
       "  <thead>\n",
       "    <tr style=\"text-align: right;\">\n",
       "      <th></th>\n",
       "      <th></th>\n",
       "      <th>user_id</th>\n",
       "    </tr>\n",
       "    <tr>\n",
       "      <th>ab_test</th>\n",
       "      <th>group</th>\n",
       "      <th></th>\n",
       "    </tr>\n",
       "  </thead>\n",
       "  <tbody>\n",
       "    <tr>\n",
       "      <th rowspan=\"2\" valign=\"top\">recommender_system_test</th>\n",
       "      <th>A</th>\n",
       "      <td>439</td>\n",
       "    </tr>\n",
       "    <tr>\n",
       "      <th>B</th>\n",
       "      <td>344</td>\n",
       "    </tr>\n",
       "  </tbody>\n",
       "</table>\n",
       "</div>"
      ],
      "text/plain": [
       "                               user_id\n",
       "ab_test                 group         \n",
       "recommender_system_test A          439\n",
       "                        B          344"
      ]
     },
     "execution_count": 34,
     "metadata": {},
     "output_type": "execute_result"
    }
   ],
   "source": [
    "# отбираем среди наших участников тех, кто участвовал в группе В конкурирующего теста\n",
    "double_participants_recommender = participants_recommender[\n",
    "    participants_recommender['user_id'].isin(double_interface_B['user_id'])\n",
    "]\n",
    "\n",
    "# проверяем как эти участники распределились по группам нашего теста\n",
    "double_participants_recommender.groupby(['ab_test','group']).agg({'user_id':'nunique'})"
   ]
  },
  {
   "cell_type": "markdown",
   "metadata": {},
   "source": [
    "Таким образом, 344 пользователя потенциально могут оказать влияние на результаты нашего тестирования.    \n",
    "В данном случае можно было бы оценить равномерность распределения участников с помощью z-теста, но с целью \"чистоты\" эксперимента считаем необходимым и критичным исключить из исследования участников группы В конкурирующего теста - всё-таки участники тестирования являются самым ключевым параметром и допускать возможность погрешности здесь нецелесообразно, иначе проведение тестирования вовсе может потерять смысл, а различить какой из тестов повлиял на поведение пользователя мы не сможем. "
   ]
  },
  {
   "cell_type": "code",
   "execution_count": 35,
   "metadata": {},
   "outputs": [
    {
     "name": "stdout",
     "output_type": "stream",
     "text": [
      "Участников нашего теста всего: 5568\n",
      "Участников нашего теста по группам:\n"
     ]
    },
    {
     "data": {
      "text/html": [
       "<div>\n",
       "<style scoped>\n",
       "    .dataframe tbody tr th:only-of-type {\n",
       "        vertical-align: middle;\n",
       "    }\n",
       "\n",
       "    .dataframe tbody tr th {\n",
       "        vertical-align: top;\n",
       "    }\n",
       "\n",
       "    .dataframe thead th {\n",
       "        text-align: right;\n",
       "    }\n",
       "</style>\n",
       "<table border=\"1\" class=\"dataframe\">\n",
       "  <thead>\n",
       "    <tr style=\"text-align: right;\">\n",
       "      <th></th>\n",
       "      <th></th>\n",
       "      <th>user_id</th>\n",
       "    </tr>\n",
       "    <tr>\n",
       "      <th>ab_test</th>\n",
       "      <th>group</th>\n",
       "      <th></th>\n",
       "    </tr>\n",
       "  </thead>\n",
       "  <tbody>\n",
       "    <tr>\n",
       "      <th rowspan=\"2\" valign=\"top\">recommender_system_test</th>\n",
       "      <th>A</th>\n",
       "      <td>3195</td>\n",
       "    </tr>\n",
       "    <tr>\n",
       "      <th>B</th>\n",
       "      <td>2373</td>\n",
       "    </tr>\n",
       "  </tbody>\n",
       "</table>\n",
       "</div>"
      ],
      "text/plain": [
       "                               user_id\n",
       "ab_test                 group         \n",
       "recommender_system_test A         3195\n",
       "                        B         2373"
      ]
     },
     "execution_count": 35,
     "metadata": {},
     "output_type": "execute_result"
    }
   ],
   "source": [
    "# убираем из исследования пользователей группы В конкурирующего теста\n",
    "participants_recommender = participants_recommender[~participants_recommender['user_id'].isin(double_interface_B['user_id'])]\n",
    "\n",
    "print('Участников нашего теста всего:', participants_recommender.shape[0])\n",
    "print('Участников нашего теста по группам:')\n",
    "participants_recommender.groupby(['ab_test','group']).agg({'user_id':'nunique'})"
   ]
  },
  {
   "cell_type": "markdown",
   "metadata": {},
   "source": [
    "В нашем тесте осталось 5568 пользователей вместо 6000 (по техническому заданию). Участники между группами, даже визуально, распределены неравномерно: в контрольной группе A 3195 человек, в группе В - 2373 человек (трафик разделился 57% на 43%) - разница составляет 822 человека, относительное различие количества пользователей - 25%. **Механизм деления трафика и инструмент проведения A/A-теста (в случае его проведения), вероятно, подвели**, различия в показателях - большие, что может оказать влияние на результат."
   ]
  },
  {
   "cell_type": "markdown",
   "metadata": {},
   "source": [
    "**Оценка пересечений пользователей между группами А и В внутри теста \"recommender_system_test\"**"
   ]
  },
  {
   "cell_type": "markdown",
   "metadata": {},
   "source": [
    "Проверим не пересекаются ли пользователи между группами нашего теста:"
   ]
  },
  {
   "cell_type": "code",
   "execution_count": 36,
   "metadata": {},
   "outputs": [
    {
     "data": {
      "text/plain": [
       "0"
      ]
     },
     "execution_count": 36,
     "metadata": {},
     "output_type": "execute_result"
    }
   ],
   "source": [
    "(\n",
    "    participants_recommender.groupby('user_id')['group'].nunique()\n",
    "    .reset_index()\n",
    "    .query('group > 1')['group'].count()\n",
    ")  "
   ]
  },
  {
   "cell_type": "markdown",
   "metadata": {},
   "source": [
    "Таких пользователей нет.    "
   ]
  },
  {
   "cell_type": "markdown",
   "metadata": {},
   "source": [
    "**Лайфтайм**"
   ]
  },
  {
   "cell_type": "markdown",
   "metadata": {},
   "source": [
    "Теперь можем вернуться к оценке лайфтайма и  добавить данные к таблице с событиями:"
   ]
  },
  {
   "cell_type": "code",
   "execution_count": 37,
   "metadata": {},
   "outputs": [
    {
     "data": {
      "text/html": [
       "<div>\n",
       "<style scoped>\n",
       "    .dataframe tbody tr th:only-of-type {\n",
       "        vertical-align: middle;\n",
       "    }\n",
       "\n",
       "    .dataframe tbody tr th {\n",
       "        vertical-align: top;\n",
       "    }\n",
       "\n",
       "    .dataframe thead th {\n",
       "        text-align: right;\n",
       "    }\n",
       "</style>\n",
       "<table border=\"1\" class=\"dataframe\">\n",
       "  <thead>\n",
       "    <tr style=\"text-align: right;\">\n",
       "      <th></th>\n",
       "      <th>user_id</th>\n",
       "      <th>event_dt</th>\n",
       "      <th>event_name</th>\n",
       "      <th>details</th>\n",
       "      <th>group</th>\n",
       "      <th>ab_test</th>\n",
       "      <th>first_date</th>\n",
       "      <th>region</th>\n",
       "      <th>device</th>\n",
       "    </tr>\n",
       "  </thead>\n",
       "  <tbody>\n",
       "    <tr>\n",
       "      <th>0</th>\n",
       "      <td>831887FE7F2D6CBA</td>\n",
       "      <td>2020-12-07 06:50:29</td>\n",
       "      <td>purchase</td>\n",
       "      <td>4.990</td>\n",
       "      <td>A</td>\n",
       "      <td>recommender_system_test</td>\n",
       "      <td>2020-12-07</td>\n",
       "      <td>EU</td>\n",
       "      <td>Android</td>\n",
       "    </tr>\n",
       "    <tr>\n",
       "      <th>1</th>\n",
       "      <td>831887FE7F2D6CBA</td>\n",
       "      <td>2020-12-09 02:19:17</td>\n",
       "      <td>purchase</td>\n",
       "      <td>99.990</td>\n",
       "      <td>A</td>\n",
       "      <td>recommender_system_test</td>\n",
       "      <td>2020-12-07</td>\n",
       "      <td>EU</td>\n",
       "      <td>Android</td>\n",
       "    </tr>\n",
       "    <tr>\n",
       "      <th>2</th>\n",
       "      <td>831887FE7F2D6CBA</td>\n",
       "      <td>2020-12-07 06:50:30</td>\n",
       "      <td>product_cart</td>\n",
       "      <td>NaN</td>\n",
       "      <td>A</td>\n",
       "      <td>recommender_system_test</td>\n",
       "      <td>2020-12-07</td>\n",
       "      <td>EU</td>\n",
       "      <td>Android</td>\n",
       "    </tr>\n",
       "  </tbody>\n",
       "</table>\n",
       "</div>"
      ],
      "text/plain": [
       "            user_id            event_dt    event_name  details group  \\\n",
       "0  831887FE7F2D6CBA 2020-12-07 06:50:29      purchase    4.990     A   \n",
       "1  831887FE7F2D6CBA 2020-12-09 02:19:17      purchase   99.990     A   \n",
       "2  831887FE7F2D6CBA 2020-12-07 06:50:30  product_cart      NaN     A   \n",
       "\n",
       "                   ab_test first_date region   device  \n",
       "0  recommender_system_test 2020-12-07     EU  Android  \n",
       "1  recommender_system_test 2020-12-07     EU  Android  \n",
       "2  recommender_system_test 2020-12-07     EU  Android  "
      ]
     },
     "execution_count": 37,
     "metadata": {},
     "output_type": "execute_result"
    }
   ],
   "source": [
    "# добавляем информацию в events:\n",
    "events = events.merge(participants_recommender, on = 'user_id')\n",
    "events = events.merge(users_filtred, on = 'user_id')\n",
    "events.head(3)"
   ]
  },
  {
   "cell_type": "markdown",
   "metadata": {},
   "source": [
    "Вычислим через сколько дней с момента регистрации произошло событите, результат сохраним в `lifetime`"
   ]
  },
  {
   "cell_type": "code",
   "execution_count": 38,
   "metadata": {},
   "outputs": [
    {
     "data": {
      "text/html": [
       "<div>\n",
       "<style scoped>\n",
       "    .dataframe tbody tr th:only-of-type {\n",
       "        vertical-align: middle;\n",
       "    }\n",
       "\n",
       "    .dataframe tbody tr th {\n",
       "        vertical-align: top;\n",
       "    }\n",
       "\n",
       "    .dataframe thead th {\n",
       "        text-align: right;\n",
       "    }\n",
       "</style>\n",
       "<table border=\"1\" class=\"dataframe\">\n",
       "  <thead>\n",
       "    <tr style=\"text-align: right;\">\n",
       "      <th></th>\n",
       "      <th>user_id</th>\n",
       "      <th>event_dt</th>\n",
       "      <th>event_name</th>\n",
       "      <th>details</th>\n",
       "      <th>group</th>\n",
       "      <th>ab_test</th>\n",
       "      <th>first_date</th>\n",
       "      <th>region</th>\n",
       "      <th>device</th>\n",
       "      <th>lifetime</th>\n",
       "    </tr>\n",
       "  </thead>\n",
       "  <tbody>\n",
       "    <tr>\n",
       "      <th>0</th>\n",
       "      <td>831887FE7F2D6CBA</td>\n",
       "      <td>2020-12-07 06:50:29</td>\n",
       "      <td>purchase</td>\n",
       "      <td>4.990</td>\n",
       "      <td>A</td>\n",
       "      <td>recommender_system_test</td>\n",
       "      <td>2020-12-07</td>\n",
       "      <td>EU</td>\n",
       "      <td>Android</td>\n",
       "      <td>0 days 06:50:29</td>\n",
       "    </tr>\n",
       "    <tr>\n",
       "      <th>1</th>\n",
       "      <td>831887FE7F2D6CBA</td>\n",
       "      <td>2020-12-09 02:19:17</td>\n",
       "      <td>purchase</td>\n",
       "      <td>99.990</td>\n",
       "      <td>A</td>\n",
       "      <td>recommender_system_test</td>\n",
       "      <td>2020-12-07</td>\n",
       "      <td>EU</td>\n",
       "      <td>Android</td>\n",
       "      <td>2 days 02:19:17</td>\n",
       "    </tr>\n",
       "    <tr>\n",
       "      <th>2</th>\n",
       "      <td>831887FE7F2D6CBA</td>\n",
       "      <td>2020-12-07 06:50:30</td>\n",
       "      <td>product_cart</td>\n",
       "      <td>NaN</td>\n",
       "      <td>A</td>\n",
       "      <td>recommender_system_test</td>\n",
       "      <td>2020-12-07</td>\n",
       "      <td>EU</td>\n",
       "      <td>Android</td>\n",
       "      <td>0 days 06:50:30</td>\n",
       "    </tr>\n",
       "  </tbody>\n",
       "</table>\n",
       "</div>"
      ],
      "text/plain": [
       "            user_id            event_dt    event_name  details group  \\\n",
       "0  831887FE7F2D6CBA 2020-12-07 06:50:29      purchase    4.990     A   \n",
       "1  831887FE7F2D6CBA 2020-12-09 02:19:17      purchase   99.990     A   \n",
       "2  831887FE7F2D6CBA 2020-12-07 06:50:30  product_cart      NaN     A   \n",
       "\n",
       "                   ab_test first_date region   device        lifetime  \n",
       "0  recommender_system_test 2020-12-07     EU  Android 0 days 06:50:29  \n",
       "1  recommender_system_test 2020-12-07     EU  Android 2 days 02:19:17  \n",
       "2  recommender_system_test 2020-12-07     EU  Android 0 days 06:50:30  "
      ]
     },
     "execution_count": 38,
     "metadata": {},
     "output_type": "execute_result"
    }
   ],
   "source": [
    "events['lifetime'] = events['event_dt'] - events['first_date']\n",
    "events.head(3)"
   ]
  },
  {
   "cell_type": "markdown",
   "metadata": {},
   "source": [
    "Отбросим все события, которые произошли позже 14 дня:"
   ]
  },
  {
   "cell_type": "code",
   "execution_count": 39,
   "metadata": {},
   "outputs": [],
   "source": [
    "events = events.query('lifetime <= \"14 days 00:00:00\"')"
   ]
  },
  {
   "cell_type": "markdown",
   "metadata": {},
   "source": [
    "Как мы знаем тест был собран не корректно и в данных не хватает информации за 5 дней, в связи с этим не все пользователи имели возможность \"прожить\" все 14 дней в тесте. Оценим насколько критичным это может оказаться для результатов теста. для каждого пользователя найдем время совершения первого события после регистрации, вычислим на какой день происходит событие и построим распределение числа событий по таким лайфтаймам:"
   ]
  },
  {
   "cell_type": "code",
   "execution_count": 40,
   "metadata": {},
   "outputs": [],
   "source": [
    "# находим время первого события для каждого пользователя\n",
    "first_event = events.groupby(['user_id']).agg({'event_dt':'min'}).reset_index()\n",
    "# добавляем информацию о времени регистрации в системе\n",
    "first_event = first_event.merge(users_filtred, on = 'user_id', how='left')\n",
    "# находим разницу между днем регистрации и совершением первого события\n",
    "first_event['difference'] = ((first_event['event_dt'] - first_event['first_date']).dt.days)+1"
   ]
  },
  {
   "cell_type": "code",
   "execution_count": 41,
   "metadata": {},
   "outputs": [
    {
     "data": {
      "image/png": "[encoded data removed]",
      "text/plain": [
       "<Figure size 1500x800 with 1 Axes>"
      ]
     },
     "metadata": {},
     "output_type": "display_data"
    }
   ],
   "source": [
    "# визуализируем результат\n",
    "first_event.groupby('difference')['user_id'].count().plot(kind='bar', figsize=(15,8))\n",
    "plt.title('Распределение числа первых событий по дням')\n",
    "plt.ylabel('Частота событий')\n",
    "plt.xlabel('День с момента регистрации')\n",
    "plt.xticks(rotation=0)\n",
    "plt.show()"
   ]
  },
  {
   "cell_type": "markdown",
   "metadata": {},
   "source": [
    "**Видим, что первое событие пользователя, по общему правилу, происходит в первый день с момента регистрации,**  но точно не позже 9 дня.    \n",
    "\n",
    "Поскольку целью любого бизнеса является получение прибыли рассмотрим на какой день пользователи совершают покупку в первый раз:"
   ]
  },
  {
   "cell_type": "code",
   "execution_count": 42,
   "metadata": {},
   "outputs": [
    {
     "data": {
      "text/plain": [
       "count   953.000\n",
       "mean      1.012\n",
       "std       0.207\n",
       "min       1.000\n",
       "25%       1.000\n",
       "50%       1.000\n",
       "75%       1.000\n",
       "max       7.000\n",
       "Name: difference, dtype: float64"
      ]
     },
     "execution_count": 42,
     "metadata": {},
     "output_type": "execute_result"
    }
   ],
   "source": [
    "first_event = events[events['event_name'] == 'purchase']\n",
    "# находим время первого события для каждого пользователя\n",
    "first_event = first_event.groupby(['user_id']).agg({'event_dt':'min'}).reset_index()\n",
    "# добавляем информацию о времени регистрации в системе\n",
    "first_event = first_event.merge(users_filtred, on = 'user_id', how='left')\n",
    "# находим разницу между днем регистрации и совершением первого события\n",
    "first_event['difference'] = ((first_event['event_dt'] - first_event['first_date']).dt.days)+1\n",
    "first_event['difference'].describe()"
   ]
  },
  {
   "cell_type": "markdown",
   "metadata": {},
   "source": [
    "**Таким образом, пользователи совершают свою первую  покупку не позже, чем на 7 день.** (В большинстве случаев - на первый).  \n",
    "В связи с чем допускаем, что пунктом о том, что каждый пользователь должен иметь одинаковую возможность прожить 14 дней, можем пренебречь. Как показывают данные,  первые покупки происходят не позже, чем на 7 день, а пользователи, зарегистрированные 21 декабря имели такую возможность.\n"
   ]
  },
  {
   "cell_type": "markdown",
   "metadata": {},
   "source": [
    "Проверим сколько пользователей из отобранных в тест совершали действия в системе:"
   ]
  },
  {
   "cell_type": "code",
   "execution_count": 43,
   "metadata": {},
   "outputs": [
    {
     "name": "stdout",
     "output_type": "stream",
     "text": [
      "Число пользователей, отобранных для тестирования: 5568\n",
      "Из них совершили события:  3050  или, 54.8%\n"
     ]
    }
   ],
   "source": [
    "print('Число пользователей, отобранных для тестирования:', participants_recommender.shape[0])\n",
    "print('Из них совершили события: ', events['user_id'].nunique(), \n",
    "      ' или, {0:.1%}'.format(events['user_id'].nunique()/participants_recommender.shape[0]))"
   ]
  },
  {
   "cell_type": "markdown",
   "metadata": {},
   "source": [
    "Также считаем важным, проверить как изменился % новых пользователей из региона EU после удаления пересекающихся пользователей:"
   ]
  },
  {
   "cell_type": "code",
   "execution_count": 44,
   "metadata": {},
   "outputs": [
    {
     "name": "stdout",
     "output_type": "stream",
     "text": [
      "В тест отобрано: 13.15% новых пользователей из региона EU\n"
     ]
    }
   ],
   "source": [
    "# отбираем пользователей из EU\n",
    "users_eu = users_filtred[users_filtred['region'] == 'EU']['user_id'].nunique()\n",
    "# отбираем участников теста из EU\n",
    "users_test = participants_recommender['user_id'].nunique()\n",
    "#оцениваем долю попавших в тест\n",
    "print('В тест отобрано: {:.2%}'.format(users_test / users_eu), 'новых пользователей из региона EU')"
   ]
  },
  {
   "cell_type": "markdown",
   "metadata": {},
   "source": [
    "#### Время проведения теста"
   ]
  },
  {
   "cell_type": "markdown",
   "metadata": {},
   "source": [
    "Убедимся, что время проведения теста не совпадает с маркетинговыми и другими активностями.    \n",
    "Определим маркетинговые события, которые пришлись на время проведения теста:"
   ]
  },
  {
   "cell_type": "code",
   "execution_count": 45,
   "metadata": {},
   "outputs": [
    {
     "data": {
      "text/html": [
       "<div>\n",
       "<style scoped>\n",
       "    .dataframe tbody tr th:only-of-type {\n",
       "        vertical-align: middle;\n",
       "    }\n",
       "\n",
       "    .dataframe tbody tr th {\n",
       "        vertical-align: top;\n",
       "    }\n",
       "\n",
       "    .dataframe thead th {\n",
       "        text-align: right;\n",
       "    }\n",
       "</style>\n",
       "<table border=\"1\" class=\"dataframe\">\n",
       "  <thead>\n",
       "    <tr style=\"text-align: right;\">\n",
       "      <th></th>\n",
       "      <th>name</th>\n",
       "      <th>regions</th>\n",
       "      <th>start_dt</th>\n",
       "      <th>finish_dt</th>\n",
       "    </tr>\n",
       "  </thead>\n",
       "  <tbody>\n",
       "    <tr>\n",
       "      <th>0</th>\n",
       "      <td>Christmas&amp;New Year Promo</td>\n",
       "      <td>EU, N.America</td>\n",
       "      <td>2020-12-25</td>\n",
       "      <td>2021-01-03</td>\n",
       "    </tr>\n",
       "    <tr>\n",
       "      <th>10</th>\n",
       "      <td>CIS New Year Gift Lottery</td>\n",
       "      <td>CIS</td>\n",
       "      <td>2020-12-30</td>\n",
       "      <td>2021-01-07</td>\n",
       "    </tr>\n",
       "  </tbody>\n",
       "</table>\n",
       "</div>"
      ],
      "text/plain": [
       "                         name        regions   start_dt  finish_dt\n",
       "0    Christmas&New Year Promo  EU, N.America 2020-12-25 2021-01-03\n",
       "10  CIS New Year Gift Lottery            CIS 2020-12-30 2021-01-07"
      ]
     },
     "execution_count": 45,
     "metadata": {},
     "output_type": "execute_result"
    }
   ],
   "source": [
    "marketing[(marketing['start_dt'] >= dt.datetime(2020, 12, 7))]"
   ]
  },
  {
   "cell_type": "markdown",
   "metadata": {},
   "source": [
    "Как видим, **во время проведения теста была проведена рекламная кампания** для европейского региона и Северной Америки, связанная с празднованием Нового года и Рождества, что могло оказать эффект на поведение экспериментальных пользователей. Попробуем выяснить насколько критично проведение промо может сказаться на результатах тестирования.   \n",
    "Для этого построим график динамики числа событий в разрезе групп:"
   ]
  },
  {
   "cell_type": "code",
   "execution_count": 46,
   "metadata": {},
   "outputs": [
    {
     "data": {
      "image/png": "[encoded data removed]",
      "text/plain": [
       "<Figure size 1500x1000 with 1 Axes>"
      ]
     },
     "metadata": {},
     "output_type": "display_data"
    }
   ],
   "source": [
    "# выделим отдельно дату\n",
    "events['dt']=events['event_dt'].dt.date\n",
    "\n",
    "#строим график динамики событий\n",
    "plt.figure(figsize=(15, 10))\n",
    "sns.set_style('darkgrid')\n",
    "ax = sns.lineplot(\n",
    "    data = (events.groupby(['dt', 'group']).agg({'event_name':'count'})\n",
    "            .reset_index()\n",
    "            .rename(columns={'event_name':'quantity_events'})),\n",
    "    x='dt',\n",
    "    y='quantity_events',\n",
    "    hue='group'\n",
    ")\n",
    "ax.set_title('Динамика числа событий по дням в разрезе тестовых групп')\n",
    "ax.set_ylabel('Число событий')\n",
    "ax.set_xlabel('Дата')\n",
    "plt.xticks(rotation=30)\n",
    "plt.show()"
   ]
  },
  {
   "cell_type": "markdown",
   "metadata": {},
   "source": [
    "Отмечается всплеск действий пользователей 21.12.2020 в обеих группах, но мы не можем связать его с проведением рекламной кампании (тут - что-то другое).     \n",
    "Из графика следует, что положительных результатов в числе действий пользователей рекламная кампания не обеспечила. После начала проведения (25 декабря 2020) - наблюдается, наоборот, постепенное снижение числа событий.    \n",
    "Таким образом, в исследовании можем пренебречь проведением данной акции."
   ]
  },
  {
   "cell_type": "markdown",
   "metadata": {},
   "source": [
    "**ВЫВОД**   \n",
    "\n",
    "**Тестирование было проведено с нарушениями.** Пункты технического задания противоречат друг другу, поэтому произведена оценка критичности несоответсвия каждому пункту. В случае критичного несоответствия - пункты технического задания подверглись коррекции. Таким образом, в результате получили:     \n",
    "\n",
    "* Тест остановлен 30.12.2020, вместо положенного 04.01.2021. В данных отсутствует информация за 5 дней;   \n",
    "* Набор участников продолжался до 23.12.2020, поэтому данные отфильтрованы в соответствии с техническим заданием - в исследование попали пользователи, зарегистрированные в системе до 21 декабря 2020;   \n",
    "* Вместе с нашим проводился еще один тест \"interface_eu_test\", участники которого пересеклись с нашими участниками. В связи с чем принято решение об удалении участников группы B теста-конкурента;    \n",
    "* Кроме того, в состав участников нашего теста попали 350 представителей других регионов (не EU), которые распределились по группам тестирования не равномерно - в связи с чем было принято решение об их исключении;    \n",
    "* Механизм отбора в тест новых пользователей из региона EU, в целом работает корректно! (доля таких пользователей составляет 15% как этого требует техническое задание). Но стоит отметить, что после исключения пользователей группы В конкурирующего теста в нашем случае этот показатель снизился до 13,15%;    \n",
    "* После всех фильтраций соответствия пунктам ТЗ - тестированию подлежит 5568 пользователей, вместо заявленных 6000, из них только 55% пользователей (3050 человек) совершили какие-то события после регистрации;    \n",
    "* Данные пользователи распределились на группы неравномерно: в контрольной группе A 3195 человек, в группе В - 2373 человек (трафик разделился 57% на 43%) - разница составляет 822 человека, относительное различие количества пользователей - 25%. В то время как для успешного проведения теста количество пользователей в группах не должно превышать 1% - механизм деления трафика работает не корректно, и вероятность ошибки высока.  Проверив результаты деления групп на калькуляторе расчета минимальной выборки, пришли к выводу, что для подтверждения результата различия групп с вероятностью в 95% - участников в минимальной группе не хватает (для этого их должно быть 2400, у нас - 2373), таким образом, в случае подтверждения различий в поведениях групп сможем говорить об этом только с 90-% вероятностью;    \n",
    "* Во время проведения теста, когда набор пользователей был уже остановлен была проведена маркетинговая кампания \"Christmas&New Year Promo\" для пользователей из EU. В результате дополнительных проверок установлено, что она не повлияла на поведение пользователей.   \n",
    "\n",
    "Все выше перечисленные пункты подвергнут сомнению полученные результаты, поскольку являются весомым поводом для искажения результата."
   ]
  },
  {
   "cell_type": "markdown",
   "metadata": {},
   "source": [
    "### Исследовательский анализ данных"
   ]
  },
  {
   "cell_type": "markdown",
   "metadata": {},
   "source": [
    "#### Распределение количества событий на пользователя"
   ]
  },
  {
   "cell_type": "markdown",
   "metadata": {},
   "source": [
    "Проверим как распределились пользователи, совершавшие события, по группам и число событий:"
   ]
  },
  {
   "cell_type": "code",
   "execution_count": 47,
   "metadata": {},
   "outputs": [
    {
     "data": {
      "text/html": [
       "<div>\n",
       "<style scoped>\n",
       "    .dataframe tbody tr th:only-of-type {\n",
       "        vertical-align: middle;\n",
       "    }\n",
       "\n",
       "    .dataframe tbody tr th {\n",
       "        vertical-align: top;\n",
       "    }\n",
       "\n",
       "    .dataframe thead th {\n",
       "        text-align: right;\n",
       "    }\n",
       "</style>\n",
       "<table border=\"1\" class=\"dataframe\">\n",
       "  <thead>\n",
       "    <tr style=\"text-align: right;\">\n",
       "      <th></th>\n",
       "      <th>group</th>\n",
       "      <th>users</th>\n",
       "    </tr>\n",
       "  </thead>\n",
       "  <tbody>\n",
       "    <tr>\n",
       "      <th>0</th>\n",
       "      <td>A</td>\n",
       "      <td>2279</td>\n",
       "    </tr>\n",
       "    <tr>\n",
       "      <th>1</th>\n",
       "      <td>B</td>\n",
       "      <td>771</td>\n",
       "    </tr>\n",
       "  </tbody>\n",
       "</table>\n",
       "</div>"
      ],
      "text/plain": [
       "  group  users\n",
       "0     A   2279\n",
       "1     B    771"
      ]
     },
     "execution_count": 47,
     "metadata": {},
     "output_type": "execute_result"
    }
   ],
   "source": [
    "# число уникальных пользователей, совершивших события\n",
    "groups_users = events.groupby('group').agg({'user_id': 'nunique'}).reset_index().rename(columns={'user_id':'users'})\n",
    "groups_users"
   ]
  },
  {
   "cell_type": "code",
   "execution_count": 48,
   "metadata": {},
   "outputs": [
    {
     "data": {
      "text/html": [
       "<div>\n",
       "<style scoped>\n",
       "    .dataframe tbody tr th:only-of-type {\n",
       "        vertical-align: middle;\n",
       "    }\n",
       "\n",
       "    .dataframe tbody tr th {\n",
       "        vertical-align: top;\n",
       "    }\n",
       "\n",
       "    .dataframe thead th {\n",
       "        text-align: right;\n",
       "    }\n",
       "</style>\n",
       "<table border=\"1\" class=\"dataframe\">\n",
       "  <thead>\n",
       "    <tr style=\"text-align: right;\">\n",
       "      <th></th>\n",
       "      <th>user_id</th>\n",
       "    </tr>\n",
       "    <tr>\n",
       "      <th>group</th>\n",
       "      <th></th>\n",
       "    </tr>\n",
       "  </thead>\n",
       "  <tbody>\n",
       "    <tr>\n",
       "      <th>A</th>\n",
       "      <td>15726</td>\n",
       "    </tr>\n",
       "    <tr>\n",
       "      <th>B</th>\n",
       "      <td>4123</td>\n",
       "    </tr>\n",
       "  </tbody>\n",
       "</table>\n",
       "</div>"
      ],
      "text/plain": [
       "       user_id\n",
       "group         \n",
       "A        15726\n",
       "B         4123"
      ]
     },
     "execution_count": 48,
     "metadata": {},
     "output_type": "execute_result"
    }
   ],
   "source": [
    "# число событий, совершенных пользователями в разрезе групп\n",
    "events.groupby('group').agg({'user_id': 'count'})"
   ]
  },
  {
   "cell_type": "markdown",
   "metadata": {},
   "source": [
    "В группе А пользователи примерно в три раза активнее, чем в группе В. Число пользователей в группах кажется не соизмеримым."
   ]
  },
  {
   "cell_type": "markdown",
   "metadata": {},
   "source": [
    "Оценим количество событий на пользователя в общем и в разрезе по группам:"
   ]
  },
  {
   "cell_type": "code",
   "execution_count": 49,
   "metadata": {},
   "outputs": [
    {
     "name": "stdout",
     "output_type": "stream",
     "text": [
      "Общее описание данных:\n"
     ]
    },
    {
     "data": {
      "text/plain": [
       "count   3050.000\n",
       "mean       6.508\n",
       "std        3.732\n",
       "min        1.000\n",
       "25%        4.000\n",
       "50%        6.000\n",
       "75%        9.000\n",
       "max       24.000\n",
       "Name: quantity, dtype: float64"
      ]
     },
     "metadata": {},
     "output_type": "display_data"
    },
    {
     "name": "stdout",
     "output_type": "stream",
     "text": [
      "Среднее значение группы А: 6.9 Медианное значение группы А: 6.0\n",
      "Среднее значение группы B: 5.3 Медианное значение группы B: 4.0\n"
     ]
    },
    {
     "data": {
      "image/png": "[encoded data removed]",
      "text/plain": [
       "<Figure size 1500x800 with 1 Axes>"
      ]
     },
     "metadata": {},
     "output_type": "display_data"
    }
   ],
   "source": [
    "# посчитаем сколько событий в общем производит каждый пользователь и выведем описательные статистики по показателю\n",
    "print('Общее описание данных:')\n",
    "display((\n",
    "    events.groupby('user_id').agg({'event_name': 'count'})\n",
    "    .reset_index()\n",
    "    .rename(columns={'event_name':'quantity'})\n",
    ")['quantity'].describe())\n",
    "\n",
    "# cделаем срез по каждой группе\n",
    "user_a = (\n",
    "    events[events['group'] == 'A'].groupby('user_id').agg({'event_name': 'count'})\n",
    "    .reset_index()\n",
    "    .rename(columns={'event_name':'quantity'})\n",
    ")\n",
    "user_b = (\n",
    "    events[events['group'] == 'B'].groupby('user_id').agg({'event_name': 'count'})\n",
    "    .reset_index()\n",
    "    .rename(columns={'event_name':'quantity'})\n",
    ")\n",
    "# выведем средние значения числа событий на пользователя по группам\n",
    "print('Среднее значение группы А: {0:.1f}'.format(\n",
    "    user_a['quantity'].mean()), 'Медианное значение группы А:', user_a['quantity'].median())\n",
    "\n",
    "print('Среднее значение группы B: {0:.1f}'.format(\n",
    "    user_b['quantity'].mean()), 'Медианное значение группы B:', user_b['quantity'].median())\n",
    "\n",
    "# построим распределения числа событий на пользователя в разрезе тестируемых групп\n",
    "plt.figure(figsize=(15, 8))\n",
    "ax = sns.distplot(user_a['quantity'], bins=30, label='A')\n",
    "ax = sns.distplot(user_b['quantity'], bins=30, label='B')\n",
    "plt.title('Распределение количества событий на пользователя в разрезе групп')\n",
    "plt.xlabel('Число событий')                  \n",
    "plt.ylabel('Число пользователей')     \n",
    "plt.legend()\n",
    "plt.show()"
   ]
  },
  {
   "cell_type": "markdown",
   "metadata": {},
   "source": [
    "Пользователи в целом, совершают от 1 до 28 событий. Причем **у половины пользователей группы B число событий не превышает 5, а в группе А - 6.**    \n",
    "Число событий на пользователя в группе В (5,7) ниже, чем в группе А (7,1).  Что также подтверждает то, что **пользователи группы А более активны.**"
   ]
  },
  {
   "cell_type": "markdown",
   "metadata": {},
   "source": [
    "#### Распределение числа событий в выборках по дням"
   ]
  },
  {
   "cell_type": "code",
   "execution_count": 50,
   "metadata": {},
   "outputs": [],
   "source": [
    "# считаем число совершенных событий по датам в разрезе групп\n",
    "events_dt_a = events[events['group'] == 'A'].groupby('dt')['event_name'].count()\n",
    "events_dt_b = events[events['group'] == 'B'].groupby('dt')['event_name'].count()"
   ]
  },
  {
   "cell_type": "code",
   "execution_count": 51,
   "metadata": {},
   "outputs": [
    {
     "data": {
      "image/png": "[encoded data removed]",
      "text/plain": [
       "<Figure size 1500x800 with 1 Axes>"
      ]
     },
     "metadata": {},
     "output_type": "display_data"
    }
   ],
   "source": [
    "# строим распределение числа событий в группе А\n",
    "plt.figure(figsize=(15, 8))\n",
    "ax = events_dt_a.plot(kind='bar')\n",
    "for p in ax.patches:\n",
    "    ax.annotate('{:.0f}'.format(p.get_height()), \n",
    "                   (p.get_x() + p.get_width() / 2., p.get_height()), \n",
    "                   ha = 'center', va = 'center', \n",
    "                   xytext = (0, 9), \n",
    "                   textcoords = 'offset points')\n",
    "ax.set_title('Распределение событий среди пользователей из группы А по датам', fontsize=14)\n",
    "ax.set_xlabel('Дата', fontsize=12)\n",
    "ax.set_ylabel('Число событий', fontsize=12)\n",
    "plt.show()"
   ]
  },
  {
   "cell_type": "markdown",
   "metadata": {},
   "source": [
    "Среди пользователей группы А наблюдается резкий скачок роста событий после 13 декабря: далее происходит постепенное увеличение роста числа событий до пикового значения 1678 штук - 21 декабря 2020. В период с 19 по 21 декабря число событий достигает более 1200 штук в день. **Такой всплеск, возможно, может означать, что имеем еще и риск влияния сезонности в данных** (перед Рождественским днем 25 декабря), а вот влияния рекламной кампании 25 декабря на пользователей действительно не заметно.    \n",
    "Стоит отметить, что данных за 30 декабря по контрольной группе нет."
   ]
  },
  {
   "cell_type": "code",
   "execution_count": 52,
   "metadata": {},
   "outputs": [
    {
     "data": {
      "image/png": "[encoded data removed]",
      "text/plain": [
       "<Figure size 1500x800 with 1 Axes>"
      ]
     },
     "metadata": {},
     "output_type": "display_data"
    }
   ],
   "source": [
    "# строим распределение числа событий в группе В\n",
    "plt.figure(figsize=(15, 8))\n",
    "ax = events_dt_b.plot(kind='bar')\n",
    "for p in ax.patches:\n",
    "    ax.annotate('{:.0f}'.format(p.get_height()), \n",
    "                   (p.get_x() + p.get_width() / 2., p.get_height()), \n",
    "                   ha = 'center', va = 'center', \n",
    "                   xytext = (0, 9), \n",
    "                   textcoords = 'offset points')\n",
    "ax.set_title('Распределение событий среди пользователей из группы B по датам', fontsize=14)\n",
    "ax.set_xlabel('Дата', fontsize=12)\n",
    "ax.set_ylabel('Число событий', fontsize=12)\n",
    "plt.show()"
   ]
  },
  {
   "cell_type": "markdown",
   "metadata": {},
   "source": [
    "Что касается группы В, то число событий по дням в разы меньше, чем в группе А. Такого резкого всплеска как в группе  А - не прослеживается - показатели постоянно подвержены колебаниям, но пик совершенных событий так же приходится на 21 декабря 2020."
   ]
  },
  {
   "cell_type": "markdown",
   "metadata": {},
   "source": [
    "#### Воронка событий"
   ]
  },
  {
   "cell_type": "markdown",
   "metadata": {},
   "source": [
    "Посмотрим какие события есть и как часто они встречаются в данных:"
   ]
  },
  {
   "cell_type": "code",
   "execution_count": 53,
   "metadata": {},
   "outputs": [
    {
     "name": "stdout",
     "output_type": "stream",
     "text": [
      "Число событий в данных в разрезе их видов:\n"
     ]
    },
    {
     "data": {
      "text/plain": [
       "login           8968\n",
       "product_page    5536\n",
       "purchase        2719\n",
       "product_cart    2626\n",
       "Name: event_name, dtype: int64"
      ]
     },
     "metadata": {},
     "output_type": "display_data"
    }
   ],
   "source": [
    "# считаем число событий\n",
    "print('Число событий в данных в разрезе их видов:')\n",
    "display(events['event_name'].value_counts())"
   ]
  },
  {
   "cell_type": "markdown",
   "metadata": {},
   "source": [
    "В данных представлены 4 вида событий:\n",
    "\n",
    "**login** - авторизация (совершили 8968 раз);    \n",
    "**product_page** - просмотр карточек товаров (совершили 5536 раз);      \n",
    "**product_cart** - просмотр корзины (совершили 2626 раз);       \n",
    "**purchase** - покупка (совершили 2719 раз).    \n",
    "\n",
    "Интересно, что событие purchase (покупка) совершается чаще, чем product_cart (просмотр корзины). Такое возможно, если на сайте, например, есть опция покупки товара мгновенно, не переходя в корзину. Стоит уточнить этот момент у заказчиков, в случае отрицательного результата - рекомендовать обратиться в раздел разработки для проверки этого момента, в таком случае возможна и ошибка записи логов."
   ]
  },
  {
   "cell_type": "markdown",
   "metadata": {},
   "source": [
    "Найдем сколько уникальных пользователей совершили данные события:"
   ]
  },
  {
   "cell_type": "code",
   "execution_count": 54,
   "metadata": {},
   "outputs": [
    {
     "data": {
      "text/html": [
       "<div>\n",
       "<style scoped>\n",
       "    .dataframe tbody tr th:only-of-type {\n",
       "        vertical-align: middle;\n",
       "    }\n",
       "\n",
       "    .dataframe tbody tr th {\n",
       "        vertical-align: top;\n",
       "    }\n",
       "\n",
       "    .dataframe thead th {\n",
       "        text-align: right;\n",
       "    }\n",
       "</style>\n",
       "<table border=\"1\" class=\"dataframe\">\n",
       "  <thead>\n",
       "    <tr style=\"text-align: right;\">\n",
       "      <th></th>\n",
       "      <th>event_name</th>\n",
       "      <th>number_of_users</th>\n",
       "      <th>share_of_users</th>\n",
       "      <th>share_of_participants</th>\n",
       "    </tr>\n",
       "  </thead>\n",
       "  <tbody>\n",
       "    <tr>\n",
       "      <th>0</th>\n",
       "      <td>login</td>\n",
       "      <td>3049</td>\n",
       "      <td>1.000</td>\n",
       "      <td>0.548</td>\n",
       "    </tr>\n",
       "    <tr>\n",
       "      <th>2</th>\n",
       "      <td>product_page</td>\n",
       "      <td>1905</td>\n",
       "      <td>0.625</td>\n",
       "      <td>0.342</td>\n",
       "    </tr>\n",
       "    <tr>\n",
       "      <th>3</th>\n",
       "      <td>purchase</td>\n",
       "      <td>953</td>\n",
       "      <td>0.312</td>\n",
       "      <td>0.171</td>\n",
       "    </tr>\n",
       "    <tr>\n",
       "      <th>1</th>\n",
       "      <td>product_cart</td>\n",
       "      <td>900</td>\n",
       "      <td>0.295</td>\n",
       "      <td>0.162</td>\n",
       "    </tr>\n",
       "  </tbody>\n",
       "</table>\n",
       "</div>"
      ],
      "text/plain": [
       "     event_name  number_of_users  share_of_users  share_of_participants\n",
       "0         login             3049           1.000                  0.548\n",
       "2  product_page             1905           0.625                  0.342\n",
       "3      purchase              953           0.312                  0.171\n",
       "1  product_cart              900           0.295                  0.162"
      ]
     },
     "metadata": {},
     "output_type": "display_data"
    },
    {
     "data": {
      "image/png": "[encoded data removed]",
      "text/plain": [
       "<Figure size 1500x500 with 1 Axes>"
      ]
     },
     "metadata": {},
     "output_type": "display_data"
    }
   ],
   "source": [
    "# группируем события по числу уникальных пользователей, совершивших их\n",
    "events_for_users = (\n",
    "    events.groupby(['event_name']).agg({'user_id': 'nunique'})\n",
    "    .reset_index()\n",
    "    .rename(columns={'user_id':'number_of_users'})\n",
    "    .sort_values(by='number_of_users', ascending=False)\n",
    ")\n",
    "# считаем долю пользователей от уникального числа пользователей, которые совершали действия\n",
    "events_for_users['share_of_users'] = events_for_users['number_of_users'] / events['user_id'].nunique()\n",
    "# считаем долю пользователей от общего числа участников теста\n",
    "events_for_users['share_of_participants'] = events_for_users['number_of_users'] / participants_recommender['user_id'].nunique()\n",
    "display(events_for_users)\n",
    "\n",
    "# визуализируем результат\n",
    "plt.figure(figsize=(15, 5))\n",
    "ax = sns.barplot(x='number_of_users', y='event_name', data=events_for_users, orient='h')\n",
    "ax.set_title('Распределение числа уникальных пользователей по видам событий')\n",
    "ax.set_xlabel('Число пользователей') \n",
    "ax.set_ylabel('Тип события') \n",
    "plt.show()"
   ]
  },
  {
   "cell_type": "markdown",
   "metadata": {},
   "source": [
    "До момента авторизации доходит только 54,8% зарегистрированных пользователей. Карточку товара  смотрят - 34,2%, в корзину переходит 16,2% участников, а покупку совершают 17.1% участников теста.   \n",
    "\n",
    "Из тех, кто совершал действия на сайте все 100% пользователей авторизовались, 62,5% - посмотрели карточку товара, 29,5% - посмотрели корзину и 31,2% совершили покупку.\n",
    "\n",
    "Понимаем, что пользователь на каждый этап воронки может попасть, минуя предыдущий, но по общему правилу, действия пользователей видятся нам в следующей последовательности: **авторизация - просмотр карточки товара - просмотр корзины - покупка**. В связи с этим принято решение строить воронку именно в такой последовательности.\n"
   ]
  },
  {
   "cell_type": "markdown",
   "metadata": {},
   "source": [
    "Закончим подготовку данных к построению воронки, для этого расположим каждый этап воронки в нужном порядке.   \n",
    "Кроме того, рассчитаем долю дошедших до определённого шага в столбце `conversion`. А также - долю перешедших с каждого шага на следующий, результат запишем в процентах в столбец `conversion_step`:"
   ]
  },
  {
   "cell_type": "code",
   "execution_count": 55,
   "metadata": {},
   "outputs": [
    {
     "data": {
      "text/html": [
       "<div>\n",
       "<style scoped>\n",
       "    .dataframe tbody tr th:only-of-type {\n",
       "        vertical-align: middle;\n",
       "    }\n",
       "\n",
       "    .dataframe tbody tr th {\n",
       "        vertical-align: top;\n",
       "    }\n",
       "\n",
       "    .dataframe thead th {\n",
       "        text-align: right;\n",
       "    }\n",
       "</style>\n",
       "<table border=\"1\" class=\"dataframe\">\n",
       "  <thead>\n",
       "    <tr style=\"text-align: right;\">\n",
       "      <th></th>\n",
       "      <th>event_name</th>\n",
       "      <th>number_of_users</th>\n",
       "      <th>share_of_users</th>\n",
       "      <th>share_of_participants</th>\n",
       "      <th>conversion</th>\n",
       "      <th>conversion_step</th>\n",
       "    </tr>\n",
       "  </thead>\n",
       "  <tbody>\n",
       "    <tr>\n",
       "      <th>0</th>\n",
       "      <td>login</td>\n",
       "      <td>3049</td>\n",
       "      <td>1.000</td>\n",
       "      <td>0.548</td>\n",
       "      <td>100.000</td>\n",
       "      <td>NaN</td>\n",
       "    </tr>\n",
       "    <tr>\n",
       "      <th>2</th>\n",
       "      <td>product_page</td>\n",
       "      <td>1905</td>\n",
       "      <td>0.625</td>\n",
       "      <td>0.342</td>\n",
       "      <td>62.480</td>\n",
       "      <td>62.480</td>\n",
       "    </tr>\n",
       "    <tr>\n",
       "      <th>1</th>\n",
       "      <td>product_cart</td>\n",
       "      <td>900</td>\n",
       "      <td>0.295</td>\n",
       "      <td>0.162</td>\n",
       "      <td>29.518</td>\n",
       "      <td>47.244</td>\n",
       "    </tr>\n",
       "    <tr>\n",
       "      <th>3</th>\n",
       "      <td>purchase</td>\n",
       "      <td>953</td>\n",
       "      <td>0.312</td>\n",
       "      <td>0.171</td>\n",
       "      <td>31.256</td>\n",
       "      <td>105.889</td>\n",
       "    </tr>\n",
       "  </tbody>\n",
       "</table>\n",
       "</div>"
      ],
      "text/plain": [
       "     event_name  number_of_users  share_of_users  share_of_participants  \\\n",
       "0         login             3049           1.000                  0.548   \n",
       "2  product_page             1905           0.625                  0.342   \n",
       "1  product_cart              900           0.295                  0.162   \n",
       "3      purchase              953           0.312                  0.171   \n",
       "\n",
       "   conversion  conversion_step  \n",
       "0     100.000              NaN  \n",
       "2      62.480           62.480  \n",
       "1      29.518           47.244  \n",
       "3      31.256          105.889  "
      ]
     },
     "execution_count": 55,
     "metadata": {},
     "output_type": "execute_result"
    }
   ],
   "source": [
    "# выставляем события в определенной последовательности\n",
    "events_for_users = events_for_users.reindex([0, 2, 1, 3])\n",
    "# рассчитаем долю дошедших до определенного шага от числа пользователей на первом шаге\n",
    "events_for_users['conversion'] = events_for_users['number_of_users'] / events_for_users['number_of_users'][0] * 100\n",
    "# рассчитаем долю перешедших с каждого шага на следующий\n",
    "events_for_users['conversion_step'] = events_for_users['number_of_users'].pct_change()*100+100\n",
    "events_for_users"
   ]
  },
  {
   "cell_type": "markdown",
   "metadata": {},
   "source": [
    "По подготовленным данным построим воронку событий в целом по всем пользователям:"
   ]
  },
  {
   "cell_type": "code",
   "execution_count": 57,
   "metadata": {
    "scrolled": false
   },
   "outputs": [
    {
     "data": {
      "application/vnd.plotly.v1+json": {
       "config": {
        "plotlyServerURL": "https://plot.ly"
       },
       "data": [
        {
         "connector": {
          "line": {
           "color": "royalblue",
           "dash": "dot",
           "width": 3
          }
         },
         "marker": {
          "color": [
           "deepskyblue",
           "lightsalmon",
           "tan",
           "teal",
           "silver"
          ],
          "line": {
           "color": [
            "wheat",
            "wheat",
            "wheat",
            "wheat",
            "wheat"
           ]
          }
         },
         "opacity": 0.65,
         "textinfo": "value+percent previous",
         "textposition": "inside",
         "type": "funnel",
         "x": [
          3049,
          1905,
          900,
          953
         ],
         "y": [
          "login",
          "product_page",
          "product_cart",
          "purchase"
         ]
        }
       ],
       "layout": {
        "template": {
         "data": {
          "bar": [
           {
            "error_x": {
             "color": "#2a3f5f"
            },
            "error_y": {
             "color": "#2a3f5f"
            },
            "marker": {
             "line": {
              "color": "#E5ECF6",
              "width": 0.5
             },
             "pattern": {
              "fillmode": "overlay",
              "size": 10,
              "solidity": 0.2
             }
            },
            "type": "bar"
           }
          ],
          "barpolar": [
           {
            "marker": {
             "line": {
              "color": "#E5ECF6",
              "width": 0.5
             },
             "pattern": {
              "fillmode": "overlay",
              "size": 10,
              "solidity": 0.2
             }
            },
            "type": "barpolar"
           }
          ],
          "carpet": [
           {
            "aaxis": {
             "endlinecolor": "#2a3f5f",
             "gridcolor": "white",
             "linecolor": "white",
             "minorgridcolor": "white",
             "startlinecolor": "#2a3f5f"
            },
            "baxis": {
             "endlinecolor": "#2a3f5f",
             "gridcolor": "white",
             "linecolor": "white",
             "minorgridcolor": "white",
             "startlinecolor": "#2a3f5f"
            },
            "type": "carpet"
           }
          ],
          "choropleth": [
           {
            "colorbar": {
             "outlinewidth": 0,
             "ticks": ""
            },
            "type": "choropleth"
           }
          ],
          "contour": [
           {
            "colorbar": {
             "outlinewidth": 0,
             "ticks": ""
            },
            "colorscale": [
             [
              0,
              "#0d0887"
             ],
             [
              0.1111111111111111,
              "#46039f"
             ],
             [
              0.2222222222222222,
              "#7201a8"
             ],
             [
              0.3333333333333333,
              "#9c179e"
             ],
             [
              0.4444444444444444,
              "#bd3786"
             ],
             [
              0.5555555555555556,
              "#d8576b"
             ],
             [
              0.6666666666666666,
              "#ed7953"
             ],
             [
              0.7777777777777778,
              "#fb9f3a"
             ],
             [
              0.8888888888888888,
              "#fdca26"
             ],
             [
              1,
              "#f0f921"
             ]
            ],
            "type": "contour"
           }
          ],
          "contourcarpet": [
           {
            "colorbar": {
             "outlinewidth": 0,
             "ticks": ""
            },
            "type": "contourcarpet"
           }
          ],
          "heatmap": [
           {
            "colorbar": {
             "outlinewidth": 0,
             "ticks": ""
            },
            "colorscale": [
             [
              0,
              "#0d0887"
             ],
             [
              0.1111111111111111,
              "#46039f"
             ],
             [
              0.2222222222222222,
              "#7201a8"
             ],
             [
              0.3333333333333333,
              "#9c179e"
             ],
             [
              0.4444444444444444,
              "#bd3786"
             ],
             [
              0.5555555555555556,
              "#d8576b"
             ],
             [
              0.6666666666666666,
              "#ed7953"
             ],
             [
              0.7777777777777778,
              "#fb9f3a"
             ],
             [
              0.8888888888888888,
              "#fdca26"
             ],
             [
              1,
              "#f0f921"
             ]
            ],
            "type": "heatmap"
           }
          ],
          "heatmapgl": [
           {
            "colorbar": {
             "outlinewidth": 0,
             "ticks": ""
            },
            "colorscale": [
             [
              0,
              "#0d0887"
             ],
             [
              0.1111111111111111,
              "#46039f"
             ],
             [
              0.2222222222222222,
              "#7201a8"
             ],
             [
              0.3333333333333333,
              "#9c179e"
             ],
             [
              0.4444444444444444,
              "#bd3786"
             ],
             [
              0.5555555555555556,
              "#d8576b"
             ],
             [
              0.6666666666666666,
              "#ed7953"
             ],
             [
              0.7777777777777778,
              "#fb9f3a"
             ],
             [
              0.8888888888888888,
              "#fdca26"
             ],
             [
              1,
              "#f0f921"
             ]
            ],
            "type": "heatmapgl"
           }
          ],
          "histogram": [
           {
            "marker": {
             "pattern": {
              "fillmode": "overlay",
              "size": 10,
              "solidity": 0.2
             }
            },
            "type": "histogram"
           }
          ],
          "histogram2d": [
           {
            "colorbar": {
             "outlinewidth": 0,
             "ticks": ""
            },
            "colorscale": [
             [
              0,
              "#0d0887"
             ],
             [
              0.1111111111111111,
              "#46039f"
             ],
             [
              0.2222222222222222,
              "#7201a8"
             ],
             [
              0.3333333333333333,
              "#9c179e"
             ],
             [
              0.4444444444444444,
              "#bd3786"
             ],
             [
              0.5555555555555556,
              "#d8576b"
             ],
             [
              0.6666666666666666,
              "#ed7953"
             ],
             [
              0.7777777777777778,
              "#fb9f3a"
             ],
             [
              0.8888888888888888,
              "#fdca26"
             ],
             [
              1,
              "#f0f921"
             ]
            ],
            "type": "histogram2d"
           }
          ],
          "histogram2dcontour": [
           {
            "colorbar": {
             "outlinewidth": 0,
             "ticks": ""
            },
            "colorscale": [
             [
              0,
              "#0d0887"
             ],
             [
              0.1111111111111111,
              "#46039f"
             ],
             [
              0.2222222222222222,
              "#7201a8"
             ],
             [
              0.3333333333333333,
              "#9c179e"
             ],
             [
              0.4444444444444444,
              "#bd3786"
             ],
             [
              0.5555555555555556,
              "#d8576b"
             ],
             [
              0.6666666666666666,
              "#ed7953"
             ],
             [
              0.7777777777777778,
              "#fb9f3a"
             ],
             [
              0.8888888888888888,
              "#fdca26"
             ],
             [
              1,
              "#f0f921"
             ]
            ],
            "type": "histogram2dcontour"
           }
          ],
          "mesh3d": [
           {
            "colorbar": {
             "outlinewidth": 0,
             "ticks": ""
            },
            "type": "mesh3d"
           }
          ],
          "parcoords": [
           {
            "line": {
             "colorbar": {
              "outlinewidth": 0,
              "ticks": ""
             }
            },
            "type": "parcoords"
           }
          ],
          "pie": [
           {
            "automargin": true,
            "type": "pie"
           }
          ],
          "scatter": [
           {
            "marker": {
             "colorbar": {
              "outlinewidth": 0,
              "ticks": ""
             }
            },
            "type": "scatter"
           }
          ],
          "scatter3d": [
           {
            "line": {
             "colorbar": {
              "outlinewidth": 0,
              "ticks": ""
             }
            },
            "marker": {
             "colorbar": {
              "outlinewidth": 0,
              "ticks": ""
             }
            },
            "type": "scatter3d"
           }
          ],
          "scattercarpet": [
           {
            "marker": {
             "colorbar": {
              "outlinewidth": 0,
              "ticks": ""
             }
            },
            "type": "scattercarpet"
           }
          ],
          "scattergeo": [
           {
            "marker": {
             "colorbar": {
              "outlinewidth": 0,
              "ticks": ""
             }
            },
            "type": "scattergeo"
           }
          ],
          "scattergl": [
           {
            "marker": {
             "colorbar": {
              "outlinewidth": 0,
              "ticks": ""
             }
            },
            "type": "scattergl"
           }
          ],
          "scattermapbox": [
           {
            "marker": {
             "colorbar": {
              "outlinewidth": 0,
              "ticks": ""
             }
            },
            "type": "scattermapbox"
           }
          ],
          "scatterpolar": [
           {
            "marker": {
             "colorbar": {
              "outlinewidth": 0,
              "ticks": ""
             }
            },
            "type": "scatterpolar"
           }
          ],
          "scatterpolargl": [
           {
            "marker": {
             "colorbar": {
              "outlinewidth": 0,
              "ticks": ""
             }
            },
            "type": "scatterpolargl"
           }
          ],
          "scatterternary": [
           {
            "marker": {
             "colorbar": {
              "outlinewidth": 0,
              "ticks": ""
             }
            },
            "type": "scatterternary"
           }
          ],
          "surface": [
           {
            "colorbar": {
             "outlinewidth": 0,
             "ticks": ""
            },
            "colorscale": [
             [
              0,
              "#0d0887"
             ],
             [
              0.1111111111111111,
              "#46039f"
             ],
             [
              0.2222222222222222,
              "#7201a8"
             ],
             [
              0.3333333333333333,
              "#9c179e"
             ],
             [
              0.4444444444444444,
              "#bd3786"
             ],
             [
              0.5555555555555556,
              "#d8576b"
             ],
             [
              0.6666666666666666,
              "#ed7953"
             ],
             [
              0.7777777777777778,
              "#fb9f3a"
             ],
             [
              0.8888888888888888,
              "#fdca26"
             ],
             [
              1,
              "#f0f921"
             ]
            ],
            "type": "surface"
           }
          ],
          "table": [
           {
            "cells": {
             "fill": {
              "color": "#EBF0F8"
             },
             "line": {
              "color": "white"
             }
            },
            "header": {
             "fill": {
              "color": "#C8D4E3"
             },
             "line": {
              "color": "white"
             }
            },
            "type": "table"
           }
          ]
         },
         "layout": {
          "annotationdefaults": {
           "arrowcolor": "#2a3f5f",
           "arrowhead": 0,
           "arrowwidth": 1
          },
          "autotypenumbers": "strict",
          "coloraxis": {
           "colorbar": {
            "outlinewidth": 0,
            "ticks": ""
           }
          },
          "colorscale": {
           "diverging": [
            [
             0,
             "#8e0152"
            ],
            [
             0.1,
             "#c51b7d"
            ],
            [
             0.2,
             "#de77ae"
            ],
            [
             0.3,
             "#f1b6da"
            ],
            [
             0.4,
             "#fde0ef"
            ],
            [
             0.5,
             "#f7f7f7"
            ],
            [
             0.6,
             "#e6f5d0"
            ],
            [
             0.7,
             "#b8e186"
            ],
            [
             0.8,
             "#7fbc41"
            ],
            [
             0.9,
             "#4d9221"
            ],
            [
             1,
             "#276419"
            ]
           ],
           "sequential": [
            [
             0,
             "#0d0887"
            ],
            [
             0.1111111111111111,
             "#46039f"
            ],
            [
             0.2222222222222222,
             "#7201a8"
            ],
            [
             0.3333333333333333,
             "#9c179e"
            ],
            [
             0.4444444444444444,
             "#bd3786"
            ],
            [
             0.5555555555555556,
             "#d8576b"
            ],
            [
             0.6666666666666666,
             "#ed7953"
            ],
            [
             0.7777777777777778,
             "#fb9f3a"
            ],
            [
             0.8888888888888888,
             "#fdca26"
            ],
            [
             1,
             "#f0f921"
            ]
           ],
           "sequentialminus": [
            [
             0,
             "#0d0887"
            ],
            [
             0.1111111111111111,
             "#46039f"
            ],
            [
             0.2222222222222222,
             "#7201a8"
            ],
            [
             0.3333333333333333,
             "#9c179e"
            ],
            [
             0.4444444444444444,
             "#bd3786"
            ],
            [
             0.5555555555555556,
             "#d8576b"
            ],
            [
             0.6666666666666666,
             "#ed7953"
            ],
            [
             0.7777777777777778,
             "#fb9f3a"
            ],
            [
             0.8888888888888888,
             "#fdca26"
            ],
            [
             1,
             "#f0f921"
            ]
           ]
          },
          "colorway": [
           "#636efa",
           "#EF553B",
           "#00cc96",
           "#ab63fa",
           "#FFA15A",
           "#19d3f3",
           "#FF6692",
           "#B6E880",
           "#FF97FF",
           "#FECB52"
          ],
          "font": {
           "color": "#2a3f5f"
          },
          "geo": {
           "bgcolor": "white",
           "lakecolor": "white",
           "landcolor": "#E5ECF6",
           "showlakes": true,
           "showland": true,
           "subunitcolor": "white"
          },
          "hoverlabel": {
           "align": "left"
          },
          "hovermode": "closest",
          "mapbox": {
           "style": "light"
          },
          "paper_bgcolor": "white",
          "plot_bgcolor": "#E5ECF6",
          "polar": {
           "angularaxis": {
            "gridcolor": "white",
            "linecolor": "white",
            "ticks": ""
           },
           "bgcolor": "#E5ECF6",
           "radialaxis": {
            "gridcolor": "white",
            "linecolor": "white",
            "ticks": ""
           }
          },
          "scene": {
           "xaxis": {
            "backgroundcolor": "#E5ECF6",
            "gridcolor": "white",
            "gridwidth": 2,
            "linecolor": "white",
            "showbackground": true,
            "ticks": "",
            "zerolinecolor": "white"
           },
           "yaxis": {
            "backgroundcolor": "#E5ECF6",
            "gridcolor": "white",
            "gridwidth": 2,
            "linecolor": "white",
            "showbackground": true,
            "ticks": "",
            "zerolinecolor": "white"
           },
           "zaxis": {
            "backgroundcolor": "#E5ECF6",
            "gridcolor": "white",
            "gridwidth": 2,
            "linecolor": "white",
            "showbackground": true,
            "ticks": "",
            "zerolinecolor": "white"
           }
          },
          "shapedefaults": {
           "line": {
            "color": "#2a3f5f"
           }
          },
          "ternary": {
           "aaxis": {
            "gridcolor": "white",
            "linecolor": "white",
            "ticks": ""
           },
           "baxis": {
            "gridcolor": "white",
            "linecolor": "white",
            "ticks": ""
           },
           "bgcolor": "#E5ECF6",
           "caxis": {
            "gridcolor": "white",
            "linecolor": "white",
            "ticks": ""
           }
          },
          "title": {
           "x": 0.05
          },
          "xaxis": {
           "automargin": true,
           "gridcolor": "white",
           "linecolor": "white",
           "ticks": "",
           "title": {
            "standoff": 15
           },
           "zerolinecolor": "white",
           "zerolinewidth": 2
          },
          "yaxis": {
           "automargin": true,
           "gridcolor": "white",
           "linecolor": "white",
           "ticks": "",
           "title": {
            "standoff": 15
           },
           "zerolinecolor": "white",
           "zerolinewidth": 2
          }
         }
        },
        "title": {
         "text": "Воронка событий с отображением доли пользователей, переходящих на следующий шаг воронки"
        }
       }
      },
      "text/html": [
       "<div>                            <div id=\"2ffefdd3-671b-4a92-b2da-856098093853\" class=\"plotly-graph-div\" style=\"height:525px; width:100%;\"></div>            <script type=\"text/javascript\">                require([\"plotly\"], function(Plotly) {                    window.PLOTLYENV=window.PLOTLYENV || {};                                    if (document.getElementById(\"2ffefdd3-671b-4a92-b2da-856098093853\")) {                    Plotly.newPlot(                        \"2ffefdd3-671b-4a92-b2da-856098093853\",                        [{\"connector\":{\"line\":{\"color\":\"royalblue\",\"dash\":\"dot\",\"width\":3}},\"marker\":{\"color\":[\"deepskyblue\",\"lightsalmon\",\"tan\",\"teal\",\"silver\"],\"line\":{\"color\":[\"wheat\",\"wheat\",\"wheat\",\"wheat\",\"wheat\"]}},\"opacity\":0.65,\"textinfo\":\"value+percent previous\",\"textposition\":\"inside\",\"x\":[3049,1905,900,953],\"y\":[\"login\",\"product_page\",\"product_cart\",\"purchase\"],\"type\":\"funnel\"}],                        {\"template\":{\"data\":{\"bar\":[{\"error_x\":{\"color\":\"#2a3f5f\"},\"error_y\":{\"color\":\"#2a3f5f\"},\"marker\":{\"line\":{\"color\":\"#E5ECF6\",\"width\":0.5},\"pattern\":{\"fillmode\":\"overlay\",\"size\":10,\"solidity\":0.2}},\"type\":\"bar\"}],\"barpolar\":[{\"marker\":{\"line\":{\"color\":\"#E5ECF6\",\"width\":0.5},\"pattern\":{\"fillmode\":\"overlay\",\"size\":10,\"solidity\":0.2}},\"type\":\"barpolar\"}],\"carpet\":[{\"aaxis\":{\"endlinecolor\":\"#2a3f5f\",\"gridcolor\":\"white\",\"linecolor\":\"white\",\"minorgridcolor\":\"white\",\"startlinecolor\":\"#2a3f5f\"},\"baxis\":{\"endlinecolor\":\"#2a3f5f\",\"gridcolor\":\"white\",\"linecolor\":\"white\",\"minorgridcolor\":\"white\",\"startlinecolor\":\"#2a3f5f\"},\"type\":\"carpet\"}],\"choropleth\":[{\"colorbar\":{\"outlinewidth\":0,\"ticks\":\"\"},\"type\":\"choropleth\"}],\"contour\":[{\"colorbar\":{\"outlinewidth\":0,\"ticks\":\"\"},\"colorscale\":[[0.0,\"#0d0887\"],[0.1111111111111111,\"#46039f\"],[0.2222222222222222,\"#7201a8\"],[0.3333333333333333,\"#9c179e\"],[0.4444444444444444,\"#bd3786\"],[0.5555555555555556,\"#d8576b\"],[0.6666666666666666,\"#ed7953\"],[0.7777777777777778,\"#fb9f3a\"],[0.8888888888888888,\"#fdca26\"],[1.0,\"#f0f921\"]],\"type\":\"contour\"}],\"contourcarpet\":[{\"colorbar\":{\"outlinewidth\":0,\"ticks\":\"\"},\"type\":\"contourcarpet\"}],\"heatmap\":[{\"colorbar\":{\"outlinewidth\":0,\"ticks\":\"\"},\"colorscale\":[[0.0,\"#0d0887\"],[0.1111111111111111,\"#46039f\"],[0.2222222222222222,\"#7201a8\"],[0.3333333333333333,\"#9c179e\"],[0.4444444444444444,\"#bd3786\"],[0.5555555555555556,\"#d8576b\"],[0.6666666666666666,\"#ed7953\"],[0.7777777777777778,\"#fb9f3a\"],[0.8888888888888888,\"#fdca26\"],[1.0,\"#f0f921\"]],\"type\":\"heatmap\"}],\"heatmapgl\":[{\"colorbar\":{\"outlinewidth\":0,\"ticks\":\"\"},\"colorscale\":[[0.0,\"#0d0887\"],[0.1111111111111111,\"#46039f\"],[0.2222222222222222,\"#7201a8\"],[0.3333333333333333,\"#9c179e\"],[0.4444444444444444,\"#bd3786\"],[0.5555555555555556,\"#d8576b\"],[0.6666666666666666,\"#ed7953\"],[0.7777777777777778,\"#fb9f3a\"],[0.8888888888888888,\"#fdca26\"],[1.0,\"#f0f921\"]],\"type\":\"heatmapgl\"}],\"histogram\":[{\"marker\":{\"pattern\":{\"fillmode\":\"overlay\",\"size\":10,\"solidity\":0.2}},\"type\":\"histogram\"}],\"histogram2d\":[{\"colorbar\":{\"outlinewidth\":0,\"ticks\":\"\"},\"colorscale\":[[0.0,\"#0d0887\"],[0.1111111111111111,\"#46039f\"],[0.2222222222222222,\"#7201a8\"],[0.3333333333333333,\"#9c179e\"],[0.4444444444444444,\"#bd3786\"],[0.5555555555555556,\"#d8576b\"],[0.6666666666666666,\"#ed7953\"],[0.7777777777777778,\"#fb9f3a\"],[0.8888888888888888,\"#fdca26\"],[1.0,\"#f0f921\"]],\"type\":\"histogram2d\"}],\"histogram2dcontour\":[{\"colorbar\":{\"outlinewidth\":0,\"ticks\":\"\"},\"colorscale\":[[0.0,\"#0d0887\"],[0.1111111111111111,\"#46039f\"],[0.2222222222222222,\"#7201a8\"],[0.3333333333333333,\"#9c179e\"],[0.4444444444444444,\"#bd3786\"],[0.5555555555555556,\"#d8576b\"],[0.6666666666666666,\"#ed7953\"],[0.7777777777777778,\"#fb9f3a\"],[0.8888888888888888,\"#fdca26\"],[1.0,\"#f0f921\"]],\"type\":\"histogram2dcontour\"}],\"mesh3d\":[{\"colorbar\":{\"outlinewidth\":0,\"ticks\":\"\"},\"type\":\"mesh3d\"}],\"parcoords\":[{\"line\":{\"colorbar\":{\"outlinewidth\":0,\"ticks\":\"\"}},\"type\":\"parcoords\"}],\"pie\":[{\"automargin\":true,\"type\":\"pie\"}],\"scatter\":[{\"marker\":{\"colorbar\":{\"outlinewidth\":0,\"ticks\":\"\"}},\"type\":\"scatter\"}],\"scatter3d\":[{\"line\":{\"colorbar\":{\"outlinewidth\":0,\"ticks\":\"\"}},\"marker\":{\"colorbar\":{\"outlinewidth\":0,\"ticks\":\"\"}},\"type\":\"scatter3d\"}],\"scattercarpet\":[{\"marker\":{\"colorbar\":{\"outlinewidth\":0,\"ticks\":\"\"}},\"type\":\"scattercarpet\"}],\"scattergeo\":[{\"marker\":{\"colorbar\":{\"outlinewidth\":0,\"ticks\":\"\"}},\"type\":\"scattergeo\"}],\"scattergl\":[{\"marker\":{\"colorbar\":{\"outlinewidth\":0,\"ticks\":\"\"}},\"type\":\"scattergl\"}],\"scattermapbox\":[{\"marker\":{\"colorbar\":{\"outlinewidth\":0,\"ticks\":\"\"}},\"type\":\"scattermapbox\"}],\"scatterpolar\":[{\"marker\":{\"colorbar\":{\"outlinewidth\":0,\"ticks\":\"\"}},\"type\":\"scatterpolar\"}],\"scatterpolargl\":[{\"marker\":{\"colorbar\":{\"outlinewidth\":0,\"ticks\":\"\"}},\"type\":\"scatterpolargl\"}],\"scatterternary\":[{\"marker\":{\"colorbar\":{\"outlinewidth\":0,\"ticks\":\"\"}},\"type\":\"scatterternary\"}],\"surface\":[{\"colorbar\":{\"outlinewidth\":0,\"ticks\":\"\"},\"colorscale\":[[0.0,\"#0d0887\"],[0.1111111111111111,\"#46039f\"],[0.2222222222222222,\"#7201a8\"],[0.3333333333333333,\"#9c179e\"],[0.4444444444444444,\"#bd3786\"],[0.5555555555555556,\"#d8576b\"],[0.6666666666666666,\"#ed7953\"],[0.7777777777777778,\"#fb9f3a\"],[0.8888888888888888,\"#fdca26\"],[1.0,\"#f0f921\"]],\"type\":\"surface\"}],\"table\":[{\"cells\":{\"fill\":{\"color\":\"#EBF0F8\"},\"line\":{\"color\":\"white\"}},\"header\":{\"fill\":{\"color\":\"#C8D4E3\"},\"line\":{\"color\":\"white\"}},\"type\":\"table\"}]},\"layout\":{\"annotationdefaults\":{\"arrowcolor\":\"#2a3f5f\",\"arrowhead\":0,\"arrowwidth\":1},\"autotypenumbers\":\"strict\",\"coloraxis\":{\"colorbar\":{\"outlinewidth\":0,\"ticks\":\"\"}},\"colorscale\":{\"diverging\":[[0,\"#8e0152\"],[0.1,\"#c51b7d\"],[0.2,\"#de77ae\"],[0.3,\"#f1b6da\"],[0.4,\"#fde0ef\"],[0.5,\"#f7f7f7\"],[0.6,\"#e6f5d0\"],[0.7,\"#b8e186\"],[0.8,\"#7fbc41\"],[0.9,\"#4d9221\"],[1,\"#276419\"]],\"sequential\":[[0.0,\"#0d0887\"],[0.1111111111111111,\"#46039f\"],[0.2222222222222222,\"#7201a8\"],[0.3333333333333333,\"#9c179e\"],[0.4444444444444444,\"#bd3786\"],[0.5555555555555556,\"#d8576b\"],[0.6666666666666666,\"#ed7953\"],[0.7777777777777778,\"#fb9f3a\"],[0.8888888888888888,\"#fdca26\"],[1.0,\"#f0f921\"]],\"sequentialminus\":[[0.0,\"#0d0887\"],[0.1111111111111111,\"#46039f\"],[0.2222222222222222,\"#7201a8\"],[0.3333333333333333,\"#9c179e\"],[0.4444444444444444,\"#bd3786\"],[0.5555555555555556,\"#d8576b\"],[0.6666666666666666,\"#ed7953\"],[0.7777777777777778,\"#fb9f3a\"],[0.8888888888888888,\"#fdca26\"],[1.0,\"#f0f921\"]]},\"colorway\":[\"#636efa\",\"#EF553B\",\"#00cc96\",\"#ab63fa\",\"#FFA15A\",\"#19d3f3\",\"#FF6692\",\"#B6E880\",\"#FF97FF\",\"#FECB52\"],\"font\":{\"color\":\"#2a3f5f\"},\"geo\":{\"bgcolor\":\"white\",\"lakecolor\":\"white\",\"landcolor\":\"#E5ECF6\",\"showlakes\":true,\"showland\":true,\"subunitcolor\":\"white\"},\"hoverlabel\":{\"align\":\"left\"},\"hovermode\":\"closest\",\"mapbox\":{\"style\":\"light\"},\"paper_bgcolor\":\"white\",\"plot_bgcolor\":\"#E5ECF6\",\"polar\":{\"angularaxis\":{\"gridcolor\":\"white\",\"linecolor\":\"white\",\"ticks\":\"\"},\"bgcolor\":\"#E5ECF6\",\"radialaxis\":{\"gridcolor\":\"white\",\"linecolor\":\"white\",\"ticks\":\"\"}},\"scene\":{\"xaxis\":{\"backgroundcolor\":\"#E5ECF6\",\"gridcolor\":\"white\",\"gridwidth\":2,\"linecolor\":\"white\",\"showbackground\":true,\"ticks\":\"\",\"zerolinecolor\":\"white\"},\"yaxis\":{\"backgroundcolor\":\"#E5ECF6\",\"gridcolor\":\"white\",\"gridwidth\":2,\"linecolor\":\"white\",\"showbackground\":true,\"ticks\":\"\",\"zerolinecolor\":\"white\"},\"zaxis\":{\"backgroundcolor\":\"#E5ECF6\",\"gridcolor\":\"white\",\"gridwidth\":2,\"linecolor\":\"white\",\"showbackground\":true,\"ticks\":\"\",\"zerolinecolor\":\"white\"}},\"shapedefaults\":{\"line\":{\"color\":\"#2a3f5f\"}},\"ternary\":{\"aaxis\":{\"gridcolor\":\"white\",\"linecolor\":\"white\",\"ticks\":\"\"},\"baxis\":{\"gridcolor\":\"white\",\"linecolor\":\"white\",\"ticks\":\"\"},\"bgcolor\":\"#E5ECF6\",\"caxis\":{\"gridcolor\":\"white\",\"linecolor\":\"white\",\"ticks\":\"\"}},\"title\":{\"x\":0.05},\"xaxis\":{\"automargin\":true,\"gridcolor\":\"white\",\"linecolor\":\"white\",\"ticks\":\"\",\"title\":{\"standoff\":15},\"zerolinecolor\":\"white\",\"zerolinewidth\":2},\"yaxis\":{\"automargin\":true,\"gridcolor\":\"white\",\"linecolor\":\"white\",\"ticks\":\"\",\"title\":{\"standoff\":15},\"zerolinecolor\":\"white\",\"zerolinewidth\":2}}},\"title\":{\"text\":\"\\u0412\\u043e\\u0440\\u043e\\u043d\\u043a\\u0430 \\u0441\\u043e\\u0431\\u044b\\u0442\\u0438\\u0439 \\u0441 \\u043e\\u0442\\u043e\\u0431\\u0440\\u0430\\u0436\\u0435\\u043d\\u0438\\u0435\\u043c \\u0434\\u043e\\u043b\\u0438 \\u043f\\u043e\\u043b\\u044c\\u0437\\u043e\\u0432\\u0430\\u0442\\u0435\\u043b\\u0435\\u0439, \\u043f\\u0435\\u0440\\u0435\\u0445\\u043e\\u0434\\u044f\\u0449\\u0438\\u0445 \\u043d\\u0430 \\u0441\\u043b\\u0435\\u0434\\u0443\\u044e\\u0449\\u0438\\u0439 \\u0448\\u0430\\u0433 \\u0432\\u043e\\u0440\\u043e\\u043d\\u043a\\u0438\"}},                        {\"responsive\": true}                    ).then(function(){\n",
       "                            \n",
       "var gd = document.getElementById('2ffefdd3-671b-4a92-b2da-856098093853');\n",
       "var x = new MutationObserver(function (mutations, observer) {{\n",
       "        var display = window.getComputedStyle(gd).display;\n",
       "        if (!display || display === 'none') {{\n",
       "            console.log([gd, 'removed!']);\n",
       "            Plotly.purge(gd);\n",
       "            observer.disconnect();\n",
       "        }}\n",
       "}});\n",
       "\n",
       "// Listen for the removal of the full notebook cells\n",
       "var notebookContainer = gd.closest('#notebook-container');\n",
       "if (notebookContainer) {{\n",
       "    x.observe(notebookContainer, {childList: true});\n",
       "}}\n",
       "\n",
       "// Listen for the clearing of the current output cell\n",
       "var outputEl = gd.closest('.output');\n",
       "if (outputEl) {{\n",
       "    x.observe(outputEl, {childList: true});\n",
       "}}\n",
       "\n",
       "                        })                };                });            </script>        </div>"
      ]
     },
     "metadata": {},
     "output_type": "display_data"
    }
   ],
   "source": [
    "# строим воронку событий\n",
    "fig = go.Figure(go.Funnel(\n",
    "    y = events_for_users['event_name'],\n",
    "    x = events_for_users['number_of_users'],\n",
    "    textposition = \"inside\",\n",
    "    textinfo = \"value+percent previous\",\n",
    "    opacity = 0.65, marker = {\"color\": [\"deepskyblue\", \"lightsalmon\", \"tan\", \"teal\", \"silver\"],\n",
    "    \"line\": { \"color\": [\"wheat\", \"wheat\", \"wheat\", \"wheat\", \"wheat\"]}},\n",
    "    connector = {\"line\": {\"color\": \"royalblue\", \"dash\": \"dot\", \"width\": 3}})\n",
    "    )\n",
    "fig.update_layout(title_text='Воронка событий с отображением доли пользователей, переходящих на следующий шаг воронки')\n",
    "fig.show()"
   ]
  },
  {
   "cell_type": "markdown",
   "metadata": {},
   "source": [
    "Приходим к выводу, что **на этапе авторизации теряется 38% пользователей**. Возможной причиной может стать то, что пользователя не смог заинтересовать предлагаемый продукт или, например, он попал в сервис по ошибке. **Из тех, кто смотрел католог - только 47% переходит в корзину**. Таким образом, получается, что более половины пользователей просто не находят подходящий для них товар в катологе. Это, например, может быть обусловлено как неподходящей для пользователя ценой, качеством, ассортиментом, так и возможной технической проблемой, связанной с добавлением товара в корзину, поэтому стоит заострить на этом внимание и попытаться выяснить причины.  \n",
    "\n",
    "**Лишь 31,3% от числа авторизовавшихся пользователей достигают покупки.** Из воронки следует, что оплата товара может производиться, минуя просмотр корзины."
   ]
  },
  {
   "cell_type": "markdown",
   "metadata": {},
   "source": [
    "Аналогичным образом, построим воронку событий в разрезе каждой группы. Для этого создадим вспомогательную таблицу `data`, куда соберем информацию по каждой тестовой группе:"
   ]
  },
  {
   "cell_type": "code",
   "execution_count": 58,
   "metadata": {},
   "outputs": [
    {
     "data": {
      "text/html": [
       "<div>\n",
       "<style scoped>\n",
       "    .dataframe tbody tr th:only-of-type {\n",
       "        vertical-align: middle;\n",
       "    }\n",
       "\n",
       "    .dataframe tbody tr th {\n",
       "        vertical-align: top;\n",
       "    }\n",
       "\n",
       "    .dataframe thead th {\n",
       "        text-align: right;\n",
       "    }\n",
       "</style>\n",
       "<table border=\"1\" class=\"dataframe\">\n",
       "  <thead>\n",
       "    <tr style=\"text-align: right;\">\n",
       "      <th>group</th>\n",
       "      <th>event_name</th>\n",
       "      <th>A</th>\n",
       "      <th>B</th>\n",
       "      <th>share_of_participants_A</th>\n",
       "      <th>share_of_participants_B</th>\n",
       "    </tr>\n",
       "  </thead>\n",
       "  <tbody>\n",
       "    <tr>\n",
       "      <th>0</th>\n",
       "      <td>login</td>\n",
       "      <td>2279</td>\n",
       "      <td>770</td>\n",
       "      <td>0.713</td>\n",
       "      <td>0.324</td>\n",
       "    </tr>\n",
       "    <tr>\n",
       "      <th>2</th>\n",
       "      <td>product_page</td>\n",
       "      <td>1476</td>\n",
       "      <td>429</td>\n",
       "      <td>0.462</td>\n",
       "      <td>0.181</td>\n",
       "    </tr>\n",
       "    <tr>\n",
       "      <th>1</th>\n",
       "      <td>product_cart</td>\n",
       "      <td>686</td>\n",
       "      <td>214</td>\n",
       "      <td>0.215</td>\n",
       "      <td>0.090</td>\n",
       "    </tr>\n",
       "    <tr>\n",
       "      <th>3</th>\n",
       "      <td>purchase</td>\n",
       "      <td>734</td>\n",
       "      <td>219</td>\n",
       "      <td>0.230</td>\n",
       "      <td>0.092</td>\n",
       "    </tr>\n",
       "  </tbody>\n",
       "</table>\n",
       "</div>"
      ],
      "text/plain": [
       "group    event_name     A    B  share_of_participants_A  \\\n",
       "0             login  2279  770                    0.713   \n",
       "2      product_page  1476  429                    0.462   \n",
       "1      product_cart   686  214                    0.215   \n",
       "3          purchase   734  219                    0.230   \n",
       "\n",
       "group  share_of_participants_B  \n",
       "0                        0.324  \n",
       "2                        0.181  \n",
       "1                        0.090  \n",
       "3                        0.092  "
      ]
     },
     "execution_count": 58,
     "metadata": {},
     "output_type": "execute_result"
    }
   ],
   "source": [
    "# находим число пользователей, совершивших каждое событие в разрезе групп\n",
    "data = (\n",
    "    events.pivot_table(index='event_name', columns='group', values='user_id', aggfunc = 'nunique')\n",
    "    .reset_index()\n",
    "    .sort_values(by='A', ascending=False)\n",
    ")\n",
    "# выставляем события в определенной последовательности\n",
    "data = data.reindex([0, 2, 1, 3])\n",
    "# считаем долю пользователей от числа участников теста\n",
    "data['share_of_participants_A'] = data['A'] / participants_recommender.query('group == \"A\"')['user_id'].nunique()\n",
    "data['share_of_participants_B'] = data['B'] / participants_recommender.query('group == \"B\"')['user_id'].nunique()\n",
    "data"
   ]
  },
  {
   "cell_type": "markdown",
   "metadata": {},
   "source": [
    "В группе А авторизуется 71,3% зарегистрированных пользователей, а в группе В - только 32,4%."
   ]
  },
  {
   "cell_type": "code",
   "execution_count": 59,
   "metadata": {},
   "outputs": [
    {
     "data": {
      "application/vnd.plotly.v1+json": {
       "config": {
        "plotlyServerURL": "https://plot.ly"
       },
       "data": [
        {
         "marker": {
          "color": [
           "deepskyblue",
           "deepskyblue",
           "deepskyblue",
           "deepskyblue",
           "silver"
          ]
         },
         "name": "А",
         "opacity": 0.65,
         "textinfo": "value+percent previous",
         "type": "funnel",
         "x": [
          2279,
          1476,
          686,
          734
         ],
         "y": [
          "login",
          "product_page",
          "product_cart",
          "purchase"
         ]
        },
        {
         "marker": {
          "color": [
           "lightsalmon",
           "lightsalmon",
           "lightsalmon",
           "lightsalmon",
           "silver"
          ]
         },
         "name": "B",
         "opacity": 0.65,
         "orientation": "h",
         "textinfo": "value+percent previous",
         "textposition": "inside",
         "type": "funnel",
         "x": [
          770,
          429,
          214,
          219
         ],
         "y": [
          "login",
          "product_page",
          "product_cart",
          "purchase"
         ]
        }
       ],
       "layout": {
        "template": {
         "data": {
          "bar": [
           {
            "error_x": {
             "color": "#2a3f5f"
            },
            "error_y": {
             "color": "#2a3f5f"
            },
            "marker": {
             "line": {
              "color": "#E5ECF6",
              "width": 0.5
             },
             "pattern": {
              "fillmode": "overlay",
              "size": 10,
              "solidity": 0.2
             }
            },
            "type": "bar"
           }
          ],
          "barpolar": [
           {
            "marker": {
             "line": {
              "color": "#E5ECF6",
              "width": 0.5
             },
             "pattern": {
              "fillmode": "overlay",
              "size": 10,
              "solidity": 0.2
             }
            },
            "type": "barpolar"
           }
          ],
          "carpet": [
           {
            "aaxis": {
             "endlinecolor": "#2a3f5f",
             "gridcolor": "white",
             "linecolor": "white",
             "minorgridcolor": "white",
             "startlinecolor": "#2a3f5f"
            },
            "baxis": {
             "endlinecolor": "#2a3f5f",
             "gridcolor": "white",
             "linecolor": "white",
             "minorgridcolor": "white",
             "startlinecolor": "#2a3f5f"
            },
            "type": "carpet"
           }
          ],
          "choropleth": [
           {
            "colorbar": {
             "outlinewidth": 0,
             "ticks": ""
            },
            "type": "choropleth"
           }
          ],
          "contour": [
           {
            "colorbar": {
             "outlinewidth": 0,
             "ticks": ""
            },
            "colorscale": [
             [
              0,
              "#0d0887"
             ],
             [
              0.1111111111111111,
              "#46039f"
             ],
             [
              0.2222222222222222,
              "#7201a8"
             ],
             [
              0.3333333333333333,
              "#9c179e"
             ],
             [
              0.4444444444444444,
              "#bd3786"
             ],
             [
              0.5555555555555556,
              "#d8576b"
             ],
             [
              0.6666666666666666,
              "#ed7953"
             ],
             [
              0.7777777777777778,
              "#fb9f3a"
             ],
             [
              0.8888888888888888,
              "#fdca26"
             ],
             [
              1,
              "#f0f921"
             ]
            ],
            "type": "contour"
           }
          ],
          "contourcarpet": [
           {
            "colorbar": {
             "outlinewidth": 0,
             "ticks": ""
            },
            "type": "contourcarpet"
           }
          ],
          "heatmap": [
           {
            "colorbar": {
             "outlinewidth": 0,
             "ticks": ""
            },
            "colorscale": [
             [
              0,
              "#0d0887"
             ],
             [
              0.1111111111111111,
              "#46039f"
             ],
             [
              0.2222222222222222,
              "#7201a8"
             ],
             [
              0.3333333333333333,
              "#9c179e"
             ],
             [
              0.4444444444444444,
              "#bd3786"
             ],
             [
              0.5555555555555556,
              "#d8576b"
             ],
             [
              0.6666666666666666,
              "#ed7953"
             ],
             [
              0.7777777777777778,
              "#fb9f3a"
             ],
             [
              0.8888888888888888,
              "#fdca26"
             ],
             [
              1,
              "#f0f921"
             ]
            ],
            "type": "heatmap"
           }
          ],
          "heatmapgl": [
           {
            "colorbar": {
             "outlinewidth": 0,
             "ticks": ""
            },
            "colorscale": [
             [
              0,
              "#0d0887"
             ],
             [
              0.1111111111111111,
              "#46039f"
             ],
             [
              0.2222222222222222,
              "#7201a8"
             ],
             [
              0.3333333333333333,
              "#9c179e"
             ],
             [
              0.4444444444444444,
              "#bd3786"
             ],
             [
              0.5555555555555556,
              "#d8576b"
             ],
             [
              0.6666666666666666,
              "#ed7953"
             ],
             [
              0.7777777777777778,
              "#fb9f3a"
             ],
             [
              0.8888888888888888,
              "#fdca26"
             ],
             [
              1,
              "#f0f921"
             ]
            ],
            "type": "heatmapgl"
           }
          ],
          "histogram": [
           {
            "marker": {
             "pattern": {
              "fillmode": "overlay",
              "size": 10,
              "solidity": 0.2
             }
            },
            "type": "histogram"
           }
          ],
          "histogram2d": [
           {
            "colorbar": {
             "outlinewidth": 0,
             "ticks": ""
            },
            "colorscale": [
             [
              0,
              "#0d0887"
             ],
             [
              0.1111111111111111,
              "#46039f"
             ],
             [
              0.2222222222222222,
              "#7201a8"
             ],
             [
              0.3333333333333333,
              "#9c179e"
             ],
             [
              0.4444444444444444,
              "#bd3786"
             ],
             [
              0.5555555555555556,
              "#d8576b"
             ],
             [
              0.6666666666666666,
              "#ed7953"
             ],
             [
              0.7777777777777778,
              "#fb9f3a"
             ],
             [
              0.8888888888888888,
              "#fdca26"
             ],
             [
              1,
              "#f0f921"
             ]
            ],
            "type": "histogram2d"
           }
          ],
          "histogram2dcontour": [
           {
            "colorbar": {
             "outlinewidth": 0,
             "ticks": ""
            },
            "colorscale": [
             [
              0,
              "#0d0887"
             ],
             [
              0.1111111111111111,
              "#46039f"
             ],
             [
              0.2222222222222222,
              "#7201a8"
             ],
             [
              0.3333333333333333,
              "#9c179e"
             ],
             [
              0.4444444444444444,
              "#bd3786"
             ],
             [
              0.5555555555555556,
              "#d8576b"
             ],
             [
              0.6666666666666666,
              "#ed7953"
             ],
             [
              0.7777777777777778,
              "#fb9f3a"
             ],
             [
              0.8888888888888888,
              "#fdca26"
             ],
             [
              1,
              "#f0f921"
             ]
            ],
            "type": "histogram2dcontour"
           }
          ],
          "mesh3d": [
           {
            "colorbar": {
             "outlinewidth": 0,
             "ticks": ""
            },
            "type": "mesh3d"
           }
          ],
          "parcoords": [
           {
            "line": {
             "colorbar": {
              "outlinewidth": 0,
              "ticks": ""
             }
            },
            "type": "parcoords"
           }
          ],
          "pie": [
           {
            "automargin": true,
            "type": "pie"
           }
          ],
          "scatter": [
           {
            "marker": {
             "colorbar": {
              "outlinewidth": 0,
              "ticks": ""
             }
            },
            "type": "scatter"
           }
          ],
          "scatter3d": [
           {
            "line": {
             "colorbar": {
              "outlinewidth": 0,
              "ticks": ""
             }
            },
            "marker": {
             "colorbar": {
              "outlinewidth": 0,
              "ticks": ""
             }
            },
            "type": "scatter3d"
           }
          ],
          "scattercarpet": [
           {
            "marker": {
             "colorbar": {
              "outlinewidth": 0,
              "ticks": ""
             }
            },
            "type": "scattercarpet"
           }
          ],
          "scattergeo": [
           {
            "marker": {
             "colorbar": {
              "outlinewidth": 0,
              "ticks": ""
             }
            },
            "type": "scattergeo"
           }
          ],
          "scattergl": [
           {
            "marker": {
             "colorbar": {
              "outlinewidth": 0,
              "ticks": ""
             }
            },
            "type": "scattergl"
           }
          ],
          "scattermapbox": [
           {
            "marker": {
             "colorbar": {
              "outlinewidth": 0,
              "ticks": ""
             }
            },
            "type": "scattermapbox"
           }
          ],
          "scatterpolar": [
           {
            "marker": {
             "colorbar": {
              "outlinewidth": 0,
              "ticks": ""
             }
            },
            "type": "scatterpolar"
           }
          ],
          "scatterpolargl": [
           {
            "marker": {
             "colorbar": {
              "outlinewidth": 0,
              "ticks": ""
             }
            },
            "type": "scatterpolargl"
           }
          ],
          "scatterternary": [
           {
            "marker": {
             "colorbar": {
              "outlinewidth": 0,
              "ticks": ""
             }
            },
            "type": "scatterternary"
           }
          ],
          "surface": [
           {
            "colorbar": {
             "outlinewidth": 0,
             "ticks": ""
            },
            "colorscale": [
             [
              0,
              "#0d0887"
             ],
             [
              0.1111111111111111,
              "#46039f"
             ],
             [
              0.2222222222222222,
              "#7201a8"
             ],
             [
              0.3333333333333333,
              "#9c179e"
             ],
             [
              0.4444444444444444,
              "#bd3786"
             ],
             [
              0.5555555555555556,
              "#d8576b"
             ],
             [
              0.6666666666666666,
              "#ed7953"
             ],
             [
              0.7777777777777778,
              "#fb9f3a"
             ],
             [
              0.8888888888888888,
              "#fdca26"
             ],
             [
              1,
              "#f0f921"
             ]
            ],
            "type": "surface"
           }
          ],
          "table": [
           {
            "cells": {
             "fill": {
              "color": "#EBF0F8"
             },
             "line": {
              "color": "white"
             }
            },
            "header": {
             "fill": {
              "color": "#C8D4E3"
             },
             "line": {
              "color": "white"
             }
            },
            "type": "table"
           }
          ]
         },
         "layout": {
          "annotationdefaults": {
           "arrowcolor": "#2a3f5f",
           "arrowhead": 0,
           "arrowwidth": 1
          },
          "autotypenumbers": "strict",
          "coloraxis": {
           "colorbar": {
            "outlinewidth": 0,
            "ticks": ""
           }
          },
          "colorscale": {
           "diverging": [
            [
             0,
             "#8e0152"
            ],
            [
             0.1,
             "#c51b7d"
            ],
            [
             0.2,
             "#de77ae"
            ],
            [
             0.3,
             "#f1b6da"
            ],
            [
             0.4,
             "#fde0ef"
            ],
            [
             0.5,
             "#f7f7f7"
            ],
            [
             0.6,
             "#e6f5d0"
            ],
            [
             0.7,
             "#b8e186"
            ],
            [
             0.8,
             "#7fbc41"
            ],
            [
             0.9,
             "#4d9221"
            ],
            [
             1,
             "#276419"
            ]
           ],
           "sequential": [
            [
             0,
             "#0d0887"
            ],
            [
             0.1111111111111111,
             "#46039f"
            ],
            [
             0.2222222222222222,
             "#7201a8"
            ],
            [
             0.3333333333333333,
             "#9c179e"
            ],
            [
             0.4444444444444444,
             "#bd3786"
            ],
            [
             0.5555555555555556,
             "#d8576b"
            ],
            [
             0.6666666666666666,
             "#ed7953"
            ],
            [
             0.7777777777777778,
             "#fb9f3a"
            ],
            [
             0.8888888888888888,
             "#fdca26"
            ],
            [
             1,
             "#f0f921"
            ]
           ],
           "sequentialminus": [
            [
             0,
             "#0d0887"
            ],
            [
             0.1111111111111111,
             "#46039f"
            ],
            [
             0.2222222222222222,
             "#7201a8"
            ],
            [
             0.3333333333333333,
             "#9c179e"
            ],
            [
             0.4444444444444444,
             "#bd3786"
            ],
            [
             0.5555555555555556,
             "#d8576b"
            ],
            [
             0.6666666666666666,
             "#ed7953"
            ],
            [
             0.7777777777777778,
             "#fb9f3a"
            ],
            [
             0.8888888888888888,
             "#fdca26"
            ],
            [
             1,
             "#f0f921"
            ]
           ]
          },
          "colorway": [
           "#636efa",
           "#EF553B",
           "#00cc96",
           "#ab63fa",
           "#FFA15A",
           "#19d3f3",
           "#FF6692",
           "#B6E880",
           "#FF97FF",
           "#FECB52"
          ],
          "font": {
           "color": "#2a3f5f"
          },
          "geo": {
           "bgcolor": "white",
           "lakecolor": "white",
           "landcolor": "#E5ECF6",
           "showlakes": true,
           "showland": true,
           "subunitcolor": "white"
          },
          "hoverlabel": {
           "align": "left"
          },
          "hovermode": "closest",
          "mapbox": {
           "style": "light"
          },
          "paper_bgcolor": "white",
          "plot_bgcolor": "#E5ECF6",
          "polar": {
           "angularaxis": {
            "gridcolor": "white",
            "linecolor": "white",
            "ticks": ""
           },
           "bgcolor": "#E5ECF6",
           "radialaxis": {
            "gridcolor": "white",
            "linecolor": "white",
            "ticks": ""
           }
          },
          "scene": {
           "xaxis": {
            "backgroundcolor": "#E5ECF6",
            "gridcolor": "white",
            "gridwidth": 2,
            "linecolor": "white",
            "showbackground": true,
            "ticks": "",
            "zerolinecolor": "white"
           },
           "yaxis": {
            "backgroundcolor": "#E5ECF6",
            "gridcolor": "white",
            "gridwidth": 2,
            "linecolor": "white",
            "showbackground": true,
            "ticks": "",
            "zerolinecolor": "white"
           },
           "zaxis": {
            "backgroundcolor": "#E5ECF6",
            "gridcolor": "white",
            "gridwidth": 2,
            "linecolor": "white",
            "showbackground": true,
            "ticks": "",
            "zerolinecolor": "white"
           }
          },
          "shapedefaults": {
           "line": {
            "color": "#2a3f5f"
           }
          },
          "ternary": {
           "aaxis": {
            "gridcolor": "white",
            "linecolor": "white",
            "ticks": ""
           },
           "baxis": {
            "gridcolor": "white",
            "linecolor": "white",
            "ticks": ""
           },
           "bgcolor": "#E5ECF6",
           "caxis": {
            "gridcolor": "white",
            "linecolor": "white",
            "ticks": ""
           }
          },
          "title": {
           "x": 0.05
          },
          "xaxis": {
           "automargin": true,
           "gridcolor": "white",
           "linecolor": "white",
           "ticks": "",
           "title": {
            "standoff": 15
           },
           "zerolinecolor": "white",
           "zerolinewidth": 2
          },
          "yaxis": {
           "automargin": true,
           "gridcolor": "white",
           "linecolor": "white",
           "ticks": "",
           "title": {
            "standoff": 15
           },
           "zerolinecolor": "white",
           "zerolinewidth": 2
          }
         }
        },
        "title": {
         "text": "Воронка событий в разрезе тестовых групп"
        }
       }
      },
      "text/html": [
       "<div>                            <div id=\"dfd3a81b-37b1-4950-a548-10ca753ff049\" class=\"plotly-graph-div\" style=\"height:525px; width:100%;\"></div>            <script type=\"text/javascript\">                require([\"plotly\"], function(Plotly) {                    window.PLOTLYENV=window.PLOTLYENV || {};                                    if (document.getElementById(\"dfd3a81b-37b1-4950-a548-10ca753ff049\")) {                    Plotly.newPlot(                        \"dfd3a81b-37b1-4950-a548-10ca753ff049\",                        [{\"marker\":{\"color\":[\"deepskyblue\",\"deepskyblue\",\"deepskyblue\",\"deepskyblue\",\"silver\"]},\"name\":\"\\u0410\",\"opacity\":0.65,\"textinfo\":\"value+percent previous\",\"x\":[2279,1476,686,734],\"y\":[\"login\",\"product_page\",\"product_cart\",\"purchase\"],\"type\":\"funnel\"},{\"marker\":{\"color\":[\"lightsalmon\",\"lightsalmon\",\"lightsalmon\",\"lightsalmon\",\"silver\"]},\"name\":\"B\",\"opacity\":0.65,\"orientation\":\"h\",\"textinfo\":\"value+percent previous\",\"textposition\":\"inside\",\"x\":[770,429,214,219],\"y\":[\"login\",\"product_page\",\"product_cart\",\"purchase\"],\"type\":\"funnel\"}],                        {\"template\":{\"data\":{\"bar\":[{\"error_x\":{\"color\":\"#2a3f5f\"},\"error_y\":{\"color\":\"#2a3f5f\"},\"marker\":{\"line\":{\"color\":\"#E5ECF6\",\"width\":0.5},\"pattern\":{\"fillmode\":\"overlay\",\"size\":10,\"solidity\":0.2}},\"type\":\"bar\"}],\"barpolar\":[{\"marker\":{\"line\":{\"color\":\"#E5ECF6\",\"width\":0.5},\"pattern\":{\"fillmode\":\"overlay\",\"size\":10,\"solidity\":0.2}},\"type\":\"barpolar\"}],\"carpet\":[{\"aaxis\":{\"endlinecolor\":\"#2a3f5f\",\"gridcolor\":\"white\",\"linecolor\":\"white\",\"minorgridcolor\":\"white\",\"startlinecolor\":\"#2a3f5f\"},\"baxis\":{\"endlinecolor\":\"#2a3f5f\",\"gridcolor\":\"white\",\"linecolor\":\"white\",\"minorgridcolor\":\"white\",\"startlinecolor\":\"#2a3f5f\"},\"type\":\"carpet\"}],\"choropleth\":[{\"colorbar\":{\"outlinewidth\":0,\"ticks\":\"\"},\"type\":\"choropleth\"}],\"contour\":[{\"colorbar\":{\"outlinewidth\":0,\"ticks\":\"\"},\"colorscale\":[[0.0,\"#0d0887\"],[0.1111111111111111,\"#46039f\"],[0.2222222222222222,\"#7201a8\"],[0.3333333333333333,\"#9c179e\"],[0.4444444444444444,\"#bd3786\"],[0.5555555555555556,\"#d8576b\"],[0.6666666666666666,\"#ed7953\"],[0.7777777777777778,\"#fb9f3a\"],[0.8888888888888888,\"#fdca26\"],[1.0,\"#f0f921\"]],\"type\":\"contour\"}],\"contourcarpet\":[{\"colorbar\":{\"outlinewidth\":0,\"ticks\":\"\"},\"type\":\"contourcarpet\"}],\"heatmap\":[{\"colorbar\":{\"outlinewidth\":0,\"ticks\":\"\"},\"colorscale\":[[0.0,\"#0d0887\"],[0.1111111111111111,\"#46039f\"],[0.2222222222222222,\"#7201a8\"],[0.3333333333333333,\"#9c179e\"],[0.4444444444444444,\"#bd3786\"],[0.5555555555555556,\"#d8576b\"],[0.6666666666666666,\"#ed7953\"],[0.7777777777777778,\"#fb9f3a\"],[0.8888888888888888,\"#fdca26\"],[1.0,\"#f0f921\"]],\"type\":\"heatmap\"}],\"heatmapgl\":[{\"colorbar\":{\"outlinewidth\":0,\"ticks\":\"\"},\"colorscale\":[[0.0,\"#0d0887\"],[0.1111111111111111,\"#46039f\"],[0.2222222222222222,\"#7201a8\"],[0.3333333333333333,\"#9c179e\"],[0.4444444444444444,\"#bd3786\"],[0.5555555555555556,\"#d8576b\"],[0.6666666666666666,\"#ed7953\"],[0.7777777777777778,\"#fb9f3a\"],[0.8888888888888888,\"#fdca26\"],[1.0,\"#f0f921\"]],\"type\":\"heatmapgl\"}],\"histogram\":[{\"marker\":{\"pattern\":{\"fillmode\":\"overlay\",\"size\":10,\"solidity\":0.2}},\"type\":\"histogram\"}],\"histogram2d\":[{\"colorbar\":{\"outlinewidth\":0,\"ticks\":\"\"},\"colorscale\":[[0.0,\"#0d0887\"],[0.1111111111111111,\"#46039f\"],[0.2222222222222222,\"#7201a8\"],[0.3333333333333333,\"#9c179e\"],[0.4444444444444444,\"#bd3786\"],[0.5555555555555556,\"#d8576b\"],[0.6666666666666666,\"#ed7953\"],[0.7777777777777778,\"#fb9f3a\"],[0.8888888888888888,\"#fdca26\"],[1.0,\"#f0f921\"]],\"type\":\"histogram2d\"}],\"histogram2dcontour\":[{\"colorbar\":{\"outlinewidth\":0,\"ticks\":\"\"},\"colorscale\":[[0.0,\"#0d0887\"],[0.1111111111111111,\"#46039f\"],[0.2222222222222222,\"#7201a8\"],[0.3333333333333333,\"#9c179e\"],[0.4444444444444444,\"#bd3786\"],[0.5555555555555556,\"#d8576b\"],[0.6666666666666666,\"#ed7953\"],[0.7777777777777778,\"#fb9f3a\"],[0.8888888888888888,\"#fdca26\"],[1.0,\"#f0f921\"]],\"type\":\"histogram2dcontour\"}],\"mesh3d\":[{\"colorbar\":{\"outlinewidth\":0,\"ticks\":\"\"},\"type\":\"mesh3d\"}],\"parcoords\":[{\"line\":{\"colorbar\":{\"outlinewidth\":0,\"ticks\":\"\"}},\"type\":\"parcoords\"}],\"pie\":[{\"automargin\":true,\"type\":\"pie\"}],\"scatter\":[{\"marker\":{\"colorbar\":{\"outlinewidth\":0,\"ticks\":\"\"}},\"type\":\"scatter\"}],\"scatter3d\":[{\"line\":{\"colorbar\":{\"outlinewidth\":0,\"ticks\":\"\"}},\"marker\":{\"colorbar\":{\"outlinewidth\":0,\"ticks\":\"\"}},\"type\":\"scatter3d\"}],\"scattercarpet\":[{\"marker\":{\"colorbar\":{\"outlinewidth\":0,\"ticks\":\"\"}},\"type\":\"scattercarpet\"}],\"scattergeo\":[{\"marker\":{\"colorbar\":{\"outlinewidth\":0,\"ticks\":\"\"}},\"type\":\"scattergeo\"}],\"scattergl\":[{\"marker\":{\"colorbar\":{\"outlinewidth\":0,\"ticks\":\"\"}},\"type\":\"scattergl\"}],\"scattermapbox\":[{\"marker\":{\"colorbar\":{\"outlinewidth\":0,\"ticks\":\"\"}},\"type\":\"scattermapbox\"}],\"scatterpolar\":[{\"marker\":{\"colorbar\":{\"outlinewidth\":0,\"ticks\":\"\"}},\"type\":\"scatterpolar\"}],\"scatterpolargl\":[{\"marker\":{\"colorbar\":{\"outlinewidth\":0,\"ticks\":\"\"}},\"type\":\"scatterpolargl\"}],\"scatterternary\":[{\"marker\":{\"colorbar\":{\"outlinewidth\":0,\"ticks\":\"\"}},\"type\":\"scatterternary\"}],\"surface\":[{\"colorbar\":{\"outlinewidth\":0,\"ticks\":\"\"},\"colorscale\":[[0.0,\"#0d0887\"],[0.1111111111111111,\"#46039f\"],[0.2222222222222222,\"#7201a8\"],[0.3333333333333333,\"#9c179e\"],[0.4444444444444444,\"#bd3786\"],[0.5555555555555556,\"#d8576b\"],[0.6666666666666666,\"#ed7953\"],[0.7777777777777778,\"#fb9f3a\"],[0.8888888888888888,\"#fdca26\"],[1.0,\"#f0f921\"]],\"type\":\"surface\"}],\"table\":[{\"cells\":{\"fill\":{\"color\":\"#EBF0F8\"},\"line\":{\"color\":\"white\"}},\"header\":{\"fill\":{\"color\":\"#C8D4E3\"},\"line\":{\"color\":\"white\"}},\"type\":\"table\"}]},\"layout\":{\"annotationdefaults\":{\"arrowcolor\":\"#2a3f5f\",\"arrowhead\":0,\"arrowwidth\":1},\"autotypenumbers\":\"strict\",\"coloraxis\":{\"colorbar\":{\"outlinewidth\":0,\"ticks\":\"\"}},\"colorscale\":{\"diverging\":[[0,\"#8e0152\"],[0.1,\"#c51b7d\"],[0.2,\"#de77ae\"],[0.3,\"#f1b6da\"],[0.4,\"#fde0ef\"],[0.5,\"#f7f7f7\"],[0.6,\"#e6f5d0\"],[0.7,\"#b8e186\"],[0.8,\"#7fbc41\"],[0.9,\"#4d9221\"],[1,\"#276419\"]],\"sequential\":[[0.0,\"#0d0887\"],[0.1111111111111111,\"#46039f\"],[0.2222222222222222,\"#7201a8\"],[0.3333333333333333,\"#9c179e\"],[0.4444444444444444,\"#bd3786\"],[0.5555555555555556,\"#d8576b\"],[0.6666666666666666,\"#ed7953\"],[0.7777777777777778,\"#fb9f3a\"],[0.8888888888888888,\"#fdca26\"],[1.0,\"#f0f921\"]],\"sequentialminus\":[[0.0,\"#0d0887\"],[0.1111111111111111,\"#46039f\"],[0.2222222222222222,\"#7201a8\"],[0.3333333333333333,\"#9c179e\"],[0.4444444444444444,\"#bd3786\"],[0.5555555555555556,\"#d8576b\"],[0.6666666666666666,\"#ed7953\"],[0.7777777777777778,\"#fb9f3a\"],[0.8888888888888888,\"#fdca26\"],[1.0,\"#f0f921\"]]},\"colorway\":[\"#636efa\",\"#EF553B\",\"#00cc96\",\"#ab63fa\",\"#FFA15A\",\"#19d3f3\",\"#FF6692\",\"#B6E880\",\"#FF97FF\",\"#FECB52\"],\"font\":{\"color\":\"#2a3f5f\"},\"geo\":{\"bgcolor\":\"white\",\"lakecolor\":\"white\",\"landcolor\":\"#E5ECF6\",\"showlakes\":true,\"showland\":true,\"subunitcolor\":\"white\"},\"hoverlabel\":{\"align\":\"left\"},\"hovermode\":\"closest\",\"mapbox\":{\"style\":\"light\"},\"paper_bgcolor\":\"white\",\"plot_bgcolor\":\"#E5ECF6\",\"polar\":{\"angularaxis\":{\"gridcolor\":\"white\",\"linecolor\":\"white\",\"ticks\":\"\"},\"bgcolor\":\"#E5ECF6\",\"radialaxis\":{\"gridcolor\":\"white\",\"linecolor\":\"white\",\"ticks\":\"\"}},\"scene\":{\"xaxis\":{\"backgroundcolor\":\"#E5ECF6\",\"gridcolor\":\"white\",\"gridwidth\":2,\"linecolor\":\"white\",\"showbackground\":true,\"ticks\":\"\",\"zerolinecolor\":\"white\"},\"yaxis\":{\"backgroundcolor\":\"#E5ECF6\",\"gridcolor\":\"white\",\"gridwidth\":2,\"linecolor\":\"white\",\"showbackground\":true,\"ticks\":\"\",\"zerolinecolor\":\"white\"},\"zaxis\":{\"backgroundcolor\":\"#E5ECF6\",\"gridcolor\":\"white\",\"gridwidth\":2,\"linecolor\":\"white\",\"showbackground\":true,\"ticks\":\"\",\"zerolinecolor\":\"white\"}},\"shapedefaults\":{\"line\":{\"color\":\"#2a3f5f\"}},\"ternary\":{\"aaxis\":{\"gridcolor\":\"white\",\"linecolor\":\"white\",\"ticks\":\"\"},\"baxis\":{\"gridcolor\":\"white\",\"linecolor\":\"white\",\"ticks\":\"\"},\"bgcolor\":\"#E5ECF6\",\"caxis\":{\"gridcolor\":\"white\",\"linecolor\":\"white\",\"ticks\":\"\"}},\"title\":{\"x\":0.05},\"xaxis\":{\"automargin\":true,\"gridcolor\":\"white\",\"linecolor\":\"white\",\"ticks\":\"\",\"title\":{\"standoff\":15},\"zerolinecolor\":\"white\",\"zerolinewidth\":2},\"yaxis\":{\"automargin\":true,\"gridcolor\":\"white\",\"linecolor\":\"white\",\"ticks\":\"\",\"title\":{\"standoff\":15},\"zerolinecolor\":\"white\",\"zerolinewidth\":2}}},\"title\":{\"text\":\"\\u0412\\u043e\\u0440\\u043e\\u043d\\u043a\\u0430 \\u0441\\u043e\\u0431\\u044b\\u0442\\u0438\\u0439 \\u0432 \\u0440\\u0430\\u0437\\u0440\\u0435\\u0437\\u0435 \\u0442\\u0435\\u0441\\u0442\\u043e\\u0432\\u044b\\u0445 \\u0433\\u0440\\u0443\\u043f\\u043f\"}},                        {\"responsive\": true}                    ).then(function(){\n",
       "                            \n",
       "var gd = document.getElementById('dfd3a81b-37b1-4950-a548-10ca753ff049');\n",
       "var x = new MutationObserver(function (mutations, observer) {{\n",
       "        var display = window.getComputedStyle(gd).display;\n",
       "        if (!display || display === 'none') {{\n",
       "            console.log([gd, 'removed!']);\n",
       "            Plotly.purge(gd);\n",
       "            observer.disconnect();\n",
       "        }}\n",
       "}});\n",
       "\n",
       "// Listen for the removal of the full notebook cells\n",
       "var notebookContainer = gd.closest('#notebook-container');\n",
       "if (notebookContainer) {{\n",
       "    x.observe(notebookContainer, {childList: true});\n",
       "}}\n",
       "\n",
       "// Listen for the clearing of the current output cell\n",
       "var outputEl = gd.closest('.output');\n",
       "if (outputEl) {{\n",
       "    x.observe(outputEl, {childList: true});\n",
       "}}\n",
       "\n",
       "                        })                };                });            </script>        </div>"
      ]
     },
     "metadata": {},
     "output_type": "display_data"
    }
   ],
   "source": [
    "# Строим воронку событий по тестируемым группам\n",
    "fig = go.Figure()\n",
    "\n",
    "#оформляем блоки по группе A\n",
    "fig.add_trace(go.Funnel(\n",
    "    name = 'А',\n",
    "    y = data['event_name'],\n",
    "    x = data['A'],\n",
    "    opacity = 0.65, marker = {\"color\": [\"deepskyblue\", \"deepskyblue\", \"deepskyblue\", \"deepskyblue\", \"silver\"]},\n",
    "    textinfo = \"value+percent previous\"))\n",
    "\n",
    "#оформляем блоки по группе B\n",
    "fig.add_trace(go.Funnel(\n",
    "    name = 'B',\n",
    "    orientation = \"h\",\n",
    "    y = data['event_name'],\n",
    "    x = data['B'],\n",
    "    textposition = \"inside\",\n",
    "    opacity = 0.65, marker = {\"color\": [\"lightsalmon\", \"lightsalmon\", \"lightsalmon\", \"lightsalmon\", \"silver\"]},\n",
    "    textinfo = \"value+percent previous\"))\n",
    "fig.update_layout(\n",
    "    title_text='Воронка событий в разрезе тестовых групп')\n",
    "fig.show()"
   ]
  },
  {
   "cell_type": "markdown",
   "metadata": {},
   "source": [
    "Тестовая группа В менее активна в числе событий, чем контрольная группа А на каждом шаге воронки.   \n",
    "По воронке можем заметить, что, в целом, группа А конвертируется от шага к шагу лучше, чем группа В, только на этапе перехода от просмотра товара к корзине у группы В конверсия выше.   \n",
    "\n",
    "В группе А показатели перехода к просмотру карточки товаров лучше, чем в группе В. На страницу товара заходят 65% авторизовавшихся пользователей группы А (теряется - 35%), в группе В на страницу товара заходят 56% (44% уходят с сайта). Возможно, обновленная рекомендательная система не справляется с запросами пользователя и не заинтересовавшись предложениями пользователь выходит.    \n",
    "\n",
    "Также наблюдается \"нарушение\" последовательности действий: в обоих группах число совершенных покупок выше, чем число просмотров корзины. Таким образом, последовательность событий, которую мы ожидали увидеть - не прослеживается ни в одной из групп.   \n",
    "\n",
    "**Конверсия в покупку также выше в группе А: 32,2% пользователей от числа авторизованных совершают покупку, в то время как для группы В этот показатель составляет 28,4%.**    \n",
    "\n",
    "Кроме того, стоит отметить, что не на одном этапе воронки не достигнут ожидаемый эффект: прироста 10% по ключевым метрикам на разных этапах воронки в группе В по сравнению с группой А не наблюдается.\n",
    "\n"
   ]
  },
  {
   "cell_type": "markdown",
   "metadata": {},
   "source": [
    "#### Особенности данных"
   ]
  },
  {
   "cell_type": "markdown",
   "metadata": {},
   "source": [
    "Прежде, чем приступать к А/В-тестированию стоит учитывать, что тест во многом, был проведен не корректно и полученные результаты лучше перепроверять.        \n",
    "* Важной и одной из главных особенностей данных и грубым нарушением является некорректное деление трафика теста: для достижения наилучшего результата стоит делить пользователей на равные группы 50 на 50, в нашем случае - деление 57% на 43%.\n",
    "* Тест не проведен полностью, в целом фактически располагаем данными по 29.12.2020, данные за 30 декабря есть только по группе В, и их совсем мало.\n",
    "* Количество участников меньше нужных 6000.  \n",
    "* В процессе исследования обнаружен всплеск активности контрольной группы А в период с 14 декабря 2020 с пиковыми значениями 21 декабря, что может свидетельствовать о влиянии сезонного фактора на данные. Тестовая группа В идентичной тенденции не показала, не смотря на пик значений тоже 21 декабря.   \n",
    "* Воронка событий не соответствует ожидаемой."
   ]
  },
  {
   "cell_type": "markdown",
   "metadata": {},
   "source": [
    "**Вывод**     \n",
    "\n",
    "Из 5568 участников теста после регистрации события совершали лишь 3050 пользователей: 2279 - из группы А, 771 - из группы В.   \n",
    "\n",
    "Проанализировав число совершенных событий каждым пользователем, приходим к выводу, что пользователи в группе А примерно в 3 раза активнее, чем в группе В.    \n",
    "    Пользователи в целом совершают от 1 до 28 событий, у половины пользователей группы В число событий не превышает 5, а в группе А - 6 штук. В среднем, число событий на пользователя в группе А выше, чем в группе В (7,1 против 5,7).   \n",
    "    \n",
    "При рассмотрении числа событий по дням в группе А замечен резкий скачок числа событий после 13 декабря 2020 с пиком 21 декабря, что может говорить о риске влияния сезонности на данные. Максимальное число событий за день в группе А - 1678 штук. Явной аналогичной тенденции в распределении числа событий группы В не отмечается, однако, пик событий приходится также на 21 декабря. Максимальное число событий группы В - 336 штук.   \n",
    "\n",
    "При построении воронки событий выяснено, что ожидаемая последовательность: \"авторизация - просмотр карточки товаров - просмотр корзины - покупка\" может быть нарушена. Зафиксировано, что число покупок больше числа просмотров корзины в каждой из групп, что может, говорить, например, о наличии покупок \"в один клик\".   \n",
    "Поэтапная конверсия группы А, в целом, лучше конверсии группы В. От числа авторизовавшихся пользователей покупателями становятся 32,2% пользователей, а в группе В - 28,4%.\n"
   ]
  },
  {
   "cell_type": "markdown",
   "metadata": {},
   "source": [
    "### Оценка результатов A/B-тестирования"
   ]
  },
  {
   "cell_type": "markdown",
   "metadata": {},
   "source": [
    "Считаем, что данное тестирование нельзя считать полезным, а его результаты корректными.  \n",
    "Во-первых, данные собраны не корректно - не за весь период.   \n",
    "Во-вторых, пользователи некорректно разделены на группы.   \n",
    "В-третьих, многие пункты ТЗ скорректированы.   \n",
    "В-четвертых, ожидаемого прироста в 10% ключевых метрик не достигнуто. \n",
    "\n",
    "В связи с чем было бы полезным скорректировать механизмы проведения теста и повторить его с учетом расписания маркетинговых кампаний."
   ]
  },
  {
   "cell_type": "markdown",
   "metadata": {},
   "source": [
    "**Проверка гипотез**"
   ]
  },
  {
   "cell_type": "markdown",
   "metadata": {},
   "source": [
    "Оценим есть ли статистически значимая разница между долями пользователей, прошедших по воронке, в группах А и В."
   ]
  },
  {
   "cell_type": "markdown",
   "metadata": {},
   "source": [
    "\n",
    "Сформулируем гипотезы:    \n",
    "\n",
    "${H_0}$: *Доли уникальных пользователей, совершивших определенное событие, контрольной группы А и экспериментальной группы В равны.*\n",
    "\n",
    "${H_1}$: *Доли уникальных пользователей, совершивших определенное событие, контрольной группы А и экспериментальной группы В не равны.*\n"
   ]
  },
  {
   "cell_type": "markdown",
   "metadata": {},
   "source": [
    "Для оценки будем использовать созданную ранее функцию `z-test`. Для создания массива данных создадим дополнительную функцию `z_event_array`"
   ]
  },
  {
   "cell_type": "code",
   "execution_count": 60,
   "metadata": {},
   "outputs": [],
   "source": [
    "# функция для создания массива с числом успехов и с общим числом пользователей для сравниваемых групп по виду события\n",
    "def z_event_array(event):\n",
    "    '''    \n",
    "Функция предназначена для создания массива данных для z-тестирования, принимает аргументы:    \n",
    "**event** - наименование события    \n",
    "    '''       \n",
    "     # число уникальных пользователей, совершивших событие в сравниваемых группах\n",
    "    successes = np.array([\n",
    "        data[data['event_name'] == event]['A'],\n",
    "        data[data['event_name'] == event]['B']\n",
    "    ])    \n",
    " \n",
    "    # число уникальных пользователей в сравниваемых группах\n",
    "    trials = np.array([\n",
    "        groups_users[groups_users['group'] == 'A']['users'], \n",
    "        groups_users[groups_users['group'] == 'B']['users']\n",
    "    ])\n",
    "    return successes, trials"
   ]
  },
  {
   "cell_type": "markdown",
   "metadata": {},
   "source": [
    "Применим к каждому виду событий комбинацию из двух функций.    \n",
    "Но стоит отметить, что по мере увеличения количества статистических тестов вероятность совершения ошибки первого рода быстро возрастает (то есть растет вероятность не верно отвергнуть ${H_0}$), чтобы контролировать вероятность совершения ошибки и увеличить точность теста скорректируем уровень статистической значимости через поправку Бонферрони:"
   ]
  },
  {
   "cell_type": "code",
   "execution_count": 61,
   "metadata": {},
   "outputs": [
    {
     "name": "stdout",
     "output_type": "stream",
     "text": [
      "product_page\n",
      "Конверсия группы А: [64.76524792]\n",
      "Конверсия группы B: [55.64202335]\n",
      "[1476] [429] [2279] [771]\n",
      "p-value:  [6.12073063e-06]\n",
      "Отвергаем нулевую гипотезу: между долями есть значимая разница\n",
      "\n",
      "\n",
      "product_cart\n",
      "Конверсия группы А: [30.10092146]\n",
      "Конверсия группы B: [27.75616083]\n",
      "[686] [214] [2279] [771]\n",
      "p-value:  [0.21721123]\n",
      "Не получилось отвергнуть нулевую гипотезу, нет оснований считать доли разными\n",
      "\n",
      "\n",
      "purchase\n",
      "Конверсия группы А: [32.20710838]\n",
      "Конверсия группы B: [28.40466926]\n",
      "[734] [219] [2279] [771]\n",
      "p-value:  [0.0489426]\n",
      "Не получилось отвергнуть нулевую гипотезу, нет оснований считать доли разными\n",
      "\n",
      "\n"
     ]
    }
   ],
   "source": [
    "# вводим поправку Бонферрони\n",
    "alpha = .05/3\n",
    "\n",
    "# переберем циклом каждое событие за исключением и применим к ним функцию z_test\n",
    "for event in ['product_page', 'product_cart', 'purchase']:\n",
    "    print(event)\n",
    "    successes, trials = z_event_array(event)\n",
    "    print('Конверсия группы А:', successes[0]/trials[0]*100)\n",
    "    print('Конверсия группы B:', successes[1]/trials[1]*100)\n",
    "    print(successes[0], successes[1],trials[0] , trials[1])\n",
    "    z_test(successes, trials, alpha)\n",
    "    print('')\n",
    "    print('')"
   ]
  },
  {
   "cell_type": "markdown",
   "metadata": {},
   "source": [
    "Таким образом, статистически значимые различия выявлены только для конверсий в просмотр карточки товара между группами А и В. По остальным событиям не получилось отвергнуть нулевую гипотезу - статистически значимого различия в долях между группами нет. Но стоит отметить, что в силу нарушений проводимого теста, результат может быть искажен."
   ]
  },
  {
   "cell_type": "markdown",
   "metadata": {},
   "source": [
    "### Общие выводы по исследованию"
   ]
  },
  {
   "cell_type": "markdown",
   "metadata": {},
   "source": [
    "В процессе исследования были выявлены **критические нарушения в проведении теста:**     \n",
    "* Данные были собраны не за полный период, получается тест был остановлен за 5 дней до предполагаемого окончания;   \n",
    "* Вместе с нашим проводился еще один тест в связи с чем произошло пересечение участников двух тестов;    \n",
    "* Распределение трафика на группы внутри теста происходит не корректно (в нашем случае трафик разделился 57% на 43%, относительное различие количества пользователей - 25%) при необходимом уровне в 1%;    \n",
    "* Во время проведения теста была запущена маркетинговая кампания (в нашем случае сильного влияния она не оказала).    \n",
    "\n",
    "**Исследовательский анализ данных показал**:\n",
    "\n",
    "* Из 5568 участников теста после регистрации события совершали лишь 3050 пользователей: в группе А авторизовались 71% зарегистрированных участников теста (2279 чел.), в группе В - лишь 32% (771 чел).    \n",
    "* Пользователи в группе А примерно в 3 раза активнее, чем в группе В.   \n",
    "* В среднем, число событий на пользователя в группе А выше, чем в группе В (7,1 против 5,7).\n",
    "* На результаты исследования могут оказывать влияние сезонные всплески активности пользователей, выявленные в районе 21 декабря.    \n",
    "* При построении воронки событий выяснено, что ожидаемая последовательность: \"авторизация - просмотр карточки товаров - просмотр корзины - покупка\" может быть нарушена.    \n",
    "* Поэтапная конверсия группы А, в целом, лучше конверсии группы В. От числа авторизовавшихся пользователей покупателями становятся 32,2% пользователей, а в группе В - 28,4%.     \n",
    "* Не на одном этапе воронки не достигнут ожидаемый эффект тестирования: прироста 10% по ключевым метрикам на разных этапах воронки в группе В по сравнению с группой А не наблюдается.   \n",
    "\n",
    "**Оценка результатов A/B-тестирования выявила:**      \n",
    "Статистически значимые различия только для конверсий в просмотр карточки товара между группами А и В. По остальным событиям статистически значимого различия в долях между группами не было выявлено. Но в силу нарушений проводимого теста, результат может быть искажен. \n",
    "\n",
    "**Заключение:**  \n",
    "Тестирование нельзя считать полезным, а его результаты корректными.   \n",
    "По имеющимся для анализа данным, которые изначально являются сомнительными - внедрение новой рекомендательной системы не повлекло за собой повышения целевых показателей.   \n",
    "\n",
    "**Рекомендации:**    \n",
    "Для более достоверной оценки улучшения целевых показателей рекомендуем:   \n",
    "* отрегулировать механизмы деления трафика,    \n",
    "* проанализировать причины неполного сбора данных и устранить их,  \n",
    "* не проводить несколько тестирований одновременно, либо более тщательно подходить к механизму отбора пользователей в разные тесты,\n",
    "* постараться выбирать даты тестирования таким образом, чтобы исключить влияние сезонных событий;     \n",
    "* повторить тестирование, убедившись в отстутствии маркетинговых кампаний.\n"
   ]
  }
 ],
 "metadata": {
  "ExecuteTimeLog": [
   {
    "duration": 1172,
    "start_time": "2023-04-13T05:39:39.752Z"
   },
   {
    "duration": 4,
    "start_time": "2023-04-13T05:39:54.656Z"
   },
   {
    "duration": 1188,
    "start_time": "2023-04-13T05:42:11.550Z"
   },
   {
    "duration": 3,
    "start_time": "2023-04-13T05:57:55.117Z"
   },
   {
    "duration": 313,
    "start_time": "2023-04-13T05:59:03.261Z"
   },
   {
    "duration": 6,
    "start_time": "2023-04-13T06:18:20.797Z"
   },
   {
    "duration": 33,
    "start_time": "2023-04-13T06:19:35.707Z"
   },
   {
    "duration": 45,
    "start_time": "2023-04-13T08:54:58.727Z"
   },
   {
    "duration": 13,
    "start_time": "2023-04-13T09:10:27.834Z"
   },
   {
    "duration": 11,
    "start_time": "2023-04-13T09:10:46.107Z"
   },
   {
    "duration": 23,
    "start_time": "2023-04-13T09:12:58.428Z"
   },
   {
    "duration": 245,
    "start_time": "2023-04-13T09:15:15.245Z"
   },
   {
    "duration": 29,
    "start_time": "2023-04-13T09:51:01.031Z"
   },
   {
    "duration": 10,
    "start_time": "2023-04-13T09:56:28.942Z"
   },
   {
    "duration": 13,
    "start_time": "2023-04-13T10:34:28.847Z"
   },
   {
    "duration": 13,
    "start_time": "2023-04-13T11:01:31.607Z"
   },
   {
    "duration": 12,
    "start_time": "2023-04-13T11:02:18.637Z"
   },
   {
    "duration": 11,
    "start_time": "2023-04-13T11:06:29.216Z"
   },
   {
    "duration": 194,
    "start_time": "2023-04-13T11:19:58.592Z"
   },
   {
    "duration": 15,
    "start_time": "2023-04-13T11:20:02.736Z"
   },
   {
    "duration": 252,
    "start_time": "2023-04-13T11:21:55.421Z"
   },
   {
    "duration": 55,
    "start_time": "2023-04-13T11:22:12.119Z"
   },
   {
    "duration": 10,
    "start_time": "2023-04-13T13:03:19.938Z"
   },
   {
    "duration": 13,
    "start_time": "2023-04-13T13:12:53.959Z"
   },
   {
    "duration": 21,
    "start_time": "2023-04-13T13:13:00.295Z"
   },
   {
    "duration": 26,
    "start_time": "2023-04-13T13:13:20.875Z"
   },
   {
    "duration": 12,
    "start_time": "2023-04-13T13:13:23.666Z"
   },
   {
    "duration": 15,
    "start_time": "2023-04-13T13:13:31.826Z"
   },
   {
    "duration": 16,
    "start_time": "2023-04-13T13:13:35.076Z"
   },
   {
    "duration": 16,
    "start_time": "2023-04-13T13:13:41.127Z"
   },
   {
    "duration": 24,
    "start_time": "2023-04-13T13:37:24.822Z"
   },
   {
    "duration": 5,
    "start_time": "2023-04-13T13:48:33.334Z"
   },
   {
    "duration": 7,
    "start_time": "2023-04-13T15:20:34.212Z"
   },
   {
    "duration": 5,
    "start_time": "2023-04-13T15:20:43.820Z"
   },
   {
    "duration": 16,
    "start_time": "2023-04-13T15:30:54.305Z"
   },
   {
    "duration": 6,
    "start_time": "2023-04-13T16:09:08.679Z"
   },
   {
    "duration": 1433,
    "start_time": "2023-04-14T03:03:53.252Z"
   },
   {
    "duration": 5,
    "start_time": "2023-04-14T03:03:54.688Z"
   },
   {
    "duration": 1232,
    "start_time": "2023-04-14T03:03:54.695Z"
   },
   {
    "duration": 3,
    "start_time": "2023-04-14T03:03:55.929Z"
   },
   {
    "duration": 419,
    "start_time": "2023-04-14T03:03:55.935Z"
   },
   {
    "duration": 301,
    "start_time": "2023-04-14T03:03:56.356Z"
   },
   {
    "duration": 14,
    "start_time": "2023-04-14T03:03:56.659Z"
   },
   {
    "duration": 48,
    "start_time": "2023-04-14T03:03:56.674Z"
   },
   {
    "duration": 10,
    "start_time": "2023-04-14T03:03:56.724Z"
   },
   {
    "duration": 132,
    "start_time": "2023-04-14T03:03:56.737Z"
   },
   {
    "duration": 73,
    "start_time": "2023-04-14T03:03:56.871Z"
   },
   {
    "duration": 10,
    "start_time": "2023-04-14T03:03:56.945Z"
   },
   {
    "duration": 49,
    "start_time": "2023-04-14T03:03:56.957Z"
   },
   {
    "duration": 26,
    "start_time": "2023-04-14T03:03:57.008Z"
   },
   {
    "duration": 5,
    "start_time": "2023-04-14T03:03:57.036Z"
   },
   {
    "duration": 48,
    "start_time": "2023-04-14T03:03:57.043Z"
   },
   {
    "duration": 12,
    "start_time": "2023-04-14T03:03:57.093Z"
   },
   {
    "duration": 115,
    "start_time": "2023-04-14T07:37:22.315Z"
   },
   {
    "duration": 15,
    "start_time": "2023-04-14T07:37:31.112Z"
   },
   {
    "duration": 28,
    "start_time": "2023-04-14T07:39:01.709Z"
   },
   {
    "duration": 9,
    "start_time": "2023-04-14T07:41:41.791Z"
   },
   {
    "duration": 4,
    "start_time": "2023-04-14T08:07:39.801Z"
   },
   {
    "duration": 68,
    "start_time": "2023-04-14T08:08:12.284Z"
   },
   {
    "duration": 7,
    "start_time": "2023-04-14T08:10:55.629Z"
   },
   {
    "duration": 6,
    "start_time": "2023-04-14T08:11:22.714Z"
   },
   {
    "duration": 43,
    "start_time": "2023-04-14T08:12:51.419Z"
   },
   {
    "duration": 52,
    "start_time": "2023-04-14T08:13:10.402Z"
   },
   {
    "duration": 12,
    "start_time": "2023-04-14T09:49:25.426Z"
   },
   {
    "duration": 5,
    "start_time": "2023-04-14T09:50:08.307Z"
   },
   {
    "duration": 8,
    "start_time": "2023-04-14T10:21:56.750Z"
   },
   {
    "duration": 1593,
    "start_time": "2023-04-14T12:59:04.914Z"
   },
   {
    "duration": 4,
    "start_time": "2023-04-14T12:59:06.512Z"
   },
   {
    "duration": 4207,
    "start_time": "2023-04-14T12:59:06.517Z"
   },
   {
    "duration": 4,
    "start_time": "2023-04-14T12:59:10.730Z"
   },
   {
    "duration": 564,
    "start_time": "2023-04-14T12:59:10.736Z"
   },
   {
    "duration": 343,
    "start_time": "2023-04-14T12:59:11.304Z"
   },
   {
    "duration": 14,
    "start_time": "2023-04-14T12:59:11.649Z"
   },
   {
    "duration": 64,
    "start_time": "2023-04-14T12:59:11.665Z"
   },
   {
    "duration": 13,
    "start_time": "2023-04-14T12:59:11.731Z"
   },
   {
    "duration": 148,
    "start_time": "2023-04-14T12:59:11.747Z"
   },
   {
    "duration": 99,
    "start_time": "2023-04-14T12:59:11.896Z"
   },
   {
    "duration": 19,
    "start_time": "2023-04-14T12:59:11.998Z"
   },
   {
    "duration": 18,
    "start_time": "2023-04-14T12:59:12.020Z"
   },
   {
    "duration": 46,
    "start_time": "2023-04-14T12:59:12.040Z"
   },
   {
    "duration": 9,
    "start_time": "2023-04-14T12:59:12.088Z"
   },
   {
    "duration": 31,
    "start_time": "2023-04-14T12:59:12.103Z"
   },
   {
    "duration": 10,
    "start_time": "2023-04-14T12:59:12.136Z"
   },
   {
    "duration": 18,
    "start_time": "2023-04-14T12:59:12.148Z"
   },
   {
    "duration": 55,
    "start_time": "2023-04-14T12:59:12.185Z"
   },
   {
    "duration": 10,
    "start_time": "2023-04-14T12:59:12.243Z"
   },
   {
    "duration": 22,
    "start_time": "2023-04-14T12:59:12.255Z"
   },
   {
    "duration": 117,
    "start_time": "2023-04-14T13:40:24.833Z"
   },
   {
    "duration": 5,
    "start_time": "2023-04-14T13:40:34.953Z"
   },
   {
    "duration": 24,
    "start_time": "2023-04-14T13:41:17.905Z"
   },
   {
    "duration": 82,
    "start_time": "2023-04-14T13:44:06.574Z"
   },
   {
    "duration": 173,
    "start_time": "2023-04-14T13:45:07.613Z"
   },
   {
    "duration": 46,
    "start_time": "2023-04-14T13:45:29.424Z"
   },
   {
    "duration": 8,
    "start_time": "2023-04-14T13:45:46.623Z"
   },
   {
    "duration": 5,
    "start_time": "2023-04-14T14:01:59.382Z"
   },
   {
    "duration": 9,
    "start_time": "2023-04-14T14:03:58.571Z"
   },
   {
    "duration": 9,
    "start_time": "2023-04-14T14:04:12.352Z"
   },
   {
    "duration": 13,
    "start_time": "2023-04-14T14:18:25.272Z"
   },
   {
    "duration": 33,
    "start_time": "2023-04-14T14:27:09.679Z"
   },
   {
    "duration": 19,
    "start_time": "2023-04-14T14:27:35.847Z"
   },
   {
    "duration": 18,
    "start_time": "2023-04-14T14:27:41.559Z"
   },
   {
    "duration": 22,
    "start_time": "2023-04-14T14:27:44.739Z"
   },
   {
    "duration": 42,
    "start_time": "2023-04-14T14:33:55.426Z"
   },
   {
    "duration": 18,
    "start_time": "2023-04-14T14:33:59.198Z"
   },
   {
    "duration": 50,
    "start_time": "2023-04-14T14:35:36.346Z"
   },
   {
    "duration": 3,
    "start_time": "2023-04-14T14:35:41.427Z"
   },
   {
    "duration": 43,
    "start_time": "2023-04-14T14:39:42.820Z"
   },
   {
    "duration": 52,
    "start_time": "2023-04-14T14:39:48.710Z"
   },
   {
    "duration": 45,
    "start_time": "2023-04-14T14:39:53.609Z"
   },
   {
    "duration": 43,
    "start_time": "2023-04-14T14:40:01.812Z"
   },
   {
    "duration": 10,
    "start_time": "2023-04-14T15:31:40.905Z"
   },
   {
    "duration": 8,
    "start_time": "2023-04-14T15:33:18.210Z"
   },
   {
    "duration": 12,
    "start_time": "2023-04-14T15:33:24.114Z"
   },
   {
    "duration": 12,
    "start_time": "2023-04-14T15:38:47.664Z"
   },
   {
    "duration": 4,
    "start_time": "2023-04-14T15:42:22.812Z"
   },
   {
    "duration": 15,
    "start_time": "2023-04-14T16:01:59.783Z"
   },
   {
    "duration": 8,
    "start_time": "2023-04-14T16:02:22.217Z"
   },
   {
    "duration": 13,
    "start_time": "2023-04-14T16:02:40.777Z"
   },
   {
    "duration": 9,
    "start_time": "2023-04-14T16:06:27.965Z"
   },
   {
    "duration": 8,
    "start_time": "2023-04-14T16:06:35.318Z"
   },
   {
    "duration": 10,
    "start_time": "2023-04-14T16:07:33.717Z"
   },
   {
    "duration": 9,
    "start_time": "2023-04-14T16:08:29.662Z"
   },
   {
    "duration": 11,
    "start_time": "2023-04-14T16:08:49.382Z"
   },
   {
    "duration": 52,
    "start_time": "2023-04-14T16:09:27.254Z"
   },
   {
    "duration": 9,
    "start_time": "2023-04-14T16:09:38.642Z"
   },
   {
    "duration": 11,
    "start_time": "2023-04-14T16:11:01.664Z"
   },
   {
    "duration": 11,
    "start_time": "2023-04-14T16:12:26.548Z"
   },
   {
    "duration": 11,
    "start_time": "2023-04-14T16:12:36.623Z"
   },
   {
    "duration": 12,
    "start_time": "2023-04-14T16:39:56.668Z"
   },
   {
    "duration": 9,
    "start_time": "2023-04-14T16:40:07.197Z"
   },
   {
    "duration": 1286,
    "start_time": "2023-04-15T00:09:53.356Z"
   },
   {
    "duration": 3,
    "start_time": "2023-04-15T00:09:54.645Z"
   },
   {
    "duration": 1667,
    "start_time": "2023-04-15T00:09:54.650Z"
   },
   {
    "duration": 4,
    "start_time": "2023-04-15T00:09:56.318Z"
   },
   {
    "duration": 355,
    "start_time": "2023-04-15T00:09:56.324Z"
   },
   {
    "duration": 237,
    "start_time": "2023-04-15T00:09:56.680Z"
   },
   {
    "duration": 25,
    "start_time": "2023-04-15T00:09:56.918Z"
   },
   {
    "duration": 27,
    "start_time": "2023-04-15T00:09:56.944Z"
   },
   {
    "duration": 9,
    "start_time": "2023-04-15T00:09:56.972Z"
   },
   {
    "duration": 117,
    "start_time": "2023-04-15T00:09:56.983Z"
   },
   {
    "duration": 68,
    "start_time": "2023-04-15T00:09:57.101Z"
   },
   {
    "duration": 9,
    "start_time": "2023-04-15T00:09:57.170Z"
   },
   {
    "duration": 14,
    "start_time": "2023-04-15T00:09:57.180Z"
   },
   {
    "duration": 45,
    "start_time": "2023-04-15T00:09:57.196Z"
   },
   {
    "duration": 6,
    "start_time": "2023-04-15T00:09:57.243Z"
   },
   {
    "duration": 26,
    "start_time": "2023-04-15T00:09:57.251Z"
   },
   {
    "duration": 6,
    "start_time": "2023-04-15T00:09:57.278Z"
   },
   {
    "duration": 7,
    "start_time": "2023-04-15T00:09:57.286Z"
   },
   {
    "duration": 57,
    "start_time": "2023-04-15T00:09:57.294Z"
   },
   {
    "duration": 10,
    "start_time": "2023-04-15T00:09:57.353Z"
   },
   {
    "duration": 17,
    "start_time": "2023-04-15T00:09:57.364Z"
   },
   {
    "duration": 14,
    "start_time": "2023-04-15T00:09:57.383Z"
   },
   {
    "duration": 47,
    "start_time": "2023-04-15T00:09:57.399Z"
   },
   {
    "duration": 3,
    "start_time": "2023-04-15T00:09:57.448Z"
   },
   {
    "duration": 24,
    "start_time": "2023-04-15T00:09:57.453Z"
   },
   {
    "duration": 10,
    "start_time": "2023-04-15T00:09:57.479Z"
   },
   {
    "duration": 37,
    "start_time": "2023-04-15T00:20:26.439Z"
   },
   {
    "duration": 33,
    "start_time": "2023-04-15T00:21:05.124Z"
   },
   {
    "duration": 27,
    "start_time": "2023-04-15T00:21:28.984Z"
   },
   {
    "duration": 25,
    "start_time": "2023-04-15T00:21:45.635Z"
   },
   {
    "duration": 33,
    "start_time": "2023-04-15T00:21:51.264Z"
   },
   {
    "duration": 17,
    "start_time": "2023-04-15T00:23:04.373Z"
   },
   {
    "duration": 14,
    "start_time": "2023-04-15T00:23:27.583Z"
   },
   {
    "duration": 19,
    "start_time": "2023-04-15T00:24:38.483Z"
   },
   {
    "duration": 102,
    "start_time": "2023-04-15T00:28:36.382Z"
   },
   {
    "duration": 14,
    "start_time": "2023-04-15T00:28:43.681Z"
   },
   {
    "duration": 28,
    "start_time": "2023-04-15T00:41:23.249Z"
   },
   {
    "duration": 33,
    "start_time": "2023-04-15T00:46:00.826Z"
   },
   {
    "duration": 4,
    "start_time": "2023-04-15T01:03:31.769Z"
   },
   {
    "duration": 13,
    "start_time": "2023-04-15T01:04:18.277Z"
   },
   {
    "duration": 15,
    "start_time": "2023-04-15T01:06:15.106Z"
   },
   {
    "duration": 15,
    "start_time": "2023-04-15T01:06:19.206Z"
   },
   {
    "duration": 4,
    "start_time": "2023-04-15T01:14:18.441Z"
   },
   {
    "duration": 4,
    "start_time": "2023-04-15T01:16:53.531Z"
   },
   {
    "duration": 9,
    "start_time": "2023-04-15T01:28:28.568Z"
   },
   {
    "duration": 8,
    "start_time": "2023-04-15T01:29:13.050Z"
   },
   {
    "duration": 16,
    "start_time": "2023-04-15T01:29:19.960Z"
   },
   {
    "duration": 13,
    "start_time": "2023-04-15T01:31:02.103Z"
   },
   {
    "duration": 17,
    "start_time": "2023-04-15T01:31:32.723Z"
   },
   {
    "duration": 14,
    "start_time": "2023-04-15T01:31:36.293Z"
   },
   {
    "duration": 1306,
    "start_time": "2023-04-15T05:03:06.563Z"
   },
   {
    "duration": 4,
    "start_time": "2023-04-15T05:03:07.871Z"
   },
   {
    "duration": 1159,
    "start_time": "2023-04-15T05:03:07.876Z"
   },
   {
    "duration": 4,
    "start_time": "2023-04-15T05:03:09.036Z"
   },
   {
    "duration": 294,
    "start_time": "2023-04-15T05:03:09.042Z"
   },
   {
    "duration": 222,
    "start_time": "2023-04-15T05:03:09.337Z"
   },
   {
    "duration": 16,
    "start_time": "2023-04-15T05:03:09.561Z"
   },
   {
    "duration": 25,
    "start_time": "2023-04-15T05:03:09.579Z"
   },
   {
    "duration": 9,
    "start_time": "2023-04-15T05:03:09.606Z"
   },
   {
    "duration": 102,
    "start_time": "2023-04-15T05:03:09.617Z"
   },
   {
    "duration": 63,
    "start_time": "2023-04-15T05:03:09.720Z"
   },
   {
    "duration": 11,
    "start_time": "2023-04-15T05:03:09.785Z"
   },
   {
    "duration": 15,
    "start_time": "2023-04-15T05:03:09.797Z"
   },
   {
    "duration": 23,
    "start_time": "2023-04-15T05:03:09.814Z"
   },
   {
    "duration": 34,
    "start_time": "2023-04-15T05:03:09.838Z"
   },
   {
    "duration": 20,
    "start_time": "2023-04-15T05:03:09.874Z"
   },
   {
    "duration": 6,
    "start_time": "2023-04-15T05:03:09.895Z"
   },
   {
    "duration": 6,
    "start_time": "2023-04-15T05:03:09.903Z"
   },
   {
    "duration": 7,
    "start_time": "2023-04-15T05:04:50.628Z"
   },
   {
    "duration": 5,
    "start_time": "2023-04-15T05:11:31.515Z"
   },
   {
    "duration": 7,
    "start_time": "2023-04-15T05:13:24.816Z"
   },
   {
    "duration": 14,
    "start_time": "2023-04-15T05:16:54.180Z"
   },
   {
    "duration": 37,
    "start_time": "2023-04-15T05:17:16.138Z"
   },
   {
    "duration": 3,
    "start_time": "2023-04-15T05:17:24.446Z"
   },
   {
    "duration": 3,
    "start_time": "2023-04-15T05:18:54.310Z"
   },
   {
    "duration": 22,
    "start_time": "2023-04-15T05:26:48.338Z"
   },
   {
    "duration": 29,
    "start_time": "2023-04-15T05:27:16.710Z"
   },
   {
    "duration": 28,
    "start_time": "2023-04-15T05:28:23.023Z"
   },
   {
    "duration": 26,
    "start_time": "2023-04-15T05:29:12.567Z"
   },
   {
    "duration": 21,
    "start_time": "2023-04-15T05:30:53.768Z"
   },
   {
    "duration": 23,
    "start_time": "2023-04-15T05:31:08.292Z"
   },
   {
    "duration": 25,
    "start_time": "2023-04-15T05:31:55.709Z"
   },
   {
    "duration": 26,
    "start_time": "2023-04-15T05:33:53.777Z"
   },
   {
    "duration": 27,
    "start_time": "2023-04-15T05:38:04.231Z"
   },
   {
    "duration": 25,
    "start_time": "2023-04-15T06:13:28.857Z"
   },
   {
    "duration": 28,
    "start_time": "2023-04-15T06:13:37.584Z"
   },
   {
    "duration": 24,
    "start_time": "2023-04-15T06:14:00.731Z"
   },
   {
    "duration": 7,
    "start_time": "2023-04-15T06:33:42.806Z"
   },
   {
    "duration": 1438,
    "start_time": "2023-04-15T06:37:44.618Z"
   },
   {
    "duration": 26,
    "start_time": "2023-04-15T06:38:16.221Z"
   },
   {
    "duration": 27,
    "start_time": "2023-04-15T06:38:24.433Z"
   },
   {
    "duration": 25,
    "start_time": "2023-04-15T06:38:37.325Z"
   },
   {
    "duration": 12,
    "start_time": "2023-04-15T06:38:44.391Z"
   },
   {
    "duration": 28,
    "start_time": "2023-04-15T06:42:45.623Z"
   },
   {
    "duration": 1110,
    "start_time": "2023-04-15T06:43:32.599Z"
   },
   {
    "duration": 3,
    "start_time": "2023-04-15T06:43:33.710Z"
   },
   {
    "duration": 1184,
    "start_time": "2023-04-15T06:43:33.714Z"
   },
   {
    "duration": 4,
    "start_time": "2023-04-15T06:43:34.901Z"
   },
   {
    "duration": 352,
    "start_time": "2023-04-15T06:43:34.907Z"
   },
   {
    "duration": 243,
    "start_time": "2023-04-15T06:43:35.261Z"
   },
   {
    "duration": 12,
    "start_time": "2023-04-15T06:43:35.506Z"
   },
   {
    "duration": 65,
    "start_time": "2023-04-15T06:43:35.520Z"
   },
   {
    "duration": 17,
    "start_time": "2023-04-15T06:43:35.587Z"
   },
   {
    "duration": 107,
    "start_time": "2023-04-15T06:43:35.606Z"
   },
   {
    "duration": 82,
    "start_time": "2023-04-15T06:43:35.715Z"
   },
   {
    "duration": 11,
    "start_time": "2023-04-15T06:43:35.799Z"
   },
   {
    "duration": 30,
    "start_time": "2023-04-15T06:43:35.812Z"
   },
   {
    "duration": 35,
    "start_time": "2023-04-15T06:43:35.843Z"
   },
   {
    "duration": 6,
    "start_time": "2023-04-15T06:43:35.879Z"
   },
   {
    "duration": 38,
    "start_time": "2023-04-15T06:43:35.886Z"
   },
   {
    "duration": 7,
    "start_time": "2023-04-15T06:43:35.926Z"
   },
   {
    "duration": 24,
    "start_time": "2023-04-15T06:43:35.934Z"
   },
   {
    "duration": 14,
    "start_time": "2023-04-15T06:43:35.960Z"
   },
   {
    "duration": 17,
    "start_time": "2023-04-15T06:43:35.976Z"
   },
   {
    "duration": 32,
    "start_time": "2023-04-15T06:43:35.996Z"
   },
   {
    "duration": 26,
    "start_time": "2023-04-15T06:43:36.030Z"
   },
   {
    "duration": 61,
    "start_time": "2023-04-15T06:43:36.058Z"
   },
   {
    "duration": 5,
    "start_time": "2023-04-15T06:43:36.121Z"
   },
   {
    "duration": 13,
    "start_time": "2023-04-15T06:43:36.127Z"
   },
   {
    "duration": 46,
    "start_time": "2023-04-15T06:43:36.142Z"
   },
   {
    "duration": 154,
    "start_time": "2023-04-15T06:44:16.215Z"
   },
   {
    "duration": 28,
    "start_time": "2023-04-15T06:44:42.883Z"
   },
   {
    "duration": 27,
    "start_time": "2023-04-15T06:45:40.896Z"
   },
   {
    "duration": 9,
    "start_time": "2023-04-15T06:45:49.396Z"
   },
   {
    "duration": 9,
    "start_time": "2023-04-15T06:48:11.579Z"
   },
   {
    "duration": 10,
    "start_time": "2023-04-15T06:49:17.585Z"
   },
   {
    "duration": 11,
    "start_time": "2023-04-15T06:55:20.518Z"
   },
   {
    "duration": 11,
    "start_time": "2023-04-15T06:55:44.550Z"
   },
   {
    "duration": 4,
    "start_time": "2023-04-15T07:09:48.906Z"
   },
   {
    "duration": 10,
    "start_time": "2023-04-15T07:16:11.953Z"
   },
   {
    "duration": 13,
    "start_time": "2023-04-15T07:17:23.831Z"
   },
   {
    "duration": 213,
    "start_time": "2023-04-15T07:24:11.303Z"
   },
   {
    "duration": 129,
    "start_time": "2023-04-15T07:24:21.310Z"
   },
   {
    "duration": 12,
    "start_time": "2023-04-15T07:24:35.362Z"
   },
   {
    "duration": 10,
    "start_time": "2023-04-15T07:26:19.230Z"
   },
   {
    "duration": 9,
    "start_time": "2023-04-15T07:54:39.214Z"
   },
   {
    "duration": 10,
    "start_time": "2023-04-15T07:55:59.941Z"
   },
   {
    "duration": 3,
    "start_time": "2023-04-15T08:00:58.530Z"
   },
   {
    "duration": 9,
    "start_time": "2023-04-15T08:02:37.411Z"
   },
   {
    "duration": 10,
    "start_time": "2023-04-15T08:02:45.601Z"
   },
   {
    "duration": 6,
    "start_time": "2023-04-15T08:04:52.522Z"
   },
   {
    "duration": 14,
    "start_time": "2023-04-15T08:06:09.040Z"
   },
   {
    "duration": 15,
    "start_time": "2023-04-15T08:10:39.726Z"
   },
   {
    "duration": 1398,
    "start_time": "2023-04-15T11:51:55.279Z"
   },
   {
    "duration": 3,
    "start_time": "2023-04-15T11:51:56.680Z"
   },
   {
    "duration": 1129,
    "start_time": "2023-04-15T11:51:56.684Z"
   },
   {
    "duration": 4,
    "start_time": "2023-04-15T11:51:57.815Z"
   },
   {
    "duration": 428,
    "start_time": "2023-04-15T11:51:57.820Z"
   },
   {
    "duration": 267,
    "start_time": "2023-04-15T11:51:58.250Z"
   },
   {
    "duration": 33,
    "start_time": "2023-04-15T11:51:58.519Z"
   },
   {
    "duration": 29,
    "start_time": "2023-04-15T11:51:58.554Z"
   },
   {
    "duration": 14,
    "start_time": "2023-04-15T11:51:58.584Z"
   },
   {
    "duration": 107,
    "start_time": "2023-04-15T11:51:58.601Z"
   },
   {
    "duration": 81,
    "start_time": "2023-04-15T11:51:58.710Z"
   },
   {
    "duration": 9,
    "start_time": "2023-04-15T11:51:58.793Z"
   },
   {
    "duration": 31,
    "start_time": "2023-04-15T11:51:58.803Z"
   },
   {
    "duration": 37,
    "start_time": "2023-04-15T11:51:58.837Z"
   },
   {
    "duration": 5,
    "start_time": "2023-04-15T11:51:58.876Z"
   },
   {
    "duration": 21,
    "start_time": "2023-04-15T11:51:58.883Z"
   },
   {
    "duration": 34,
    "start_time": "2023-04-15T11:51:58.906Z"
   },
   {
    "duration": 16,
    "start_time": "2023-04-15T11:51:58.942Z"
   },
   {
    "duration": 8,
    "start_time": "2023-04-15T11:51:58.960Z"
   },
   {
    "duration": 7,
    "start_time": "2023-04-15T11:52:02.766Z"
   },
   {
    "duration": 8,
    "start_time": "2023-04-15T11:52:49.367Z"
   },
   {
    "duration": 9,
    "start_time": "2023-04-15T11:53:38.097Z"
   },
   {
    "duration": 22,
    "start_time": "2023-04-15T11:54:22.878Z"
   },
   {
    "duration": 16,
    "start_time": "2023-04-15T11:54:28.349Z"
   },
   {
    "duration": 53,
    "start_time": "2023-04-15T11:57:03.700Z"
   },
   {
    "duration": 4,
    "start_time": "2023-04-15T13:08:03.330Z"
   },
   {
    "duration": 40,
    "start_time": "2023-04-15T13:09:05.831Z"
   },
   {
    "duration": 45,
    "start_time": "2023-04-15T13:11:07.391Z"
   },
   {
    "duration": 7,
    "start_time": "2023-04-15T13:16:43.166Z"
   },
   {
    "duration": 16,
    "start_time": "2023-04-15T13:18:05.861Z"
   },
   {
    "duration": 10,
    "start_time": "2023-04-15T13:29:48.772Z"
   },
   {
    "duration": 104,
    "start_time": "2023-04-15T13:30:31.775Z"
   },
   {
    "duration": 11,
    "start_time": "2023-04-15T13:30:45.443Z"
   },
   {
    "duration": 7,
    "start_time": "2023-04-15T13:31:50.086Z"
   },
   {
    "duration": 14,
    "start_time": "2023-04-15T13:32:08.650Z"
   },
   {
    "duration": 11,
    "start_time": "2023-04-15T13:32:33.946Z"
   },
   {
    "duration": 31,
    "start_time": "2023-04-15T13:34:52.113Z"
   },
   {
    "duration": 20,
    "start_time": "2023-04-15T14:28:09.661Z"
   },
   {
    "duration": 228,
    "start_time": "2023-04-15T14:46:45.674Z"
   },
   {
    "duration": 13,
    "start_time": "2023-04-15T14:48:46.577Z"
   },
   {
    "duration": 23,
    "start_time": "2023-04-15T14:48:53.482Z"
   },
   {
    "duration": 230,
    "start_time": "2023-04-15T14:51:24.434Z"
   },
   {
    "duration": 1220,
    "start_time": "2023-04-15T17:18:58.601Z"
   },
   {
    "duration": 2,
    "start_time": "2023-04-15T17:18:59.823Z"
   },
   {
    "duration": 1132,
    "start_time": "2023-04-15T17:18:59.827Z"
   },
   {
    "duration": 5,
    "start_time": "2023-04-15T17:19:00.961Z"
   },
   {
    "duration": 438,
    "start_time": "2023-04-15T17:19:00.968Z"
   },
   {
    "duration": 248,
    "start_time": "2023-04-15T17:19:01.408Z"
   },
   {
    "duration": 15,
    "start_time": "2023-04-15T17:19:01.658Z"
   },
   {
    "duration": 29,
    "start_time": "2023-04-15T17:19:01.675Z"
   },
   {
    "duration": 30,
    "start_time": "2023-04-15T17:19:01.705Z"
   },
   {
    "duration": 99,
    "start_time": "2023-04-15T17:19:01.737Z"
   },
   {
    "duration": 63,
    "start_time": "2023-04-15T17:19:01.838Z"
   },
   {
    "duration": 33,
    "start_time": "2023-04-15T17:19:01.903Z"
   },
   {
    "duration": 22,
    "start_time": "2023-04-15T17:19:01.939Z"
   },
   {
    "duration": 40,
    "start_time": "2023-04-15T17:19:01.963Z"
   },
   {
    "duration": 15,
    "start_time": "2023-04-15T17:19:02.005Z"
   },
   {
    "duration": 43,
    "start_time": "2023-04-15T17:19:02.022Z"
   },
   {
    "duration": 14,
    "start_time": "2023-04-15T17:19:02.067Z"
   },
   {
    "duration": 16,
    "start_time": "2023-04-15T17:19:02.082Z"
   },
   {
    "duration": 22,
    "start_time": "2023-04-15T17:19:02.100Z"
   },
   {
    "duration": 23,
    "start_time": "2023-04-15T17:19:02.123Z"
   },
   {
    "duration": 30,
    "start_time": "2023-04-15T17:19:02.149Z"
   },
   {
    "duration": 30,
    "start_time": "2023-04-15T17:19:02.180Z"
   },
   {
    "duration": 53,
    "start_time": "2023-04-15T17:19:12.325Z"
   },
   {
    "duration": 4,
    "start_time": "2023-04-15T17:19:23.102Z"
   },
   {
    "duration": 16,
    "start_time": "2023-04-15T17:19:33.454Z"
   },
   {
    "duration": 10,
    "start_time": "2023-04-15T17:24:11.443Z"
   },
   {
    "duration": 14,
    "start_time": "2023-04-15T17:24:30.552Z"
   },
   {
    "duration": 76,
    "start_time": "2023-04-15T17:31:35.458Z"
   },
   {
    "duration": 20,
    "start_time": "2023-04-15T17:31:39.930Z"
   },
   {
    "duration": 173,
    "start_time": "2023-04-15T17:31:53.119Z"
   },
   {
    "duration": 118,
    "start_time": "2023-04-15T17:34:40.153Z"
   },
   {
    "duration": 111,
    "start_time": "2023-04-15T17:34:50.664Z"
   },
   {
    "duration": 190,
    "start_time": "2023-04-15T17:39:49.054Z"
   },
   {
    "duration": 167,
    "start_time": "2023-04-15T17:41:06.019Z"
   },
   {
    "duration": 170,
    "start_time": "2023-04-15T17:41:12.771Z"
   },
   {
    "duration": 5,
    "start_time": "2023-04-15T18:00:30.059Z"
   },
   {
    "duration": 108,
    "start_time": "2023-04-15T18:11:17.053Z"
   },
   {
    "duration": 15,
    "start_time": "2023-04-15T18:17:49.851Z"
   },
   {
    "duration": 6,
    "start_time": "2023-04-15T18:19:23.688Z"
   },
   {
    "duration": 22,
    "start_time": "2023-04-15T18:31:53.433Z"
   },
   {
    "duration": 16,
    "start_time": "2023-04-15T18:33:49.053Z"
   },
   {
    "duration": 1669,
    "start_time": "2023-04-15T18:34:00.335Z"
   },
   {
    "duration": 4,
    "start_time": "2023-04-15T18:34:02.007Z"
   },
   {
    "duration": 1290,
    "start_time": "2023-04-15T18:34:02.013Z"
   },
   {
    "duration": 6,
    "start_time": "2023-04-15T18:34:03.306Z"
   },
   {
    "duration": 493,
    "start_time": "2023-04-15T18:34:03.316Z"
   },
   {
    "duration": 348,
    "start_time": "2023-04-15T18:34:03.812Z"
   },
   {
    "duration": 17,
    "start_time": "2023-04-15T18:34:04.162Z"
   },
   {
    "duration": 70,
    "start_time": "2023-04-15T18:34:04.182Z"
   },
   {
    "duration": 37,
    "start_time": "2023-04-15T18:34:04.255Z"
   },
   {
    "duration": 139,
    "start_time": "2023-04-15T18:34:04.294Z"
   },
   {
    "duration": 99,
    "start_time": "2023-04-15T18:34:04.435Z"
   },
   {
    "duration": 12,
    "start_time": "2023-04-15T18:34:04.536Z"
   },
   {
    "duration": 33,
    "start_time": "2023-04-15T18:34:04.551Z"
   },
   {
    "duration": 52,
    "start_time": "2023-04-15T18:34:04.589Z"
   },
   {
    "duration": 12,
    "start_time": "2023-04-15T18:34:04.643Z"
   },
   {
    "duration": 37,
    "start_time": "2023-04-15T18:34:04.658Z"
   },
   {
    "duration": 8,
    "start_time": "2023-04-15T18:34:04.697Z"
   },
   {
    "duration": 29,
    "start_time": "2023-04-15T18:34:04.707Z"
   },
   {
    "duration": 24,
    "start_time": "2023-04-15T18:34:04.738Z"
   },
   {
    "duration": 14,
    "start_time": "2023-04-15T18:34:04.764Z"
   },
   {
    "duration": 35,
    "start_time": "2023-04-15T18:34:04.780Z"
   },
   {
    "duration": 34,
    "start_time": "2023-04-15T18:34:04.818Z"
   },
   {
    "duration": 108,
    "start_time": "2023-04-15T18:34:04.855Z"
   },
   {
    "duration": 5,
    "start_time": "2023-04-15T18:34:04.966Z"
   },
   {
    "duration": 239,
    "start_time": "2023-04-15T18:34:04.974Z"
   },
   {
    "duration": 6,
    "start_time": "2023-04-15T18:34:05.216Z"
   },
   {
    "duration": 55,
    "start_time": "2023-04-15T18:34:05.224Z"
   },
   {
    "duration": 6,
    "start_time": "2023-04-15T18:34:05.282Z"
   },
   {
    "duration": 16,
    "start_time": "2023-04-15T18:34:08.171Z"
   },
   {
    "duration": 11,
    "start_time": "2023-04-15T18:34:19.143Z"
   },
   {
    "duration": 3,
    "start_time": "2023-04-15T18:34:24.747Z"
   },
   {
    "duration": 32,
    "start_time": "2023-04-15T18:34:28.525Z"
   },
   {
    "duration": 270,
    "start_time": "2023-04-15T18:35:16.559Z"
   },
   {
    "duration": 6,
    "start_time": "2023-04-15T18:35:29.951Z"
   },
   {
    "duration": 13,
    "start_time": "2023-04-15T18:36:15.564Z"
   },
   {
    "duration": 19,
    "start_time": "2023-04-15T18:37:04.232Z"
   },
   {
    "duration": 16,
    "start_time": "2023-04-15T18:40:13.505Z"
   },
   {
    "duration": 1361,
    "start_time": "2023-04-15T18:46:29.570Z"
   },
   {
    "duration": 5,
    "start_time": "2023-04-15T18:46:30.934Z"
   },
   {
    "duration": 1134,
    "start_time": "2023-04-15T18:46:30.941Z"
   },
   {
    "duration": 4,
    "start_time": "2023-04-15T18:46:32.079Z"
   },
   {
    "duration": 481,
    "start_time": "2023-04-15T18:46:32.086Z"
   },
   {
    "duration": 291,
    "start_time": "2023-04-15T18:46:32.570Z"
   },
   {
    "duration": 19,
    "start_time": "2023-04-15T18:46:32.864Z"
   },
   {
    "duration": 56,
    "start_time": "2023-04-15T18:46:32.885Z"
   },
   {
    "duration": 14,
    "start_time": "2023-04-15T18:46:32.944Z"
   },
   {
    "duration": 128,
    "start_time": "2023-04-15T18:46:32.961Z"
   },
   {
    "duration": 104,
    "start_time": "2023-04-15T18:46:33.091Z"
   },
   {
    "duration": 16,
    "start_time": "2023-04-15T18:46:33.197Z"
   },
   {
    "duration": 27,
    "start_time": "2023-04-15T18:46:33.233Z"
   },
   {
    "duration": 43,
    "start_time": "2023-04-15T18:46:33.262Z"
   },
   {
    "duration": 9,
    "start_time": "2023-04-15T18:46:33.333Z"
   },
   {
    "duration": 30,
    "start_time": "2023-04-15T18:46:33.344Z"
   },
   {
    "duration": 10,
    "start_time": "2023-04-15T18:46:33.377Z"
   },
   {
    "duration": 19,
    "start_time": "2023-04-15T18:46:33.389Z"
   },
   {
    "duration": 13,
    "start_time": "2023-04-15T18:46:33.433Z"
   },
   {
    "duration": 24,
    "start_time": "2023-04-15T18:46:33.448Z"
   },
   {
    "duration": 25,
    "start_time": "2023-04-15T18:46:33.474Z"
   },
   {
    "duration": 43,
    "start_time": "2023-04-15T18:46:33.502Z"
   },
   {
    "duration": 90,
    "start_time": "2023-04-15T18:46:33.549Z"
   },
   {
    "duration": 6,
    "start_time": "2023-04-15T18:46:33.641Z"
   },
   {
    "duration": 255,
    "start_time": "2023-04-15T18:46:33.649Z"
   },
   {
    "duration": 7,
    "start_time": "2023-04-15T18:46:33.906Z"
   },
   {
    "duration": 38,
    "start_time": "2023-04-15T18:46:33.915Z"
   },
   {
    "duration": 7,
    "start_time": "2023-04-15T18:46:33.959Z"
   },
   {
    "duration": 11,
    "start_time": "2023-04-15T18:46:33.968Z"
   },
   {
    "duration": 12,
    "start_time": "2023-04-15T18:46:33.981Z"
   },
   {
    "duration": 81,
    "start_time": "2023-04-15T18:46:33.995Z"
   },
   {
    "duration": 66,
    "start_time": "2023-04-15T18:46:34.079Z"
   },
   {
    "duration": 7,
    "start_time": "2023-04-15T18:46:34.147Z"
   },
   {
    "duration": 21,
    "start_time": "2023-04-15T18:46:34.156Z"
   },
   {
    "duration": 33,
    "start_time": "2023-04-15T18:46:34.180Z"
   },
   {
    "duration": 41,
    "start_time": "2023-04-15T18:46:34.215Z"
   },
   {
    "duration": 16,
    "start_time": "2023-04-15T18:46:34.258Z"
   },
   {
    "duration": 15,
    "start_time": "2023-04-15T18:46:34.275Z"
   },
   {
    "duration": 86,
    "start_time": "2023-04-15T18:46:34.292Z"
   },
   {
    "duration": 34,
    "start_time": "2023-04-15T18:47:22.325Z"
   },
   {
    "duration": 164,
    "start_time": "2023-04-15T18:47:24.574Z"
   },
   {
    "duration": 6,
    "start_time": "2023-04-15T18:47:31.026Z"
   },
   {
    "duration": 14,
    "start_time": "2023-04-15T18:47:35.741Z"
   },
   {
    "duration": 6,
    "start_time": "2023-04-15T18:47:53.546Z"
   },
   {
    "duration": 71,
    "start_time": "2023-04-15T23:45:44.528Z"
   },
   {
    "duration": 1276,
    "start_time": "2023-04-15T23:45:52.026Z"
   },
   {
    "duration": 3,
    "start_time": "2023-04-15T23:45:53.304Z"
   },
   {
    "duration": 1285,
    "start_time": "2023-04-15T23:45:53.309Z"
   },
   {
    "duration": 4,
    "start_time": "2023-04-15T23:45:54.597Z"
   },
   {
    "duration": 440,
    "start_time": "2023-04-15T23:45:54.603Z"
   },
   {
    "duration": 250,
    "start_time": "2023-04-15T23:45:55.045Z"
   },
   {
    "duration": 15,
    "start_time": "2023-04-15T23:45:55.297Z"
   },
   {
    "duration": 42,
    "start_time": "2023-04-15T23:45:55.314Z"
   },
   {
    "duration": 16,
    "start_time": "2023-04-15T23:45:55.358Z"
   },
   {
    "duration": 110,
    "start_time": "2023-04-15T23:45:55.376Z"
   },
   {
    "duration": 80,
    "start_time": "2023-04-15T23:45:55.488Z"
   },
   {
    "duration": 9,
    "start_time": "2023-04-15T23:45:55.569Z"
   },
   {
    "duration": 16,
    "start_time": "2023-04-15T23:45:55.580Z"
   },
   {
    "duration": 54,
    "start_time": "2023-04-15T23:45:55.600Z"
   },
   {
    "duration": 7,
    "start_time": "2023-04-15T23:45:55.656Z"
   },
   {
    "duration": 26,
    "start_time": "2023-04-15T23:45:55.665Z"
   },
   {
    "duration": 8,
    "start_time": "2023-04-15T23:45:55.692Z"
   },
   {
    "duration": 18,
    "start_time": "2023-04-15T23:45:55.701Z"
   },
   {
    "duration": 21,
    "start_time": "2023-04-15T23:45:55.720Z"
   },
   {
    "duration": 6,
    "start_time": "2023-04-15T23:45:55.743Z"
   },
   {
    "duration": 10,
    "start_time": "2023-04-15T23:45:55.751Z"
   },
   {
    "duration": 25,
    "start_time": "2023-04-15T23:45:55.763Z"
   },
   {
    "duration": 62,
    "start_time": "2023-04-15T23:45:55.789Z"
   },
   {
    "duration": 4,
    "start_time": "2023-04-15T23:45:55.852Z"
   },
   {
    "duration": 154,
    "start_time": "2023-04-15T23:45:55.857Z"
   },
   {
    "duration": 4,
    "start_time": "2023-04-15T23:45:56.013Z"
   },
   {
    "duration": 14,
    "start_time": "2023-04-15T23:45:56.034Z"
   },
   {
    "duration": 5,
    "start_time": "2023-04-15T23:45:56.049Z"
   },
   {
    "duration": 11,
    "start_time": "2023-04-15T23:45:56.055Z"
   },
   {
    "duration": 3,
    "start_time": "2023-04-15T23:45:56.067Z"
   },
   {
    "duration": 31,
    "start_time": "2023-04-15T23:45:56.072Z"
   },
   {
    "duration": 52,
    "start_time": "2023-04-15T23:45:56.104Z"
   },
   {
    "duration": 5,
    "start_time": "2023-04-15T23:45:56.157Z"
   },
   {
    "duration": 13,
    "start_time": "2023-04-15T23:45:56.164Z"
   },
   {
    "duration": 15,
    "start_time": "2023-04-15T23:45:56.178Z"
   },
   {
    "duration": 11,
    "start_time": "2023-04-15T23:45:56.194Z"
   },
   {
    "duration": 138,
    "start_time": "2023-04-15T23:46:08.205Z"
   },
   {
    "duration": 44,
    "start_time": "2023-04-15T23:46:20.385Z"
   },
   {
    "duration": 58,
    "start_time": "2023-04-15T23:47:20.801Z"
   },
   {
    "duration": 56,
    "start_time": "2023-04-15T23:49:02.845Z"
   },
   {
    "duration": 80,
    "start_time": "2023-04-15T23:49:06.541Z"
   },
   {
    "duration": 1254,
    "start_time": "2023-04-15T23:58:03.464Z"
   },
   {
    "duration": 4,
    "start_time": "2023-04-15T23:58:04.719Z"
   },
   {
    "duration": 1054,
    "start_time": "2023-04-15T23:58:04.724Z"
   },
   {
    "duration": 4,
    "start_time": "2023-04-15T23:58:05.781Z"
   },
   {
    "duration": 414,
    "start_time": "2023-04-15T23:58:05.787Z"
   },
   {
    "duration": 276,
    "start_time": "2023-04-15T23:58:06.203Z"
   },
   {
    "duration": 16,
    "start_time": "2023-04-15T23:58:06.480Z"
   },
   {
    "duration": 44,
    "start_time": "2023-04-15T23:58:06.497Z"
   },
   {
    "duration": 13,
    "start_time": "2023-04-15T23:58:06.544Z"
   },
   {
    "duration": 128,
    "start_time": "2023-04-15T23:58:06.561Z"
   },
   {
    "duration": 69,
    "start_time": "2023-04-15T23:58:06.690Z"
   },
   {
    "duration": 10,
    "start_time": "2023-04-15T23:58:06.761Z"
   },
   {
    "duration": 17,
    "start_time": "2023-04-15T23:58:06.772Z"
   },
   {
    "duration": 57,
    "start_time": "2023-04-15T23:58:06.790Z"
   },
   {
    "duration": 5,
    "start_time": "2023-04-15T23:58:06.849Z"
   },
   {
    "duration": 41,
    "start_time": "2023-04-15T23:58:06.856Z"
   },
   {
    "duration": 7,
    "start_time": "2023-04-15T23:58:06.898Z"
   },
   {
    "duration": 18,
    "start_time": "2023-04-15T23:58:06.906Z"
   },
   {
    "duration": 20,
    "start_time": "2023-04-15T23:58:06.925Z"
   },
   {
    "duration": 10,
    "start_time": "2023-04-15T23:58:06.946Z"
   },
   {
    "duration": 21,
    "start_time": "2023-04-15T23:58:06.958Z"
   },
   {
    "duration": 27,
    "start_time": "2023-04-15T23:58:06.980Z"
   },
   {
    "duration": 66,
    "start_time": "2023-04-15T23:58:07.009Z"
   },
   {
    "duration": 4,
    "start_time": "2023-04-15T23:58:07.076Z"
   },
   {
    "duration": 161,
    "start_time": "2023-04-15T23:58:07.082Z"
   },
   {
    "duration": 5,
    "start_time": "2023-04-15T23:58:07.244Z"
   },
   {
    "duration": 37,
    "start_time": "2023-04-15T23:58:07.251Z"
   },
   {
    "duration": 39,
    "start_time": "2023-04-15T23:58:07.291Z"
   },
   {
    "duration": 21,
    "start_time": "2023-04-15T23:58:07.332Z"
   },
   {
    "duration": 6,
    "start_time": "2023-04-15T23:58:07.355Z"
   },
   {
    "duration": 30,
    "start_time": "2023-04-15T23:58:07.363Z"
   },
   {
    "duration": 29,
    "start_time": "2023-04-15T23:58:07.395Z"
   },
   {
    "duration": 8,
    "start_time": "2023-04-15T23:58:07.426Z"
   },
   {
    "duration": 59,
    "start_time": "2023-04-15T23:58:07.436Z"
   },
   {
    "duration": 41,
    "start_time": "2023-04-15T23:58:07.497Z"
   },
   {
    "duration": 28,
    "start_time": "2023-04-15T23:58:07.540Z"
   },
   {
    "duration": 138,
    "start_time": "2023-04-15T23:58:10.123Z"
   },
   {
    "duration": 82,
    "start_time": "2023-04-16T00:00:33.598Z"
   },
   {
    "duration": 104,
    "start_time": "2023-04-16T00:01:37.883Z"
   },
   {
    "duration": 11,
    "start_time": "2023-04-16T00:01:45.993Z"
   },
   {
    "duration": 8,
    "start_time": "2023-04-16T00:06:42.852Z"
   },
   {
    "duration": 17,
    "start_time": "2023-04-16T00:06:50.212Z"
   },
   {
    "duration": 9,
    "start_time": "2023-04-16T00:08:11.479Z"
   },
   {
    "duration": 15,
    "start_time": "2023-04-16T00:13:50.120Z"
   },
   {
    "duration": 14,
    "start_time": "2023-04-16T00:14:06.300Z"
   },
   {
    "duration": 15,
    "start_time": "2023-04-16T00:14:52.911Z"
   },
   {
    "duration": 16,
    "start_time": "2023-04-16T00:15:07.360Z"
   },
   {
    "duration": 25,
    "start_time": "2023-04-16T00:16:14.601Z"
   },
   {
    "duration": 28,
    "start_time": "2023-04-16T00:17:01.853Z"
   },
   {
    "duration": 24,
    "start_time": "2023-04-16T00:17:52.520Z"
   },
   {
    "duration": 11,
    "start_time": "2023-04-16T00:20:20.656Z"
   },
   {
    "duration": 12,
    "start_time": "2023-04-16T00:20:30.814Z"
   },
   {
    "duration": 1105,
    "start_time": "2023-04-16T00:22:27.468Z"
   },
   {
    "duration": 3,
    "start_time": "2023-04-16T00:22:28.575Z"
   },
   {
    "duration": 1231,
    "start_time": "2023-04-16T00:22:28.580Z"
   },
   {
    "duration": 3,
    "start_time": "2023-04-16T00:22:29.813Z"
   },
   {
    "duration": 412,
    "start_time": "2023-04-16T00:22:29.818Z"
   },
   {
    "duration": 247,
    "start_time": "2023-04-16T00:22:30.234Z"
   },
   {
    "duration": 13,
    "start_time": "2023-04-16T00:22:30.482Z"
   },
   {
    "duration": 72,
    "start_time": "2023-04-16T00:22:30.496Z"
   },
   {
    "duration": 52,
    "start_time": "2023-04-16T00:22:30.570Z"
   },
   {
    "duration": 98,
    "start_time": "2023-04-16T00:22:30.625Z"
   },
   {
    "duration": 72,
    "start_time": "2023-04-16T00:22:30.725Z"
   },
   {
    "duration": 15,
    "start_time": "2023-04-16T00:22:30.800Z"
   },
   {
    "duration": 70,
    "start_time": "2023-04-16T00:22:30.817Z"
   },
   {
    "duration": 47,
    "start_time": "2023-04-16T00:22:30.889Z"
   },
   {
    "duration": 34,
    "start_time": "2023-04-16T00:22:30.937Z"
   },
   {
    "duration": 46,
    "start_time": "2023-04-16T00:22:30.973Z"
   },
   {
    "duration": 32,
    "start_time": "2023-04-16T00:22:31.020Z"
   },
   {
    "duration": 32,
    "start_time": "2023-04-16T00:22:31.053Z"
   },
   {
    "duration": 36,
    "start_time": "2023-04-16T00:22:31.087Z"
   },
   {
    "duration": 25,
    "start_time": "2023-04-16T00:22:31.125Z"
   },
   {
    "duration": 39,
    "start_time": "2023-04-16T00:22:31.152Z"
   },
   {
    "duration": 48,
    "start_time": "2023-04-16T00:22:31.193Z"
   },
   {
    "duration": 90,
    "start_time": "2023-04-16T00:22:31.243Z"
   },
   {
    "duration": 27,
    "start_time": "2023-04-16T00:22:31.335Z"
   },
   {
    "duration": 180,
    "start_time": "2023-04-16T00:22:31.364Z"
   },
   {
    "duration": 5,
    "start_time": "2023-04-16T00:22:31.546Z"
   },
   {
    "duration": 58,
    "start_time": "2023-04-16T00:22:31.553Z"
   },
   {
    "duration": 44,
    "start_time": "2023-04-16T00:22:31.614Z"
   },
   {
    "duration": 52,
    "start_time": "2023-04-16T00:22:31.660Z"
   },
   {
    "duration": 28,
    "start_time": "2023-04-16T00:22:31.714Z"
   },
   {
    "duration": 52,
    "start_time": "2023-04-16T00:22:31.744Z"
   },
   {
    "duration": 31,
    "start_time": "2023-04-16T00:22:31.798Z"
   },
   {
    "duration": 5,
    "start_time": "2023-04-16T00:22:31.831Z"
   },
   {
    "duration": 38,
    "start_time": "2023-04-16T00:22:31.838Z"
   },
   {
    "duration": 68,
    "start_time": "2023-04-16T00:22:31.877Z"
   },
   {
    "duration": 11,
    "start_time": "2023-04-16T00:22:40.052Z"
   },
   {
    "duration": 134,
    "start_time": "2023-04-16T00:22:50.811Z"
   },
   {
    "duration": 145,
    "start_time": "2023-04-16T00:23:22.290Z"
   },
   {
    "duration": 14,
    "start_time": "2023-04-16T00:23:25.484Z"
   },
   {
    "duration": 9,
    "start_time": "2023-04-16T00:23:28.100Z"
   },
   {
    "duration": 12,
    "start_time": "2023-04-16T00:23:35.920Z"
   },
   {
    "duration": 21,
    "start_time": "2023-04-16T00:28:54.091Z"
   },
   {
    "duration": 23,
    "start_time": "2023-04-16T00:29:46.088Z"
   },
   {
    "duration": 21,
    "start_time": "2023-04-16T00:30:12.147Z"
   },
   {
    "duration": 18,
    "start_time": "2023-04-16T00:30:23.548Z"
   },
   {
    "duration": 18,
    "start_time": "2023-04-16T00:31:02.979Z"
   },
   {
    "duration": 17,
    "start_time": "2023-04-16T00:34:19.768Z"
   },
   {
    "duration": 214,
    "start_time": "2023-04-16T00:36:48.218Z"
   },
   {
    "duration": 911,
    "start_time": "2023-04-16T00:37:08.558Z"
   },
   {
    "duration": 943,
    "start_time": "2023-04-16T00:37:30.754Z"
   },
   {
    "duration": 7,
    "start_time": "2023-04-16T00:38:43.077Z"
   },
   {
    "duration": 1049,
    "start_time": "2023-04-16T00:38:52.807Z"
   },
   {
    "duration": 881,
    "start_time": "2023-04-16T00:39:24.079Z"
   },
   {
    "duration": 365,
    "start_time": "2023-04-16T00:42:30.733Z"
   },
   {
    "duration": 21,
    "start_time": "2023-04-16T00:48:30.403Z"
   },
   {
    "duration": 61,
    "start_time": "2023-04-16T00:49:34.096Z"
   },
   {
    "duration": 1455,
    "start_time": "2023-04-16T00:51:07.045Z"
   },
   {
    "duration": 45,
    "start_time": "2023-04-16T00:51:40.915Z"
   },
   {
    "duration": 37,
    "start_time": "2023-04-16T00:52:09.372Z"
   },
   {
    "duration": 16,
    "start_time": "2023-04-16T00:52:14.096Z"
   },
   {
    "duration": 191,
    "start_time": "2023-04-16T00:53:09.955Z"
   },
   {
    "duration": 218,
    "start_time": "2023-04-16T00:53:37.835Z"
   },
   {
    "duration": 104,
    "start_time": "2023-04-16T00:53:54.946Z"
   },
   {
    "duration": 132,
    "start_time": "2023-04-16T00:55:05.595Z"
   },
   {
    "duration": 39,
    "start_time": "2023-04-16T00:57:56.671Z"
   },
   {
    "duration": 170,
    "start_time": "2023-04-16T00:58:06.041Z"
   },
   {
    "duration": 49,
    "start_time": "2023-04-16T01:07:58.402Z"
   },
   {
    "duration": 164,
    "start_time": "2023-04-16T01:08:57.250Z"
   },
   {
    "duration": 36,
    "start_time": "2023-04-16T01:10:36.091Z"
   },
   {
    "duration": 175,
    "start_time": "2023-04-16T01:10:39.842Z"
   },
   {
    "duration": 32,
    "start_time": "2023-04-16T01:11:50.054Z"
   },
   {
    "duration": 129,
    "start_time": "2023-04-16T01:11:53.317Z"
   },
   {
    "duration": 43,
    "start_time": "2023-04-16T01:14:09.922Z"
   },
   {
    "duration": 157,
    "start_time": "2023-04-16T01:14:18.523Z"
   },
   {
    "duration": 173,
    "start_time": "2023-04-16T01:20:54.842Z"
   },
   {
    "duration": 182,
    "start_time": "2023-04-16T01:22:16.711Z"
   },
   {
    "duration": 197,
    "start_time": "2023-04-16T01:22:54.672Z"
   },
   {
    "duration": 42,
    "start_time": "2023-04-16T01:26:24.899Z"
   },
   {
    "duration": 41,
    "start_time": "2023-04-16T01:26:37.881Z"
   },
   {
    "duration": 184,
    "start_time": "2023-04-16T01:26:40.590Z"
   },
   {
    "duration": 38,
    "start_time": "2023-04-16T01:27:11.067Z"
   },
   {
    "duration": 183,
    "start_time": "2023-04-16T01:27:13.170Z"
   },
   {
    "duration": 41,
    "start_time": "2023-04-16T01:47:05.218Z"
   },
   {
    "duration": 34,
    "start_time": "2023-04-16T01:48:48.258Z"
   },
   {
    "duration": 33,
    "start_time": "2023-04-16T01:54:05.886Z"
   },
   {
    "duration": 179,
    "start_time": "2023-04-16T01:54:07.727Z"
   },
   {
    "duration": 174,
    "start_time": "2023-04-16T01:54:27.148Z"
   },
   {
    "duration": 160,
    "start_time": "2023-04-16T01:55:07.536Z"
   },
   {
    "duration": 302,
    "start_time": "2023-04-16T01:55:11.675Z"
   },
   {
    "duration": 156,
    "start_time": "2023-04-16T01:55:23.416Z"
   },
   {
    "duration": 163,
    "start_time": "2023-04-16T01:56:04.917Z"
   },
   {
    "duration": 162,
    "start_time": "2023-04-16T01:56:24.805Z"
   },
   {
    "duration": 196,
    "start_time": "2023-04-16T01:56:51.416Z"
   },
   {
    "duration": 1166,
    "start_time": "2023-04-16T02:00:31.145Z"
   },
   {
    "duration": 3,
    "start_time": "2023-04-16T02:00:32.313Z"
   },
   {
    "duration": 1363,
    "start_time": "2023-04-16T02:00:32.317Z"
   },
   {
    "duration": 4,
    "start_time": "2023-04-16T02:00:33.682Z"
   },
   {
    "duration": 397,
    "start_time": "2023-04-16T02:00:33.688Z"
   },
   {
    "duration": 271,
    "start_time": "2023-04-16T02:00:34.087Z"
   },
   {
    "duration": 15,
    "start_time": "2023-04-16T02:00:34.359Z"
   },
   {
    "duration": 31,
    "start_time": "2023-04-16T02:00:34.376Z"
   },
   {
    "duration": 33,
    "start_time": "2023-04-16T02:00:34.409Z"
   },
   {
    "duration": 116,
    "start_time": "2023-04-16T02:00:34.444Z"
   },
   {
    "duration": 96,
    "start_time": "2023-04-16T02:00:34.562Z"
   },
   {
    "duration": 13,
    "start_time": "2023-04-16T02:00:34.660Z"
   },
   {
    "duration": 23,
    "start_time": "2023-04-16T02:00:34.676Z"
   },
   {
    "duration": 46,
    "start_time": "2023-04-16T02:00:34.702Z"
   },
   {
    "duration": 5,
    "start_time": "2023-04-16T02:00:34.750Z"
   },
   {
    "duration": 21,
    "start_time": "2023-04-16T02:00:34.756Z"
   },
   {
    "duration": 7,
    "start_time": "2023-04-16T02:00:34.778Z"
   },
   {
    "duration": 8,
    "start_time": "2023-04-16T02:00:34.787Z"
   },
   {
    "duration": 37,
    "start_time": "2023-04-16T02:00:34.797Z"
   },
   {
    "duration": 5,
    "start_time": "2023-04-16T02:00:34.836Z"
   },
   {
    "duration": 15,
    "start_time": "2023-04-16T02:00:34.843Z"
   },
   {
    "duration": 19,
    "start_time": "2023-04-16T02:00:34.860Z"
   },
   {
    "duration": 59,
    "start_time": "2023-04-16T02:00:34.881Z"
   },
   {
    "duration": 3,
    "start_time": "2023-04-16T02:00:34.942Z"
   },
   {
    "duration": 190,
    "start_time": "2023-04-16T02:00:34.947Z"
   },
   {
    "duration": 5,
    "start_time": "2023-04-16T02:00:35.139Z"
   },
   {
    "duration": 26,
    "start_time": "2023-04-16T02:00:35.146Z"
   },
   {
    "duration": 8,
    "start_time": "2023-04-16T02:00:35.174Z"
   },
   {
    "duration": 11,
    "start_time": "2023-04-16T02:00:35.184Z"
   },
   {
    "duration": 3,
    "start_time": "2023-04-16T02:00:35.196Z"
   },
   {
    "duration": 45,
    "start_time": "2023-04-16T02:00:35.201Z"
   },
   {
    "duration": 34,
    "start_time": "2023-04-16T02:00:35.247Z"
   },
   {
    "duration": 6,
    "start_time": "2023-04-16T02:00:35.283Z"
   },
   {
    "duration": 20,
    "start_time": "2023-04-16T02:00:35.291Z"
   },
   {
    "duration": 35,
    "start_time": "2023-04-16T02:00:35.313Z"
   },
   {
    "duration": 25,
    "start_time": "2023-04-16T02:00:35.350Z"
   },
   {
    "duration": 159,
    "start_time": "2023-04-16T02:00:35.376Z"
   },
   {
    "duration": 13,
    "start_time": "2023-04-16T02:00:35.537Z"
   },
   {
    "duration": 9,
    "start_time": "2023-04-16T02:00:35.551Z"
   },
   {
    "duration": 32,
    "start_time": "2023-04-16T02:00:35.562Z"
   },
   {
    "duration": 197,
    "start_time": "2023-04-16T02:00:35.597Z"
   },
   {
    "duration": 50,
    "start_time": "2023-04-16T02:00:35.796Z"
   },
   {
    "duration": 32,
    "start_time": "2023-04-16T02:01:04.231Z"
   },
   {
    "duration": 37,
    "start_time": "2023-04-16T02:09:21.513Z"
   },
   {
    "duration": 18,
    "start_time": "2023-04-16T02:12:52.180Z"
   },
   {
    "duration": 11,
    "start_time": "2023-04-16T02:50:56.314Z"
   },
   {
    "duration": 6,
    "start_time": "2023-04-16T03:31:56.476Z"
   },
   {
    "duration": 5,
    "start_time": "2023-04-16T03:33:12.197Z"
   },
   {
    "duration": 7,
    "start_time": "2023-04-16T03:33:34.775Z"
   },
   {
    "duration": 12,
    "start_time": "2023-04-16T03:39:33.833Z"
   },
   {
    "duration": 11,
    "start_time": "2023-04-16T03:39:46.821Z"
   },
   {
    "duration": 11,
    "start_time": "2023-04-16T03:40:12.440Z"
   },
   {
    "duration": 1084,
    "start_time": "2023-04-16T04:00:18.174Z"
   },
   {
    "duration": 3,
    "start_time": "2023-04-16T04:00:19.260Z"
   },
   {
    "duration": 1001,
    "start_time": "2023-04-16T04:00:19.264Z"
   },
   {
    "duration": 3,
    "start_time": "2023-04-16T04:00:20.267Z"
   },
   {
    "duration": 417,
    "start_time": "2023-04-16T04:00:20.272Z"
   },
   {
    "duration": 244,
    "start_time": "2023-04-16T04:00:20.690Z"
   },
   {
    "duration": 13,
    "start_time": "2023-04-16T04:00:20.936Z"
   },
   {
    "duration": 38,
    "start_time": "2023-04-16T04:00:20.951Z"
   },
   {
    "duration": 16,
    "start_time": "2023-04-16T04:00:20.990Z"
   },
   {
    "duration": 109,
    "start_time": "2023-04-16T04:00:21.009Z"
   },
   {
    "duration": 65,
    "start_time": "2023-04-16T04:00:21.120Z"
   },
   {
    "duration": 10,
    "start_time": "2023-04-16T04:00:21.186Z"
   },
   {
    "duration": 20,
    "start_time": "2023-04-16T04:00:21.197Z"
   },
   {
    "duration": 39,
    "start_time": "2023-04-16T04:00:21.218Z"
   },
   {
    "duration": 7,
    "start_time": "2023-04-16T04:00:21.258Z"
   },
   {
    "duration": 17,
    "start_time": "2023-04-16T04:00:21.267Z"
   },
   {
    "duration": 9,
    "start_time": "2023-04-16T04:00:21.286Z"
   },
   {
    "duration": 43,
    "start_time": "2023-04-16T04:00:21.297Z"
   },
   {
    "duration": 13,
    "start_time": "2023-04-16T04:00:21.341Z"
   },
   {
    "duration": 5,
    "start_time": "2023-04-16T04:00:21.356Z"
   },
   {
    "duration": 40,
    "start_time": "2023-04-16T04:00:21.362Z"
   },
   {
    "duration": 15,
    "start_time": "2023-04-16T04:00:21.404Z"
   },
   {
    "duration": 41,
    "start_time": "2023-04-16T04:00:21.420Z"
   },
   {
    "duration": 3,
    "start_time": "2023-04-16T04:00:21.463Z"
   },
   {
    "duration": 149,
    "start_time": "2023-04-16T04:00:21.467Z"
   },
   {
    "duration": 5,
    "start_time": "2023-04-16T04:00:21.617Z"
   },
   {
    "duration": 21,
    "start_time": "2023-04-16T04:00:21.623Z"
   },
   {
    "duration": 7,
    "start_time": "2023-04-16T04:00:21.647Z"
   },
   {
    "duration": 11,
    "start_time": "2023-04-16T04:00:21.655Z"
   },
   {
    "duration": 4,
    "start_time": "2023-04-16T04:00:21.667Z"
   },
   {
    "duration": 27,
    "start_time": "2023-04-16T04:00:21.673Z"
   },
   {
    "duration": 52,
    "start_time": "2023-04-16T04:00:21.702Z"
   },
   {
    "duration": 5,
    "start_time": "2023-04-16T04:00:21.755Z"
   },
   {
    "duration": 19,
    "start_time": "2023-04-16T04:00:21.761Z"
   },
   {
    "duration": 13,
    "start_time": "2023-04-16T04:00:21.782Z"
   },
   {
    "duration": 26,
    "start_time": "2023-04-16T04:00:21.797Z"
   },
   {
    "duration": 126,
    "start_time": "2023-04-16T04:00:27.854Z"
   },
   {
    "duration": 16,
    "start_time": "2023-04-16T04:02:53.403Z"
   },
   {
    "duration": 13,
    "start_time": "2023-04-16T04:04:33.177Z"
   },
   {
    "duration": 36,
    "start_time": "2023-04-16T04:07:38.257Z"
   },
   {
    "duration": 33,
    "start_time": "2023-04-16T04:07:47.646Z"
   },
   {
    "duration": 13,
    "start_time": "2023-04-16T04:15:26.782Z"
   },
   {
    "duration": 12,
    "start_time": "2023-04-16T04:15:51.770Z"
   },
   {
    "duration": 11,
    "start_time": "2023-04-16T04:16:13.494Z"
   },
   {
    "duration": 10,
    "start_time": "2023-04-16T04:27:52.255Z"
   },
   {
    "duration": 136,
    "start_time": "2023-04-16T04:29:08.653Z"
   },
   {
    "duration": 17,
    "start_time": "2023-04-16T04:29:26.950Z"
   },
   {
    "duration": 13,
    "start_time": "2023-04-16T04:30:52.869Z"
   },
   {
    "duration": 7,
    "start_time": "2023-04-16T04:30:57.113Z"
   },
   {
    "duration": 42,
    "start_time": "2023-04-16T04:30:59.705Z"
   },
   {
    "duration": 203,
    "start_time": "2023-04-16T04:31:01.965Z"
   },
   {
    "duration": 32,
    "start_time": "2023-04-16T04:31:05.693Z"
   },
   {
    "duration": 17,
    "start_time": "2023-04-16T04:31:14.521Z"
   },
   {
    "duration": 11,
    "start_time": "2023-04-16T04:31:19.845Z"
   },
   {
    "duration": 1099,
    "start_time": "2023-04-16T04:31:41.049Z"
   },
   {
    "duration": 2,
    "start_time": "2023-04-16T04:31:42.150Z"
   },
   {
    "duration": 1326,
    "start_time": "2023-04-16T04:31:42.154Z"
   },
   {
    "duration": 3,
    "start_time": "2023-04-16T04:31:43.482Z"
   },
   {
    "duration": 379,
    "start_time": "2023-04-16T04:31:43.487Z"
   },
   {
    "duration": 252,
    "start_time": "2023-04-16T04:31:43.868Z"
   },
   {
    "duration": 27,
    "start_time": "2023-04-16T04:31:44.121Z"
   },
   {
    "duration": 27,
    "start_time": "2023-04-16T04:31:44.149Z"
   },
   {
    "duration": 12,
    "start_time": "2023-04-16T04:31:44.177Z"
   },
   {
    "duration": 109,
    "start_time": "2023-04-16T04:31:44.190Z"
   },
   {
    "duration": 71,
    "start_time": "2023-04-16T04:31:44.301Z"
   },
   {
    "duration": 8,
    "start_time": "2023-04-16T04:31:44.374Z"
   },
   {
    "duration": 13,
    "start_time": "2023-04-16T04:31:44.383Z"
   },
   {
    "duration": 49,
    "start_time": "2023-04-16T04:31:44.399Z"
   },
   {
    "duration": 5,
    "start_time": "2023-04-16T04:31:44.450Z"
   },
   {
    "duration": 17,
    "start_time": "2023-04-16T04:31:44.456Z"
   },
   {
    "duration": 6,
    "start_time": "2023-04-16T04:31:44.475Z"
   },
   {
    "duration": 7,
    "start_time": "2023-04-16T04:31:44.482Z"
   },
   {
    "duration": 7,
    "start_time": "2023-04-16T04:31:44.490Z"
   },
   {
    "duration": 5,
    "start_time": "2023-04-16T04:31:44.499Z"
   },
   {
    "duration": 45,
    "start_time": "2023-04-16T04:31:44.505Z"
   },
   {
    "duration": 30,
    "start_time": "2023-04-16T04:31:44.552Z"
   },
   {
    "duration": 67,
    "start_time": "2023-04-16T04:31:44.584Z"
   },
   {
    "duration": 5,
    "start_time": "2023-04-16T04:31:44.653Z"
   },
   {
    "duration": 191,
    "start_time": "2023-04-16T04:31:44.659Z"
   },
   {
    "duration": 5,
    "start_time": "2023-04-16T04:31:44.852Z"
   },
   {
    "duration": 18,
    "start_time": "2023-04-16T04:31:44.858Z"
   },
   {
    "duration": 12,
    "start_time": "2023-04-16T04:31:44.877Z"
   },
   {
    "duration": 10,
    "start_time": "2023-04-16T04:31:44.890Z"
   },
   {
    "duration": 5,
    "start_time": "2023-04-16T04:31:44.901Z"
   },
   {
    "duration": 41,
    "start_time": "2023-04-16T04:31:44.908Z"
   },
   {
    "duration": 27,
    "start_time": "2023-04-16T04:31:44.951Z"
   },
   {
    "duration": 5,
    "start_time": "2023-04-16T04:31:44.979Z"
   },
   {
    "duration": 13,
    "start_time": "2023-04-16T04:31:44.985Z"
   },
   {
    "duration": 38,
    "start_time": "2023-04-16T04:31:45.000Z"
   },
   {
    "duration": 23,
    "start_time": "2023-04-16T04:31:45.047Z"
   },
   {
    "duration": 140,
    "start_time": "2023-04-16T04:31:48.712Z"
   },
   {
    "duration": 12,
    "start_time": "2023-04-16T04:31:56.358Z"
   },
   {
    "duration": 13,
    "start_time": "2023-04-16T04:32:09.060Z"
   },
   {
    "duration": 13,
    "start_time": "2023-04-16T04:43:58.569Z"
   },
   {
    "duration": 11,
    "start_time": "2023-04-16T04:47:12.769Z"
   },
   {
    "duration": 114,
    "start_time": "2023-04-16T04:52:18.915Z"
   },
   {
    "duration": 1937,
    "start_time": "2023-04-16T04:52:26.195Z"
   },
   {
    "duration": 1429,
    "start_time": "2023-04-16T04:52:45.637Z"
   },
   {
    "duration": 32,
    "start_time": "2023-04-16T04:54:07.180Z"
   },
   {
    "duration": 35,
    "start_time": "2023-04-16T04:54:22.728Z"
   },
   {
    "duration": 26,
    "start_time": "2023-04-16T04:55:52.817Z"
   },
   {
    "duration": 142,
    "start_time": "2023-04-16T04:56:28.948Z"
   },
   {
    "duration": 227,
    "start_time": "2023-04-16T04:58:34.001Z"
   },
   {
    "duration": 281,
    "start_time": "2023-04-16T05:00:25.930Z"
   },
   {
    "duration": 298,
    "start_time": "2023-04-16T05:02:19.931Z"
   },
   {
    "duration": 300,
    "start_time": "2023-04-16T05:03:39.966Z"
   },
   {
    "duration": 283,
    "start_time": "2023-04-16T05:04:26.052Z"
   },
   {
    "duration": 10,
    "start_time": "2023-04-16T05:05:07.268Z"
   },
   {
    "duration": 10,
    "start_time": "2023-04-16T05:07:34.964Z"
   },
   {
    "duration": 13,
    "start_time": "2023-04-16T05:07:46.147Z"
   },
   {
    "duration": 328,
    "start_time": "2023-04-16T05:08:56.951Z"
   },
   {
    "duration": 19,
    "start_time": "2023-04-16T07:08:38.004Z"
   },
   {
    "duration": 12,
    "start_time": "2023-04-16T07:11:39.512Z"
   },
   {
    "duration": 10,
    "start_time": "2023-04-16T07:19:25.960Z"
   },
   {
    "duration": 3,
    "start_time": "2023-04-16T07:19:42.261Z"
   },
   {
    "duration": 9,
    "start_time": "2023-04-16T07:21:20.713Z"
   },
   {
    "duration": 11,
    "start_time": "2023-04-16T07:47:48.390Z"
   },
   {
    "duration": 17,
    "start_time": "2023-04-16T07:49:10.431Z"
   },
   {
    "duration": 12,
    "start_time": "2023-04-16T07:49:57.531Z"
   },
   {
    "duration": 145,
    "start_time": "2023-04-16T07:50:05.119Z"
   },
   {
    "duration": 19,
    "start_time": "2023-04-16T07:50:51.331Z"
   },
   {
    "duration": 87,
    "start_time": "2023-04-16T07:51:04.575Z"
   },
   {
    "duration": 11,
    "start_time": "2023-04-16T07:51:14.999Z"
   },
   {
    "duration": 11,
    "start_time": "2023-04-16T07:51:28.463Z"
   },
   {
    "duration": 16,
    "start_time": "2023-04-16T07:51:47.653Z"
   },
   {
    "duration": 23,
    "start_time": "2023-04-16T08:03:47.735Z"
   },
   {
    "duration": 18,
    "start_time": "2023-04-16T08:05:08.560Z"
   },
   {
    "duration": 30,
    "start_time": "2023-04-16T08:07:38.929Z"
   },
   {
    "duration": 25,
    "start_time": "2023-04-16T08:07:46.185Z"
   },
   {
    "duration": 25,
    "start_time": "2023-04-16T08:08:00.929Z"
   },
   {
    "duration": 1470,
    "start_time": "2023-04-16T08:17:17.981Z"
   },
   {
    "duration": 548,
    "start_time": "2023-04-16T08:17:31.350Z"
   },
   {
    "duration": 301,
    "start_time": "2023-04-16T08:17:58.922Z"
   },
   {
    "duration": 359,
    "start_time": "2023-04-16T08:20:08.506Z"
   },
   {
    "duration": 378,
    "start_time": "2023-04-16T08:20:20.972Z"
   },
   {
    "duration": 140,
    "start_time": "2023-04-16T08:21:59.699Z"
   },
   {
    "duration": 28,
    "start_time": "2023-04-16T08:22:11.232Z"
   },
   {
    "duration": 344,
    "start_time": "2023-04-16T08:22:22.585Z"
   },
   {
    "duration": 379,
    "start_time": "2023-04-16T08:23:12.352Z"
   },
   {
    "duration": 438,
    "start_time": "2023-04-16T08:24:12.400Z"
   },
   {
    "duration": 391,
    "start_time": "2023-04-16T08:24:34.493Z"
   },
   {
    "duration": 8,
    "start_time": "2023-04-16T08:27:02.513Z"
   },
   {
    "duration": 8,
    "start_time": "2023-04-16T08:27:21.693Z"
   },
   {
    "duration": 314,
    "start_time": "2023-04-16T08:27:28.730Z"
   },
   {
    "duration": 412,
    "start_time": "2023-04-16T08:27:51.290Z"
   },
   {
    "duration": 338,
    "start_time": "2023-04-16T08:31:52.244Z"
   },
   {
    "duration": 348,
    "start_time": "2023-04-16T08:35:03.213Z"
   },
   {
    "duration": 373,
    "start_time": "2023-04-16T08:35:16.426Z"
   },
   {
    "duration": 27,
    "start_time": "2023-04-16T09:06:31.536Z"
   },
   {
    "duration": 13,
    "start_time": "2023-04-16T09:12:43.732Z"
   },
   {
    "duration": 211,
    "start_time": "2023-04-16T09:12:57.665Z"
   },
   {
    "duration": 281,
    "start_time": "2023-04-16T09:13:27.544Z"
   },
   {
    "duration": 374,
    "start_time": "2023-04-16T09:13:39.564Z"
   },
   {
    "duration": 4,
    "start_time": "2023-04-16T09:19:41.781Z"
   },
   {
    "duration": 228,
    "start_time": "2023-04-16T09:20:17.932Z"
   },
   {
    "duration": 386,
    "start_time": "2023-04-16T09:22:57.360Z"
   },
   {
    "duration": 387,
    "start_time": "2023-04-16T09:23:08.720Z"
   },
   {
    "duration": 409,
    "start_time": "2023-04-16T09:26:29.675Z"
   },
   {
    "duration": 500,
    "start_time": "2023-04-16T09:26:57.611Z"
   },
   {
    "duration": 545,
    "start_time": "2023-04-16T09:27:45.270Z"
   },
   {
    "duration": 539,
    "start_time": "2023-04-16T09:29:09.252Z"
   },
   {
    "duration": 473,
    "start_time": "2023-04-16T09:29:13.445Z"
   },
   {
    "duration": 601,
    "start_time": "2023-04-16T09:30:17.868Z"
   },
   {
    "duration": 4,
    "start_time": "2023-04-16T09:32:02.377Z"
   },
   {
    "duration": 486,
    "start_time": "2023-04-16T09:32:12.077Z"
   },
   {
    "duration": 481,
    "start_time": "2023-04-16T09:32:19.149Z"
   },
   {
    "duration": 509,
    "start_time": "2023-04-16T09:32:27.177Z"
   },
   {
    "duration": 13,
    "start_time": "2023-04-16T09:37:01.960Z"
   },
   {
    "duration": 436,
    "start_time": "2023-04-16T09:37:09.534Z"
   },
   {
    "duration": 453,
    "start_time": "2023-04-16T09:37:22.342Z"
   },
   {
    "duration": 516,
    "start_time": "2023-04-16T09:37:29.500Z"
   },
   {
    "duration": 554,
    "start_time": "2023-04-16T09:38:01.971Z"
   },
   {
    "duration": 499,
    "start_time": "2023-04-16T09:38:08.201Z"
   },
   {
    "duration": 491,
    "start_time": "2023-04-16T09:39:05.407Z"
   },
   {
    "duration": 779,
    "start_time": "2023-04-16T09:40:53.747Z"
   },
   {
    "duration": 760,
    "start_time": "2023-04-16T09:41:10.803Z"
   },
   {
    "duration": 394,
    "start_time": "2023-04-16T09:41:22.801Z"
   },
   {
    "duration": 608,
    "start_time": "2023-04-16T09:52:08.953Z"
   },
   {
    "duration": 5,
    "start_time": "2023-04-16T10:16:44.910Z"
   },
   {
    "duration": 14,
    "start_time": "2023-04-16T10:17:16.451Z"
   },
   {
    "duration": 18,
    "start_time": "2023-04-16T10:17:26.153Z"
   },
   {
    "duration": 162,
    "start_time": "2023-04-16T10:17:41.653Z"
   },
   {
    "duration": 127,
    "start_time": "2023-04-16T10:18:07.629Z"
   },
   {
    "duration": 126,
    "start_time": "2023-04-16T10:18:31.110Z"
   },
   {
    "duration": 17,
    "start_time": "2023-04-16T10:19:58.210Z"
   },
   {
    "duration": 8,
    "start_time": "2023-04-16T10:21:01.912Z"
   },
   {
    "duration": 10,
    "start_time": "2023-04-16T10:21:14.915Z"
   },
   {
    "duration": 10,
    "start_time": "2023-04-16T10:21:20.582Z"
   },
   {
    "duration": 23,
    "start_time": "2023-04-16T10:38:21.409Z"
   },
   {
    "duration": 34,
    "start_time": "2023-04-16T10:38:43.633Z"
   },
   {
    "duration": 20,
    "start_time": "2023-04-16T10:40:12.492Z"
   },
   {
    "duration": 30,
    "start_time": "2023-04-16T10:40:16.922Z"
   },
   {
    "duration": 17,
    "start_time": "2023-04-16T10:53:36.224Z"
   },
   {
    "duration": 1974,
    "start_time": "2023-04-16T10:58:58.457Z"
   },
   {
    "duration": 1766,
    "start_time": "2023-04-16T10:59:28.403Z"
   },
   {
    "duration": 24,
    "start_time": "2023-04-16T11:03:47.148Z"
   },
   {
    "duration": 176,
    "start_time": "2023-04-16T11:05:31.457Z"
   },
   {
    "duration": 174,
    "start_time": "2023-04-16T11:07:48.213Z"
   },
   {
    "duration": 204,
    "start_time": "2023-04-16T11:08:58.003Z"
   },
   {
    "duration": 16,
    "start_time": "2023-04-16T11:42:07.410Z"
   },
   {
    "duration": 17,
    "start_time": "2023-04-16T11:42:52.827Z"
   },
   {
    "duration": 14,
    "start_time": "2023-04-16T11:43:30.415Z"
   },
   {
    "duration": 28,
    "start_time": "2023-04-16T11:52:35.804Z"
   },
   {
    "duration": 1080,
    "start_time": "2023-04-16T12:45:18.911Z"
   },
   {
    "duration": 3,
    "start_time": "2023-04-16T12:45:19.993Z"
   },
   {
    "duration": 1314,
    "start_time": "2023-04-16T12:45:19.998Z"
   },
   {
    "duration": 4,
    "start_time": "2023-04-16T12:45:21.314Z"
   },
   {
    "duration": 391,
    "start_time": "2023-04-16T12:45:21.320Z"
   },
   {
    "duration": 279,
    "start_time": "2023-04-16T12:45:21.713Z"
   },
   {
    "duration": 13,
    "start_time": "2023-04-16T12:45:21.993Z"
   },
   {
    "duration": 50,
    "start_time": "2023-04-16T12:45:22.008Z"
   },
   {
    "duration": 21,
    "start_time": "2023-04-16T12:45:22.059Z"
   },
   {
    "duration": 98,
    "start_time": "2023-04-16T12:45:22.081Z"
   },
   {
    "duration": 89,
    "start_time": "2023-04-16T12:45:22.180Z"
   },
   {
    "duration": 10,
    "start_time": "2023-04-16T12:45:22.271Z"
   },
   {
    "duration": 17,
    "start_time": "2023-04-16T12:45:22.283Z"
   },
   {
    "duration": 49,
    "start_time": "2023-04-16T12:45:22.303Z"
   },
   {
    "duration": 9,
    "start_time": "2023-04-16T12:45:22.353Z"
   },
   {
    "duration": 23,
    "start_time": "2023-04-16T12:45:22.364Z"
   },
   {
    "duration": 6,
    "start_time": "2023-04-16T12:45:22.388Z"
   },
   {
    "duration": 8,
    "start_time": "2023-04-16T12:45:22.396Z"
   },
   {
    "duration": 10,
    "start_time": "2023-04-16T12:45:22.405Z"
   },
   {
    "duration": 4,
    "start_time": "2023-04-16T12:45:22.416Z"
   },
   {
    "duration": 22,
    "start_time": "2023-04-16T12:45:22.436Z"
   },
   {
    "duration": 23,
    "start_time": "2023-04-16T12:45:22.460Z"
   },
   {
    "duration": 50,
    "start_time": "2023-04-16T12:45:22.485Z"
   },
   {
    "duration": 18,
    "start_time": "2023-04-16T12:45:22.540Z"
   },
   {
    "duration": 151,
    "start_time": "2023-04-16T12:45:22.563Z"
   },
   {
    "duration": 5,
    "start_time": "2023-04-16T12:45:22.716Z"
   },
   {
    "duration": 32,
    "start_time": "2023-04-16T12:45:22.722Z"
   },
   {
    "duration": 19,
    "start_time": "2023-04-16T12:45:22.755Z"
   },
   {
    "duration": 11,
    "start_time": "2023-04-16T12:45:22.775Z"
   },
   {
    "duration": 3,
    "start_time": "2023-04-16T12:45:22.788Z"
   },
   {
    "duration": 31,
    "start_time": "2023-04-16T12:45:22.792Z"
   },
   {
    "duration": 39,
    "start_time": "2023-04-16T12:45:22.825Z"
   },
   {
    "duration": 5,
    "start_time": "2023-04-16T12:45:22.865Z"
   },
   {
    "duration": 13,
    "start_time": "2023-04-16T12:45:22.872Z"
   },
   {
    "duration": 15,
    "start_time": "2023-04-16T12:45:22.887Z"
   },
   {
    "duration": 11,
    "start_time": "2023-04-16T12:45:22.903Z"
   },
   {
    "duration": 142,
    "start_time": "2023-04-16T12:45:22.934Z"
   },
   {
    "duration": 11,
    "start_time": "2023-04-16T12:45:23.078Z"
   },
   {
    "duration": 7,
    "start_time": "2023-04-16T12:45:23.091Z"
   },
   {
    "duration": 52,
    "start_time": "2023-04-16T12:45:23.099Z"
   },
   {
    "duration": 179,
    "start_time": "2023-04-16T12:45:23.156Z"
   },
   {
    "duration": 50,
    "start_time": "2023-04-16T12:45:23.345Z"
   },
   {
    "duration": 13,
    "start_time": "2023-04-16T12:45:23.397Z"
   },
   {
    "duration": 27,
    "start_time": "2023-04-16T12:45:23.412Z"
   },
   {
    "duration": 16,
    "start_time": "2023-04-16T12:45:23.448Z"
   },
   {
    "duration": 345,
    "start_time": "2023-04-16T12:45:23.465Z"
   },
   {
    "duration": 12,
    "start_time": "2023-04-16T12:45:23.811Z"
   },
   {
    "duration": 31,
    "start_time": "2023-04-16T12:45:23.824Z"
   },
   {
    "duration": 360,
    "start_time": "2023-04-16T12:45:23.856Z"
   },
   {
    "duration": 18,
    "start_time": "2023-04-16T12:45:24.217Z"
   },
   {
    "duration": 552,
    "start_time": "2023-04-16T12:45:24.242Z"
   },
   {
    "duration": 560,
    "start_time": "2023-04-16T12:45:24.796Z"
   },
   {
    "duration": 13,
    "start_time": "2023-04-16T12:45:25.358Z"
   },
   {
    "duration": 213,
    "start_time": "2023-04-16T12:45:25.373Z"
   },
   {
    "duration": 116,
    "start_time": "2023-04-16T12:45:25.588Z"
   },
   {
    "duration": 207,
    "start_time": "2023-04-16T13:07:40.302Z"
   },
   {
    "duration": 12,
    "start_time": "2023-04-16T13:17:54.844Z"
   },
   {
    "duration": 200,
    "start_time": "2023-04-16T13:20:59.999Z"
   },
   {
    "duration": 1103,
    "start_time": "2023-04-16T13:39:08.349Z"
   },
   {
    "duration": 3,
    "start_time": "2023-04-16T13:39:09.454Z"
   },
   {
    "duration": 1049,
    "start_time": "2023-04-16T13:39:09.459Z"
   },
   {
    "duration": 4,
    "start_time": "2023-04-16T13:39:10.510Z"
   },
   {
    "duration": 347,
    "start_time": "2023-04-16T13:39:10.515Z"
   },
   {
    "duration": 259,
    "start_time": "2023-04-16T13:39:10.863Z"
   },
   {
    "duration": 21,
    "start_time": "2023-04-16T13:39:11.123Z"
   },
   {
    "duration": 30,
    "start_time": "2023-04-16T13:39:11.146Z"
   },
   {
    "duration": 10,
    "start_time": "2023-04-16T13:39:11.178Z"
   },
   {
    "duration": 116,
    "start_time": "2023-04-16T13:39:11.192Z"
   },
   {
    "duration": 73,
    "start_time": "2023-04-16T13:39:11.310Z"
   },
   {
    "duration": 13,
    "start_time": "2023-04-16T13:39:11.385Z"
   },
   {
    "duration": 13,
    "start_time": "2023-04-16T13:39:11.399Z"
   },
   {
    "duration": 51,
    "start_time": "2023-04-16T13:39:11.414Z"
   },
   {
    "duration": 8,
    "start_time": "2023-04-16T13:39:11.467Z"
   },
   {
    "duration": 24,
    "start_time": "2023-04-16T13:39:11.477Z"
   },
   {
    "duration": 6,
    "start_time": "2023-04-16T13:39:11.503Z"
   },
   {
    "duration": 5,
    "start_time": "2023-04-16T13:39:11.534Z"
   },
   {
    "duration": 11,
    "start_time": "2023-04-16T13:39:11.541Z"
   },
   {
    "duration": 5,
    "start_time": "2023-04-16T13:39:11.553Z"
   },
   {
    "duration": 8,
    "start_time": "2023-04-16T13:39:11.559Z"
   },
   {
    "duration": 16,
    "start_time": "2023-04-16T13:39:11.568Z"
   },
   {
    "duration": 77,
    "start_time": "2023-04-16T13:39:11.585Z"
   },
   {
    "duration": 4,
    "start_time": "2023-04-16T13:39:11.664Z"
   },
   {
    "duration": 154,
    "start_time": "2023-04-16T13:39:11.669Z"
   },
   {
    "duration": 15,
    "start_time": "2023-04-16T13:39:11.825Z"
   },
   {
    "duration": 36,
    "start_time": "2023-04-16T13:39:11.842Z"
   },
   {
    "duration": 9,
    "start_time": "2023-04-16T13:39:11.882Z"
   },
   {
    "duration": 10,
    "start_time": "2023-04-16T13:39:11.892Z"
   },
   {
    "duration": 4,
    "start_time": "2023-04-16T13:39:11.904Z"
   },
   {
    "duration": 39,
    "start_time": "2023-04-16T13:39:11.909Z"
   },
   {
    "duration": 29,
    "start_time": "2023-04-16T13:39:11.949Z"
   },
   {
    "duration": 5,
    "start_time": "2023-04-16T13:39:11.980Z"
   },
   {
    "duration": 13,
    "start_time": "2023-04-16T13:39:11.987Z"
   },
   {
    "duration": 38,
    "start_time": "2023-04-16T13:39:12.002Z"
   },
   {
    "duration": 13,
    "start_time": "2023-04-16T13:39:12.042Z"
   },
   {
    "duration": 165,
    "start_time": "2023-04-16T13:39:12.057Z"
   },
   {
    "duration": 16,
    "start_time": "2023-04-16T13:39:12.223Z"
   },
   {
    "duration": 10,
    "start_time": "2023-04-16T13:39:12.241Z"
   },
   {
    "duration": 37,
    "start_time": "2023-04-16T13:39:12.252Z"
   },
   {
    "duration": 200,
    "start_time": "2023-04-16T13:39:12.291Z"
   },
   {
    "duration": 43,
    "start_time": "2023-04-16T13:39:12.492Z"
   },
   {
    "duration": 13,
    "start_time": "2023-04-16T13:39:12.536Z"
   },
   {
    "duration": 18,
    "start_time": "2023-04-16T13:39:12.550Z"
   },
   {
    "duration": 9,
    "start_time": "2023-04-16T13:39:12.570Z"
   },
   {
    "duration": 344,
    "start_time": "2023-04-16T13:39:12.580Z"
   },
   {
    "duration": 16,
    "start_time": "2023-04-16T13:39:12.926Z"
   },
   {
    "duration": 17,
    "start_time": "2023-04-16T13:39:12.944Z"
   },
   {
    "duration": 327,
    "start_time": "2023-04-16T13:39:12.962Z"
   },
   {
    "duration": 13,
    "start_time": "2023-04-16T13:39:13.291Z"
   },
   {
    "duration": 485,
    "start_time": "2023-04-16T13:39:13.305Z"
   },
   {
    "duration": 451,
    "start_time": "2023-04-16T13:39:13.792Z"
   },
   {
    "duration": 7,
    "start_time": "2023-04-16T13:39:14.245Z"
   },
   {
    "duration": 200,
    "start_time": "2023-04-16T13:39:14.254Z"
   },
   {
    "duration": 5933,
    "start_time": "2023-04-16T13:40:08.958Z"
   },
   {
    "duration": 9,
    "start_time": "2023-04-16T13:46:09.747Z"
   },
   {
    "duration": 12,
    "start_time": "2023-04-16T13:47:49.911Z"
   },
   {
    "duration": 241,
    "start_time": "2023-04-16T13:48:35.454Z"
   },
   {
    "duration": 11,
    "start_time": "2023-04-16T13:52:55.260Z"
   },
   {
    "duration": 30,
    "start_time": "2023-04-16T14:00:39.357Z"
   },
   {
    "duration": 29,
    "start_time": "2023-04-16T14:00:46.106Z"
   },
   {
    "duration": 31,
    "start_time": "2023-04-16T14:00:55.770Z"
   },
   {
    "duration": 7,
    "start_time": "2023-04-16T14:02:12.074Z"
   },
   {
    "duration": 7,
    "start_time": "2023-04-16T14:02:20.934Z"
   },
   {
    "duration": 12,
    "start_time": "2023-04-16T14:08:54.975Z"
   },
   {
    "duration": 11,
    "start_time": "2023-04-16T14:09:56.626Z"
   },
   {
    "duration": 34,
    "start_time": "2023-04-16T14:11:01.727Z"
   },
   {
    "duration": 13,
    "start_time": "2023-04-16T14:11:05.533Z"
   },
   {
    "duration": 11,
    "start_time": "2023-04-16T14:12:08.339Z"
   },
   {
    "duration": 11,
    "start_time": "2023-04-16T14:12:23.330Z"
   },
   {
    "duration": 25,
    "start_time": "2023-04-16T15:28:23.336Z"
   },
   {
    "duration": 311,
    "start_time": "2023-04-16T15:29:07.970Z"
   },
   {
    "duration": 335,
    "start_time": "2023-04-16T15:50:26.466Z"
   },
   {
    "duration": 14,
    "start_time": "2023-04-16T15:54:16.394Z"
   },
   {
    "duration": 1150,
    "start_time": "2023-04-16T15:54:26.308Z"
   },
   {
    "duration": 3,
    "start_time": "2023-04-16T15:54:27.460Z"
   },
   {
    "duration": 1127,
    "start_time": "2023-04-16T15:54:27.465Z"
   },
   {
    "duration": 3,
    "start_time": "2023-04-16T15:54:28.594Z"
   },
   {
    "duration": 377,
    "start_time": "2023-04-16T15:54:28.599Z"
   },
   {
    "duration": 251,
    "start_time": "2023-04-16T15:54:28.977Z"
   },
   {
    "duration": 15,
    "start_time": "2023-04-16T15:54:29.230Z"
   },
   {
    "duration": 41,
    "start_time": "2023-04-16T15:54:29.247Z"
   },
   {
    "duration": 38,
    "start_time": "2023-04-16T15:54:29.289Z"
   },
   {
    "duration": 102,
    "start_time": "2023-04-16T15:54:29.330Z"
   },
   {
    "duration": 61,
    "start_time": "2023-04-16T15:54:29.434Z"
   },
   {
    "duration": 9,
    "start_time": "2023-04-16T15:54:29.497Z"
   },
   {
    "duration": 36,
    "start_time": "2023-04-16T15:54:29.508Z"
   },
   {
    "duration": 25,
    "start_time": "2023-04-16T15:54:29.545Z"
   },
   {
    "duration": 5,
    "start_time": "2023-04-16T15:54:29.572Z"
   },
   {
    "duration": 22,
    "start_time": "2023-04-16T15:54:29.578Z"
   },
   {
    "duration": 34,
    "start_time": "2023-04-16T15:54:29.602Z"
   },
   {
    "duration": 21,
    "start_time": "2023-04-16T15:54:29.637Z"
   },
   {
    "duration": 17,
    "start_time": "2023-04-16T15:54:29.660Z"
   },
   {
    "duration": 10,
    "start_time": "2023-04-16T15:54:29.678Z"
   },
   {
    "duration": 9,
    "start_time": "2023-04-16T15:54:29.689Z"
   },
   {
    "duration": 16,
    "start_time": "2023-04-16T15:54:29.700Z"
   },
   {
    "duration": 47,
    "start_time": "2023-04-16T15:54:29.717Z"
   },
   {
    "duration": 3,
    "start_time": "2023-04-16T15:54:29.766Z"
   },
   {
    "duration": 163,
    "start_time": "2023-04-16T15:54:29.771Z"
   },
   {
    "duration": 5,
    "start_time": "2023-04-16T15:54:29.936Z"
   },
   {
    "duration": 19,
    "start_time": "2023-04-16T15:54:29.942Z"
   },
   {
    "duration": 5,
    "start_time": "2023-04-16T15:54:29.965Z"
   },
   {
    "duration": 13,
    "start_time": "2023-04-16T15:54:29.972Z"
   },
   {
    "duration": 22,
    "start_time": "2023-04-16T15:54:29.987Z"
   },
   {
    "duration": 57,
    "start_time": "2023-04-16T15:54:30.011Z"
   },
   {
    "duration": 46,
    "start_time": "2023-04-16T15:54:30.069Z"
   },
   {
    "duration": 6,
    "start_time": "2023-04-16T15:54:30.117Z"
   },
   {
    "duration": 30,
    "start_time": "2023-04-16T15:54:30.125Z"
   },
   {
    "duration": 42,
    "start_time": "2023-04-16T15:54:30.158Z"
   },
   {
    "duration": 35,
    "start_time": "2023-04-16T15:54:30.202Z"
   },
   {
    "duration": 164,
    "start_time": "2023-04-16T15:54:30.239Z"
   },
   {
    "duration": 14,
    "start_time": "2023-04-16T15:54:30.405Z"
   },
   {
    "duration": 29,
    "start_time": "2023-04-16T15:54:30.421Z"
   },
   {
    "duration": 64,
    "start_time": "2023-04-16T15:54:30.452Z"
   },
   {
    "duration": 234,
    "start_time": "2023-04-16T15:54:30.518Z"
   },
   {
    "duration": 36,
    "start_time": "2023-04-16T15:54:30.754Z"
   },
   {
    "duration": 31,
    "start_time": "2023-04-16T15:54:30.792Z"
   },
   {
    "duration": 43,
    "start_time": "2023-04-16T15:54:30.825Z"
   },
   {
    "duration": 42,
    "start_time": "2023-04-16T15:54:30.870Z"
   },
   {
    "duration": 431,
    "start_time": "2023-04-16T15:54:30.913Z"
   },
   {
    "duration": 15,
    "start_time": "2023-04-16T15:54:31.345Z"
   },
   {
    "duration": 84,
    "start_time": "2023-04-16T15:54:31.361Z"
   },
   {
    "duration": 372,
    "start_time": "2023-04-16T15:54:31.447Z"
   },
   {
    "duration": 21,
    "start_time": "2023-04-16T15:54:31.820Z"
   },
   {
    "duration": 495,
    "start_time": "2023-04-16T15:54:31.842Z"
   },
   {
    "duration": 501,
    "start_time": "2023-04-16T15:54:32.339Z"
   },
   {
    "duration": 10,
    "start_time": "2023-04-16T15:54:32.842Z"
   },
   {
    "duration": 297,
    "start_time": "2023-04-16T15:54:32.854Z"
   },
   {
    "duration": 13,
    "start_time": "2023-04-16T15:54:33.153Z"
   },
   {
    "duration": 208,
    "start_time": "2023-04-16T15:54:33.167Z"
   },
   {
    "duration": 34,
    "start_time": "2023-04-16T15:54:33.376Z"
   },
   {
    "duration": 33,
    "start_time": "2023-04-16T15:54:33.411Z"
   },
   {
    "duration": 17,
    "start_time": "2023-04-16T18:00:21.566Z"
   },
   {
    "duration": 6,
    "start_time": "2023-04-16T18:00:54.605Z"
   },
   {
    "duration": 18,
    "start_time": "2023-04-16T18:02:29.746Z"
   },
   {
    "duration": 6,
    "start_time": "2023-04-16T18:02:43.950Z"
   },
   {
    "duration": 4,
    "start_time": "2023-04-16T18:04:35.523Z"
   },
   {
    "duration": 98,
    "start_time": "2023-04-16T18:08:44.604Z"
   },
   {
    "duration": 19,
    "start_time": "2023-04-16T18:10:17.593Z"
   },
   {
    "duration": 20,
    "start_time": "2023-04-16T18:11:33.332Z"
   },
   {
    "duration": 19,
    "start_time": "2023-04-16T18:11:45.997Z"
   },
   {
    "duration": 16,
    "start_time": "2023-04-16T18:12:53.130Z"
   },
   {
    "duration": 18,
    "start_time": "2023-04-16T18:33:51.447Z"
   },
   {
    "duration": 109,
    "start_time": "2023-04-16T18:38:14.859Z"
   },
   {
    "duration": 11,
    "start_time": "2023-04-16T18:39:03.936Z"
   },
   {
    "duration": 15,
    "start_time": "2023-04-16T18:39:38.676Z"
   },
   {
    "duration": 14,
    "start_time": "2023-04-16T18:41:52.948Z"
   },
   {
    "duration": 22,
    "start_time": "2023-04-16T18:42:26.245Z"
   },
   {
    "duration": 22,
    "start_time": "2023-04-16T18:43:19.897Z"
   },
   {
    "duration": 1106,
    "start_time": "2023-04-16T19:00:43.774Z"
   },
   {
    "duration": 3,
    "start_time": "2023-04-16T19:00:44.882Z"
   },
   {
    "duration": 1003,
    "start_time": "2023-04-16T19:00:44.887Z"
   },
   {
    "duration": 3,
    "start_time": "2023-04-16T19:00:45.892Z"
   },
   {
    "duration": 363,
    "start_time": "2023-04-16T19:00:45.897Z"
   },
   {
    "duration": 242,
    "start_time": "2023-04-16T19:00:46.262Z"
   },
   {
    "duration": 12,
    "start_time": "2023-04-16T19:00:46.506Z"
   },
   {
    "duration": 35,
    "start_time": "2023-04-16T19:00:46.520Z"
   },
   {
    "duration": 11,
    "start_time": "2023-04-16T19:00:46.556Z"
   },
   {
    "duration": 100,
    "start_time": "2023-04-16T19:00:46.568Z"
   },
   {
    "duration": 71,
    "start_time": "2023-04-16T19:00:46.670Z"
   },
   {
    "duration": 9,
    "start_time": "2023-04-16T19:00:46.742Z"
   },
   {
    "duration": 17,
    "start_time": "2023-04-16T19:00:46.752Z"
   },
   {
    "duration": 27,
    "start_time": "2023-04-16T19:00:46.771Z"
   },
   {
    "duration": 5,
    "start_time": "2023-04-16T19:00:46.799Z"
   },
   {
    "duration": 49,
    "start_time": "2023-04-16T19:00:46.805Z"
   },
   {
    "duration": 8,
    "start_time": "2023-04-16T19:00:46.856Z"
   },
   {
    "duration": 12,
    "start_time": "2023-04-16T19:00:46.865Z"
   },
   {
    "duration": 9,
    "start_time": "2023-04-16T19:00:46.879Z"
   },
   {
    "duration": 5,
    "start_time": "2023-04-16T19:00:46.889Z"
   },
   {
    "duration": 13,
    "start_time": "2023-04-16T19:00:46.895Z"
   },
   {
    "duration": 26,
    "start_time": "2023-04-16T19:00:46.909Z"
   },
   {
    "duration": 48,
    "start_time": "2023-04-16T19:00:46.937Z"
   },
   {
    "duration": 3,
    "start_time": "2023-04-16T19:00:46.986Z"
   },
   {
    "duration": 155,
    "start_time": "2023-04-16T19:00:46.991Z"
   },
   {
    "duration": 5,
    "start_time": "2023-04-16T19:00:47.148Z"
   },
   {
    "duration": 52,
    "start_time": "2023-04-16T19:00:47.155Z"
   },
   {
    "duration": 29,
    "start_time": "2023-04-16T19:00:47.208Z"
   },
   {
    "duration": 18,
    "start_time": "2023-04-16T19:00:47.238Z"
   },
   {
    "duration": 3,
    "start_time": "2023-04-16T19:00:47.258Z"
   },
   {
    "duration": 31,
    "start_time": "2023-04-16T19:00:47.263Z"
   },
   {
    "duration": 27,
    "start_time": "2023-04-16T19:00:47.295Z"
   },
   {
    "duration": 4,
    "start_time": "2023-04-16T19:00:47.335Z"
   },
   {
    "duration": 12,
    "start_time": "2023-04-16T19:00:47.341Z"
   },
   {
    "duration": 21,
    "start_time": "2023-04-16T19:00:47.355Z"
   },
   {
    "duration": 13,
    "start_time": "2023-04-16T19:00:47.377Z"
   },
   {
    "duration": 147,
    "start_time": "2023-04-16T19:00:47.391Z"
   },
   {
    "duration": 12,
    "start_time": "2023-04-16T19:00:47.539Z"
   },
   {
    "duration": 8,
    "start_time": "2023-04-16T19:00:47.553Z"
   },
   {
    "duration": 32,
    "start_time": "2023-04-16T19:00:47.563Z"
   },
   {
    "duration": 196,
    "start_time": "2023-04-16T19:00:47.600Z"
   },
   {
    "duration": 37,
    "start_time": "2023-04-16T19:00:47.798Z"
   },
   {
    "duration": 12,
    "start_time": "2023-04-16T19:00:47.836Z"
   },
   {
    "duration": 19,
    "start_time": "2023-04-16T19:00:47.849Z"
   },
   {
    "duration": 9,
    "start_time": "2023-04-16T19:00:47.869Z"
   },
   {
    "duration": 402,
    "start_time": "2023-04-16T19:00:47.879Z"
   },
   {
    "duration": 14,
    "start_time": "2023-04-16T19:00:48.283Z"
   },
   {
    "duration": 9,
    "start_time": "2023-04-16T19:00:48.298Z"
   },
   {
    "duration": 364,
    "start_time": "2023-04-16T19:00:48.308Z"
   },
   {
    "duration": 13,
    "start_time": "2023-04-16T19:00:48.674Z"
   },
   {
    "duration": 467,
    "start_time": "2023-04-16T19:00:48.688Z"
   },
   {
    "duration": 469,
    "start_time": "2023-04-16T19:00:49.157Z"
   },
   {
    "duration": 12,
    "start_time": "2023-04-16T19:00:49.628Z"
   },
   {
    "duration": 199,
    "start_time": "2023-04-16T19:00:49.642Z"
   },
   {
    "duration": 12,
    "start_time": "2023-04-16T19:00:49.842Z"
   },
   {
    "duration": 246,
    "start_time": "2023-04-16T19:00:49.855Z"
   },
   {
    "duration": 56,
    "start_time": "2023-04-16T19:00:50.103Z"
   },
   {
    "duration": 16,
    "start_time": "2023-04-16T19:00:50.161Z"
   },
   {
    "duration": 58,
    "start_time": "2023-04-16T19:00:50.178Z"
   },
   {
    "duration": 33,
    "start_time": "2023-04-16T19:00:50.237Z"
   },
   {
    "duration": 1097,
    "start_time": "2023-04-16T19:07:11.357Z"
   },
   {
    "duration": 3,
    "start_time": "2023-04-16T19:07:12.456Z"
   },
   {
    "duration": 944,
    "start_time": "2023-04-16T19:07:12.460Z"
   },
   {
    "duration": 3,
    "start_time": "2023-04-16T19:07:13.406Z"
   },
   {
    "duration": 343,
    "start_time": "2023-04-16T19:07:13.410Z"
   },
   {
    "duration": 237,
    "start_time": "2023-04-16T19:07:13.755Z"
   },
   {
    "duration": 12,
    "start_time": "2023-04-16T19:07:13.994Z"
   },
   {
    "duration": 39,
    "start_time": "2023-04-16T19:07:14.007Z"
   },
   {
    "duration": 10,
    "start_time": "2023-04-16T19:07:14.047Z"
   },
   {
    "duration": 102,
    "start_time": "2023-04-16T19:07:14.060Z"
   },
   {
    "duration": 55,
    "start_time": "2023-04-16T19:07:14.163Z"
   },
   {
    "duration": 9,
    "start_time": "2023-04-16T19:07:14.234Z"
   },
   {
    "duration": 14,
    "start_time": "2023-04-16T19:07:14.244Z"
   },
   {
    "duration": 23,
    "start_time": "2023-04-16T19:07:14.259Z"
   },
   {
    "duration": 5,
    "start_time": "2023-04-16T19:07:14.283Z"
   },
   {
    "duration": 44,
    "start_time": "2023-04-16T19:07:14.289Z"
   },
   {
    "duration": 6,
    "start_time": "2023-04-16T19:07:14.335Z"
   },
   {
    "duration": 14,
    "start_time": "2023-04-16T19:07:14.342Z"
   },
   {
    "duration": 8,
    "start_time": "2023-04-16T19:07:14.358Z"
   },
   {
    "duration": 5,
    "start_time": "2023-04-16T19:07:14.368Z"
   },
   {
    "duration": 8,
    "start_time": "2023-04-16T19:07:14.375Z"
   },
   {
    "duration": 14,
    "start_time": "2023-04-16T19:07:14.384Z"
   },
   {
    "duration": 60,
    "start_time": "2023-04-16T19:07:14.400Z"
   },
   {
    "duration": 3,
    "start_time": "2023-04-16T19:07:14.462Z"
   },
   {
    "duration": 180,
    "start_time": "2023-04-16T19:07:14.466Z"
   },
   {
    "duration": 8,
    "start_time": "2023-04-16T19:07:14.649Z"
   },
   {
    "duration": 22,
    "start_time": "2023-04-16T19:07:14.659Z"
   },
   {
    "duration": 24,
    "start_time": "2023-04-16T19:07:14.685Z"
   },
   {
    "duration": 14,
    "start_time": "2023-04-16T19:07:14.711Z"
   },
   {
    "duration": 13,
    "start_time": "2023-04-16T19:07:14.727Z"
   },
   {
    "duration": 40,
    "start_time": "2023-04-16T19:07:14.742Z"
   },
   {
    "duration": 27,
    "start_time": "2023-04-16T19:07:14.784Z"
   },
   {
    "duration": 5,
    "start_time": "2023-04-16T19:07:14.813Z"
   },
   {
    "duration": 19,
    "start_time": "2023-04-16T19:07:14.819Z"
   },
   {
    "duration": 14,
    "start_time": "2023-04-16T19:07:14.839Z"
   },
   {
    "duration": 12,
    "start_time": "2023-04-16T19:07:14.855Z"
   },
   {
    "duration": 142,
    "start_time": "2023-04-16T19:07:14.869Z"
   },
   {
    "duration": 26,
    "start_time": "2023-04-16T19:07:15.013Z"
   },
   {
    "duration": 13,
    "start_time": "2023-04-16T19:07:15.041Z"
   },
   {
    "duration": 56,
    "start_time": "2023-04-16T19:07:15.055Z"
   },
   {
    "duration": 168,
    "start_time": "2023-04-16T19:07:15.112Z"
   },
   {
    "duration": 41,
    "start_time": "2023-04-16T19:07:15.282Z"
   },
   {
    "duration": 20,
    "start_time": "2023-04-16T19:07:15.324Z"
   },
   {
    "duration": 21,
    "start_time": "2023-04-16T19:07:15.345Z"
   },
   {
    "duration": 10,
    "start_time": "2023-04-16T19:07:15.367Z"
   },
   {
    "duration": 402,
    "start_time": "2023-04-16T19:07:15.378Z"
   },
   {
    "duration": 13,
    "start_time": "2023-04-16T19:07:15.782Z"
   },
   {
    "duration": 13,
    "start_time": "2023-04-16T19:07:15.796Z"
   },
   {
    "duration": 356,
    "start_time": "2023-04-16T19:07:15.810Z"
   },
   {
    "duration": 12,
    "start_time": "2023-04-16T19:07:16.167Z"
   },
   {
    "duration": 476,
    "start_time": "2023-04-16T19:07:16.180Z"
   },
   {
    "duration": 460,
    "start_time": "2023-04-16T19:07:16.657Z"
   },
   {
    "duration": 17,
    "start_time": "2023-04-16T19:07:17.119Z"
   },
   {
    "duration": 280,
    "start_time": "2023-04-16T19:07:17.138Z"
   },
   {
    "duration": 21,
    "start_time": "2023-04-16T19:07:17.420Z"
   },
   {
    "duration": 164,
    "start_time": "2023-04-16T19:07:17.442Z"
   },
   {
    "duration": 35,
    "start_time": "2023-04-16T19:07:17.607Z"
   },
   {
    "duration": 12,
    "start_time": "2023-04-16T19:07:17.644Z"
   },
   {
    "duration": 32,
    "start_time": "2023-04-16T19:07:17.658Z"
   },
   {
    "duration": 59,
    "start_time": "2023-04-16T19:07:17.691Z"
   },
   {
    "duration": 1094,
    "start_time": "2023-04-16T19:32:47.145Z"
   },
   {
    "duration": 3,
    "start_time": "2023-04-16T19:32:48.241Z"
   },
   {
    "duration": 943,
    "start_time": "2023-04-16T19:32:48.245Z"
   },
   {
    "duration": 4,
    "start_time": "2023-04-16T19:32:49.190Z"
   },
   {
    "duration": 396,
    "start_time": "2023-04-16T19:32:49.195Z"
   },
   {
    "duration": 255,
    "start_time": "2023-04-16T19:32:49.593Z"
   },
   {
    "duration": 14,
    "start_time": "2023-04-16T19:32:49.850Z"
   },
   {
    "duration": 33,
    "start_time": "2023-04-16T19:32:49.865Z"
   },
   {
    "duration": 36,
    "start_time": "2023-04-16T19:32:49.900Z"
   },
   {
    "duration": 102,
    "start_time": "2023-04-16T19:32:49.939Z"
   },
   {
    "duration": 59,
    "start_time": "2023-04-16T19:32:50.043Z"
   },
   {
    "duration": 9,
    "start_time": "2023-04-16T19:32:50.104Z"
   },
   {
    "duration": 15,
    "start_time": "2023-04-16T19:32:50.134Z"
   },
   {
    "duration": 23,
    "start_time": "2023-04-16T19:32:50.150Z"
   },
   {
    "duration": 4,
    "start_time": "2023-04-16T19:32:50.175Z"
   },
   {
    "duration": 26,
    "start_time": "2023-04-16T19:32:50.181Z"
   },
   {
    "duration": 6,
    "start_time": "2023-04-16T19:32:50.234Z"
   },
   {
    "duration": 11,
    "start_time": "2023-04-16T19:32:50.242Z"
   },
   {
    "duration": 15,
    "start_time": "2023-04-16T19:32:50.256Z"
   },
   {
    "duration": 20,
    "start_time": "2023-04-16T19:32:50.273Z"
   },
   {
    "duration": 22,
    "start_time": "2023-04-16T19:32:50.295Z"
   },
   {
    "duration": 18,
    "start_time": "2023-04-16T19:32:50.318Z"
   },
   {
    "duration": 44,
    "start_time": "2023-04-16T19:32:50.337Z"
   },
   {
    "duration": 4,
    "start_time": "2023-04-16T19:32:50.383Z"
   },
   {
    "duration": 182,
    "start_time": "2023-04-16T19:32:50.389Z"
   },
   {
    "duration": 5,
    "start_time": "2023-04-16T19:32:50.572Z"
   },
   {
    "duration": 28,
    "start_time": "2023-04-16T19:32:50.579Z"
   },
   {
    "duration": 6,
    "start_time": "2023-04-16T19:32:50.611Z"
   },
   {
    "duration": 12,
    "start_time": "2023-04-16T19:32:50.619Z"
   },
   {
    "duration": 3,
    "start_time": "2023-04-16T19:32:50.632Z"
   },
   {
    "duration": 39,
    "start_time": "2023-04-16T19:32:50.637Z"
   },
   {
    "duration": 29,
    "start_time": "2023-04-16T19:32:50.678Z"
   },
   {
    "duration": 4,
    "start_time": "2023-04-16T19:32:50.709Z"
   },
   {
    "duration": 12,
    "start_time": "2023-04-16T19:32:50.735Z"
   },
   {
    "duration": 32,
    "start_time": "2023-04-16T19:32:50.749Z"
   },
   {
    "duration": 20,
    "start_time": "2023-04-16T19:32:50.782Z"
   },
   {
    "duration": 178,
    "start_time": "2023-04-16T19:32:50.803Z"
   },
   {
    "duration": 12,
    "start_time": "2023-04-16T19:32:50.983Z"
   },
   {
    "duration": 16,
    "start_time": "2023-04-16T19:32:50.997Z"
   },
   {
    "duration": 57,
    "start_time": "2023-04-16T19:32:51.015Z"
   },
   {
    "duration": 171,
    "start_time": "2023-04-16T19:32:51.073Z"
   },
   {
    "duration": 40,
    "start_time": "2023-04-16T19:32:51.245Z"
   },
   {
    "duration": 17,
    "start_time": "2023-04-16T19:32:51.287Z"
   },
   {
    "duration": 37,
    "start_time": "2023-04-16T19:32:51.306Z"
   },
   {
    "duration": 9,
    "start_time": "2023-04-16T19:32:51.345Z"
   },
   {
    "duration": 391,
    "start_time": "2023-04-16T19:32:51.356Z"
   },
   {
    "duration": 17,
    "start_time": "2023-04-16T19:33:07.540Z"
   },
   {
    "duration": 1445,
    "start_time": "2023-04-16T19:33:35.529Z"
   },
   {
    "duration": 5,
    "start_time": "2023-04-16T19:33:36.975Z"
   },
   {
    "duration": 978,
    "start_time": "2023-04-16T19:33:36.981Z"
   },
   {
    "duration": 4,
    "start_time": "2023-04-16T19:33:37.960Z"
   },
   {
    "duration": 382,
    "start_time": "2023-04-16T19:33:37.966Z"
   },
   {
    "duration": 276,
    "start_time": "2023-04-16T19:33:38.350Z"
   },
   {
    "duration": 18,
    "start_time": "2023-04-16T19:33:38.628Z"
   },
   {
    "duration": 30,
    "start_time": "2023-04-16T19:33:38.648Z"
   },
   {
    "duration": 12,
    "start_time": "2023-04-16T19:33:38.680Z"
   },
   {
    "duration": 122,
    "start_time": "2023-04-16T19:33:38.693Z"
   },
   {
    "duration": 67,
    "start_time": "2023-04-16T19:33:38.817Z"
   },
   {
    "duration": 10,
    "start_time": "2023-04-16T19:33:38.886Z"
   },
   {
    "duration": 20,
    "start_time": "2023-04-16T19:33:38.898Z"
   },
   {
    "duration": 26,
    "start_time": "2023-04-16T19:33:38.936Z"
   },
   {
    "duration": 6,
    "start_time": "2023-04-16T19:33:38.964Z"
   },
   {
    "duration": 45,
    "start_time": "2023-04-16T19:33:38.972Z"
   },
   {
    "duration": 24,
    "start_time": "2023-04-16T19:33:39.019Z"
   },
   {
    "duration": 24,
    "start_time": "2023-04-16T19:33:39.045Z"
   },
   {
    "duration": 16,
    "start_time": "2023-04-16T19:33:39.071Z"
   },
   {
    "duration": 11,
    "start_time": "2023-04-16T19:33:39.089Z"
   },
   {
    "duration": 20,
    "start_time": "2023-04-16T19:33:39.102Z"
   },
   {
    "duration": 26,
    "start_time": "2023-04-16T19:33:39.124Z"
   },
   {
    "duration": 45,
    "start_time": "2023-04-16T19:33:39.152Z"
   },
   {
    "duration": 4,
    "start_time": "2023-04-16T19:33:39.198Z"
   },
   {
    "duration": 174,
    "start_time": "2023-04-16T19:33:39.204Z"
   },
   {
    "duration": 5,
    "start_time": "2023-04-16T19:33:39.380Z"
   },
   {
    "duration": 36,
    "start_time": "2023-04-16T19:33:39.386Z"
   },
   {
    "duration": 19,
    "start_time": "2023-04-16T19:33:39.424Z"
   },
   {
    "duration": 61,
    "start_time": "2023-04-16T19:33:39.445Z"
   },
   {
    "duration": 21,
    "start_time": "2023-04-16T19:33:39.508Z"
   },
   {
    "duration": 41,
    "start_time": "2023-04-16T19:33:39.531Z"
   },
   {
    "duration": 32,
    "start_time": "2023-04-16T19:33:39.573Z"
   },
   {
    "duration": 10,
    "start_time": "2023-04-16T19:33:39.607Z"
   },
   {
    "duration": 17,
    "start_time": "2023-04-16T19:33:39.618Z"
   },
   {
    "duration": 14,
    "start_time": "2023-04-16T19:33:39.637Z"
   },
   {
    "duration": 14,
    "start_time": "2023-04-16T19:33:39.653Z"
   },
   {
    "duration": 155,
    "start_time": "2023-04-16T19:33:39.669Z"
   },
   {
    "duration": 19,
    "start_time": "2023-04-16T19:33:39.826Z"
   },
   {
    "duration": 8,
    "start_time": "2023-04-16T19:33:39.846Z"
   },
   {
    "duration": 29,
    "start_time": "2023-04-16T19:33:39.855Z"
   },
   {
    "duration": 180,
    "start_time": "2023-04-16T19:33:39.888Z"
   },
   {
    "duration": 35,
    "start_time": "2023-04-16T19:33:40.070Z"
   },
   {
    "duration": 27,
    "start_time": "2023-04-16T19:33:40.107Z"
   },
   {
    "duration": 18,
    "start_time": "2023-04-16T19:33:40.136Z"
   },
   {
    "duration": 11,
    "start_time": "2023-04-16T19:33:40.156Z"
   },
   {
    "duration": 392,
    "start_time": "2023-04-16T19:33:40.168Z"
   },
   {
    "duration": 14,
    "start_time": "2023-04-16T19:33:40.561Z"
   },
   {
    "duration": 13,
    "start_time": "2023-04-16T19:33:40.576Z"
   },
   {
    "duration": 371,
    "start_time": "2023-04-16T19:33:40.590Z"
   },
   {
    "duration": 16,
    "start_time": "2023-04-16T19:33:40.962Z"
   },
   {
    "duration": 489,
    "start_time": "2023-04-16T19:33:40.980Z"
   },
   {
    "duration": 467,
    "start_time": "2023-04-16T19:33:41.471Z"
   },
   {
    "duration": 9,
    "start_time": "2023-04-16T19:33:41.940Z"
   },
   {
    "duration": 193,
    "start_time": "2023-04-16T19:33:41.951Z"
   },
   {
    "duration": 12,
    "start_time": "2023-04-16T19:33:42.146Z"
   },
   {
    "duration": 237,
    "start_time": "2023-04-16T19:33:42.159Z"
   },
   {
    "duration": 51,
    "start_time": "2023-04-16T19:33:42.397Z"
   },
   {
    "duration": 12,
    "start_time": "2023-04-16T19:33:42.450Z"
   },
   {
    "duration": 8,
    "start_time": "2023-04-16T19:33:42.464Z"
   },
   {
    "duration": 70,
    "start_time": "2023-04-16T19:33:42.473Z"
   },
   {
    "duration": 177,
    "start_time": "2023-04-16T19:37:28.165Z"
   },
   {
    "duration": 1139,
    "start_time": "2023-04-16T19:37:50.327Z"
   },
   {
    "duration": 3,
    "start_time": "2023-04-16T19:37:51.468Z"
   },
   {
    "duration": 974,
    "start_time": "2023-04-16T19:37:51.473Z"
   },
   {
    "duration": 4,
    "start_time": "2023-04-16T19:37:52.448Z"
   },
   {
    "duration": 370,
    "start_time": "2023-04-16T19:37:52.454Z"
   },
   {
    "duration": 263,
    "start_time": "2023-04-16T19:37:52.826Z"
   },
   {
    "duration": 13,
    "start_time": "2023-04-16T19:37:53.090Z"
   },
   {
    "duration": 46,
    "start_time": "2023-04-16T19:37:53.104Z"
   },
   {
    "duration": 9,
    "start_time": "2023-04-16T19:37:53.152Z"
   },
   {
    "duration": 96,
    "start_time": "2023-04-16T19:37:53.163Z"
   },
   {
    "duration": 86,
    "start_time": "2023-04-16T19:37:53.260Z"
   },
   {
    "duration": 9,
    "start_time": "2023-04-16T19:37:53.347Z"
   },
   {
    "duration": 13,
    "start_time": "2023-04-16T19:37:53.358Z"
   },
   {
    "duration": 24,
    "start_time": "2023-04-16T19:37:53.373Z"
   },
   {
    "duration": 5,
    "start_time": "2023-04-16T19:37:53.399Z"
   },
   {
    "duration": 54,
    "start_time": "2023-04-16T19:37:53.405Z"
   },
   {
    "duration": 6,
    "start_time": "2023-04-16T19:37:53.461Z"
   },
   {
    "duration": 7,
    "start_time": "2023-04-16T19:37:53.469Z"
   },
   {
    "duration": 7,
    "start_time": "2023-04-16T19:37:53.477Z"
   },
   {
    "duration": 4,
    "start_time": "2023-04-16T19:37:53.486Z"
   },
   {
    "duration": 8,
    "start_time": "2023-04-16T19:37:53.491Z"
   },
   {
    "duration": 43,
    "start_time": "2023-04-16T19:37:53.501Z"
   },
   {
    "duration": 43,
    "start_time": "2023-04-16T19:37:53.545Z"
   },
   {
    "duration": 4,
    "start_time": "2023-04-16T19:37:53.590Z"
   },
   {
    "duration": 161,
    "start_time": "2023-04-16T19:37:53.595Z"
   },
   {
    "duration": 5,
    "start_time": "2023-04-16T19:37:53.758Z"
   },
   {
    "duration": 25,
    "start_time": "2023-04-16T19:37:53.765Z"
   },
   {
    "duration": 6,
    "start_time": "2023-04-16T19:37:53.791Z"
   },
   {
    "duration": 11,
    "start_time": "2023-04-16T19:37:53.799Z"
   },
   {
    "duration": 3,
    "start_time": "2023-04-16T19:37:53.812Z"
   },
   {
    "duration": 52,
    "start_time": "2023-04-16T19:37:53.817Z"
   },
   {
    "duration": 28,
    "start_time": "2023-04-16T19:37:53.870Z"
   },
   {
    "duration": 5,
    "start_time": "2023-04-16T19:37:53.899Z"
   },
   {
    "duration": 13,
    "start_time": "2023-04-16T19:37:53.905Z"
   },
   {
    "duration": 22,
    "start_time": "2023-04-16T19:37:53.934Z"
   },
   {
    "duration": 14,
    "start_time": "2023-04-16T19:37:53.957Z"
   },
   {
    "duration": 136,
    "start_time": "2023-04-16T19:37:53.972Z"
   },
   {
    "duration": 12,
    "start_time": "2023-04-16T19:37:54.110Z"
   },
   {
    "duration": 24,
    "start_time": "2023-04-16T19:37:54.123Z"
   },
   {
    "duration": 47,
    "start_time": "2023-04-16T19:37:54.149Z"
   },
   {
    "duration": 189,
    "start_time": "2023-04-16T19:37:54.201Z"
   },
   {
    "duration": 32,
    "start_time": "2023-04-16T19:37:54.392Z"
   },
   {
    "duration": 13,
    "start_time": "2023-04-16T19:37:54.435Z"
   },
   {
    "duration": 23,
    "start_time": "2023-04-16T19:37:54.450Z"
   },
   {
    "duration": 10,
    "start_time": "2023-04-16T19:37:54.474Z"
   },
   {
    "duration": 417,
    "start_time": "2023-04-16T19:37:54.486Z"
   },
   {
    "duration": 15,
    "start_time": "2023-04-16T19:37:54.905Z"
   },
   {
    "duration": 23,
    "start_time": "2023-04-16T19:37:54.937Z"
   },
   {
    "duration": 393,
    "start_time": "2023-04-16T19:37:54.962Z"
   },
   {
    "duration": 15,
    "start_time": "2023-04-16T19:37:55.357Z"
   },
   {
    "duration": 484,
    "start_time": "2023-04-16T19:37:55.374Z"
   },
   {
    "duration": 462,
    "start_time": "2023-04-16T19:37:55.859Z"
   },
   {
    "duration": 23,
    "start_time": "2023-04-16T19:37:56.323Z"
   },
   {
    "duration": 199,
    "start_time": "2023-04-16T19:37:56.349Z"
   },
   {
    "duration": 12,
    "start_time": "2023-04-16T19:37:56.550Z"
   },
   {
    "duration": 233,
    "start_time": "2023-04-16T19:37:56.563Z"
   },
   {
    "duration": 54,
    "start_time": "2023-04-16T19:37:56.797Z"
   },
   {
    "duration": 17,
    "start_time": "2023-04-16T19:37:56.852Z"
   },
   {
    "duration": 8,
    "start_time": "2023-04-16T19:37:56.871Z"
   },
   {
    "duration": 77,
    "start_time": "2023-04-16T19:37:56.880Z"
   },
   {
    "duration": 1099,
    "start_time": "2023-04-16T21:10:45.737Z"
   },
   {
    "duration": 4,
    "start_time": "2023-04-16T21:10:46.837Z"
   },
   {
    "duration": 1033,
    "start_time": "2023-04-16T21:10:46.842Z"
   },
   {
    "duration": 4,
    "start_time": "2023-04-16T21:10:47.876Z"
   },
   {
    "duration": 394,
    "start_time": "2023-04-16T21:10:47.882Z"
   },
   {
    "duration": 246,
    "start_time": "2023-04-16T21:10:48.278Z"
   },
   {
    "duration": 17,
    "start_time": "2023-04-16T21:10:48.526Z"
   },
   {
    "duration": 29,
    "start_time": "2023-04-16T21:10:48.545Z"
   },
   {
    "duration": 10,
    "start_time": "2023-04-16T21:10:48.575Z"
   },
   {
    "duration": 111,
    "start_time": "2023-04-16T21:10:48.587Z"
   },
   {
    "duration": 75,
    "start_time": "2023-04-16T21:10:48.699Z"
   },
   {
    "duration": 8,
    "start_time": "2023-04-16T21:10:48.776Z"
   },
   {
    "duration": 17,
    "start_time": "2023-04-16T21:10:48.785Z"
   },
   {
    "duration": 40,
    "start_time": "2023-04-16T21:10:48.804Z"
   },
   {
    "duration": 5,
    "start_time": "2023-04-16T21:10:48.846Z"
   },
   {
    "duration": 17,
    "start_time": "2023-04-16T21:10:48.852Z"
   },
   {
    "duration": 7,
    "start_time": "2023-04-16T21:10:48.870Z"
   },
   {
    "duration": 5,
    "start_time": "2023-04-16T21:10:48.879Z"
   },
   {
    "duration": 10,
    "start_time": "2023-04-16T21:10:48.885Z"
   },
   {
    "duration": 37,
    "start_time": "2023-04-16T21:10:48.897Z"
   },
   {
    "duration": 8,
    "start_time": "2023-04-16T21:10:48.936Z"
   },
   {
    "duration": 19,
    "start_time": "2023-04-16T21:10:48.946Z"
   },
   {
    "duration": 41,
    "start_time": "2023-04-16T21:10:48.966Z"
   },
   {
    "duration": 3,
    "start_time": "2023-04-16T21:10:49.009Z"
   },
   {
    "duration": 164,
    "start_time": "2023-04-16T21:10:49.013Z"
   },
   {
    "duration": 5,
    "start_time": "2023-04-16T21:10:49.178Z"
   },
   {
    "duration": 17,
    "start_time": "2023-04-16T21:10:49.185Z"
   },
   {
    "duration": 6,
    "start_time": "2023-04-16T21:10:49.203Z"
   },
   {
    "duration": 7,
    "start_time": "2023-04-16T21:10:49.210Z"
   },
   {
    "duration": 3,
    "start_time": "2023-04-16T21:10:49.234Z"
   },
   {
    "duration": 39,
    "start_time": "2023-04-16T21:10:49.238Z"
   },
   {
    "duration": 31,
    "start_time": "2023-04-16T21:10:49.279Z"
   },
   {
    "duration": 26,
    "start_time": "2023-04-16T21:10:49.311Z"
   },
   {
    "duration": 15,
    "start_time": "2023-04-16T21:10:49.338Z"
   },
   {
    "duration": 13,
    "start_time": "2023-04-16T21:10:49.354Z"
   },
   {
    "duration": 12,
    "start_time": "2023-04-16T21:10:49.368Z"
   },
   {
    "duration": 159,
    "start_time": "2023-04-16T21:10:49.381Z"
   },
   {
    "duration": 14,
    "start_time": "2023-04-16T21:10:49.541Z"
   },
   {
    "duration": 9,
    "start_time": "2023-04-16T21:10:49.556Z"
   },
   {
    "duration": 34,
    "start_time": "2023-04-16T21:10:49.567Z"
   },
   {
    "duration": 192,
    "start_time": "2023-04-16T21:10:49.605Z"
   },
   {
    "duration": 47,
    "start_time": "2023-04-16T21:10:49.799Z"
   },
   {
    "duration": 12,
    "start_time": "2023-04-16T21:10:49.848Z"
   },
   {
    "duration": 18,
    "start_time": "2023-04-16T21:10:49.862Z"
   },
   {
    "duration": 9,
    "start_time": "2023-04-16T21:10:49.882Z"
   },
   {
    "duration": 436,
    "start_time": "2023-04-16T21:10:49.893Z"
   },
   {
    "duration": 13,
    "start_time": "2023-04-16T21:10:50.335Z"
   },
   {
    "duration": 8,
    "start_time": "2023-04-16T21:10:50.350Z"
   },
   {
    "duration": 384,
    "start_time": "2023-04-16T21:10:50.360Z"
   },
   {
    "duration": 12,
    "start_time": "2023-04-16T21:10:50.746Z"
   },
   {
    "duration": 481,
    "start_time": "2023-04-16T21:10:50.760Z"
   },
   {
    "duration": 459,
    "start_time": "2023-04-16T21:10:51.242Z"
   },
   {
    "duration": 7,
    "start_time": "2023-04-16T21:10:51.703Z"
   },
   {
    "duration": 188,
    "start_time": "2023-04-16T21:10:51.712Z"
   },
   {
    "duration": 13,
    "start_time": "2023-04-16T21:10:51.901Z"
   },
   {
    "duration": 228,
    "start_time": "2023-04-16T21:10:51.916Z"
   },
   {
    "duration": 33,
    "start_time": "2023-04-16T21:10:52.145Z"
   },
   {
    "duration": 64,
    "start_time": "2023-04-16T21:10:52.179Z"
   },
   {
    "duration": 4,
    "start_time": "2023-04-16T21:10:52.245Z"
   },
   {
    "duration": 18,
    "start_time": "2023-04-16T21:10:52.251Z"
   },
   {
    "duration": 1054,
    "start_time": "2023-04-16T21:43:32.695Z"
   },
   {
    "duration": 10,
    "start_time": "2023-04-16T21:43:33.751Z"
   },
   {
    "duration": 901,
    "start_time": "2023-04-16T21:43:33.763Z"
   },
   {
    "duration": 5,
    "start_time": "2023-04-16T21:43:34.666Z"
   },
   {
    "duration": 301,
    "start_time": "2023-04-16T21:43:34.673Z"
   },
   {
    "duration": 230,
    "start_time": "2023-04-16T21:43:34.976Z"
   },
   {
    "duration": 13,
    "start_time": "2023-04-16T21:43:35.208Z"
   },
   {
    "duration": 49,
    "start_time": "2023-04-16T21:43:35.223Z"
   },
   {
    "duration": 14,
    "start_time": "2023-04-16T21:43:35.274Z"
   },
   {
    "duration": 118,
    "start_time": "2023-04-16T21:43:35.292Z"
   },
   {
    "duration": 95,
    "start_time": "2023-04-16T21:43:35.412Z"
   },
   {
    "duration": 14,
    "start_time": "2023-04-16T21:43:35.509Z"
   },
   {
    "duration": 33,
    "start_time": "2023-04-16T21:43:35.525Z"
   },
   {
    "duration": 38,
    "start_time": "2023-04-16T21:43:35.560Z"
   },
   {
    "duration": 6,
    "start_time": "2023-04-16T21:43:35.600Z"
   },
   {
    "duration": 37,
    "start_time": "2023-04-16T21:43:35.607Z"
   },
   {
    "duration": 7,
    "start_time": "2023-04-16T21:43:35.645Z"
   },
   {
    "duration": 21,
    "start_time": "2023-04-16T21:43:35.654Z"
   },
   {
    "duration": 32,
    "start_time": "2023-04-16T21:43:35.677Z"
   },
   {
    "duration": 26,
    "start_time": "2023-04-16T21:43:35.711Z"
   },
   {
    "duration": 21,
    "start_time": "2023-04-16T21:43:35.739Z"
   },
   {
    "duration": 22,
    "start_time": "2023-04-16T21:43:35.762Z"
   },
   {
    "duration": 84,
    "start_time": "2023-04-16T21:43:35.786Z"
   },
   {
    "duration": 4,
    "start_time": "2023-04-16T21:43:35.871Z"
   },
   {
    "duration": 188,
    "start_time": "2023-04-16T21:43:35.876Z"
   },
   {
    "duration": 9,
    "start_time": "2023-04-16T21:43:36.067Z"
   },
   {
    "duration": 42,
    "start_time": "2023-04-16T21:43:36.077Z"
   },
   {
    "duration": 34,
    "start_time": "2023-04-16T21:43:36.124Z"
   },
   {
    "duration": 27,
    "start_time": "2023-04-16T21:43:36.160Z"
   },
   {
    "duration": 32,
    "start_time": "2023-04-16T21:43:36.189Z"
   },
   {
    "duration": 47,
    "start_time": "2023-04-16T21:43:36.223Z"
   },
   {
    "duration": 38,
    "start_time": "2023-04-16T21:43:36.272Z"
   },
   {
    "duration": 5,
    "start_time": "2023-04-16T21:43:36.311Z"
   },
   {
    "duration": 13,
    "start_time": "2023-04-16T21:43:36.317Z"
   },
   {
    "duration": 14,
    "start_time": "2023-04-16T21:43:36.331Z"
   },
   {
    "duration": 35,
    "start_time": "2023-04-16T21:43:36.347Z"
   },
   {
    "duration": 115,
    "start_time": "2023-04-16T21:43:36.383Z"
   },
   {
    "duration": 15,
    "start_time": "2023-04-16T21:43:36.499Z"
   },
   {
    "duration": 11,
    "start_time": "2023-04-16T21:43:36.516Z"
   },
   {
    "duration": 54,
    "start_time": "2023-04-16T21:43:36.528Z"
   },
   {
    "duration": 179,
    "start_time": "2023-04-16T21:43:36.584Z"
   },
   {
    "duration": 40,
    "start_time": "2023-04-16T21:43:36.765Z"
   },
   {
    "duration": 10,
    "start_time": "2023-04-16T21:43:36.806Z"
   },
   {
    "duration": 24,
    "start_time": "2023-04-16T21:43:36.818Z"
   },
   {
    "duration": 38,
    "start_time": "2023-04-16T21:43:36.844Z"
   },
   {
    "duration": 413,
    "start_time": "2023-04-16T21:43:36.884Z"
   },
   {
    "duration": 12,
    "start_time": "2023-04-16T21:43:37.299Z"
   },
   {
    "duration": 144,
    "start_time": "2023-04-16T21:43:37.312Z"
   },
   {
    "duration": 330,
    "start_time": "2023-04-16T21:43:37.458Z"
   },
   {
    "duration": 13,
    "start_time": "2023-04-16T21:43:37.789Z"
   },
   {
    "duration": 424,
    "start_time": "2023-04-16T21:43:37.805Z"
   },
   {
    "duration": 408,
    "start_time": "2023-04-16T21:43:38.231Z"
   },
   {
    "duration": 7,
    "start_time": "2023-04-16T21:43:38.640Z"
   },
   {
    "duration": 255,
    "start_time": "2023-04-16T21:43:38.649Z"
   },
   {
    "duration": 12,
    "start_time": "2023-04-16T21:43:38.906Z"
   },
   {
    "duration": 4722,
    "start_time": "2023-04-16T21:43:38.919Z"
   },
   {
    "duration": 53,
    "start_time": "2023-04-16T21:43:43.642Z"
   },
   {
    "duration": 14,
    "start_time": "2023-04-16T21:43:43.697Z"
   },
   {
    "duration": 60,
    "start_time": "2023-04-16T21:43:43.713Z"
   },
   {
    "duration": 20,
    "start_time": "2023-04-16T21:43:43.775Z"
   },
   {
    "duration": 23,
    "start_time": "2023-04-16T21:50:16.303Z"
   },
   {
    "duration": 1377,
    "start_time": "2023-04-17T06:03:39.019Z"
   },
   {
    "duration": 4,
    "start_time": "2023-04-17T06:03:40.398Z"
   },
   {
    "duration": 1248,
    "start_time": "2023-04-17T06:03:40.403Z"
   },
   {
    "duration": 4,
    "start_time": "2023-04-17T06:03:41.653Z"
   },
   {
    "duration": 325,
    "start_time": "2023-04-17T06:03:41.658Z"
   },
   {
    "duration": 223,
    "start_time": "2023-04-17T06:03:41.984Z"
   },
   {
    "duration": 13,
    "start_time": "2023-04-17T06:03:42.209Z"
   },
   {
    "duration": 26,
    "start_time": "2023-04-17T06:03:42.223Z"
   },
   {
    "duration": 29,
    "start_time": "2023-04-17T06:03:42.250Z"
   },
   {
    "duration": 102,
    "start_time": "2023-04-17T06:03:42.282Z"
   },
   {
    "duration": 156,
    "start_time": "2023-04-17T06:03:42.386Z"
   },
   {
    "duration": 9,
    "start_time": "2023-04-17T06:03:42.544Z"
   },
   {
    "duration": 14,
    "start_time": "2023-04-17T06:03:42.555Z"
   },
   {
    "duration": 22,
    "start_time": "2023-04-17T06:03:42.571Z"
   },
   {
    "duration": 5,
    "start_time": "2023-04-17T06:03:42.595Z"
   },
   {
    "duration": 19,
    "start_time": "2023-04-17T06:03:42.601Z"
   },
   {
    "duration": 7,
    "start_time": "2023-04-17T06:03:42.621Z"
   },
   {
    "duration": 9,
    "start_time": "2023-04-17T06:03:42.630Z"
   },
   {
    "duration": 34,
    "start_time": "2023-04-17T06:03:42.640Z"
   },
   {
    "duration": 5,
    "start_time": "2023-04-17T06:03:42.675Z"
   },
   {
    "duration": 11,
    "start_time": "2023-04-17T06:03:42.681Z"
   },
   {
    "duration": 18,
    "start_time": "2023-04-17T06:03:42.693Z"
   },
   {
    "duration": 61,
    "start_time": "2023-04-17T06:03:42.713Z"
   },
   {
    "duration": 4,
    "start_time": "2023-04-17T06:03:42.776Z"
   },
   {
    "duration": 161,
    "start_time": "2023-04-17T06:03:42.782Z"
   },
   {
    "duration": 6,
    "start_time": "2023-04-17T06:03:42.946Z"
   },
   {
    "duration": 29,
    "start_time": "2023-04-17T06:03:42.954Z"
   },
   {
    "duration": 9,
    "start_time": "2023-04-17T06:03:42.988Z"
   },
   {
    "duration": 13,
    "start_time": "2023-04-17T06:03:42.998Z"
   },
   {
    "duration": 3,
    "start_time": "2023-04-17T06:03:43.013Z"
   },
   {
    "duration": 32,
    "start_time": "2023-04-17T06:03:43.018Z"
   },
   {
    "duration": 48,
    "start_time": "2023-04-17T06:03:43.052Z"
   },
   {
    "duration": 6,
    "start_time": "2023-04-17T06:03:43.101Z"
   },
   {
    "duration": 22,
    "start_time": "2023-04-17T06:03:43.109Z"
   },
   {
    "duration": 22,
    "start_time": "2023-04-17T06:03:43.133Z"
   },
   {
    "duration": 32,
    "start_time": "2023-04-17T06:03:43.156Z"
   },
   {
    "duration": 145,
    "start_time": "2023-04-17T06:03:43.190Z"
   },
   {
    "duration": 12,
    "start_time": "2023-04-17T06:03:43.336Z"
   },
   {
    "duration": 23,
    "start_time": "2023-04-17T06:03:43.349Z"
   },
   {
    "duration": 29,
    "start_time": "2023-04-17T06:03:43.374Z"
   },
   {
    "duration": 172,
    "start_time": "2023-04-17T06:03:43.404Z"
   },
   {
    "duration": 33,
    "start_time": "2023-04-17T06:03:43.578Z"
   },
   {
    "duration": 11,
    "start_time": "2023-04-17T06:03:43.612Z"
   },
   {
    "duration": 18,
    "start_time": "2023-04-17T06:03:43.624Z"
   },
   {
    "duration": 34,
    "start_time": "2023-04-17T06:03:43.644Z"
   },
   {
    "duration": 373,
    "start_time": "2023-04-17T06:03:43.679Z"
   },
   {
    "duration": 21,
    "start_time": "2023-04-17T06:03:44.054Z"
   },
   {
    "duration": 9,
    "start_time": "2023-04-17T06:03:44.076Z"
   },
   {
    "duration": 343,
    "start_time": "2023-04-17T06:03:44.086Z"
   },
   {
    "duration": 12,
    "start_time": "2023-04-17T06:03:44.431Z"
   },
   {
    "duration": 435,
    "start_time": "2023-04-17T06:03:44.444Z"
   },
   {
    "duration": 447,
    "start_time": "2023-04-17T06:03:44.881Z"
   },
   {
    "duration": 8,
    "start_time": "2023-04-17T06:03:45.330Z"
   },
   {
    "duration": 307,
    "start_time": "2023-04-17T06:03:45.340Z"
   },
   {
    "duration": 13,
    "start_time": "2023-04-17T06:03:45.649Z"
   }
  ],
  "kernelspec": {
   "display_name": "Python 3 (ipykernel)",
   "language": "python",
   "name": "python3"
  },
  "language_info": {
   "codemirror_mode": {
    "name": "ipython",
    "version": 3
   },
   "file_extension": ".py",
   "mimetype": "text/x-python",
   "name": "python",
   "nbconvert_exporter": "python",
   "pygments_lexer": "ipython3",
   "version": "3.9.16"
  },
  "toc": {
   "base_numbering": 1,
   "nav_menu": {},
   "number_sections": true,
   "sideBar": true,
   "skip_h1_title": true,
   "title_cell": "Оглавление",
   "title_sidebar": "Contents",
   "toc_cell": true,
   "toc_position": {},
   "toc_section_display": true,
   "toc_window_display": false
  }
 },
 "nbformat": 4,
 "nbformat_minor": 2
}
