{
 "cells": [
  {
   "cell_type": "markdown",
   "metadata": {},
   "source": [
    "# Анализ базы данных сервиса для чтения книг"
   ]
  },
  {
   "cell_type": "markdown",
   "metadata": {},
   "source": [
    "В нашем распоряжении база данных крупного сервиса для чтения книг по подписке.    \n",
    "В ней — информация о книгах, издательствах, авторах, а также пользовательские обзоры книг."
   ]
  },
  {
   "cell_type": "markdown",
   "metadata": {},
   "source": [
    "**ЦЕЛЬ ИССЛЕДОВАНИЯ** - анализ базы данных с целью формулирования ценностного предложения для нового продукта."
   ]
  },
  {
   "cell_type": "markdown",
   "metadata": {},
   "source": [
    "**СТРУКТУРА БАЗЫ ДАННЫХ**"
   ]
  },
  {
   "cell_type": "markdown",
   "metadata": {},
   "source": [
    "![](https://concrete-web-bad.notion.site/image/https%3A%2F%2Fs3-us-west-2.amazonaws.com%2Fsecure.notion-static.com%2F069818d1-0e5c-4d87-a461-0de584ab9c33%2FUntitled_(33).png?id=bd53c8db-b4fd-49eb-8cc9-572ebb3c9163&table=block&spaceId=9e4bd47b-c6e6-4ca3-bcee-279794b47315&width=1640&userId=&cache=v2)"
   ]
  },
  {
   "cell_type": "markdown",
   "metadata": {},
   "source": [
    "База данных состоит из 5 таблиц:"
   ]
  },
  {
   "cell_type": "markdown",
   "metadata": {},
   "source": [
    "**Таблица `books`**\n",
    "\n",
    "Содержит данные о книгах:\n",
    "\n",
    "- `book_id` — идентификатор книги;\n",
    "- `author_id` — идентификатор автора;\n",
    "- `title` — название книги;\n",
    "- `num_pages` — количество страниц;\n",
    "- `publication_date` — дата публикации книги;\n",
    "- `publisher_id` — идентификатор издателя.\n",
    "\n",
    "**Таблица `authors`**\n",
    "\n",
    "Содержит данные об авторах:\n",
    "\n",
    "- `author_id` — идентификатор автора;\n",
    "- `author` — имя автора.\n",
    "\n",
    "**Таблица `publishers`**\n",
    "\n",
    "Содержит данные об издательствах:\n",
    "\n",
    "- `publisher_id` — идентификатор издательства;\n",
    "- `publisher` — название издательства;\n",
    "\n",
    "**Таблица `ratings`**\n",
    "\n",
    "Содержит данные о пользовательских оценках книг:\n",
    "\n",
    "- `rating_id` — идентификатор оценки;\n",
    "- `book_id` — идентификатор книги;\n",
    "- `username` — имя пользователя, оставившего оценку;\n",
    "- `rating` — оценка книги.\n",
    "\n",
    "**Таблица `reviews`**\n",
    "\n",
    "Содержит данные о пользовательских обзорах на книги:\n",
    "\n",
    "- `review_id` — идентификатор обзора;\n",
    "- `book_id` — идентификатор книги;\n",
    "- `username` — имя пользователя, написавшего обзор;\n",
    "- `text` — текст обзора."
   ]
  },
  {
   "cell_type": "markdown",
   "metadata": {},
   "source": [
    "### Подключение к базе данных"
   ]
  },
  {
   "cell_type": "code",
   "execution_count": 1,
   "metadata": {},
   "outputs": [],
   "source": [
    "# импортируем библиотеки\n",
    "import pandas as pd\n",
    "from sqlalchemy import text, create_engine"
   ]
  },
  {
   "cell_type": "markdown",
   "metadata": {},
   "source": [
    "После подключения к базе данных через Python (код скрыт от читателя), проведем исследование таблиц и ответим на вопросы с помощью SQL-запросов.\n"
   ]
  },
  {
   "cell_type": "markdown",
   "metadata": {},
   "source": [
    "### Исследование таблиц"
   ]
  },
  {
   "cell_type": "markdown",
   "metadata": {},
   "source": [
    "Исследуем таблицы, которые есть в базе данных. Для этого c помощью SQL-запросов выгрузим таблицы в переменные, а с помощью библиотеки pandas посмотрим на число пропусков и наличие дубликатов в них (используем функцию `data_info`)."
   ]
  },
  {
   "cell_type": "code",
   "execution_count": 3,
   "metadata": {},
   "outputs": [],
   "source": [
    "#создаем функцию для предобработки данных\n",
    "def data_info(df):\n",
    "    # выводим первые 5 строк датафрема\n",
    "    display(df.head())\n",
    "    # применяем метод info()\n",
    "    print()\n",
    "    print('Общая информация:')\n",
    "    print(df.info())\n",
    "    print()\n",
    "    # находим число строк-дубликатов в датафреме\n",
    "    print('Количество строк-дубликатов:', df.duplicated().sum())"
   ]
  },
  {
   "cell_type": "markdown",
   "metadata": {},
   "source": [
    "**Таблица \"books\"**"
   ]
  },
  {
   "cell_type": "code",
   "execution_count": 4,
   "metadata": {},
   "outputs": [
    {
     "data": {
      "text/html": [
       "<div>\n",
       "<style scoped>\n",
       "    .dataframe tbody tr th:only-of-type {\n",
       "        vertical-align: middle;\n",
       "    }\n",
       "\n",
       "    .dataframe tbody tr th {\n",
       "        vertical-align: top;\n",
       "    }\n",
       "\n",
       "    .dataframe thead th {\n",
       "        text-align: right;\n",
       "    }\n",
       "</style>\n",
       "<table border=\"1\" class=\"dataframe\">\n",
       "  <thead>\n",
       "    <tr style=\"text-align: right;\">\n",
       "      <th></th>\n",
       "      <th>book_id</th>\n",
       "      <th>author_id</th>\n",
       "      <th>title</th>\n",
       "      <th>num_pages</th>\n",
       "      <th>publication_date</th>\n",
       "      <th>publisher_id</th>\n",
       "    </tr>\n",
       "  </thead>\n",
       "  <tbody>\n",
       "    <tr>\n",
       "      <th>0</th>\n",
       "      <td>1</td>\n",
       "      <td>546</td>\n",
       "      <td>'Salem's Lot</td>\n",
       "      <td>594</td>\n",
       "      <td>2005-11-01</td>\n",
       "      <td>93</td>\n",
       "    </tr>\n",
       "    <tr>\n",
       "      <th>1</th>\n",
       "      <td>2</td>\n",
       "      <td>465</td>\n",
       "      <td>1 000 Places to See Before You Die</td>\n",
       "      <td>992</td>\n",
       "      <td>2003-05-22</td>\n",
       "      <td>336</td>\n",
       "    </tr>\n",
       "    <tr>\n",
       "      <th>2</th>\n",
       "      <td>3</td>\n",
       "      <td>407</td>\n",
       "      <td>13 Little Blue Envelopes (Little Blue Envelope...</td>\n",
       "      <td>322</td>\n",
       "      <td>2010-12-21</td>\n",
       "      <td>135</td>\n",
       "    </tr>\n",
       "    <tr>\n",
       "      <th>3</th>\n",
       "      <td>4</td>\n",
       "      <td>82</td>\n",
       "      <td>1491: New Revelations of the Americas Before C...</td>\n",
       "      <td>541</td>\n",
       "      <td>2006-10-10</td>\n",
       "      <td>309</td>\n",
       "    </tr>\n",
       "    <tr>\n",
       "      <th>4</th>\n",
       "      <td>5</td>\n",
       "      <td>125</td>\n",
       "      <td>1776</td>\n",
       "      <td>386</td>\n",
       "      <td>2006-07-04</td>\n",
       "      <td>268</td>\n",
       "    </tr>\n",
       "  </tbody>\n",
       "</table>\n",
       "</div>"
      ],
      "text/plain": [
       "   book_id  author_id                                              title  \\\n",
       "0        1        546                                       'Salem's Lot   \n",
       "1        2        465                 1 000 Places to See Before You Die   \n",
       "2        3        407  13 Little Blue Envelopes (Little Blue Envelope...   \n",
       "3        4         82  1491: New Revelations of the Americas Before C...   \n",
       "4        5        125                                               1776   \n",
       "\n",
       "   num_pages publication_date  publisher_id  \n",
       "0        594       2005-11-01            93  \n",
       "1        992       2003-05-22           336  \n",
       "2        322       2010-12-21           135  \n",
       "3        541       2006-10-10           309  \n",
       "4        386       2006-07-04           268  "
      ]
     },
     "metadata": {},
     "output_type": "display_data"
    },
    {
     "name": "stdout",
     "output_type": "stream",
     "text": [
      "\n",
      "Общая информация:\n",
      "<class 'pandas.core.frame.DataFrame'>\n",
      "RangeIndex: 1000 entries, 0 to 999\n",
      "Data columns (total 6 columns):\n",
      " #   Column            Non-Null Count  Dtype \n",
      "---  ------            --------------  ----- \n",
      " 0   book_id           1000 non-null   int64 \n",
      " 1   author_id         1000 non-null   int64 \n",
      " 2   title             1000 non-null   object\n",
      " 3   num_pages         1000 non-null   int64 \n",
      " 4   publication_date  1000 non-null   object\n",
      " 5   publisher_id      1000 non-null   int64 \n",
      "dtypes: int64(4), object(2)\n",
      "memory usage: 47.0+ KB\n",
      "None\n",
      "\n",
      "Количество строк-дубликатов: 0\n"
     ]
    }
   ],
   "source": [
    "query = '''SELECT * \n",
    "           FROM books'''\n",
    "\n",
    "books = pd.io.sql.read_sql(sql=text(query), con = engine)\n",
    "data_info(books)"
   ]
  },
  {
   "cell_type": "markdown",
   "metadata": {},
   "source": [
    "**Таблица \"authors\"**"
   ]
  },
  {
   "cell_type": "code",
   "execution_count": 5,
   "metadata": {},
   "outputs": [
    {
     "data": {
      "text/html": [
       "<div>\n",
       "<style scoped>\n",
       "    .dataframe tbody tr th:only-of-type {\n",
       "        vertical-align: middle;\n",
       "    }\n",
       "\n",
       "    .dataframe tbody tr th {\n",
       "        vertical-align: top;\n",
       "    }\n",
       "\n",
       "    .dataframe thead th {\n",
       "        text-align: right;\n",
       "    }\n",
       "</style>\n",
       "<table border=\"1\" class=\"dataframe\">\n",
       "  <thead>\n",
       "    <tr style=\"text-align: right;\">\n",
       "      <th></th>\n",
       "      <th>author_id</th>\n",
       "      <th>author</th>\n",
       "    </tr>\n",
       "  </thead>\n",
       "  <tbody>\n",
       "    <tr>\n",
       "      <th>0</th>\n",
       "      <td>1</td>\n",
       "      <td>A.S. Byatt</td>\n",
       "    </tr>\n",
       "    <tr>\n",
       "      <th>1</th>\n",
       "      <td>2</td>\n",
       "      <td>Aesop/Laura Harris/Laura Gibbs</td>\n",
       "    </tr>\n",
       "    <tr>\n",
       "      <th>2</th>\n",
       "      <td>3</td>\n",
       "      <td>Agatha Christie</td>\n",
       "    </tr>\n",
       "    <tr>\n",
       "      <th>3</th>\n",
       "      <td>4</td>\n",
       "      <td>Alan Brennert</td>\n",
       "    </tr>\n",
       "    <tr>\n",
       "      <th>4</th>\n",
       "      <td>5</td>\n",
       "      <td>Alan Moore/David   Lloyd</td>\n",
       "    </tr>\n",
       "  </tbody>\n",
       "</table>\n",
       "</div>"
      ],
      "text/plain": [
       "   author_id                          author\n",
       "0          1                      A.S. Byatt\n",
       "1          2  Aesop/Laura Harris/Laura Gibbs\n",
       "2          3                 Agatha Christie\n",
       "3          4                   Alan Brennert\n",
       "4          5        Alan Moore/David   Lloyd"
      ]
     },
     "metadata": {},
     "output_type": "display_data"
    },
    {
     "name": "stdout",
     "output_type": "stream",
     "text": [
      "\n",
      "Общая информация:\n",
      "<class 'pandas.core.frame.DataFrame'>\n",
      "RangeIndex: 636 entries, 0 to 635\n",
      "Data columns (total 2 columns):\n",
      " #   Column     Non-Null Count  Dtype \n",
      "---  ------     --------------  ----- \n",
      " 0   author_id  636 non-null    int64 \n",
      " 1   author     636 non-null    object\n",
      "dtypes: int64(1), object(1)\n",
      "memory usage: 10.1+ KB\n",
      "None\n",
      "\n",
      "Количество строк-дубликатов: 0\n"
     ]
    }
   ],
   "source": [
    "query = '''SELECT * \n",
    "           FROM authors '''\n",
    "           \n",
    "\n",
    "authors = pd.io.sql.read_sql(sql=text(query), con = engine)\n",
    "data_info(authors)"
   ]
  },
  {
   "cell_type": "markdown",
   "metadata": {},
   "source": [
    "**Таблица \"publishers\"**"
   ]
  },
  {
   "cell_type": "code",
   "execution_count": 6,
   "metadata": {},
   "outputs": [
    {
     "data": {
      "text/html": [
       "<div>\n",
       "<style scoped>\n",
       "    .dataframe tbody tr th:only-of-type {\n",
       "        vertical-align: middle;\n",
       "    }\n",
       "\n",
       "    .dataframe tbody tr th {\n",
       "        vertical-align: top;\n",
       "    }\n",
       "\n",
       "    .dataframe thead th {\n",
       "        text-align: right;\n",
       "    }\n",
       "</style>\n",
       "<table border=\"1\" class=\"dataframe\">\n",
       "  <thead>\n",
       "    <tr style=\"text-align: right;\">\n",
       "      <th></th>\n",
       "      <th>publisher_id</th>\n",
       "      <th>publisher</th>\n",
       "    </tr>\n",
       "  </thead>\n",
       "  <tbody>\n",
       "    <tr>\n",
       "      <th>0</th>\n",
       "      <td>1</td>\n",
       "      <td>Ace</td>\n",
       "    </tr>\n",
       "    <tr>\n",
       "      <th>1</th>\n",
       "      <td>2</td>\n",
       "      <td>Ace Book</td>\n",
       "    </tr>\n",
       "    <tr>\n",
       "      <th>2</th>\n",
       "      <td>3</td>\n",
       "      <td>Ace Books</td>\n",
       "    </tr>\n",
       "    <tr>\n",
       "      <th>3</th>\n",
       "      <td>4</td>\n",
       "      <td>Ace Hardcover</td>\n",
       "    </tr>\n",
       "    <tr>\n",
       "      <th>4</th>\n",
       "      <td>5</td>\n",
       "      <td>Addison Wesley Publishing Company</td>\n",
       "    </tr>\n",
       "  </tbody>\n",
       "</table>\n",
       "</div>"
      ],
      "text/plain": [
       "   publisher_id                          publisher\n",
       "0             1                                Ace\n",
       "1             2                           Ace Book\n",
       "2             3                          Ace Books\n",
       "3             4                      Ace Hardcover\n",
       "4             5  Addison Wesley Publishing Company"
      ]
     },
     "metadata": {},
     "output_type": "display_data"
    },
    {
     "name": "stdout",
     "output_type": "stream",
     "text": [
      "\n",
      "Общая информация:\n",
      "<class 'pandas.core.frame.DataFrame'>\n",
      "RangeIndex: 340 entries, 0 to 339\n",
      "Data columns (total 2 columns):\n",
      " #   Column        Non-Null Count  Dtype \n",
      "---  ------        --------------  ----- \n",
      " 0   publisher_id  340 non-null    int64 \n",
      " 1   publisher     340 non-null    object\n",
      "dtypes: int64(1), object(1)\n",
      "memory usage: 5.4+ KB\n",
      "None\n",
      "\n",
      "Количество строк-дубликатов: 0\n"
     ]
    }
   ],
   "source": [
    "query = '''SELECT * \n",
    "           FROM publishers '''\n",
    "           \n",
    "publishers = pd.io.sql.read_sql(sql=text(query), con = engine)\n",
    "data_info(publishers)"
   ]
  },
  {
   "cell_type": "markdown",
   "metadata": {},
   "source": [
    "**Таблица \"ratings\"**"
   ]
  },
  {
   "cell_type": "code",
   "execution_count": 7,
   "metadata": {},
   "outputs": [
    {
     "data": {
      "text/html": [
       "<div>\n",
       "<style scoped>\n",
       "    .dataframe tbody tr th:only-of-type {\n",
       "        vertical-align: middle;\n",
       "    }\n",
       "\n",
       "    .dataframe tbody tr th {\n",
       "        vertical-align: top;\n",
       "    }\n",
       "\n",
       "    .dataframe thead th {\n",
       "        text-align: right;\n",
       "    }\n",
       "</style>\n",
       "<table border=\"1\" class=\"dataframe\">\n",
       "  <thead>\n",
       "    <tr style=\"text-align: right;\">\n",
       "      <th></th>\n",
       "      <th>rating_id</th>\n",
       "      <th>book_id</th>\n",
       "      <th>username</th>\n",
       "      <th>rating</th>\n",
       "    </tr>\n",
       "  </thead>\n",
       "  <tbody>\n",
       "    <tr>\n",
       "      <th>0</th>\n",
       "      <td>1</td>\n",
       "      <td>1</td>\n",
       "      <td>ryanfranco</td>\n",
       "      <td>4</td>\n",
       "    </tr>\n",
       "    <tr>\n",
       "      <th>1</th>\n",
       "      <td>2</td>\n",
       "      <td>1</td>\n",
       "      <td>grantpatricia</td>\n",
       "      <td>2</td>\n",
       "    </tr>\n",
       "    <tr>\n",
       "      <th>2</th>\n",
       "      <td>3</td>\n",
       "      <td>1</td>\n",
       "      <td>brandtandrea</td>\n",
       "      <td>5</td>\n",
       "    </tr>\n",
       "    <tr>\n",
       "      <th>3</th>\n",
       "      <td>4</td>\n",
       "      <td>2</td>\n",
       "      <td>lorichen</td>\n",
       "      <td>3</td>\n",
       "    </tr>\n",
       "    <tr>\n",
       "      <th>4</th>\n",
       "      <td>5</td>\n",
       "      <td>2</td>\n",
       "      <td>mariokeller</td>\n",
       "      <td>2</td>\n",
       "    </tr>\n",
       "  </tbody>\n",
       "</table>\n",
       "</div>"
      ],
      "text/plain": [
       "   rating_id  book_id       username  rating\n",
       "0          1        1     ryanfranco       4\n",
       "1          2        1  grantpatricia       2\n",
       "2          3        1   brandtandrea       5\n",
       "3          4        2       lorichen       3\n",
       "4          5        2    mariokeller       2"
      ]
     },
     "metadata": {},
     "output_type": "display_data"
    },
    {
     "name": "stdout",
     "output_type": "stream",
     "text": [
      "\n",
      "Общая информация:\n",
      "<class 'pandas.core.frame.DataFrame'>\n",
      "RangeIndex: 6456 entries, 0 to 6455\n",
      "Data columns (total 4 columns):\n",
      " #   Column     Non-Null Count  Dtype \n",
      "---  ------     --------------  ----- \n",
      " 0   rating_id  6456 non-null   int64 \n",
      " 1   book_id    6456 non-null   int64 \n",
      " 2   username   6456 non-null   object\n",
      " 3   rating     6456 non-null   int64 \n",
      "dtypes: int64(3), object(1)\n",
      "memory usage: 201.9+ KB\n",
      "None\n",
      "\n",
      "Количество строк-дубликатов: 0\n"
     ]
    }
   ],
   "source": [
    "query = '''SELECT * \n",
    "           FROM ratings '''\n",
    "           \n",
    "ratings = pd.io.sql.read_sql(sql=text(query), con = engine)\n",
    "data_info(ratings)"
   ]
  },
  {
   "cell_type": "markdown",
   "metadata": {},
   "source": [
    "**Таблица \"reviews\"**"
   ]
  },
  {
   "cell_type": "code",
   "execution_count": 8,
   "metadata": {},
   "outputs": [
    {
     "data": {
      "text/html": [
       "<div>\n",
       "<style scoped>\n",
       "    .dataframe tbody tr th:only-of-type {\n",
       "        vertical-align: middle;\n",
       "    }\n",
       "\n",
       "    .dataframe tbody tr th {\n",
       "        vertical-align: top;\n",
       "    }\n",
       "\n",
       "    .dataframe thead th {\n",
       "        text-align: right;\n",
       "    }\n",
       "</style>\n",
       "<table border=\"1\" class=\"dataframe\">\n",
       "  <thead>\n",
       "    <tr style=\"text-align: right;\">\n",
       "      <th></th>\n",
       "      <th>review_id</th>\n",
       "      <th>book_id</th>\n",
       "      <th>username</th>\n",
       "      <th>text</th>\n",
       "    </tr>\n",
       "  </thead>\n",
       "  <tbody>\n",
       "    <tr>\n",
       "      <th>0</th>\n",
       "      <td>1</td>\n",
       "      <td>1</td>\n",
       "      <td>brandtandrea</td>\n",
       "      <td>Mention society tell send professor analysis. ...</td>\n",
       "    </tr>\n",
       "    <tr>\n",
       "      <th>1</th>\n",
       "      <td>2</td>\n",
       "      <td>1</td>\n",
       "      <td>ryanfranco</td>\n",
       "      <td>Foot glass pretty audience hit themselves. Amo...</td>\n",
       "    </tr>\n",
       "    <tr>\n",
       "      <th>2</th>\n",
       "      <td>3</td>\n",
       "      <td>2</td>\n",
       "      <td>lorichen</td>\n",
       "      <td>Listen treat keep worry. Miss husband tax but ...</td>\n",
       "    </tr>\n",
       "    <tr>\n",
       "      <th>3</th>\n",
       "      <td>4</td>\n",
       "      <td>3</td>\n",
       "      <td>johnsonamanda</td>\n",
       "      <td>Finally month interesting blue could nature cu...</td>\n",
       "    </tr>\n",
       "    <tr>\n",
       "      <th>4</th>\n",
       "      <td>5</td>\n",
       "      <td>3</td>\n",
       "      <td>scotttamara</td>\n",
       "      <td>Nation purpose heavy give wait song will. List...</td>\n",
       "    </tr>\n",
       "  </tbody>\n",
       "</table>\n",
       "</div>"
      ],
      "text/plain": [
       "   review_id  book_id       username  \\\n",
       "0          1        1   brandtandrea   \n",
       "1          2        1     ryanfranco   \n",
       "2          3        2       lorichen   \n",
       "3          4        3  johnsonamanda   \n",
       "4          5        3    scotttamara   \n",
       "\n",
       "                                                text  \n",
       "0  Mention society tell send professor analysis. ...  \n",
       "1  Foot glass pretty audience hit themselves. Amo...  \n",
       "2  Listen treat keep worry. Miss husband tax but ...  \n",
       "3  Finally month interesting blue could nature cu...  \n",
       "4  Nation purpose heavy give wait song will. List...  "
      ]
     },
     "metadata": {},
     "output_type": "display_data"
    },
    {
     "name": "stdout",
     "output_type": "stream",
     "text": [
      "\n",
      "Общая информация:\n",
      "<class 'pandas.core.frame.DataFrame'>\n",
      "RangeIndex: 2793 entries, 0 to 2792\n",
      "Data columns (total 4 columns):\n",
      " #   Column     Non-Null Count  Dtype \n",
      "---  ------     --------------  ----- \n",
      " 0   review_id  2793 non-null   int64 \n",
      " 1   book_id    2793 non-null   int64 \n",
      " 2   username   2793 non-null   object\n",
      " 3   text       2793 non-null   object\n",
      "dtypes: int64(2), object(2)\n",
      "memory usage: 87.4+ KB\n",
      "None\n",
      "\n",
      "Количество строк-дубликатов: 0\n"
     ]
    }
   ],
   "source": [
    "query = '''SELECT * \n",
    "           FROM reviews '''\n",
    "           \n",
    "\n",
    "reviews = pd.io.sql.read_sql(sql=text(query), con = engine)\n",
    "data_info(reviews)"
   ]
  },
  {
   "cell_type": "markdown",
   "metadata": {},
   "source": [
    "Пропущенных значений в данных нет, явных дубликатов тоже. Можем переходить к решению  заданий."
   ]
  },
  {
   "cell_type": "markdown",
   "metadata": {},
   "source": [
    "### Решение заданий"
   ]
  },
  {
   "cell_type": "markdown",
   "metadata": {},
   "source": [
    "#### Задание 1. Посчитайте, сколько книг вышло после 1 января 2000 года"
   ]
  },
  {
   "cell_type": "code",
   "execution_count": 9,
   "metadata": {},
   "outputs": [
    {
     "data": {
      "text/html": [
       "<div>\n",
       "<style scoped>\n",
       "    .dataframe tbody tr th:only-of-type {\n",
       "        vertical-align: middle;\n",
       "    }\n",
       "\n",
       "    .dataframe tbody tr th {\n",
       "        vertical-align: top;\n",
       "    }\n",
       "\n",
       "    .dataframe thead th {\n",
       "        text-align: right;\n",
       "    }\n",
       "</style>\n",
       "<table border=\"1\" class=\"dataframe\">\n",
       "  <thead>\n",
       "    <tr style=\"text-align: right;\">\n",
       "      <th></th>\n",
       "      <th>quantity</th>\n",
       "    </tr>\n",
       "  </thead>\n",
       "  <tbody>\n",
       "    <tr>\n",
       "      <th>0</th>\n",
       "      <td>819</td>\n",
       "    </tr>\n",
       "  </tbody>\n",
       "</table>\n",
       "</div>"
      ],
      "text/plain": [
       "   quantity\n",
       "0       819"
      ]
     },
     "execution_count": 9,
     "metadata": {},
     "output_type": "execute_result"
    }
   ],
   "source": [
    "query = '''SELECT COUNT(book_id) AS quantity\n",
    "           FROM books\n",
    "           WHERE publication_date > '2000-01-01'; '''\n",
    "\n",
    "pd.io.sql.read_sql(sql=text(query), con = engine)"
   ]
  },
  {
   "cell_type": "markdown",
   "metadata": {},
   "source": [
    "Таблица с книгами хранит информацию о 819 книгах, опубликованных после 1 января 2000 года."
   ]
  },
  {
   "cell_type": "markdown",
   "metadata": {},
   "source": [
    "#### Задание 2. Для каждой книги посчитайте количество обзоров и среднюю оценку"
   ]
  },
  {
   "cell_type": "code",
   "execution_count": 10,
   "metadata": {},
   "outputs": [
    {
     "data": {
      "text/html": [
       "<div>\n",
       "<style scoped>\n",
       "    .dataframe tbody tr th:only-of-type {\n",
       "        vertical-align: middle;\n",
       "    }\n",
       "\n",
       "    .dataframe tbody tr th {\n",
       "        vertical-align: top;\n",
       "    }\n",
       "\n",
       "    .dataframe thead th {\n",
       "        text-align: right;\n",
       "    }\n",
       "</style>\n",
       "<table border=\"1\" class=\"dataframe\">\n",
       "  <thead>\n",
       "    <tr style=\"text-align: right;\">\n",
       "      <th></th>\n",
       "      <th>book_id</th>\n",
       "      <th>title</th>\n",
       "      <th>avg_rating</th>\n",
       "      <th>quantity_review</th>\n",
       "    </tr>\n",
       "  </thead>\n",
       "  <tbody>\n",
       "    <tr>\n",
       "      <th>0</th>\n",
       "      <td>948</td>\n",
       "      <td>Twilight (Twilight  #1)</td>\n",
       "      <td>3.66</td>\n",
       "      <td>7</td>\n",
       "    </tr>\n",
       "    <tr>\n",
       "      <th>1</th>\n",
       "      <td>963</td>\n",
       "      <td>Water for Elephants</td>\n",
       "      <td>3.98</td>\n",
       "      <td>6</td>\n",
       "    </tr>\n",
       "    <tr>\n",
       "      <th>2</th>\n",
       "      <td>734</td>\n",
       "      <td>The Glass Castle</td>\n",
       "      <td>4.21</td>\n",
       "      <td>6</td>\n",
       "    </tr>\n",
       "    <tr>\n",
       "      <th>3</th>\n",
       "      <td>302</td>\n",
       "      <td>Harry Potter and the Prisoner of Azkaban (Harr...</td>\n",
       "      <td>4.41</td>\n",
       "      <td>6</td>\n",
       "    </tr>\n",
       "    <tr>\n",
       "      <th>4</th>\n",
       "      <td>695</td>\n",
       "      <td>The Curious Incident of the Dog in the Night-Time</td>\n",
       "      <td>4.08</td>\n",
       "      <td>6</td>\n",
       "    </tr>\n",
       "    <tr>\n",
       "      <th>...</th>\n",
       "      <td>...</td>\n",
       "      <td>...</td>\n",
       "      <td>...</td>\n",
       "      <td>...</td>\n",
       "    </tr>\n",
       "    <tr>\n",
       "      <th>995</th>\n",
       "      <td>83</td>\n",
       "      <td>Anne Rice's The Vampire Lestat: A Graphic Novel</td>\n",
       "      <td>3.67</td>\n",
       "      <td>0</td>\n",
       "    </tr>\n",
       "    <tr>\n",
       "      <th>996</th>\n",
       "      <td>808</td>\n",
       "      <td>The Natural Way to Draw</td>\n",
       "      <td>3.00</td>\n",
       "      <td>0</td>\n",
       "    </tr>\n",
       "    <tr>\n",
       "      <th>997</th>\n",
       "      <td>672</td>\n",
       "      <td>The Cat in the Hat and Other Dr. Seuss Favorites</td>\n",
       "      <td>5.00</td>\n",
       "      <td>0</td>\n",
       "    </tr>\n",
       "    <tr>\n",
       "      <th>998</th>\n",
       "      <td>221</td>\n",
       "      <td>Essential Tales and Poems</td>\n",
       "      <td>4.00</td>\n",
       "      <td>0</td>\n",
       "    </tr>\n",
       "    <tr>\n",
       "      <th>999</th>\n",
       "      <td>191</td>\n",
       "      <td>Disney's Beauty and the Beast (A Little Golden...</td>\n",
       "      <td>4.00</td>\n",
       "      <td>0</td>\n",
       "    </tr>\n",
       "  </tbody>\n",
       "</table>\n",
       "<p>1000 rows × 4 columns</p>\n",
       "</div>"
      ],
      "text/plain": [
       "     book_id                                              title  avg_rating  \\\n",
       "0        948                            Twilight (Twilight  #1)        3.66   \n",
       "1        963                                Water for Elephants        3.98   \n",
       "2        734                                   The Glass Castle        4.21   \n",
       "3        302  Harry Potter and the Prisoner of Azkaban (Harr...        4.41   \n",
       "4        695  The Curious Incident of the Dog in the Night-Time        4.08   \n",
       "..       ...                                                ...         ...   \n",
       "995       83    Anne Rice's The Vampire Lestat: A Graphic Novel        3.67   \n",
       "996      808                            The Natural Way to Draw        3.00   \n",
       "997      672   The Cat in the Hat and Other Dr. Seuss Favorites        5.00   \n",
       "998      221                          Essential Tales and Poems        4.00   \n",
       "999      191  Disney's Beauty and the Beast (A Little Golden...        4.00   \n",
       "\n",
       "     quantity_review  \n",
       "0                  7  \n",
       "1                  6  \n",
       "2                  6  \n",
       "3                  6  \n",
       "4                  6  \n",
       "..               ...  \n",
       "995                0  \n",
       "996                0  \n",
       "997                0  \n",
       "998                0  \n",
       "999                0  \n",
       "\n",
       "[1000 rows x 4 columns]"
      ]
     },
     "execution_count": 10,
     "metadata": {},
     "output_type": "execute_result"
    }
   ],
   "source": [
    "query = '''SELECT b.book_id,\n",
    "                  b.title,\n",
    "                  ROUND(AVG(rat.rating), 2) AS avg_rating,\n",
    "                  COUNT(DISTINCT rev.review_id) AS quantity_review\n",
    "           FROM books AS b\n",
    "           LEFT OUTER JOIN ratings AS rat ON b.book_id = rat.book_id\n",
    "           LEFT OUTER JOIN reviews AS rev ON b.book_id = rev.book_id\n",
    "           GROUP BY b.book_id\n",
    "           ORDER BY quantity_review DESC;\n",
    "'''\n",
    "\n",
    "pd.io.sql.read_sql(sql=text(query), con = engine)"
   ]
  },
  {
   "cell_type": "markdown",
   "metadata": {},
   "source": [
    "В таблице с книгами собрана информация о 1000 книг. В результате запроса получили средние рейтинги каждой книги и число обзоров, написанных на книгу.   \n",
    "Книга с самым низким средним рейтингом -  \"Harvesting the Heart\" (идентификатор книги 303), средний рейтинг равен 1,5. Максимальный рейтинг книг составляет 5.0.    \n",
    "Что касается числа обзоров, то больше всего их написано на книгу \"Twilight (Twilight #1)\" (\"Сумерки\"). Причем можно заметить, что число обзоров, на первый взгляд, со средним рейтингом не связано: встречаются книги без обзоров с максимальным рейтингом, и наоборот: у книги с максимальным числом обзоров может быть не высокий рейтинг."
   ]
  },
  {
   "cell_type": "markdown",
   "metadata": {},
   "source": [
    "#### Задание 3. Определите издательство, которое выпустило наибольшее число книг толще 50 страниц"
   ]
  },
  {
   "cell_type": "code",
   "execution_count": 11,
   "metadata": {},
   "outputs": [
    {
     "data": {
      "text/html": [
       "<div>\n",
       "<style scoped>\n",
       "    .dataframe tbody tr th:only-of-type {\n",
       "        vertical-align: middle;\n",
       "    }\n",
       "\n",
       "    .dataframe tbody tr th {\n",
       "        vertical-align: top;\n",
       "    }\n",
       "\n",
       "    .dataframe thead th {\n",
       "        text-align: right;\n",
       "    }\n",
       "</style>\n",
       "<table border=\"1\" class=\"dataframe\">\n",
       "  <thead>\n",
       "    <tr style=\"text-align: right;\">\n",
       "      <th></th>\n",
       "      <th>publisher_id</th>\n",
       "      <th>publisher</th>\n",
       "      <th>number_of_books</th>\n",
       "    </tr>\n",
       "  </thead>\n",
       "  <tbody>\n",
       "    <tr>\n",
       "      <th>0</th>\n",
       "      <td>212</td>\n",
       "      <td>Penguin Books</td>\n",
       "      <td>42</td>\n",
       "    </tr>\n",
       "  </tbody>\n",
       "</table>\n",
       "</div>"
      ],
      "text/plain": [
       "   publisher_id      publisher  number_of_books\n",
       "0           212  Penguin Books               42"
      ]
     },
     "execution_count": 11,
     "metadata": {},
     "output_type": "execute_result"
    }
   ],
   "source": [
    "query = '''\n",
    "           SELECT n.publisher_id,\n",
    "                  p.publisher,\n",
    "                  n.number_of_books\n",
    "                  \n",
    "           FROM (SELECT publisher_id,\n",
    "                        COUNT(book_id) AS number_of_books\n",
    "                FROM books\n",
    "                WHERE num_pages > 50\n",
    "                GROUP BY publisher_id\n",
    "                ORDER BY number_of_books DESC\n",
    "                LIMIT 1) AS n\n",
    "                \n",
    "           JOIN publishers AS p ON n.publisher_id=p.publisher_id;\n",
    "           \n",
    "'''\n",
    "\n",
    "pd.io.sql.read_sql(sql=text(query), con = engine)"
   ]
  },
  {
   "cell_type": "markdown",
   "metadata": {},
   "source": [
    "Самым активным по выпуску книг с объемом более 50 страниц стало британское издательство \"Penguin Books\". Число выпущеннык книг - 42."
   ]
  },
  {
   "cell_type": "markdown",
   "metadata": {},
   "source": [
    "#### Задание 4. Определите автора с самой высокой средней оценкой книг — учитывайте только книги с 50 и более оценками"
   ]
  },
  {
   "cell_type": "code",
   "execution_count": 12,
   "metadata": {},
   "outputs": [
    {
     "data": {
      "text/html": [
       "<div>\n",
       "<style scoped>\n",
       "    .dataframe tbody tr th:only-of-type {\n",
       "        vertical-align: middle;\n",
       "    }\n",
       "\n",
       "    .dataframe tbody tr th {\n",
       "        vertical-align: top;\n",
       "    }\n",
       "\n",
       "    .dataframe thead th {\n",
       "        text-align: right;\n",
       "    }\n",
       "</style>\n",
       "<table border=\"1\" class=\"dataframe\">\n",
       "  <thead>\n",
       "    <tr style=\"text-align: right;\">\n",
       "      <th></th>\n",
       "      <th>author_id</th>\n",
       "      <th>author</th>\n",
       "      <th>avg_rating</th>\n",
       "    </tr>\n",
       "  </thead>\n",
       "  <tbody>\n",
       "    <tr>\n",
       "      <th>0</th>\n",
       "      <td>236</td>\n",
       "      <td>J.K. Rowling/Mary GrandPré</td>\n",
       "      <td>4.287</td>\n",
       "    </tr>\n",
       "  </tbody>\n",
       "</table>\n",
       "</div>"
      ],
      "text/plain": [
       "   author_id                      author  avg_rating\n",
       "0        236  J.K. Rowling/Mary GrandPré       4.287"
      ]
     },
     "execution_count": 12,
     "metadata": {},
     "output_type": "execute_result"
    }
   ],
   "source": [
    "query = '''SELECT a.author_id,\n",
    "                  a.author,\n",
    "                  ROUND(AVG(rating),3) AS avg_rating\n",
    "                  \n",
    "           FROM (--книги, у которых 50 и более оценок\n",
    "                SELECT book_id\n",
    "                FROM ratings\n",
    "                GROUP BY book_id\n",
    "                HAVING COUNT(rating_id) >= 50) AS i\n",
    "                \n",
    "           INNER JOIN books AS b ON i.book_id = b.book_id\n",
    "           INNER JOIN authors AS a ON b.author_id = a.author_id\n",
    "           INNER JOIN ratings AS r ON i.book_id = r.book_id\n",
    "           \n",
    "           GROUP BY a.author_id, a.author\n",
    "           ORDER BY avg_rating DESC\n",
    "           LIMIT 1;            \n",
    "                     \n",
    "'''\n",
    "\n",
    "pd.io.sql.read_sql(sql=text(query), con = engine)"
   ]
  },
  {
   "cell_type": "markdown",
   "metadata": {},
   "source": [
    "Самым рейтинговым автором можно считать тандем из британской писательницы Джоан Роулинг(J.K. Rowling) и американского иллюстратора Мэри ГрандПре (Mary GrandPré) - известными созданием книг о Гарри Поттере. Средний рейтинг авторов составил 4.287."
   ]
  },
  {
   "cell_type": "markdown",
   "metadata": {},
   "source": [
    "#### Задание 5. Посчитайте среднее количество обзоров от пользователей, которые поставили больше 50 оценок"
   ]
  },
  {
   "cell_type": "code",
   "execution_count": 13,
   "metadata": {},
   "outputs": [
    {
     "data": {
      "text/html": [
       "<div>\n",
       "<style scoped>\n",
       "    .dataframe tbody tr th:only-of-type {\n",
       "        vertical-align: middle;\n",
       "    }\n",
       "\n",
       "    .dataframe tbody tr th {\n",
       "        vertical-align: top;\n",
       "    }\n",
       "\n",
       "    .dataframe thead th {\n",
       "        text-align: right;\n",
       "    }\n",
       "</style>\n",
       "<table border=\"1\" class=\"dataframe\">\n",
       "  <thead>\n",
       "    <tr style=\"text-align: right;\">\n",
       "      <th></th>\n",
       "      <th>avg_number_of_review</th>\n",
       "    </tr>\n",
       "  </thead>\n",
       "  <tbody>\n",
       "    <tr>\n",
       "      <th>0</th>\n",
       "      <td>24.0</td>\n",
       "    </tr>\n",
       "  </tbody>\n",
       "</table>\n",
       "</div>"
      ],
      "text/plain": [
       "   avg_number_of_review\n",
       "0                  24.0"
      ]
     },
     "execution_count": 13,
     "metadata": {},
     "output_type": "execute_result"
    }
   ],
   "source": [
    "query = '''SELECT ROUND(AVG(i.number_of_review),0) AS avg_number_of_review\n",
    "\n",
    "           FROM (--находим число отзывов для пользователей, которые поставили больше 50 оценок\n",
    "                 SELECT COUNT(review_id) AS number_of_review\n",
    "                 FROM reviews\n",
    "                 WHERE username IN (--отбираем пользователей, которые поставили больше 50 оценок\n",
    "                                    SELECT username\n",
    "                                    FROM ratings\n",
    "                                    GROUP BY username\n",
    "                                    HAVING COUNT(rating_id) > 50)\n",
    "                 GROUP BY username) AS i;\n",
    "                            \n",
    "'''\n",
    "\n",
    "pd.io.sql.read_sql(sql=text(query), con = engine)"
   ]
  },
  {
   "cell_type": "markdown",
   "metadata": {},
   "source": [
    "Пользователи, которые ставят более 50 оценок - в среднем, пишут 24 обзора."
   ]
  },
  {
   "cell_type": "markdown",
   "metadata": {},
   "source": [
    "### Выводы"
   ]
  },
  {
   "cell_type": "markdown",
   "metadata": {},
   "source": [
    "* В базе данных хранится информация о 1000 книг;    \n",
    "* Подавляющее большинство книг опубликованы позже 2000 года (819 штук);    \n",
    "* Средние рейтинги книг варьируют от 1.5 до 5.0, самый низкий средний рейтинг у книги \"Harvesting the Heart\";    \n",
    "* Больше всего обзоров написано на книгу \"Twilight\" - 7 штук, но также есть книги, на которые не написано ни одного обзора;   \n",
    "* Самым активным издательством стало британское издательство \"Penguin Books\", выпустившее 42 книги объемом более 50 страниц; \n",
    "* Джоан Роулинг(J.K. Rowling) - самый рейтинговый автор (средняя оценка - 4.287);    \n",
    "* Активные пользователи, которые ставят более 50 оценок - в среднем, пишут 24 обзора.\n"
   ]
  }
 ],
 "metadata": {
  "ExecuteTimeLog": [
   {
    "duration": 461,
    "start_time": "2023-04-17T08:01:47.915Z"
   },
   {
    "duration": 5233,
    "start_time": "2023-04-17T08:01:58.026Z"
   },
   {
    "duration": 66,
    "start_time": "2023-04-17T08:52:50.838Z"
   },
   {
    "duration": 14,
    "start_time": "2023-04-17T08:53:14.598Z"
   },
   {
    "duration": 12,
    "start_time": "2023-04-17T08:53:48.471Z"
   },
   {
    "duration": 15,
    "start_time": "2023-04-17T08:54:10.587Z"
   },
   {
    "duration": 19,
    "start_time": "2023-04-17T08:54:43.312Z"
   },
   {
    "duration": 175,
    "start_time": "2023-04-17T08:55:42.100Z"
   },
   {
    "duration": 116,
    "start_time": "2023-04-17T09:03:13.040Z"
   },
   {
    "duration": 12,
    "start_time": "2023-04-17T09:03:22.228Z"
   },
   {
    "duration": 9,
    "start_time": "2023-04-17T09:07:08.300Z"
   },
   {
    "duration": 10,
    "start_time": "2023-04-17T09:10:22.318Z"
   },
   {
    "duration": 16,
    "start_time": "2023-04-17T09:43:48.982Z"
   },
   {
    "duration": 17,
    "start_time": "2023-04-17T09:44:11.331Z"
   },
   {
    "duration": 18,
    "start_time": "2023-04-17T09:44:18.590Z"
   },
   {
    "duration": 20,
    "start_time": "2023-04-17T09:57:28.560Z"
   },
   {
    "duration": 216,
    "start_time": "2023-04-17T10:08:16.450Z"
   },
   {
    "duration": 29,
    "start_time": "2023-04-17T10:13:14.317Z"
   },
   {
    "duration": 28,
    "start_time": "2023-04-17T10:13:48.240Z"
   },
   {
    "duration": 27,
    "start_time": "2023-04-17T10:14:29.329Z"
   },
   {
    "duration": 29,
    "start_time": "2023-04-17T10:15:13.252Z"
   },
   {
    "duration": 28,
    "start_time": "2023-04-17T10:16:23.529Z"
   },
   {
    "duration": 28,
    "start_time": "2023-04-17T10:16:53.581Z"
   },
   {
    "duration": 28,
    "start_time": "2023-04-17T10:22:17.907Z"
   },
   {
    "duration": 27,
    "start_time": "2023-04-17T10:41:25.176Z"
   },
   {
    "duration": 33,
    "start_time": "2023-04-17T10:47:22.126Z"
   },
   {
    "duration": 36,
    "start_time": "2023-04-17T10:52:39.125Z"
   },
   {
    "duration": 540,
    "start_time": "2023-04-18T03:14:35.904Z"
   },
   {
    "duration": 39943,
    "start_time": "2023-04-18T03:14:36.446Z"
   },
   {
    "duration": 433,
    "start_time": "2023-04-18T03:15:16.394Z"
   },
   {
    "duration": 142,
    "start_time": "2023-04-18T03:15:16.830Z"
   },
   {
    "duration": 120,
    "start_time": "2023-04-18T03:15:16.977Z"
   },
   {
    "duration": 122,
    "start_time": "2023-04-18T03:15:17.100Z"
   },
   {
    "duration": 146,
    "start_time": "2023-04-18T03:15:17.225Z"
   },
   {
    "duration": 124,
    "start_time": "2023-04-18T03:15:17.374Z"
   },
   {
    "duration": 148,
    "start_time": "2023-04-18T03:15:17.500Z"
   },
   {
    "duration": 97,
    "start_time": "2023-04-18T03:22:31.731Z"
   },
   {
    "duration": 453,
    "start_time": "2023-04-18T03:23:44.109Z"
   },
   {
    "duration": 105,
    "start_time": "2023-04-18T03:24:02.552Z"
   },
   {
    "duration": 128,
    "start_time": "2023-04-18T03:24:40.540Z"
   },
   {
    "duration": 95,
    "start_time": "2023-04-18T03:34:51.778Z"
   },
   {
    "duration": 118,
    "start_time": "2023-04-18T03:52:18.077Z"
   },
   {
    "duration": 107,
    "start_time": "2023-04-18T03:57:26.115Z"
   },
   {
    "duration": 92,
    "start_time": "2023-04-18T03:57:32.798Z"
   },
   {
    "duration": 217,
    "start_time": "2023-04-18T03:59:48.897Z"
   },
   {
    "duration": 248,
    "start_time": "2023-04-18T04:01:43.935Z"
   },
   {
    "duration": 99,
    "start_time": "2023-04-18T04:02:09.371Z"
   },
   {
    "duration": 78,
    "start_time": "2023-04-18T04:08:22.152Z"
   },
   {
    "duration": 86,
    "start_time": "2023-04-18T04:10:25.176Z"
   },
   {
    "duration": 98,
    "start_time": "2023-04-18T04:31:06.717Z"
   },
   {
    "duration": 105,
    "start_time": "2023-04-18T04:31:30.573Z"
   },
   {
    "duration": 105,
    "start_time": "2023-04-18T04:32:01.378Z"
   },
   {
    "duration": 241,
    "start_time": "2023-04-18T04:33:07.936Z"
   },
   {
    "duration": 186,
    "start_time": "2023-04-18T04:33:25.447Z"
   },
   {
    "duration": 95,
    "start_time": "2023-04-18T04:34:03.255Z"
   },
   {
    "duration": 104,
    "start_time": "2023-04-18T04:34:28.380Z"
   },
   {
    "duration": 103,
    "start_time": "2023-04-18T04:35:14.483Z"
   },
   {
    "duration": 218,
    "start_time": "2023-04-18T04:44:59.305Z"
   },
   {
    "duration": 211,
    "start_time": "2023-04-18T04:45:19.460Z"
   },
   {
    "duration": 77,
    "start_time": "2023-04-18T04:45:35.659Z"
   },
   {
    "duration": 100,
    "start_time": "2023-04-18T04:45:57.616Z"
   },
   {
    "duration": 99,
    "start_time": "2023-04-18T04:48:47.077Z"
   },
   {
    "duration": 212,
    "start_time": "2023-04-18T04:49:10.263Z"
   },
   {
    "duration": 100,
    "start_time": "2023-04-18T04:49:14.279Z"
   },
   {
    "duration": 87,
    "start_time": "2023-04-18T04:53:35.745Z"
   },
   {
    "duration": 103,
    "start_time": "2023-04-18T04:53:39.679Z"
   },
   {
    "duration": 91,
    "start_time": "2023-04-18T04:53:48.110Z"
   },
   {
    "duration": 249,
    "start_time": "2023-04-18T04:59:23.632Z"
   },
   {
    "duration": 106,
    "start_time": "2023-04-18T04:59:35.700Z"
   },
   {
    "duration": 83,
    "start_time": "2023-04-18T05:03:32.709Z"
   },
   {
    "duration": 108,
    "start_time": "2023-04-18T05:06:40.893Z"
   },
   {
    "duration": 91,
    "start_time": "2023-04-18T05:07:41.572Z"
   },
   {
    "duration": 214,
    "start_time": "2023-04-18T05:24:02.388Z"
   },
   {
    "duration": 116,
    "start_time": "2023-04-18T05:24:18.375Z"
   },
   {
    "duration": 131,
    "start_time": "2023-04-18T05:25:53.954Z"
   },
   {
    "duration": 106,
    "start_time": "2023-04-18T05:26:13.467Z"
   },
   {
    "duration": 116,
    "start_time": "2023-04-18T05:26:45.785Z"
   },
   {
    "duration": 128,
    "start_time": "2023-04-18T05:31:47.770Z"
   },
   {
    "duration": 113,
    "start_time": "2023-04-18T05:32:54.284Z"
   },
   {
    "duration": 223,
    "start_time": "2023-04-18T05:34:26.686Z"
   },
   {
    "duration": 126,
    "start_time": "2023-04-18T05:34:45.391Z"
   },
   {
    "duration": 109,
    "start_time": "2023-04-18T05:35:00.204Z"
   },
   {
    "duration": 122,
    "start_time": "2023-04-18T05:35:53.758Z"
   },
   {
    "duration": 183,
    "start_time": "2023-04-18T05:38:37.823Z"
   },
   {
    "duration": 186,
    "start_time": "2023-04-18T05:38:52.504Z"
   },
   {
    "duration": 104,
    "start_time": "2023-04-18T05:39:01.415Z"
   },
   {
    "duration": 120,
    "start_time": "2023-04-18T05:40:25.064Z"
   },
   {
    "duration": 105,
    "start_time": "2023-04-18T05:41:48.510Z"
   },
   {
    "duration": 241,
    "start_time": "2023-04-18T05:43:08.480Z"
   },
   {
    "duration": 159,
    "start_time": "2023-04-18T05:44:24.965Z"
   },
   {
    "duration": 110,
    "start_time": "2023-04-18T05:48:17.862Z"
   },
   {
    "duration": 103,
    "start_time": "2023-04-18T05:49:32.065Z"
   },
   {
    "duration": 372,
    "start_time": "2023-04-18T06:25:06.605Z"
   },
   {
    "duration": 99,
    "start_time": "2023-04-18T06:27:51.728Z"
   },
   {
    "duration": 227,
    "start_time": "2023-04-18T06:31:47.282Z"
   },
   {
    "duration": 271,
    "start_time": "2023-04-18T06:37:07.459Z"
   },
   {
    "duration": 232,
    "start_time": "2023-04-18T06:37:36.055Z"
   },
   {
    "duration": 103,
    "start_time": "2023-04-18T06:37:50.309Z"
   },
   {
    "duration": 108,
    "start_time": "2023-04-18T06:43:32.812Z"
   },
   {
    "duration": 100,
    "start_time": "2023-04-18T06:44:40.729Z"
   },
   {
    "duration": 103,
    "start_time": "2023-04-18T06:48:02.584Z"
   },
   {
    "duration": 519,
    "start_time": "2023-04-18T07:22:09.376Z"
   },
   {
    "duration": 20808,
    "start_time": "2023-04-18T07:22:09.897Z"
   },
   {
    "duration": 388,
    "start_time": "2023-04-18T07:22:30.707Z"
   },
   {
    "duration": 97,
    "start_time": "2023-04-18T07:22:31.097Z"
   },
   {
    "duration": 92,
    "start_time": "2023-04-18T07:22:31.196Z"
   },
   {
    "duration": 90,
    "start_time": "2023-04-18T07:22:31.290Z"
   },
   {
    "duration": 103,
    "start_time": "2023-04-18T07:22:31.382Z"
   },
   {
    "duration": 91,
    "start_time": "2023-04-18T07:22:31.486Z"
   },
   {
    "duration": 131,
    "start_time": "2023-04-18T07:22:31.578Z"
   },
   {
    "duration": 106,
    "start_time": "2023-04-18T07:22:31.712Z"
   },
   {
    "duration": 94,
    "start_time": "2023-04-18T07:22:31.820Z"
   },
   {
    "duration": 113,
    "start_time": "2023-04-18T07:22:31.916Z"
   },
   {
    "duration": 3,
    "start_time": "2023-04-18T07:33:53.531Z"
   },
   {
    "duration": 137,
    "start_time": "2023-04-18T07:34:09.920Z"
   },
   {
    "duration": 187,
    "start_time": "2023-04-18T07:34:56.182Z"
   },
   {
    "duration": 126,
    "start_time": "2023-04-18T07:35:00.821Z"
   },
   {
    "duration": 122,
    "start_time": "2023-04-18T07:35:48.628Z"
   },
   {
    "duration": 228,
    "start_time": "2023-04-18T07:36:39.185Z"
   },
   {
    "duration": 206,
    "start_time": "2023-04-18T07:37:53.817Z"
   },
   {
    "duration": 6,
    "start_time": "2023-04-18T07:55:25.968Z"
   },
   {
    "duration": 237,
    "start_time": "2023-04-18T07:55:28.845Z"
   },
   {
    "duration": 173,
    "start_time": "2023-04-18T07:55:42.828Z"
   },
   {
    "duration": 145,
    "start_time": "2023-04-18T07:55:51.326Z"
   },
   {
    "duration": 232,
    "start_time": "2023-04-18T07:55:59.916Z"
   },
   {
    "duration": 213,
    "start_time": "2023-04-18T07:56:11.659Z"
   },
   {
    "duration": 666,
    "start_time": "2023-04-18T08:25:41.151Z"
   },
   {
    "duration": 26408,
    "start_time": "2023-04-18T08:25:41.819Z"
   },
   {
    "duration": 4,
    "start_time": "2023-04-18T08:26:08.228Z"
   },
   {
    "duration": 589,
    "start_time": "2023-04-18T08:26:08.238Z"
   },
   {
    "duration": 169,
    "start_time": "2023-04-18T08:26:08.830Z"
   },
   {
    "duration": 133,
    "start_time": "2023-04-18T08:26:09.005Z"
   },
   {
    "duration": 265,
    "start_time": "2023-04-18T08:26:09.150Z"
   },
   {
    "duration": 228,
    "start_time": "2023-04-18T08:26:09.419Z"
   },
   {
    "duration": 127,
    "start_time": "2023-04-18T08:26:09.649Z"
   },
   {
    "duration": 194,
    "start_time": "2023-04-18T08:26:09.779Z"
   },
   {
    "duration": 152,
    "start_time": "2023-04-18T08:26:09.975Z"
   },
   {
    "duration": 143,
    "start_time": "2023-04-18T08:26:10.129Z"
   },
   {
    "duration": 159,
    "start_time": "2023-04-18T08:26:10.274Z"
   },
   {
    "duration": 662,
    "start_time": "2023-04-18T08:31:41.764Z"
   },
   {
    "duration": 20577,
    "start_time": "2023-04-18T08:31:42.428Z"
   },
   {
    "duration": 3,
    "start_time": "2023-04-18T08:32:03.007Z"
   },
   {
    "duration": 547,
    "start_time": "2023-04-18T08:32:03.012Z"
   },
   {
    "duration": 126,
    "start_time": "2023-04-18T08:32:03.561Z"
   },
   {
    "duration": 116,
    "start_time": "2023-04-18T08:32:03.689Z"
   },
   {
    "duration": 158,
    "start_time": "2023-04-18T08:32:03.806Z"
   },
   {
    "duration": 146,
    "start_time": "2023-04-18T08:32:03.966Z"
   },
   {
    "duration": 117,
    "start_time": "2023-04-18T08:32:04.113Z"
   },
   {
    "duration": 175,
    "start_time": "2023-04-18T08:32:04.233Z"
   },
   {
    "duration": 101,
    "start_time": "2023-04-18T08:32:04.409Z"
   },
   {
    "duration": 117,
    "start_time": "2023-04-18T08:32:04.513Z"
   },
   {
    "duration": 120,
    "start_time": "2023-04-18T08:32:04.632Z"
   },
   {
    "duration": 789,
    "start_time": "2023-04-18T08:41:10.816Z"
   },
   {
    "duration": 25531,
    "start_time": "2023-04-18T08:41:11.611Z"
   },
   {
    "duration": 7,
    "start_time": "2023-04-18T08:41:37.154Z"
   },
   {
    "duration": 649,
    "start_time": "2023-04-18T08:41:37.167Z"
   },
   {
    "duration": 132,
    "start_time": "2023-04-18T08:41:37.818Z"
   },
   {
    "duration": 165,
    "start_time": "2023-04-18T08:41:37.953Z"
   },
   {
    "duration": 221,
    "start_time": "2023-04-18T08:41:38.123Z"
   },
   {
    "duration": 170,
    "start_time": "2023-04-18T08:41:38.346Z"
   },
   {
    "duration": 144,
    "start_time": "2023-04-18T08:41:38.522Z"
   },
   {
    "duration": 198,
    "start_time": "2023-04-18T08:41:38.673Z"
   },
   {
    "duration": 151,
    "start_time": "2023-04-18T08:41:38.873Z"
   },
   {
    "duration": 137,
    "start_time": "2023-04-18T08:41:39.026Z"
   },
   {
    "duration": 140,
    "start_time": "2023-04-18T08:41:39.164Z"
   },
   {
    "duration": 630,
    "start_time": "2023-04-18T16:39:09.057Z"
   },
   {
    "duration": 11905,
    "start_time": "2023-04-18T16:39:09.689Z"
   },
   {
    "duration": 3,
    "start_time": "2023-04-18T16:39:21.596Z"
   },
   {
    "duration": 411,
    "start_time": "2023-04-18T16:39:21.601Z"
   },
   {
    "duration": 102,
    "start_time": "2023-04-18T16:39:22.015Z"
   },
   {
    "duration": 111,
    "start_time": "2023-04-18T16:39:22.119Z"
   },
   {
    "duration": 161,
    "start_time": "2023-04-18T16:39:22.233Z"
   },
   {
    "duration": 134,
    "start_time": "2023-04-18T16:39:22.396Z"
   },
   {
    "duration": 93,
    "start_time": "2023-04-18T16:39:22.532Z"
   },
   {
    "duration": 98,
    "start_time": "2023-04-18T16:39:22.627Z"
   },
   {
    "duration": 96,
    "start_time": "2023-04-18T16:39:22.727Z"
   },
   {
    "duration": 91,
    "start_time": "2023-04-18T16:39:22.825Z"
   },
   {
    "duration": 101,
    "start_time": "2023-04-18T16:39:22.918Z"
   }
  ],
  "kernelspec": {
   "display_name": "Python 3 (ipykernel)",
   "language": "python",
   "name": "python3"
  },
  "language_info": {
   "codemirror_mode": {
    "name": "ipython",
    "version": 3
   },
   "file_extension": ".py",
   "mimetype": "text/x-python",
   "name": "python",
   "nbconvert_exporter": "python",
   "pygments_lexer": "ipython3",
   "version": "3.9.13"
  },
  "toc": {
   "base_numbering": 1,
   "nav_menu": {},
   "number_sections": true,
   "sideBar": true,
   "skip_h1_title": true,
   "title_cell": "Оглавление",
   "title_sidebar": "Contents",
   "toc_cell": true,
   "toc_position": {},
   "toc_section_display": true,
   "toc_window_display": false
  }
 },
 "nbformat": 4,
 "nbformat_minor": 2
}
