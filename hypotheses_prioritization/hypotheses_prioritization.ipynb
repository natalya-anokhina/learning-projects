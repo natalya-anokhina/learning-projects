{
 "cells": [
  {
   "cell_type": "markdown",
   "metadata": {},
   "source": [
    "# Принятие решений в бизнесе"
   ]
  },
  {
   "cell_type": "markdown",
   "metadata": {},
   "source": [
    "Исследование проводится для крупного интернет-магазина.   \n",
    "\n",
    "В нашем распоряжении подготовленный совместно с отделом маркетинга список гипотез для увеличения выручки, который необходимо приоритизировать. Кроме того, имеются результаты A/B-теста, которые нуждаются в анализе. "
   ]
  },
  {
   "cell_type": "markdown",
   "metadata": {},
   "source": [
    "**ЦЕЛЬ ИССЛЕДОВАНИЯ**:\n",
    "1. Выбрать наиболее приоритетные гипотезы из представленного списка.\n",
    "2. По результатам А/В-теста проверить гипотезу об отсутствии статистически значимых различий в конверсии заказов между группами по \"сырым\" данным и данным после фильтрации аномалий.\n",
    "3.  По результатам А/В-теста проверить гипотезу об отсутствии статистически значимых различий в среднем чеке заказа между группами по \"сырым\" данным и данным после фильтрации аномалий."
   ]
  },
  {
   "cell_type": "markdown",
   "metadata": {},
   "source": [
    "**ХОД ИССЛЕДОВАНИЯ**\n",
    "\n",
    "Данные получили из трех файлов: для одной части - hypothesis.csv, для другой - orders.csv и visitors.csv.    \n",
    "О качестве данных ничего не известно. Поэтому перед исследованием данных и расчетом показателей понадобится их обзор и предобработка. \n",
    "Таким образом, исследование пройдёт в три этапа:\n",
    "\n",
    "1. Обзор и предобработка данных.\n",
    "2. Приоритизация гипотез.\n",
    "3. Анализ A/B-теста."
   ]
  },
  {
   "cell_type": "markdown",
   "metadata": {},
   "source": [
    "### Загрузка данных и подготовка их к анализу"
   ]
  },
  {
   "cell_type": "markdown",
   "metadata": {},
   "source": [
    "Импортируем нужные библиотеки, настроим отображение таблиц и загрузим данные в переменные `hypothesis`, `visitors` и `orders`:"
   ]
  },
  {
   "cell_type": "code",
   "execution_count": 1,
   "metadata": {},
   "outputs": [],
   "source": [
    "import pandas as pd\n",
    "import scipy.stats as stats\n",
    "import datetime as dt\n",
    "import numpy as np\n",
    "import matplotlib.pyplot as plt\n",
    "import seaborn as sns"
   ]
  },
  {
   "cell_type": "code",
   "execution_count": 2,
   "metadata": {},
   "outputs": [],
   "source": [
    "pd.set_option('display.max_columns', None) # настроим отображение всех столбцов на экране\n",
    "pd.set_option('display.max_colwidth', None) # настроим отображение текста в ячейках\n",
    "pd.set_option('display.float_format', '{:.3f}'.format) # настроим отображение вещественных чисел до 3 наков"
   ]
  },
  {
   "cell_type": "code",
   "execution_count": 3,
   "metadata": {},
   "outputs": [],
   "source": [
    "#загружаем данные в переменные\n",
    "hypothesis, orders, visitors = (\n",
    "    pd.read_csv('/datasets/hypothesis.csv'),  # гипотезы\n",
    "    pd.read_csv('/datasets/orders.csv'),  # результаты А/В-теста с данными о заказах\n",
    "    pd.read_csv('/datasets/visitors.csv'),  # результаты А/В-теста с данными о визитах\n",
    ")"
   ]
  },
  {
   "cell_type": "markdown",
   "metadata": {},
   "source": [
    "---"
   ]
  },
  {
   "cell_type": "markdown",
   "metadata": {},
   "source": [
    "Для быстрого изучения данных создадим функцию `data_info`, которая выведет на экран первые 5 строк таблицы, основную инфоромацию по ней с типами данных каждого признака, информацию о числе пропусков и о количистве дубликатов. Поочередно применим ее к изучаемыми датасетам."
   ]
  },
  {
   "cell_type": "code",
   "execution_count": 4,
   "metadata": {},
   "outputs": [],
   "source": [
    "def data_info(df):\n",
    "    # выводим первые 5 строк датафрема\n",
    "    display(df.head())\n",
    "    # применяем метод info()\n",
    "    print()\n",
    "    print('Общая информация:')\n",
    "    print(df.info())\n",
    "    print()\n",
    "    # считаем пропущенные значения:\n",
    "    print('Число пропущенных значений:')\n",
    "    print(df.isna().sum())\n",
    "    print()\n",
    "    # находим число строк-дубликатов в датафреме\n",
    "    print('Количество строк-дубликатов:', df.duplicated().sum())"
   ]
  },
  {
   "cell_type": "markdown",
   "metadata": {},
   "source": [
    "---"
   ]
  },
  {
   "cell_type": "markdown",
   "metadata": {},
   "source": [
    "**Датасет \"hypothesis\"**"
   ]
  },
  {
   "cell_type": "code",
   "execution_count": 5,
   "metadata": {},
   "outputs": [
    {
     "data": {
      "text/html": [
       "<div>\n",
       "<style scoped>\n",
       "    .dataframe tbody tr th:only-of-type {\n",
       "        vertical-align: middle;\n",
       "    }\n",
       "\n",
       "    .dataframe tbody tr th {\n",
       "        vertical-align: top;\n",
       "    }\n",
       "\n",
       "    .dataframe thead th {\n",
       "        text-align: right;\n",
       "    }\n",
       "</style>\n",
       "<table border=\"1\" class=\"dataframe\">\n",
       "  <thead>\n",
       "    <tr style=\"text-align: right;\">\n",
       "      <th></th>\n",
       "      <th>Hypothesis</th>\n",
       "      <th>Reach</th>\n",
       "      <th>Impact</th>\n",
       "      <th>Confidence</th>\n",
       "      <th>Efforts</th>\n",
       "    </tr>\n",
       "  </thead>\n",
       "  <tbody>\n",
       "    <tr>\n",
       "      <th>0</th>\n",
       "      <td>Добавить два новых канала привлечения трафика, что позволит привлекать на 30% больше пользователей</td>\n",
       "      <td>3</td>\n",
       "      <td>10</td>\n",
       "      <td>8</td>\n",
       "      <td>6</td>\n",
       "    </tr>\n",
       "    <tr>\n",
       "      <th>1</th>\n",
       "      <td>Запустить собственную службу доставки, что сократит срок доставки заказов</td>\n",
       "      <td>2</td>\n",
       "      <td>5</td>\n",
       "      <td>4</td>\n",
       "      <td>10</td>\n",
       "    </tr>\n",
       "    <tr>\n",
       "      <th>2</th>\n",
       "      <td>Добавить блоки рекомендаций товаров на сайт интернет магазина, чтобы повысить конверсию и средний чек заказа</td>\n",
       "      <td>8</td>\n",
       "      <td>3</td>\n",
       "      <td>7</td>\n",
       "      <td>3</td>\n",
       "    </tr>\n",
       "    <tr>\n",
       "      <th>3</th>\n",
       "      <td>Изменить структура категорий, что увеличит конверсию, т.к. пользователи быстрее найдут нужный товар</td>\n",
       "      <td>8</td>\n",
       "      <td>3</td>\n",
       "      <td>3</td>\n",
       "      <td>8</td>\n",
       "    </tr>\n",
       "    <tr>\n",
       "      <th>4</th>\n",
       "      <td>Изменить цвет фона главной страницы, чтобы увеличить вовлеченность пользователей</td>\n",
       "      <td>3</td>\n",
       "      <td>1</td>\n",
       "      <td>1</td>\n",
       "      <td>1</td>\n",
       "    </tr>\n",
       "  </tbody>\n",
       "</table>\n",
       "</div>"
      ],
      "text/plain": [
       "                                                                                                     Hypothesis  \\\n",
       "0            Добавить два новых канала привлечения трафика, что позволит привлекать на 30% больше пользователей   \n",
       "1                                     Запустить собственную службу доставки, что сократит срок доставки заказов   \n",
       "2  Добавить блоки рекомендаций товаров на сайт интернет магазина, чтобы повысить конверсию и средний чек заказа   \n",
       "3           Изменить структура категорий, что увеличит конверсию, т.к. пользователи быстрее найдут нужный товар   \n",
       "4                              Изменить цвет фона главной страницы, чтобы увеличить вовлеченность пользователей   \n",
       "\n",
       "   Reach  Impact  Confidence  Efforts  \n",
       "0      3      10           8        6  \n",
       "1      2       5           4       10  \n",
       "2      8       3           7        3  \n",
       "3      8       3           3        8  \n",
       "4      3       1           1        1  "
      ]
     },
     "metadata": {},
     "output_type": "display_data"
    },
    {
     "name": "stdout",
     "output_type": "stream",
     "text": [
      "\n",
      "Общая информация:\n",
      "<class 'pandas.core.frame.DataFrame'>\n",
      "RangeIndex: 9 entries, 0 to 8\n",
      "Data columns (total 5 columns):\n",
      " #   Column      Non-Null Count  Dtype \n",
      "---  ------      --------------  ----- \n",
      " 0   Hypothesis  9 non-null      object\n",
      " 1   Reach       9 non-null      int64 \n",
      " 2   Impact      9 non-null      int64 \n",
      " 3   Confidence  9 non-null      int64 \n",
      " 4   Efforts     9 non-null      int64 \n",
      "dtypes: int64(4), object(1)\n",
      "memory usage: 488.0+ bytes\n",
      "None\n",
      "\n",
      "Число пропущенных значений:\n",
      "Hypothesis    0\n",
      "Reach         0\n",
      "Impact        0\n",
      "Confidence    0\n",
      "Efforts       0\n",
      "dtype: int64\n",
      "\n",
      "Количество строк-дубликатов: 0\n"
     ]
    }
   ],
   "source": [
    "data_info(hypothesis)"
   ]
  },
  {
   "cell_type": "markdown",
   "metadata": {},
   "source": [
    "<div style=\"border:solid Gray 1px; padding: 20px\">  \n",
    "    \n",
    "В таблице 5 столбцов. Встречаются разные типы данных в столбцах: object и int64.\n",
    "\n",
    "Согласно документации:    \n",
    "**Hypothesis** — краткое описание гипотезы;   \n",
    "**Reach** — охват пользователей по 10-балльной шкале;   \n",
    "**Impact** — влияние на пользователей по 10-балльной шкале;   \n",
    "**Confidence** — уверенность в гипотезе по 10-балльной шкале;    \n",
    "**Efforts** — затраты ресурсов на проверку гипотезы по 10-балльной.   \n",
    "\n",
    "\n",
    "В названиях колонок видны нарушения стиля, над которым нужно поработать.   \n",
    "Пропущенных значений в датасете нет, строки-дубликаты отсутствуют, типы данных соответствуют заявленному описанию. "
   ]
  },
  {
   "cell_type": "code",
   "execution_count": 6,
   "metadata": {},
   "outputs": [],
   "source": [
    "#приведем название столбцов к нижнему регистру\n",
    "hypothesis.columns = hypothesis.columns.str.lower()"
   ]
  },
  {
   "cell_type": "markdown",
   "metadata": {},
   "source": [
    "**Датасет \"orders\"**"
   ]
  },
  {
   "cell_type": "code",
   "execution_count": 7,
   "metadata": {},
   "outputs": [
    {
     "data": {
      "text/html": [
       "<div>\n",
       "<style scoped>\n",
       "    .dataframe tbody tr th:only-of-type {\n",
       "        vertical-align: middle;\n",
       "    }\n",
       "\n",
       "    .dataframe tbody tr th {\n",
       "        vertical-align: top;\n",
       "    }\n",
       "\n",
       "    .dataframe thead th {\n",
       "        text-align: right;\n",
       "    }\n",
       "</style>\n",
       "<table border=\"1\" class=\"dataframe\">\n",
       "  <thead>\n",
       "    <tr style=\"text-align: right;\">\n",
       "      <th></th>\n",
       "      <th>transactionId</th>\n",
       "      <th>visitorId</th>\n",
       "      <th>date</th>\n",
       "      <th>revenue</th>\n",
       "      <th>group</th>\n",
       "    </tr>\n",
       "  </thead>\n",
       "  <tbody>\n",
       "    <tr>\n",
       "      <th>0</th>\n",
       "      <td>3667963787</td>\n",
       "      <td>3312258926</td>\n",
       "      <td>2019-08-15</td>\n",
       "      <td>1650</td>\n",
       "      <td>B</td>\n",
       "    </tr>\n",
       "    <tr>\n",
       "      <th>1</th>\n",
       "      <td>2804400009</td>\n",
       "      <td>3642806036</td>\n",
       "      <td>2019-08-15</td>\n",
       "      <td>730</td>\n",
       "      <td>B</td>\n",
       "    </tr>\n",
       "    <tr>\n",
       "      <th>2</th>\n",
       "      <td>2961555356</td>\n",
       "      <td>4069496402</td>\n",
       "      <td>2019-08-15</td>\n",
       "      <td>400</td>\n",
       "      <td>A</td>\n",
       "    </tr>\n",
       "    <tr>\n",
       "      <th>3</th>\n",
       "      <td>3797467345</td>\n",
       "      <td>1196621759</td>\n",
       "      <td>2019-08-15</td>\n",
       "      <td>9759</td>\n",
       "      <td>B</td>\n",
       "    </tr>\n",
       "    <tr>\n",
       "      <th>4</th>\n",
       "      <td>2282983706</td>\n",
       "      <td>2322279887</td>\n",
       "      <td>2019-08-15</td>\n",
       "      <td>2308</td>\n",
       "      <td>B</td>\n",
       "    </tr>\n",
       "  </tbody>\n",
       "</table>\n",
       "</div>"
      ],
      "text/plain": [
       "   transactionId   visitorId        date  revenue group\n",
       "0     3667963787  3312258926  2019-08-15     1650     B\n",
       "1     2804400009  3642806036  2019-08-15      730     B\n",
       "2     2961555356  4069496402  2019-08-15      400     A\n",
       "3     3797467345  1196621759  2019-08-15     9759     B\n",
       "4     2282983706  2322279887  2019-08-15     2308     B"
      ]
     },
     "metadata": {},
     "output_type": "display_data"
    },
    {
     "name": "stdout",
     "output_type": "stream",
     "text": [
      "\n",
      "Общая информация:\n",
      "<class 'pandas.core.frame.DataFrame'>\n",
      "RangeIndex: 1197 entries, 0 to 1196\n",
      "Data columns (total 5 columns):\n",
      " #   Column         Non-Null Count  Dtype \n",
      "---  ------         --------------  ----- \n",
      " 0   transactionId  1197 non-null   int64 \n",
      " 1   visitorId      1197 non-null   int64 \n",
      " 2   date           1197 non-null   object\n",
      " 3   revenue        1197 non-null   int64 \n",
      " 4   group          1197 non-null   object\n",
      "dtypes: int64(3), object(2)\n",
      "memory usage: 46.9+ KB\n",
      "None\n",
      "\n",
      "Число пропущенных значений:\n",
      "transactionId    0\n",
      "visitorId        0\n",
      "date             0\n",
      "revenue          0\n",
      "group            0\n",
      "dtype: int64\n",
      "\n",
      "Количество строк-дубликатов: 0\n"
     ]
    }
   ],
   "source": [
    "data_info(orders)"
   ]
  },
  {
   "cell_type": "markdown",
   "metadata": {},
   "source": [
    "<div style=\"border:solid Gray 1px; padding: 20px\">  \n",
    "    \n",
    "В таблице 5 столбцов. Встречаются разные типы данных в столбцах: int64 и object. \n",
    "\n",
    "Согласно документации:       \n",
    "**transactionId** — идентификатор заказа;    \n",
    "**visitorId** — идентификатор пользователя, совершившего заказ;   \n",
    "**date** — дата, когда был совершён заказ;   \n",
    "**revenue** — выручка заказа;   \n",
    "**group** — группа A/B-теста, в которую попал заказ.    \n",
    "\n",
    "В названиях колонок также видны нарушения стиля.  \n",
    "Тип данных признака `date` нужно изменить на datetime.  \n",
    "Пропущенных значений в датафрейме нет, строки-дубликаты отсутствуют."
   ]
  },
  {
   "cell_type": "code",
   "execution_count": 8,
   "metadata": {},
   "outputs": [
    {
     "data": {
      "text/plain": [
       "transaction_id             int64\n",
       "visitor_id                 int64\n",
       "date              datetime64[ns]\n",
       "revenue                    int64\n",
       "group                     object\n",
       "dtype: object"
      ]
     },
     "execution_count": 8,
     "metadata": {},
     "output_type": "execute_result"
    }
   ],
   "source": [
    "# приведем наименования столбцов в соответствии с хорошим стилем\n",
    "orders = orders.rename(columns = {'transactionId':'transaction_id', 'visitorId':'visitor_id'})\n",
    "\n",
    "#изменим тип данных на datetime\n",
    "orders['date'] = pd.to_datetime(orders['date'])\n",
    "\n",
    "# выведем обновленную информацию для проверки\n",
    "orders.dtypes"
   ]
  },
  {
   "cell_type": "markdown",
   "metadata": {},
   "source": [
    "**Датасет \"visitors\"**"
   ]
  },
  {
   "cell_type": "code",
   "execution_count": 9,
   "metadata": {},
   "outputs": [
    {
     "data": {
      "text/html": [
       "<div>\n",
       "<style scoped>\n",
       "    .dataframe tbody tr th:only-of-type {\n",
       "        vertical-align: middle;\n",
       "    }\n",
       "\n",
       "    .dataframe tbody tr th {\n",
       "        vertical-align: top;\n",
       "    }\n",
       "\n",
       "    .dataframe thead th {\n",
       "        text-align: right;\n",
       "    }\n",
       "</style>\n",
       "<table border=\"1\" class=\"dataframe\">\n",
       "  <thead>\n",
       "    <tr style=\"text-align: right;\">\n",
       "      <th></th>\n",
       "      <th>date</th>\n",
       "      <th>group</th>\n",
       "      <th>visitors</th>\n",
       "    </tr>\n",
       "  </thead>\n",
       "  <tbody>\n",
       "    <tr>\n",
       "      <th>0</th>\n",
       "      <td>2019-08-01</td>\n",
       "      <td>A</td>\n",
       "      <td>719</td>\n",
       "    </tr>\n",
       "    <tr>\n",
       "      <th>1</th>\n",
       "      <td>2019-08-02</td>\n",
       "      <td>A</td>\n",
       "      <td>619</td>\n",
       "    </tr>\n",
       "    <tr>\n",
       "      <th>2</th>\n",
       "      <td>2019-08-03</td>\n",
       "      <td>A</td>\n",
       "      <td>507</td>\n",
       "    </tr>\n",
       "    <tr>\n",
       "      <th>3</th>\n",
       "      <td>2019-08-04</td>\n",
       "      <td>A</td>\n",
       "      <td>717</td>\n",
       "    </tr>\n",
       "    <tr>\n",
       "      <th>4</th>\n",
       "      <td>2019-08-05</td>\n",
       "      <td>A</td>\n",
       "      <td>756</td>\n",
       "    </tr>\n",
       "  </tbody>\n",
       "</table>\n",
       "</div>"
      ],
      "text/plain": [
       "         date group  visitors\n",
       "0  2019-08-01     A       719\n",
       "1  2019-08-02     A       619\n",
       "2  2019-08-03     A       507\n",
       "3  2019-08-04     A       717\n",
       "4  2019-08-05     A       756"
      ]
     },
     "metadata": {},
     "output_type": "display_data"
    },
    {
     "name": "stdout",
     "output_type": "stream",
     "text": [
      "\n",
      "Общая информация:\n",
      "<class 'pandas.core.frame.DataFrame'>\n",
      "RangeIndex: 62 entries, 0 to 61\n",
      "Data columns (total 3 columns):\n",
      " #   Column    Non-Null Count  Dtype \n",
      "---  ------    --------------  ----- \n",
      " 0   date      62 non-null     object\n",
      " 1   group     62 non-null     object\n",
      " 2   visitors  62 non-null     int64 \n",
      "dtypes: int64(1), object(2)\n",
      "memory usage: 1.6+ KB\n",
      "None\n",
      "\n",
      "Число пропущенных значений:\n",
      "date        0\n",
      "group       0\n",
      "visitors    0\n",
      "dtype: int64\n",
      "\n",
      "Количество строк-дубликатов: 0\n"
     ]
    }
   ],
   "source": [
    "data_info(visitors)"
   ]
  },
  {
   "cell_type": "markdown",
   "metadata": {},
   "source": [
    "<div style=\"border:solid Gray 1px; padding: 20px\">  \n",
    "    \n",
    "В таблице 3 столбца. Встречаются разные типы данных в столбцах: int64 и object. \n",
    "\n",
    "Согласно документации:          \n",
    "**date** — дата;   \n",
    "**group** — группа A/B-теста;   \n",
    "**visitors** — количество пользователей в указанную дату в указанной группе A/B-теста   \n",
    "    \n",
    "\n",
    "С названиями признаков - все в порядке, нарушения стиля нет.  \n",
    "Тип данных признака `date` нужно изменить на datetime.  \n",
    "Пропущенных значений в датафрейме нет, строки-дубликаты отсутствуют."
   ]
  },
  {
   "cell_type": "code",
   "execution_count": 10,
   "metadata": {},
   "outputs": [
    {
     "data": {
      "text/plain": [
       "date        datetime64[ns]\n",
       "group               object\n",
       "visitors             int64\n",
       "dtype: object"
      ]
     },
     "execution_count": 10,
     "metadata": {},
     "output_type": "execute_result"
    }
   ],
   "source": [
    "#изменим тип данных на datetime\n",
    "visitors['date'] = pd.to_datetime(visitors['date'])\n",
    "\n",
    "# выведем обновленную информацию для проверки\n",
    "visitors.dtypes"
   ]
  },
  {
   "cell_type": "markdown",
   "metadata": {},
   "source": [
    "**Вывод**   \n",
    "Данные загружены и предобработаны, пропуски и явные дубликаты не выявлены, столбцы с данными о времени приведены к нужному типу, исправлен стиль заголовков."
   ]
  },
  {
   "cell_type": "markdown",
   "metadata": {},
   "source": [
    "###  Приоритизация гипотез."
   ]
  },
  {
   "cell_type": "markdown",
   "metadata": {},
   "source": [
    "`hypothesis` содержит 9 гипотез по увеличению выручки интернет-магазина, которые будем приоритизировать способами ICE и RICE."
   ]
  },
  {
   "cell_type": "markdown",
   "metadata": {},
   "source": [
    "#### Фреймворк ICE для приоритизации гипотез"
   ]
  },
  {
   "cell_type": "markdown",
   "metadata": {},
   "source": [
    "Для расчетов будем использовать формулу: $$ICE = \\frac{Impact * Confidence}{Efforts}$$\n",
    "\n",
    "где    \n",
    "    **_Impact_** - *влияние на пользователей, их опыт и удовлетворение от продукта;*    \n",
    "    **_Confidence_** - *уверенность в гипотезе, что это изменение повлияет на пользователей именно так;*  \n",
    "    **_Efforts_** - *затраты ресурсов на проверку гипотезы.*"
   ]
  },
  {
   "cell_type": "code",
   "execution_count": 11,
   "metadata": {},
   "outputs": [
    {
     "data": {
      "text/html": [
       "<div>\n",
       "<style scoped>\n",
       "    .dataframe tbody tr th:only-of-type {\n",
       "        vertical-align: middle;\n",
       "    }\n",
       "\n",
       "    .dataframe tbody tr th {\n",
       "        vertical-align: top;\n",
       "    }\n",
       "\n",
       "    .dataframe thead th {\n",
       "        text-align: right;\n",
       "    }\n",
       "</style>\n",
       "<table border=\"1\" class=\"dataframe\">\n",
       "  <thead>\n",
       "    <tr style=\"text-align: right;\">\n",
       "      <th></th>\n",
       "      <th>hypothesis</th>\n",
       "      <th>reach</th>\n",
       "      <th>impact</th>\n",
       "      <th>confidence</th>\n",
       "      <th>efforts</th>\n",
       "      <th>ICE</th>\n",
       "    </tr>\n",
       "  </thead>\n",
       "  <tbody>\n",
       "    <tr>\n",
       "      <th>8</th>\n",
       "      <td>Запустить акцию, дающую скидку на товар в день рождения</td>\n",
       "      <td>1</td>\n",
       "      <td>9</td>\n",
       "      <td>9</td>\n",
       "      <td>5</td>\n",
       "      <td>16.200</td>\n",
       "    </tr>\n",
       "    <tr>\n",
       "      <th>0</th>\n",
       "      <td>Добавить два новых канала привлечения трафика, что позволит привлекать на 30% больше пользователей</td>\n",
       "      <td>3</td>\n",
       "      <td>10</td>\n",
       "      <td>8</td>\n",
       "      <td>6</td>\n",
       "      <td>13.333</td>\n",
       "    </tr>\n",
       "    <tr>\n",
       "      <th>7</th>\n",
       "      <td>Добавить форму подписки на все основные страницы, чтобы собрать базу клиентов для email-рассылок</td>\n",
       "      <td>10</td>\n",
       "      <td>7</td>\n",
       "      <td>8</td>\n",
       "      <td>5</td>\n",
       "      <td>11.200</td>\n",
       "    </tr>\n",
       "    <tr>\n",
       "      <th>6</th>\n",
       "      <td>Показать на главной странице баннеры с актуальными акциями и распродажами, чтобы увеличить конверсию</td>\n",
       "      <td>5</td>\n",
       "      <td>3</td>\n",
       "      <td>8</td>\n",
       "      <td>3</td>\n",
       "      <td>8.000</td>\n",
       "    </tr>\n",
       "    <tr>\n",
       "      <th>2</th>\n",
       "      <td>Добавить блоки рекомендаций товаров на сайт интернет магазина, чтобы повысить конверсию и средний чек заказа</td>\n",
       "      <td>8</td>\n",
       "      <td>3</td>\n",
       "      <td>7</td>\n",
       "      <td>3</td>\n",
       "      <td>7.000</td>\n",
       "    </tr>\n",
       "  </tbody>\n",
       "</table>\n",
       "</div>"
      ],
      "text/plain": [
       "                                                                                                     hypothesis  \\\n",
       "8                                                       Запустить акцию, дающую скидку на товар в день рождения   \n",
       "0            Добавить два новых канала привлечения трафика, что позволит привлекать на 30% больше пользователей   \n",
       "7              Добавить форму подписки на все основные страницы, чтобы собрать базу клиентов для email-рассылок   \n",
       "6          Показать на главной странице баннеры с актуальными акциями и распродажами, чтобы увеличить конверсию   \n",
       "2  Добавить блоки рекомендаций товаров на сайт интернет магазина, чтобы повысить конверсию и средний чек заказа   \n",
       "\n",
       "   reach  impact  confidence  efforts    ICE  \n",
       "8      1       9           9        5 16.200  \n",
       "0      3      10           8        6 13.333  \n",
       "7     10       7           8        5 11.200  \n",
       "6      5       3           8        3  8.000  \n",
       "2      8       3           7        3  7.000  "
      ]
     },
     "execution_count": 11,
     "metadata": {},
     "output_type": "execute_result"
    }
   ],
   "source": [
    "hypothesis['ICE'] = hypothesis['impact'] * hypothesis['confidence'] / hypothesis['efforts']\n",
    "hypothesis.sort_values(by='ICE', ascending=False).head()"
   ]
  },
  {
   "cell_type": "markdown",
   "metadata": {},
   "source": [
    "Для наглядности, отобразим все гипотезы в порядке убывания приоритета:"
   ]
  },
  {
   "cell_type": "code",
   "execution_count": 12,
   "metadata": {},
   "outputs": [
    {
     "data": {
      "image/png": "[encoded data removed]",
      "text/plain": [
       "<Figure size 432x288 with 1 Axes>"
      ]
     },
     "metadata": {
      "needs_background": "light"
     },
     "output_type": "display_data"
    }
   ],
   "source": [
    "colors = sns.color_palette(\"crest\")\n",
    "sns.barplot(data=hypothesis.sort_values(by='ICE', ascending=False), x='ICE', y='hypothesis', palette=colors)\n",
    "plt.title('Приоритизация с помощью \"ICE\"')\n",
    "plt.xlabel('Уровень ICE')\n",
    "plt.ylabel('Гипотеза')\n",
    "plt.show()"
   ]
  },
  {
   "cell_type": "markdown",
   "metadata": {},
   "source": [
    "Таким образом, наиболее **перспективными по \"ICE\" являются гипотезы с индексами: 8, 0, 7, 6 и 2.**"
   ]
  },
  {
   "cell_type": "markdown",
   "metadata": {},
   "source": [
    "#### Фреймворк RICE для приоритизации гипотез"
   ]
  },
  {
   "cell_type": "markdown",
   "metadata": {},
   "source": [
    "Для расчетов будем использовать формулу: $$RICE = \\frac{Reach * Impact * Confidence}{Efforts}$$\n",
    "\n",
    "где    \n",
    "    **_Reach_** - *охват пользователей, которых затронет изменение;*    \n",
    "    **_Impact_** - *влияние на пользователей, их опыт и удовлетворение от продукта;*    \n",
    "    **_Confidence_** - *уверенность в гипотезе, что это изменение повлияет на пользователей именно так;*  \n",
    "    **_Efforts_** - *затраты ресурсов на проверку гипотезы.*"
   ]
  },
  {
   "cell_type": "code",
   "execution_count": 13,
   "metadata": {},
   "outputs": [
    {
     "data": {
      "text/html": [
       "<div>\n",
       "<style scoped>\n",
       "    .dataframe tbody tr th:only-of-type {\n",
       "        vertical-align: middle;\n",
       "    }\n",
       "\n",
       "    .dataframe tbody tr th {\n",
       "        vertical-align: top;\n",
       "    }\n",
       "\n",
       "    .dataframe thead th {\n",
       "        text-align: right;\n",
       "    }\n",
       "</style>\n",
       "<table border=\"1\" class=\"dataframe\">\n",
       "  <thead>\n",
       "    <tr style=\"text-align: right;\">\n",
       "      <th></th>\n",
       "      <th>hypothesis</th>\n",
       "      <th>reach</th>\n",
       "      <th>impact</th>\n",
       "      <th>confidence</th>\n",
       "      <th>efforts</th>\n",
       "      <th>ICE</th>\n",
       "      <th>RICE</th>\n",
       "    </tr>\n",
       "  </thead>\n",
       "  <tbody>\n",
       "    <tr>\n",
       "      <th>7</th>\n",
       "      <td>Добавить форму подписки на все основные страницы, чтобы собрать базу клиентов для email-рассылок</td>\n",
       "      <td>10</td>\n",
       "      <td>7</td>\n",
       "      <td>8</td>\n",
       "      <td>5</td>\n",
       "      <td>11.200</td>\n",
       "      <td>112.000</td>\n",
       "    </tr>\n",
       "    <tr>\n",
       "      <th>2</th>\n",
       "      <td>Добавить блоки рекомендаций товаров на сайт интернет магазина, чтобы повысить конверсию и средний чек заказа</td>\n",
       "      <td>8</td>\n",
       "      <td>3</td>\n",
       "      <td>7</td>\n",
       "      <td>3</td>\n",
       "      <td>7.000</td>\n",
       "      <td>56.000</td>\n",
       "    </tr>\n",
       "    <tr>\n",
       "      <th>0</th>\n",
       "      <td>Добавить два новых канала привлечения трафика, что позволит привлекать на 30% больше пользователей</td>\n",
       "      <td>3</td>\n",
       "      <td>10</td>\n",
       "      <td>8</td>\n",
       "      <td>6</td>\n",
       "      <td>13.333</td>\n",
       "      <td>40.000</td>\n",
       "    </tr>\n",
       "    <tr>\n",
       "      <th>6</th>\n",
       "      <td>Показать на главной странице баннеры с актуальными акциями и распродажами, чтобы увеличить конверсию</td>\n",
       "      <td>5</td>\n",
       "      <td>3</td>\n",
       "      <td>8</td>\n",
       "      <td>3</td>\n",
       "      <td>8.000</td>\n",
       "      <td>40.000</td>\n",
       "    </tr>\n",
       "    <tr>\n",
       "      <th>8</th>\n",
       "      <td>Запустить акцию, дающую скидку на товар в день рождения</td>\n",
       "      <td>1</td>\n",
       "      <td>9</td>\n",
       "      <td>9</td>\n",
       "      <td>5</td>\n",
       "      <td>16.200</td>\n",
       "      <td>16.200</td>\n",
       "    </tr>\n",
       "  </tbody>\n",
       "</table>\n",
       "</div>"
      ],
      "text/plain": [
       "                                                                                                     hypothesis  \\\n",
       "7              Добавить форму подписки на все основные страницы, чтобы собрать базу клиентов для email-рассылок   \n",
       "2  Добавить блоки рекомендаций товаров на сайт интернет магазина, чтобы повысить конверсию и средний чек заказа   \n",
       "0            Добавить два новых канала привлечения трафика, что позволит привлекать на 30% больше пользователей   \n",
       "6          Показать на главной странице баннеры с актуальными акциями и распродажами, чтобы увеличить конверсию   \n",
       "8                                                       Запустить акцию, дающую скидку на товар в день рождения   \n",
       "\n",
       "   reach  impact  confidence  efforts    ICE    RICE  \n",
       "7     10       7           8        5 11.200 112.000  \n",
       "2      8       3           7        3  7.000  56.000  \n",
       "0      3      10           8        6 13.333  40.000  \n",
       "6      5       3           8        3  8.000  40.000  \n",
       "8      1       9           9        5 16.200  16.200  "
      ]
     },
     "execution_count": 13,
     "metadata": {},
     "output_type": "execute_result"
    }
   ],
   "source": [
    "# рассчитываем приоритет RICE\n",
    "hypothesis['RICE'] = hypothesis['reach'] * hypothesis['impact'] * hypothesis['confidence'] / hypothesis['efforts']\n",
    "hypothesis.sort_values(by='RICE', ascending=False).head()"
   ]
  },
  {
   "cell_type": "code",
   "execution_count": 14,
   "metadata": {},
   "outputs": [
    {
     "data": {
      "image/png": "[encoded data removed]",
      "text/plain": [
       "<Figure size 432x288 with 1 Axes>"
      ]
     },
     "metadata": {
      "needs_background": "light"
     },
     "output_type": "display_data"
    }
   ],
   "source": [
    "sns.barplot(data=hypothesis.sort_values(by='RICE', ascending=False), x='RICE', y='hypothesis', palette=colors)\n",
    "plt.title('Приоритизация с помощью \"RICE\"')\n",
    "plt.xlabel('Уровень RICE')\n",
    "plt.ylabel('Гипотеза')\n",
    "plt.show()"
   ]
  },
  {
   "cell_type": "markdown",
   "metadata": {},
   "source": [
    "Снова наиболее **перспективными по \"RICE\" являются те же гипотезы, но приоритеты среди них существенно изменились. Индексы расположились в следующем порядке: 7, 2, 0, 6 и 8.**"
   ]
  },
  {
   "cell_type": "markdown",
   "metadata": {},
   "source": [
    "Сопоставим данные. Выведем на экран гипотезу, уровень RICE и уровень ICE, закрасив уровни приоритетов разными цветами: максимальные значения окрасим в багрово-коричневый оттенок, минимальные - в светло-желтый."
   ]
  },
  {
   "cell_type": "code",
   "execution_count": 15,
   "metadata": {},
   "outputs": [
    {
     "data": {
      "text/html": [
       "<style  type=\"text/css\" >\n",
       "#T_18fbf_row0_col1,#T_18fbf_row4_col2{\n",
       "            background-color:  #800026;\n",
       "            color:  #f1f1f1;\n",
       "        }#T_18fbf_row0_col2{\n",
       "            background-color:  #f33b25;\n",
       "            color:  #f1f1f1;\n",
       "        }#T_18fbf_row1_col1{\n",
       "            background-color:  #fd913e;\n",
       "            color:  #000000;\n",
       "        }#T_18fbf_row1_col2{\n",
       "            background-color:  #feac49;\n",
       "            color:  #000000;\n",
       "        }#T_18fbf_row2_col1,#T_18fbf_row3_col1{\n",
       "            background-color:  #febe59;\n",
       "            color:  #000000;\n",
       "        }#T_18fbf_row2_col2{\n",
       "            background-color:  #d00d21;\n",
       "            color:  #f1f1f1;\n",
       "        }#T_18fbf_row3_col2{\n",
       "            background-color:  #fd9941;\n",
       "            color:  #000000;\n",
       "        }#T_18fbf_row4_col1{\n",
       "            background-color:  #ffeda1;\n",
       "            color:  #000000;\n",
       "        }#T_18fbf_row5_col1{\n",
       "            background-color:  #fff7b9;\n",
       "            color:  #000000;\n",
       "        }#T_18fbf_row5_col2,#T_18fbf_row6_col1,#T_18fbf_row7_col1{\n",
       "            background-color:  #fffec9;\n",
       "            color:  #000000;\n",
       "        }#T_18fbf_row6_col2{\n",
       "            background-color:  #fff6b6;\n",
       "            color:  #000000;\n",
       "        }#T_18fbf_row7_col2{\n",
       "            background-color:  #fffcc5;\n",
       "            color:  #000000;\n",
       "        }#T_18fbf_row8_col1,#T_18fbf_row8_col2{\n",
       "            background-color:  #ffffcc;\n",
       "            color:  #000000;\n",
       "        }</style><table id=\"T_18fbf_\" ><thead>    <tr>        <th class=\"blank level0\" ></th>        <th class=\"col_heading level0 col0\" >hypothesis</th>        <th class=\"col_heading level0 col1\" >RICE</th>        <th class=\"col_heading level0 col2\" >ICE</th>    </tr></thead><tbody>\n",
       "                <tr>\n",
       "                        <th id=\"T_18fbf_level0_row0\" class=\"row_heading level0 row0\" >7</th>\n",
       "                        <td id=\"T_18fbf_row0_col0\" class=\"data row0 col0\" >Добавить форму подписки на все основные страницы, чтобы собрать базу клиентов для email-рассылок</td>\n",
       "                        <td id=\"T_18fbf_row0_col1\" class=\"data row0 col1\" >112.000000</td>\n",
       "                        <td id=\"T_18fbf_row0_col2\" class=\"data row0 col2\" >11.200000</td>\n",
       "            </tr>\n",
       "            <tr>\n",
       "                        <th id=\"T_18fbf_level0_row1\" class=\"row_heading level0 row1\" >2</th>\n",
       "                        <td id=\"T_18fbf_row1_col0\" class=\"data row1 col0\" >Добавить блоки рекомендаций товаров на сайт интернет магазина, чтобы повысить конверсию и средний чек заказа</td>\n",
       "                        <td id=\"T_18fbf_row1_col1\" class=\"data row1 col1\" >56.000000</td>\n",
       "                        <td id=\"T_18fbf_row1_col2\" class=\"data row1 col2\" >7.000000</td>\n",
       "            </tr>\n",
       "            <tr>\n",
       "                        <th id=\"T_18fbf_level0_row2\" class=\"row_heading level0 row2\" >0</th>\n",
       "                        <td id=\"T_18fbf_row2_col0\" class=\"data row2 col0\" >Добавить два новых канала привлечения трафика, что позволит привлекать на 30% больше пользователей</td>\n",
       "                        <td id=\"T_18fbf_row2_col1\" class=\"data row2 col1\" >40.000000</td>\n",
       "                        <td id=\"T_18fbf_row2_col2\" class=\"data row2 col2\" >13.333333</td>\n",
       "            </tr>\n",
       "            <tr>\n",
       "                        <th id=\"T_18fbf_level0_row3\" class=\"row_heading level0 row3\" >6</th>\n",
       "                        <td id=\"T_18fbf_row3_col0\" class=\"data row3 col0\" >Показать на главной странице баннеры с актуальными акциями и распродажами, чтобы увеличить конверсию</td>\n",
       "                        <td id=\"T_18fbf_row3_col1\" class=\"data row3 col1\" >40.000000</td>\n",
       "                        <td id=\"T_18fbf_row3_col2\" class=\"data row3 col2\" >8.000000</td>\n",
       "            </tr>\n",
       "            <tr>\n",
       "                        <th id=\"T_18fbf_level0_row4\" class=\"row_heading level0 row4\" >8</th>\n",
       "                        <td id=\"T_18fbf_row4_col0\" class=\"data row4 col0\" >Запустить акцию, дающую скидку на товар в день рождения</td>\n",
       "                        <td id=\"T_18fbf_row4_col1\" class=\"data row4 col1\" >16.200000</td>\n",
       "                        <td id=\"T_18fbf_row4_col2\" class=\"data row4 col2\" >16.200000</td>\n",
       "            </tr>\n",
       "            <tr>\n",
       "                        <th id=\"T_18fbf_level0_row5\" class=\"row_heading level0 row5\" >3</th>\n",
       "                        <td id=\"T_18fbf_row5_col0\" class=\"data row5 col0\" >Изменить структура категорий, что увеличит конверсию, т.к. пользователи быстрее найдут нужный товар</td>\n",
       "                        <td id=\"T_18fbf_row5_col1\" class=\"data row5 col1\" >9.000000</td>\n",
       "                        <td id=\"T_18fbf_row5_col2\" class=\"data row5 col2\" >1.125000</td>\n",
       "            </tr>\n",
       "            <tr>\n",
       "                        <th id=\"T_18fbf_level0_row6\" class=\"row_heading level0 row6\" >1</th>\n",
       "                        <td id=\"T_18fbf_row6_col0\" class=\"data row6 col0\" >Запустить собственную службу доставки, что сократит срок доставки заказов</td>\n",
       "                        <td id=\"T_18fbf_row6_col1\" class=\"data row6 col1\" >4.000000</td>\n",
       "                        <td id=\"T_18fbf_row6_col2\" class=\"data row6 col2\" >2.000000</td>\n",
       "            </tr>\n",
       "            <tr>\n",
       "                        <th id=\"T_18fbf_level0_row7\" class=\"row_heading level0 row7\" >5</th>\n",
       "                        <td id=\"T_18fbf_row7_col0\" class=\"data row7 col0\" >Добавить страницу отзывов клиентов о магазине, что позволит увеличить количество заказов</td>\n",
       "                        <td id=\"T_18fbf_row7_col1\" class=\"data row7 col1\" >4.000000</td>\n",
       "                        <td id=\"T_18fbf_row7_col2\" class=\"data row7 col2\" >1.333333</td>\n",
       "            </tr>\n",
       "            <tr>\n",
       "                        <th id=\"T_18fbf_level0_row8\" class=\"row_heading level0 row8\" >4</th>\n",
       "                        <td id=\"T_18fbf_row8_col0\" class=\"data row8 col0\" >Изменить цвет фона главной страницы, чтобы увеличить вовлеченность пользователей</td>\n",
       "                        <td id=\"T_18fbf_row8_col1\" class=\"data row8 col1\" >3.000000</td>\n",
       "                        <td id=\"T_18fbf_row8_col2\" class=\"data row8 col2\" >1.000000</td>\n",
       "            </tr>\n",
       "    </tbody></table>"
      ],
      "text/plain": [
       "<pandas.io.formats.style.Styler at 0x7f4bb8e44f10>"
      ]
     },
     "execution_count": 15,
     "metadata": {},
     "output_type": "execute_result"
    }
   ],
   "source": [
    "hypothesis[['hypothesis', 'RICE', 'ICE']].sort_values(by='RICE', ascending=False).style.background_gradient(cmap='YlOrRd')"
   ]
  },
  {
   "cell_type": "markdown",
   "metadata": {},
   "source": [
    "**Вывод**    \n",
    "По результатам обоих методов, наиболее приоритетными можно считать пятерку одних и тех же гипотез.   \n",
    "\n",
    "Согласно методу ICE гипотезы стоит проверять в следующем порядке:\n",
    "1. Запустить акцию, дающую скидку на товар в день рождения\n",
    "2. Добавить два новых канала привлечения трафика\n",
    "3. Добавить форму подписки на все основные страницы, чтобы собрать базу клиентов для email-рассылок\n",
    "4. Показать на главной странице баннеры с актуальными акциями и распродажами, чтобы увеличить конверсию\n",
    "5. Добавить блоки рекомендаций товаров на сайт интернет магазина, чтобы повысить конверсию и средний чек заказа\n",
    "\n",
    "Согласно методу RICE запускать акцию, дающую скидку на товар в день рождения - стоит лишь в пятую очередь. Наиболее перспективными здесь могут стать гипотезы: \"Добавить форму подписки на все основные страницы, чтобы собрать базу клиентов для email-рассылок\" и \"Добавить блоки рекомендаций товаров на сайт интернет магазина, чтобы повысить конверсию и средний чек заказа\".    \n",
    "Так произошло, потому что при втором методе подсчета учитывается то, как много пользователей затронет изменение, а у этих двух гипотез охват пользователей `\"reach\"` больше, чем у остальных. "
   ]
  },
  {
   "cell_type": "markdown",
   "metadata": {},
   "source": [
    "###  Анализ A/B-теста"
   ]
  },
  {
   "cell_type": "markdown",
   "metadata": {},
   "source": [
    "Результаты А/В-теста описаны в файлах `orders` и `visitors`. Для начала узнаем о продолжительности эксперимента: выведем макисмальную и минимальную даты в файлах. Затем узнаем сколько, в среднем, пользователей было в день в каждой группе за время эксперимента и сколько уникальных пользователей сделали заказы."
   ]
  },
  {
   "cell_type": "code",
   "execution_count": 16,
   "metadata": {},
   "outputs": [
    {
     "data": {
      "text/html": [
       "<div>\n",
       "<style scoped>\n",
       "    .dataframe tbody tr th:only-of-type {\n",
       "        vertical-align: middle;\n",
       "    }\n",
       "\n",
       "    .dataframe tbody tr th {\n",
       "        vertical-align: top;\n",
       "    }\n",
       "\n",
       "    .dataframe thead th {\n",
       "        text-align: right;\n",
       "    }\n",
       "</style>\n",
       "<table border=\"1\" class=\"dataframe\">\n",
       "  <thead>\n",
       "    <tr style=\"text-align: right;\">\n",
       "      <th></th>\n",
       "      <th>transaction_id</th>\n",
       "      <th>visitor_id</th>\n",
       "      <th>date</th>\n",
       "      <th>revenue</th>\n",
       "      <th>group</th>\n",
       "    </tr>\n",
       "  </thead>\n",
       "  <tbody>\n",
       "    <tr>\n",
       "      <th>0</th>\n",
       "      <td>3667963787</td>\n",
       "      <td>3312258926</td>\n",
       "      <td>2019-08-15</td>\n",
       "      <td>1650</td>\n",
       "      <td>B</td>\n",
       "    </tr>\n",
       "    <tr>\n",
       "      <th>1</th>\n",
       "      <td>2804400009</td>\n",
       "      <td>3642806036</td>\n",
       "      <td>2019-08-15</td>\n",
       "      <td>730</td>\n",
       "      <td>B</td>\n",
       "    </tr>\n",
       "    <tr>\n",
       "      <th>2</th>\n",
       "      <td>2961555356</td>\n",
       "      <td>4069496402</td>\n",
       "      <td>2019-08-15</td>\n",
       "      <td>400</td>\n",
       "      <td>A</td>\n",
       "    </tr>\n",
       "  </tbody>\n",
       "</table>\n",
       "</div>"
      ],
      "text/plain": [
       "   transaction_id  visitor_id       date  revenue group\n",
       "0      3667963787  3312258926 2019-08-15     1650     B\n",
       "1      2804400009  3642806036 2019-08-15      730     B\n",
       "2      2961555356  4069496402 2019-08-15      400     A"
      ]
     },
     "execution_count": 16,
     "metadata": {},
     "output_type": "execute_result"
    }
   ],
   "source": [
    "orders.head(3)"
   ]
  },
  {
   "cell_type": "code",
   "execution_count": 17,
   "metadata": {},
   "outputs": [
    {
     "name": "stdout",
     "output_type": "stream",
     "text": [
      "Минимальная дата: 2019-08-01 00:00:00\n",
      "Максимальная дата: 2019-08-31 00:00:00\n"
     ]
    }
   ],
   "source": [
    "print('Минимальная дата:', orders['date'].min())\n",
    "print('Максимальная дата:', orders['date'].max())"
   ]
  },
  {
   "cell_type": "code",
   "execution_count": 18,
   "metadata": {},
   "outputs": [
    {
     "data": {
      "text/html": [
       "<div>\n",
       "<style scoped>\n",
       "    .dataframe tbody tr th:only-of-type {\n",
       "        vertical-align: middle;\n",
       "    }\n",
       "\n",
       "    .dataframe tbody tr th {\n",
       "        vertical-align: top;\n",
       "    }\n",
       "\n",
       "    .dataframe thead th {\n",
       "        text-align: right;\n",
       "    }\n",
       "</style>\n",
       "<table border=\"1\" class=\"dataframe\">\n",
       "  <thead>\n",
       "    <tr style=\"text-align: right;\">\n",
       "      <th></th>\n",
       "      <th>date</th>\n",
       "      <th>group</th>\n",
       "      <th>visitors</th>\n",
       "    </tr>\n",
       "  </thead>\n",
       "  <tbody>\n",
       "    <tr>\n",
       "      <th>0</th>\n",
       "      <td>2019-08-01</td>\n",
       "      <td>A</td>\n",
       "      <td>719</td>\n",
       "    </tr>\n",
       "    <tr>\n",
       "      <th>1</th>\n",
       "      <td>2019-08-02</td>\n",
       "      <td>A</td>\n",
       "      <td>619</td>\n",
       "    </tr>\n",
       "    <tr>\n",
       "      <th>2</th>\n",
       "      <td>2019-08-03</td>\n",
       "      <td>A</td>\n",
       "      <td>507</td>\n",
       "    </tr>\n",
       "  </tbody>\n",
       "</table>\n",
       "</div>"
      ],
      "text/plain": [
       "        date group  visitors\n",
       "0 2019-08-01     A       719\n",
       "1 2019-08-02     A       619\n",
       "2 2019-08-03     A       507"
      ]
     },
     "execution_count": 18,
     "metadata": {},
     "output_type": "execute_result"
    }
   ],
   "source": [
    "visitors.head(3)"
   ]
  },
  {
   "cell_type": "code",
   "execution_count": 19,
   "metadata": {},
   "outputs": [
    {
     "name": "stdout",
     "output_type": "stream",
     "text": [
      "Минимальная дата: 2019-08-01 00:00:00\n",
      "Максимальная дата: 2019-08-31 00:00:00\n"
     ]
    }
   ],
   "source": [
    "print('Минимальная дата:', visitors['date'].min())\n",
    "print('Максимальная дата:', visitors['date'].max())"
   ]
  },
  {
   "cell_type": "code",
   "execution_count": 20,
   "metadata": {},
   "outputs": [
    {
     "data": {
      "text/html": [
       "<div>\n",
       "<style scoped>\n",
       "    .dataframe tbody tr th:only-of-type {\n",
       "        vertical-align: middle;\n",
       "    }\n",
       "\n",
       "    .dataframe tbody tr th {\n",
       "        vertical-align: top;\n",
       "    }\n",
       "\n",
       "    .dataframe thead tr th {\n",
       "        text-align: left;\n",
       "    }\n",
       "\n",
       "    .dataframe thead tr:last-of-type th {\n",
       "        text-align: right;\n",
       "    }\n",
       "</style>\n",
       "<table border=\"1\" class=\"dataframe\">\n",
       "  <thead>\n",
       "    <tr>\n",
       "      <th></th>\n",
       "      <th colspan=\"2\" halign=\"left\">visitors</th>\n",
       "    </tr>\n",
       "    <tr>\n",
       "      <th></th>\n",
       "      <th>mean</th>\n",
       "      <th>sum</th>\n",
       "    </tr>\n",
       "    <tr>\n",
       "      <th>group</th>\n",
       "      <th></th>\n",
       "      <th></th>\n",
       "    </tr>\n",
       "  </thead>\n",
       "  <tbody>\n",
       "    <tr>\n",
       "      <th>A</th>\n",
       "      <td>604.387</td>\n",
       "      <td>18736</td>\n",
       "    </tr>\n",
       "    <tr>\n",
       "      <th>B</th>\n",
       "      <td>610.194</td>\n",
       "      <td>18916</td>\n",
       "    </tr>\n",
       "  </tbody>\n",
       "</table>\n",
       "</div>"
      ],
      "text/plain": [
       "      visitors       \n",
       "          mean    sum\n",
       "group                \n",
       "A      604.387  18736\n",
       "B      610.194  18916"
      ]
     },
     "execution_count": 20,
     "metadata": {},
     "output_type": "execute_result"
    }
   ],
   "source": [
    "# находим среднее число пользователей в каждой из групп и сумарное число посещений\n",
    "visitors.groupby('group').agg({'visitors': ['mean', 'sum']})"
   ]
  },
  {
   "cell_type": "markdown",
   "metadata": {},
   "source": [
    "**Зафиксирован месяц (31 день) эксперимента.** За время эксперимента среднее количество пользователей в день группы А составило 604 человека, а количество пользователей группы В - 610 человек. Также за все время теста в сегменте В зафиксировано на 180 посещений больше.   \n",
    "\n",
    "Проверим сколько уникальных пользователей приняло участие в тесте и в каком соотношении они разбились на группы:"
   ]
  },
  {
   "cell_type": "code",
   "execution_count": 21,
   "metadata": {},
   "outputs": [
    {
     "name": "stdout",
     "output_type": "stream",
     "text": [
      "Число уникальных пользователей теста: 1031\n"
     ]
    },
    {
     "data": {
      "text/html": [
       "<div>\n",
       "<style scoped>\n",
       "    .dataframe tbody tr th:only-of-type {\n",
       "        vertical-align: middle;\n",
       "    }\n",
       "\n",
       "    .dataframe tbody tr th {\n",
       "        vertical-align: top;\n",
       "    }\n",
       "\n",
       "    .dataframe thead th {\n",
       "        text-align: right;\n",
       "    }\n",
       "</style>\n",
       "<table border=\"1\" class=\"dataframe\">\n",
       "  <thead>\n",
       "    <tr style=\"text-align: right;\">\n",
       "      <th></th>\n",
       "      <th>visitor_id</th>\n",
       "    </tr>\n",
       "    <tr>\n",
       "      <th>group</th>\n",
       "      <th></th>\n",
       "    </tr>\n",
       "  </thead>\n",
       "  <tbody>\n",
       "    <tr>\n",
       "      <th>A</th>\n",
       "      <td>503</td>\n",
       "    </tr>\n",
       "    <tr>\n",
       "      <th>B</th>\n",
       "      <td>586</td>\n",
       "    </tr>\n",
       "  </tbody>\n",
       "</table>\n",
       "</div>"
      ],
      "text/plain": [
       "       visitor_id\n",
       "group            \n",
       "A             503\n",
       "B             586"
      ]
     },
     "execution_count": 21,
     "metadata": {},
     "output_type": "execute_result"
    }
   ],
   "source": [
    "print('Число уникальных пользователей теста:', orders['visitor_id'].nunique())\n",
    "\n",
    "# находим число уникальных пользователей, сделавших заказ в каждой из групп\n",
    "orders.groupby('group').agg({'visitor_id' : 'nunique'})"
   ]
  },
  {
   "cell_type": "markdown",
   "metadata": {},
   "source": [
    "Интересно, что **общее число уникальных пользователей не соответствует общему числу пользователей по группам.** Получается, что некоторые пользователи увидели обе версии, а это уже ошибка теста, которая может привести к ложным результатам. Найдем таких пользователей:"
   ]
  },
  {
   "cell_type": "code",
   "execution_count": 22,
   "metadata": {},
   "outputs": [
    {
     "name": "stdout",
     "output_type": "stream",
     "text": [
      "Число пользователей, попавших в обе группы: 58\n"
     ]
    }
   ],
   "source": [
    "# отбираем пользователей группы А\n",
    "visitors_a = orders[orders['group']=='A']['visitor_id']\n",
    "# отбираем пользователей группы В\n",
    "visitors_b = orders[orders['group']=='B']['visitor_id']\n",
    "\n",
    "# Создаем список с идентификаторами пользователей, попавших в обе группы\n",
    "duplicated_visitors=orders.loc[\n",
    "    orders['visitor_id'].isin(visitors_a) & \n",
    "    orders['visitor_id'].isin(visitors_b),'visitor_id'\n",
    "].unique()\n",
    "# Считаем их количество\n",
    "print('Число пользователей, попавших в обе группы:', len(duplicated_visitors))"
   ]
  },
  {
   "cell_type": "markdown",
   "metadata": {},
   "source": [
    "**Задвоение произошло среди 58 пользователей. Поскольку мы не можем однозначно сказать, к какой группе должен относится каждый из них, для достоверности результатов - вынуждены убрать их из исследования, потому что не сможем понять какая именно версия повлияла на его решение.**"
   ]
  },
  {
   "cell_type": "code",
   "execution_count": 23,
   "metadata": {},
   "outputs": [
    {
     "name": "stdout",
     "output_type": "stream",
     "text": [
      "Число уникальных пользователей теста: 973\n"
     ]
    },
    {
     "data": {
      "text/html": [
       "<div>\n",
       "<style scoped>\n",
       "    .dataframe tbody tr th:only-of-type {\n",
       "        vertical-align: middle;\n",
       "    }\n",
       "\n",
       "    .dataframe tbody tr th {\n",
       "        vertical-align: top;\n",
       "    }\n",
       "\n",
       "    .dataframe thead th {\n",
       "        text-align: right;\n",
       "    }\n",
       "</style>\n",
       "<table border=\"1\" class=\"dataframe\">\n",
       "  <thead>\n",
       "    <tr style=\"text-align: right;\">\n",
       "      <th></th>\n",
       "      <th>visitor_id</th>\n",
       "    </tr>\n",
       "    <tr>\n",
       "      <th>group</th>\n",
       "      <th></th>\n",
       "    </tr>\n",
       "  </thead>\n",
       "  <tbody>\n",
       "    <tr>\n",
       "      <th>A</th>\n",
       "      <td>445</td>\n",
       "    </tr>\n",
       "    <tr>\n",
       "      <th>B</th>\n",
       "      <td>528</td>\n",
       "    </tr>\n",
       "  </tbody>\n",
       "</table>\n",
       "</div>"
      ],
      "text/plain": [
       "       visitor_id\n",
       "group            \n",
       "A             445\n",
       "B             528"
      ]
     },
     "execution_count": 23,
     "metadata": {},
     "output_type": "execute_result"
    }
   ],
   "source": [
    "# исключаем \"задвоенных\" пользователей\n",
    "orders = orders[(~(orders['visitor_id'].isin(duplicated_visitors)))]\n",
    "\n",
    "# проверим что получилось\n",
    "print('Число уникальных пользователей теста:', orders['visitor_id'].nunique())\n",
    "orders.groupby('group').agg({'visitor_id' : 'nunique'})"
   ]
  },
  {
   "cell_type": "markdown",
   "metadata": {},
   "source": [
    "Теперь всё сходится, но пришлось пожертвовать некоторыми заказами.    \n",
    "\n",
    "Чтобы определить стоит ли останавливать тест, изучим графики кумулятивных значений.   \n",
    "Прежде чем строить графики, соберём агрегированные кумулятивные по дням данные о заказах и посещениях в переменной `cumulative_data`."
   ]
  },
  {
   "cell_type": "code",
   "execution_count": 24,
   "metadata": {},
   "outputs": [
    {
     "data": {
      "text/html": [
       "<div>\n",
       "<style scoped>\n",
       "    .dataframe tbody tr th:only-of-type {\n",
       "        vertical-align: middle;\n",
       "    }\n",
       "\n",
       "    .dataframe tbody tr th {\n",
       "        vertical-align: top;\n",
       "    }\n",
       "\n",
       "    .dataframe thead th {\n",
       "        text-align: right;\n",
       "    }\n",
       "</style>\n",
       "<table border=\"1\" class=\"dataframe\">\n",
       "  <thead>\n",
       "    <tr style=\"text-align: right;\">\n",
       "      <th></th>\n",
       "      <th>date</th>\n",
       "      <th>group</th>\n",
       "      <th>orders</th>\n",
       "      <th>buyers</th>\n",
       "      <th>revenue</th>\n",
       "      <th>visitors</th>\n",
       "    </tr>\n",
       "  </thead>\n",
       "  <tbody>\n",
       "    <tr>\n",
       "      <th>0</th>\n",
       "      <td>2019-08-01</td>\n",
       "      <td>A</td>\n",
       "      <td>23</td>\n",
       "      <td>19</td>\n",
       "      <td>142779</td>\n",
       "      <td>719</td>\n",
       "    </tr>\n",
       "    <tr>\n",
       "      <th>1</th>\n",
       "      <td>2019-08-01</td>\n",
       "      <td>B</td>\n",
       "      <td>17</td>\n",
       "      <td>17</td>\n",
       "      <td>59758</td>\n",
       "      <td>713</td>\n",
       "    </tr>\n",
       "    <tr>\n",
       "      <th>2</th>\n",
       "      <td>2019-08-02</td>\n",
       "      <td>A</td>\n",
       "      <td>42</td>\n",
       "      <td>36</td>\n",
       "      <td>234381</td>\n",
       "      <td>1338</td>\n",
       "    </tr>\n",
       "    <tr>\n",
       "      <th>3</th>\n",
       "      <td>2019-08-02</td>\n",
       "      <td>B</td>\n",
       "      <td>40</td>\n",
       "      <td>39</td>\n",
       "      <td>221801</td>\n",
       "      <td>1294</td>\n",
       "    </tr>\n",
       "    <tr>\n",
       "      <th>4</th>\n",
       "      <td>2019-08-03</td>\n",
       "      <td>A</td>\n",
       "      <td>66</td>\n",
       "      <td>60</td>\n",
       "      <td>346854</td>\n",
       "      <td>1845</td>\n",
       "    </tr>\n",
       "  </tbody>\n",
       "</table>\n",
       "</div>"
      ],
      "text/plain": [
       "        date group  orders  buyers  revenue  visitors\n",
       "0 2019-08-01     A      23      19   142779       719\n",
       "1 2019-08-01     B      17      17    59758       713\n",
       "2 2019-08-02     A      42      36   234381      1338\n",
       "3 2019-08-02     B      40      39   221801      1294\n",
       "4 2019-08-03     A      66      60   346854      1845"
      ]
     },
     "execution_count": 24,
     "metadata": {},
     "output_type": "execute_result"
    }
   ],
   "source": [
    "# создаем массив уникальных пар значений дат и групп теста\n",
    "dates_groups = orders[['date','group']].drop_duplicates()\n",
    "\n",
    "# получаем агрегированные кумулятивные по дням данные о заказах \n",
    "orders_aggregated = dates_groups.apply(\n",
    "    lambda x: orders[np.logical_and(orders['date'] <= x['date'], orders['group'] == x['group'])\n",
    "                    ].agg(\n",
    "        {\n",
    "            'date' : 'max', \n",
    "            'group' : 'max', \n",
    "            'transaction_id' : 'nunique', \n",
    "            'visitor_id' : 'nunique', \n",
    "            'revenue' : 'sum'\n",
    "        }\n",
    "    ), axis=1\n",
    ").sort_values(by=['date','group'])\n",
    "\n",
    "# получаем агрегированные кумулятивные по дням данные о посетителях \n",
    "visitors_aggregated = dates_groups.apply(\n",
    "    lambda x: visitors[np.logical_and(visitors['date'] <= x['date'], visitors['group'] == x['group']\n",
    "                                     )].agg({'date' : 'max', 'group' : 'max', 'visitors' : 'sum'}),\n",
    "    axis=1\n",
    ").sort_values(by=['date','group'])\n",
    "\n",
    "# объединяем кумулятивные данные в одной таблице и переименовываем названия столбцов\n",
    "cumulative_data = orders_aggregated.merge(visitors_aggregated, left_on=['date', 'group'], right_on=['date', 'group'])\n",
    "cumulative_data.columns = ['date', 'group', 'orders', 'buyers', 'revenue', 'visitors']\n",
    "\n",
    "cumulative_data.head(5)"
   ]
  },
  {
   "cell_type": "markdown",
   "metadata": {},
   "source": [
    "#### График кумулятивной выручки по группам"
   ]
  },
  {
   "cell_type": "markdown",
   "metadata": {},
   "source": [
    "Разобъем датафрейм с кумулятивным количеством заказов и кумулятивной выручкой по дням на группы:"
   ]
  },
  {
   "cell_type": "code",
   "execution_count": 25,
   "metadata": {},
   "outputs": [],
   "source": [
    "# группa А\n",
    "cumulative_revenue_A = cumulative_data[cumulative_data['group']=='A'][['date','revenue', 'orders']]\n",
    "\n",
    "# группa B\n",
    "cumulative_revenue_B = cumulative_data[cumulative_data['group']=='B'][['date','revenue', 'orders']]"
   ]
  },
  {
   "cell_type": "markdown",
   "metadata": {},
   "source": [
    "На основе полученных данных строим график кумулятивной выручки по группам:"
   ]
  },
  {
   "cell_type": "code",
   "execution_count": 26,
   "metadata": {},
   "outputs": [
    {
     "data": {
      "image/png": "[encoded data removed]",
      "text/plain": [
       "<Figure size 1080x432 with 1 Axes>"
      ]
     },
     "metadata": {
      "needs_background": "light"
     },
     "output_type": "display_data"
    }
   ],
   "source": [
    "plt.rcParams['figure.figsize']=15,6\n",
    "plt.rcParams['font.size'] = '12'\n",
    "\n",
    "# Строим график выручки группы А\n",
    "plt.plot(cumulative_revenue_A['date'], cumulative_revenue_A['revenue'], label='A')\n",
    "\n",
    "# Строим график выручки группы B\n",
    "plt.plot(cumulative_revenue_B['date'], cumulative_revenue_B['revenue'], label='B')\n",
    "\n",
    "plt.title('График кумулятивной выручки по группам')\n",
    "plt.xlabel('Дата')\n",
    "plt.ylabel('Выручка, млн.')\n",
    "plt.grid()\n",
    "plt.legend() \n",
    "plt.show()"
   ]
  },
  {
   "cell_type": "markdown",
   "metadata": {},
   "source": [
    "Наблюдается **резкий скачок выручки в группе В после 17 августа**, что может сигнализировать о наличии выбросов в этой группе: о всплесках числа заказов, либо о появлении очень дорогих заказов в выборке.   \n",
    "Выручка сегмента А на протяжении всего времени, в целом, растет равномерно, и почти всегда она меньше выручки В.   "
   ]
  },
  {
   "cell_type": "markdown",
   "metadata": {},
   "source": [
    "#### График кумулятивного среднего чека по группам"
   ]
  },
  {
   "cell_type": "markdown",
   "metadata": {},
   "source": [
    "Кумулятивный средний чек найдем путем деления кумулятивной выручки на кумулятивное количество заказов на указанную дату:"
   ]
  },
  {
   "cell_type": "code",
   "execution_count": 27,
   "metadata": {},
   "outputs": [
    {
     "data": {
      "image/png": "[encoded data removed]",
      "text/plain": [
       "<Figure size 1080x432 with 1 Axes>"
      ]
     },
     "metadata": {
      "needs_background": "light"
     },
     "output_type": "display_data"
    }
   ],
   "source": [
    "# Строим график среднего чека группы А\n",
    "plt.plot(cumulative_revenue_A['date'], cumulative_revenue_A['revenue']/cumulative_revenue_A['orders'], label='A')\n",
    "\n",
    "# Строим график среднего чека группы В\n",
    "plt.plot(cumulative_revenue_B['date'], cumulative_revenue_B['revenue']/cumulative_revenue_B['orders'], label='B')\n",
    "\n",
    "plt.title('График кумулятивного среднего чека по группам')\n",
    "plt.xlabel('Дата')\n",
    "plt.ylabel('Средний чек')\n",
    "plt.grid()\n",
    "plt.legend() \n",
    "plt.show()"
   ]
  },
  {
   "cell_type": "markdown",
   "metadata": {},
   "source": [
    "Примерно в середине месяца (у группы А чуть раньше, у группы В чуть позже) кумулятивный средний чек достиг своих пиковых значений в обоих группах. К концу периода кумулятивное значение среднего чека по сегментам - еще не совсем стабильно: еще видны небольшие колебания.      \n",
    "Но важно, что кумулятивный средний чек в группе В также как и в предыдущем случае после 17 августа резко вырос, а затем начал снижаться, что вновь может свидетельствовать о наличии аномально крупных заказов в эти даты, которые могут негативно повлиять на результат теста.      \n",
    "Поэтому принимать однозначное решение по метрике рано, потребуется дополнительный анализ выбросов."
   ]
  },
  {
   "cell_type": "markdown",
   "metadata": {},
   "source": [
    "#### График относительного изменения кумулятивного среднего чека группы B к группе A"
   ]
  },
  {
   "cell_type": "markdown",
   "metadata": {},
   "source": [
    "Построим график относительного различия для среднего чека:"
   ]
  },
  {
   "cell_type": "code",
   "execution_count": 28,
   "metadata": {},
   "outputs": [
    {
     "data": {
      "image/png": "[encoded data removed]",
      "text/plain": [
       "<Figure size 1080x432 with 1 Axes>"
      ]
     },
     "metadata": {
      "needs_background": "light"
     },
     "output_type": "display_data"
    }
   ],
   "source": [
    "# собираем данные в одном датафрейме\n",
    "merged_сumulative_revenue = cumulative_revenue_A.merge(\n",
    "    cumulative_revenue_B, \n",
    "    left_on='date', \n",
    "    right_on='date', \n",
    "    how='left', \n",
    "    suffixes=['A', 'B']\n",
    ")\n",
    "\n",
    "# cтроим отношение средних чеков\n",
    "plt.plot(merged_сumulative_revenue['date'], \n",
    "         (merged_сumulative_revenue['revenueB']/merged_сumulative_revenue['ordersB'])/\n",
    "         (merged_сumulative_revenue['revenueA']/merged_сumulative_revenue['ordersA'])-1)\n",
    "\n",
    "# добавляем ось X\n",
    "plt.axhline(y=0, color='black', linestyle='--')\n",
    "\n",
    "plt.title('График относительного изменения кумулятивного среднего чека')\n",
    "plt.xlabel('Дата')\n",
    "plt.grid() \n",
    "plt.show()"
   ]
  },
  {
   "cell_type": "markdown",
   "metadata": {},
   "source": [
    "Результаты теста значительно менялись в несколько дат.       \n",
    "В целом, все три графика иллюстрируют схожую ситуацию и где-то точно есть крупные заказы и выбросы. Оценим их влияние позже."
   ]
  },
  {
   "cell_type": "markdown",
   "metadata": {},
   "source": [
    "#### График кумулятивного среднего количества заказов на посетителя по группам"
   ]
  },
  {
   "cell_type": "markdown",
   "metadata": {},
   "source": [
    "В первую очередь рассчитаем кумулятивную конверсию, а затем построим графики в разбивке по группам:"
   ]
  },
  {
   "cell_type": "code",
   "execution_count": 29,
   "metadata": {},
   "outputs": [
    {
     "data": {
      "text/html": [
       "<div>\n",
       "<style scoped>\n",
       "    .dataframe tbody tr th:only-of-type {\n",
       "        vertical-align: middle;\n",
       "    }\n",
       "\n",
       "    .dataframe tbody tr th {\n",
       "        vertical-align: top;\n",
       "    }\n",
       "\n",
       "    .dataframe thead th {\n",
       "        text-align: right;\n",
       "    }\n",
       "</style>\n",
       "<table border=\"1\" class=\"dataframe\">\n",
       "  <thead>\n",
       "    <tr style=\"text-align: right;\">\n",
       "      <th></th>\n",
       "      <th>date</th>\n",
       "      <th>group</th>\n",
       "      <th>orders</th>\n",
       "      <th>buyers</th>\n",
       "      <th>revenue</th>\n",
       "      <th>visitors</th>\n",
       "      <th>conversion</th>\n",
       "    </tr>\n",
       "  </thead>\n",
       "  <tbody>\n",
       "    <tr>\n",
       "      <th>0</th>\n",
       "      <td>2019-08-01</td>\n",
       "      <td>A</td>\n",
       "      <td>23</td>\n",
       "      <td>19</td>\n",
       "      <td>142779</td>\n",
       "      <td>719</td>\n",
       "      <td>0.032</td>\n",
       "    </tr>\n",
       "    <tr>\n",
       "      <th>1</th>\n",
       "      <td>2019-08-01</td>\n",
       "      <td>B</td>\n",
       "      <td>17</td>\n",
       "      <td>17</td>\n",
       "      <td>59758</td>\n",
       "      <td>713</td>\n",
       "      <td>0.024</td>\n",
       "    </tr>\n",
       "    <tr>\n",
       "      <th>2</th>\n",
       "      <td>2019-08-02</td>\n",
       "      <td>A</td>\n",
       "      <td>42</td>\n",
       "      <td>36</td>\n",
       "      <td>234381</td>\n",
       "      <td>1338</td>\n",
       "      <td>0.031</td>\n",
       "    </tr>\n",
       "  </tbody>\n",
       "</table>\n",
       "</div>"
      ],
      "text/plain": [
       "        date group  orders  buyers  revenue  visitors  conversion\n",
       "0 2019-08-01     A      23      19   142779       719       0.032\n",
       "1 2019-08-01     B      17      17    59758       713       0.024\n",
       "2 2019-08-02     A      42      36   234381      1338       0.031"
      ]
     },
     "execution_count": 29,
     "metadata": {},
     "output_type": "execute_result"
    }
   ],
   "source": [
    "cumulative_data['conversion'] = cumulative_data['orders']/cumulative_data['visitors']\n",
    "cumulative_data.head(3)"
   ]
  },
  {
   "cell_type": "code",
   "execution_count": 30,
   "metadata": {},
   "outputs": [],
   "source": [
    "# отделяем данные по группе A\n",
    "cumulative_data_A = cumulative_data[cumulative_data['group']=='A']\n",
    "\n",
    "# отделяем данные по группе B\n",
    "cumulative_data_B = cumulative_data[cumulative_data['group']=='B']"
   ]
  },
  {
   "cell_type": "code",
   "execution_count": 31,
   "metadata": {},
   "outputs": [
    {
     "data": {
      "image/png": "[encoded data removed]",
      "text/plain": [
       "<Figure size 1080x432 with 1 Axes>"
      ]
     },
     "metadata": {
      "needs_background": "light"
     },
     "output_type": "display_data"
    }
   ],
   "source": [
    "# строим графики\n",
    "plt.plot(cumulative_data_A['date'], cumulative_data_A['conversion'], label='A')\n",
    "plt.plot(cumulative_data_B['date'], cumulative_data_B['conversion'], label='B')\n",
    "\n",
    "plt.axis([dt.datetime(2019, 8, 1), dt.datetime(2019, 8, 31), 0.01, 0.05])\n",
    "plt.title('График кумулятивной конверсии по группам')\n",
    "plt.xlabel('Дата')\n",
    "plt.ylabel('Конверсия')\n",
    "plt.grid()\n",
    "plt.legend() \n",
    "plt.show()"
   ]
  },
  {
   "cell_type": "markdown",
   "metadata": {},
   "source": [
    "В начале теста конверсия у сегмента А была выше, чем у В. Но постепенно сегмент В выровнялся и зафиксировался примерно около одного значения, а сегмент А просел - и тоже зафиксировался. Абсолютное значение колебаний в начале и конце теста можно считать не высокими: примерно от 2,5% до 3,6%.     \n",
    "В целом конверсия сегмента В пока выглядит лучше конверсии сегмента А."
   ]
  },
  {
   "cell_type": "markdown",
   "metadata": {},
   "source": [
    "#### График относительного изменения кумулятивного среднего количества заказов на посетителя группы B к группе A"
   ]
  },
  {
   "cell_type": "code",
   "execution_count": 32,
   "metadata": {},
   "outputs": [
    {
     "data": {
      "image/png": "[encoded data removed]",
      "text/plain": [
       "<Figure size 1080x432 with 1 Axes>"
      ]
     },
     "metadata": {
      "needs_background": "light"
     },
     "output_type": "display_data"
    }
   ],
   "source": [
    "# собираем данные в одном датафрейме\n",
    "merged_сumulative_сonversions = cumulative_data_A[['date','conversion']].merge(\n",
    "    cumulative_data_B[['date','conversion']], \n",
    "    left_on='date',\n",
    "    right_on='date', \n",
    "    how='left', \n",
    "    suffixes=['A', 'B']\n",
    ")\n",
    "\n",
    "# строим графики\n",
    "plt.plot(merged_сumulative_сonversions['date'], \n",
    "         merged_сumulative_сonversions['conversionB']/merged_сumulative_сonversions['conversionA']-1,\n",
    "         label=\"Относительный прирост конверсии группы B относительно группы A\")\n",
    "\n",
    "plt.axhline(y=0, color='black', linestyle='--')\n",
    "plt.axhline(y=0.2, color='grey', linestyle='--')\n",
    "plt.axis([dt.datetime(2019, 8, 1), dt.datetime(2019, 8, 31), -0.5, 0.5])\n",
    "plt.legend()\n",
    "plt.grid()\n",
    "plt.title('График относительного различия кумулятивных конверсий')\n",
    "plt.xlabel('Дата')\n",
    "plt.show()"
   ]
  },
  {
   "cell_type": "markdown",
   "metadata": {},
   "source": [
    "В начале теста группа В немного проигрывала группе А. Но уже после шестого дня группа В стала лидировать по конверсии на протяжении всего теста и колебалась в пределах 10-20% прироста относительно группы А. В последние 10 дней теста она зафиксировалась примерно около прироста в 11%."
   ]
  },
  {
   "cell_type": "markdown",
   "metadata": {},
   "source": [
    "#### Точечный график количества заказов по пользователям"
   ]
  },
  {
   "cell_type": "markdown",
   "metadata": {},
   "source": [
    "Настало время изучить аномальные заказы в данных. В первую очередь найдем число заказов по пользователям и сохраним в переменную `orders_by_users`"
   ]
  },
  {
   "cell_type": "code",
   "execution_count": 33,
   "metadata": {},
   "outputs": [
    {
     "data": {
      "text/html": [
       "<div>\n",
       "<style scoped>\n",
       "    .dataframe tbody tr th:only-of-type {\n",
       "        vertical-align: middle;\n",
       "    }\n",
       "\n",
       "    .dataframe tbody tr th {\n",
       "        vertical-align: top;\n",
       "    }\n",
       "\n",
       "    .dataframe thead th {\n",
       "        text-align: right;\n",
       "    }\n",
       "</style>\n",
       "<table border=\"1\" class=\"dataframe\">\n",
       "  <thead>\n",
       "    <tr style=\"text-align: right;\">\n",
       "      <th></th>\n",
       "      <th>visitor_id</th>\n",
       "      <th>orders</th>\n",
       "    </tr>\n",
       "  </thead>\n",
       "  <tbody>\n",
       "    <tr>\n",
       "      <th>908</th>\n",
       "      <td>3967698036</td>\n",
       "      <td>3</td>\n",
       "    </tr>\n",
       "    <tr>\n",
       "      <th>55</th>\n",
       "      <td>249864742</td>\n",
       "      <td>3</td>\n",
       "    </tr>\n",
       "    <tr>\n",
       "      <th>478</th>\n",
       "      <td>2108163459</td>\n",
       "      <td>3</td>\n",
       "    </tr>\n",
       "    <tr>\n",
       "      <th>687</th>\n",
       "      <td>2988190573</td>\n",
       "      <td>3</td>\n",
       "    </tr>\n",
       "    <tr>\n",
       "      <th>890</th>\n",
       "      <td>3908431265</td>\n",
       "      <td>3</td>\n",
       "    </tr>\n",
       "  </tbody>\n",
       "</table>\n",
       "</div>"
      ],
      "text/plain": [
       "     visitor_id  orders\n",
       "908  3967698036       3\n",
       "55    249864742       3\n",
       "478  2108163459       3\n",
       "687  2988190573       3\n",
       "890  3908431265       3"
      ]
     },
     "execution_count": 33,
     "metadata": {},
     "output_type": "execute_result"
    }
   ],
   "source": [
    "orders_by_users = (\n",
    "    orders.groupby('visitor_id', as_index=False)\n",
    "    .agg({'transaction_id': 'nunique'})\n",
    ")\n",
    "orders_by_users.columns = ['visitor_id', 'orders']\n",
    "\n",
    "# отсортируем данные по убыванию числа заказов и выведем первые 5 строк\n",
    "orders_by_users.sort_values(by='orders', ascending=False).head()"
   ]
  },
  {
   "cell_type": "markdown",
   "metadata": {},
   "source": [
    "Построим диаграмму рассеяния методом *scatter()*:"
   ]
  },
  {
   "cell_type": "code",
   "execution_count": 34,
   "metadata": {},
   "outputs": [
    {
     "data": {
      "image/png": "[encoded data removed]",
      "text/plain": [
       "<Figure size 1080x432 with 1 Axes>"
      ]
     },
     "metadata": {
      "needs_background": "light"
     },
     "output_type": "display_data"
    }
   ],
   "source": [
    "# серия из чисел от 0 до количества наблюдений в orders_by_users\n",
    "x_values = pd.Series(range(0, len(orders_by_users)))\n",
    "\n",
    "plt.scatter(x_values, orders_by_users['orders']) \n",
    "plt.title('График количества заказов по пользователям')\n",
    "plt.ylabel('Число заказов, шт.')\n",
    "plt.yticks(ticks=[0,1,2,3,4,5])\n",
    "plt.show()"
   ]
  },
  {
   "cell_type": "markdown",
   "metadata": {},
   "source": [
    "Из диаграммы видно, что большинство покупателей заказывали товары только один раз.    \n",
    "Покупателей, заказавших товары более двух раз - немного и они вполне могут быть аномальными.    \n",
    "Также есть часть покупателей, оформивших заказы дважды, но их точная доля не ясна, поэтому разумно посчитать перцентили количества заказов на одного пользователя."
   ]
  },
  {
   "cell_type": "markdown",
   "metadata": {},
   "source": [
    "#### Расчет 95-го и 99-го перцентилей количества заказов на пользователя"
   ]
  },
  {
   "cell_type": "code",
   "execution_count": 35,
   "metadata": {},
   "outputs": [
    {
     "name": "stdout",
     "output_type": "stream",
     "text": [
      "[1. 2.]\n"
     ]
    }
   ],
   "source": [
    "print(np.percentile(orders_by_users['orders'], [95, 99]))"
   ]
  },
  {
   "cell_type": "markdown",
   "metadata": {},
   "source": [
    "Не более 5% пользователей оформляли больше, чем 1 заказ, и не более 1% пользователей - больше, чем 2 заказа.    \n",
    "Считаем разумным выбрать 2 заказа на одного пользователя за верхнюю границу числа заказов, и отсеять аномальных пользователей по ней."
   ]
  },
  {
   "cell_type": "markdown",
   "metadata": {},
   "source": [
    "#### Точечный график стоимостей заказов"
   ]
  },
  {
   "cell_type": "markdown",
   "metadata": {},
   "source": [
    "Сначала посмотрим на 5 самых дорогих заказов за все время:"
   ]
  },
  {
   "cell_type": "code",
   "execution_count": 36,
   "metadata": {},
   "outputs": [
    {
     "data": {
      "text/html": [
       "<div>\n",
       "<style scoped>\n",
       "    .dataframe tbody tr th:only-of-type {\n",
       "        vertical-align: middle;\n",
       "    }\n",
       "\n",
       "    .dataframe tbody tr th {\n",
       "        vertical-align: top;\n",
       "    }\n",
       "\n",
       "    .dataframe thead th {\n",
       "        text-align: right;\n",
       "    }\n",
       "</style>\n",
       "<table border=\"1\" class=\"dataframe\">\n",
       "  <thead>\n",
       "    <tr style=\"text-align: right;\">\n",
       "      <th></th>\n",
       "      <th>transaction_id</th>\n",
       "      <th>visitor_id</th>\n",
       "      <th>date</th>\n",
       "      <th>revenue</th>\n",
       "      <th>group</th>\n",
       "    </tr>\n",
       "  </thead>\n",
       "  <tbody>\n",
       "    <tr>\n",
       "      <th>425</th>\n",
       "      <td>590470918</td>\n",
       "      <td>1920142716</td>\n",
       "      <td>2019-08-19</td>\n",
       "      <td>1294500</td>\n",
       "      <td>B</td>\n",
       "    </tr>\n",
       "    <tr>\n",
       "      <th>1196</th>\n",
       "      <td>3936777065</td>\n",
       "      <td>2108080724</td>\n",
       "      <td>2019-08-15</td>\n",
       "      <td>202740</td>\n",
       "      <td>B</td>\n",
       "    </tr>\n",
       "    <tr>\n",
       "      <th>1136</th>\n",
       "      <td>666610489</td>\n",
       "      <td>1307669133</td>\n",
       "      <td>2019-08-13</td>\n",
       "      <td>92550</td>\n",
       "      <td>A</td>\n",
       "    </tr>\n",
       "    <tr>\n",
       "      <th>744</th>\n",
       "      <td>3668308183</td>\n",
       "      <td>888512513</td>\n",
       "      <td>2019-08-27</td>\n",
       "      <td>86620</td>\n",
       "      <td>B</td>\n",
       "    </tr>\n",
       "    <tr>\n",
       "      <th>743</th>\n",
       "      <td>3603576309</td>\n",
       "      <td>4133034833</td>\n",
       "      <td>2019-08-09</td>\n",
       "      <td>67990</td>\n",
       "      <td>A</td>\n",
       "    </tr>\n",
       "  </tbody>\n",
       "</table>\n",
       "</div>"
      ],
      "text/plain": [
       "      transaction_id  visitor_id       date  revenue group\n",
       "425        590470918  1920142716 2019-08-19  1294500     B\n",
       "1196      3936777065  2108080724 2019-08-15   202740     B\n",
       "1136       666610489  1307669133 2019-08-13    92550     A\n",
       "744       3668308183   888512513 2019-08-27    86620     B\n",
       "743       3603576309  4133034833 2019-08-09    67990     A"
      ]
     },
     "execution_count": 36,
     "metadata": {},
     "output_type": "execute_result"
    }
   ],
   "source": [
    "orders.sort_values(by='revenue', ascending=False).head(5)"
   ]
  },
  {
   "cell_type": "markdown",
   "metadata": {},
   "source": [
    "**Самым дорогим стоимостью более 1 млн. единиц оказался заказ от 19 августа как раз из группы В, который может оказаться \"виновником\" резких скачков на кумулятивных графиках.** Для полноты картины построим точечный график стоимостей заказов:"
   ]
  },
  {
   "cell_type": "code",
   "execution_count": 37,
   "metadata": {},
   "outputs": [
    {
     "data": {
      "image/png": "[encoded data removed]",
      "text/plain": [
       "<Figure size 1080x432 with 1 Axes>"
      ]
     },
     "metadata": {
      "needs_background": "light"
     },
     "output_type": "display_data"
    }
   ],
   "source": [
    "# генерируем номера наблюдений\n",
    "x_values = pd.Series(range(0, len(orders['revenue'])))\n",
    "\n",
    "#строим график\n",
    "plt.scatter(x_values, orders['revenue'])\n",
    "plt.title('Точечный график стоимостей заказов')\n",
    "plt.ylabel('Стоимость заказа, млн. ед.')\n",
    "plt.grid()\n",
    "plt.show()"
   ]
  },
  {
   "cell_type": "markdown",
   "metadata": {},
   "source": [
    "На графике упомянутый выше самый дорогостоящий заказ выглядит сверханомально. Однозначно аномальным выглядит и заказ стоимостью около 200 тыс. единиц.   \n",
    "Есть некоторые заказы стоимостью около 100 тыс. единиц, но стоимость основной массы заказов не превышает и 50 тыс.    \n",
    "Лучше доверимся перцентилям."
   ]
  },
  {
   "cell_type": "markdown",
   "metadata": {},
   "source": [
    "#### Расчет 95-го и 99-го перцентилей стоимости заказов"
   ]
  },
  {
   "cell_type": "code",
   "execution_count": 38,
   "metadata": {},
   "outputs": [
    {
     "name": "stdout",
     "output_type": "stream",
     "text": [
      "[26785. 53904.]\n"
     ]
    }
   ],
   "source": [
    "print(np.percentile(orders['revenue'], [95, 99]))"
   ]
  },
  {
   "cell_type": "markdown",
   "metadata": {},
   "source": [
    "Не более чем у 5 % заказов чек выше 26 785 единиц стоимости, и не более чем у 1% - выше 53 904 единиц.    \n",
    "Считаем разумным определить верхнюю границу стоимости заказов в 26 785 единиц стоимости."
   ]
  },
  {
   "cell_type": "markdown",
   "metadata": {},
   "source": [
    "---"
   ]
  },
  {
   "cell_type": "markdown",
   "metadata": {},
   "source": [
    "Далее будем рассчитывать статистическую значимость различий в среднем числе заказов на пользователя и среднем чеке между группами: сначала по «сырым» данным, а затем \"очистим\" данные от аномалий и вновь рассчитаем статистическую значимость.   \n",
    "Но в первую очередь, подготовим данные к расчетам.    \n",
    "Создадим вспомогательные таблицы с кумулятивными данными в разбивке по группам `visitors_A_cummulative` и `visitors_B_cummulative`, в которых отразим информацию о накопленном числе пользователей на каждую дату в определенной группе: "
   ]
  },
  {
   "cell_type": "code",
   "execution_count": 39,
   "metadata": {},
   "outputs": [],
   "source": [
    "# Отбираем число пользователей за каждую дату в группе А\n",
    "visitors_A_daily = visitors[visitors['group'] == 'A'][['date', 'visitors']]\n",
    "visitors_A_daily.columns = ['date', 'visitors_per_date_A']\n",
    "\n",
    "# Рассчитываем накопленное число пользователей на каждую дату в группе А\n",
    "visitors_A_cummulative = visitors_A_daily.apply(\n",
    "    lambda x: visitors_A_daily[visitors_A_daily['date'] <= x['date']].agg(\n",
    "        {'date': 'max', 'visitors_per_date_A': 'sum'}\n",
    "    ),\n",
    "    axis=1,\n",
    ")\n",
    "visitors_A_cummulative.columns = ['date', 'visitors_cummulative_A']\n",
    "\n",
    "\n",
    "# Отбираем число пользователей за каждую дату в группе B\n",
    "visitors_B_daily = visitors[visitors['group'] == 'B'][['date', 'visitors']]\n",
    "visitors_B_daily.columns = ['date', 'visitors_per_date_B']\n",
    "\n",
    "# Рассчитываем накопленное число пользователей на каждую дату в группе B\n",
    "visitors_B_cummulative = visitors_B_daily.apply(\n",
    "    lambda x: visitors_B_daily[visitors_B_daily['date'] <= x['date']].agg(\n",
    "        {'date': 'max', 'visitors_per_date_B': 'sum'}\n",
    "    ),\n",
    "    axis=1,\n",
    ")\n",
    "visitors_B_cummulative.columns = ['date', 'visitors_cummulative_B']"
   ]
  },
  {
   "cell_type": "markdown",
   "metadata": {},
   "source": [
    "Также создадим `orders_A_cummulative` и `orders_B_cummulative`, в которых отразим информацию о накопленном числе заказов на каждую дату в разных группах и об их накопленной стоимости:"
   ]
  },
  {
   "cell_type": "code",
   "execution_count": 40,
   "metadata": {},
   "outputs": [],
   "source": [
    "# находим число заказов и их общую стоимость в группе А за каждый день\n",
    "orders_A_daily = (\n",
    "    orders[orders['group'] == 'A'][['date', 'transaction_id', 'visitor_id', 'revenue']]\n",
    "    .groupby('date', as_index=False)\n",
    "    .agg({'transaction_id': pd.Series.nunique, 'revenue': 'sum'})\n",
    ")\n",
    "orders_A_daily.columns = ['date', 'orders_per_date_A', 'revenue_per_date_A']\n",
    "\n",
    "# рассчитываем накопленное число заказов и накопленную стоимость в группе А на каждый день\n",
    "orders_A_cummulative = orders_A_daily.apply(\n",
    "    lambda x: orders_A_daily[orders_A_daily['date'] <= x['date']].agg(\n",
    "        {'date': 'max', 'orders_per_date_A': 'sum', 'revenue_per_date_A': 'sum'}\n",
    "    ),\n",
    "    axis=1,\n",
    ").sort_values(by=['date'])\n",
    "orders_A_cummulative.columns = ['date', 'orders_сummulative_A', 'revenue_сummulative_A']\n",
    "\n",
    "\n",
    "# находим число заказов и их общую стоимость в группе В за каждый день\n",
    "orders_B_daily = (\n",
    "    orders[orders['group'] == 'B'][['date', 'transaction_id', 'visitor_id', 'revenue']]\n",
    "    .groupby('date', as_index=False)\n",
    "    .agg({'transaction_id': pd.Series.nunique, 'revenue': 'sum'})\n",
    ")\n",
    "orders_B_daily.columns = ['date', 'orders_per_date_B', 'revenue_per_date_B']\n",
    "\n",
    "orders_B_cummulative = orders_B_daily.apply(\n",
    "    lambda x: orders_B_daily[orders_B_daily['date'] <= x['date']].agg(\n",
    "        {'date': 'max', 'orders_per_date_B': 'sum', 'revenue_per_date_B': 'sum'}\n",
    "    ),\n",
    "    axis=1,\n",
    ").sort_values(by=['date'])\n",
    "orders_B_cummulative.columns = ['date', 'orders_cummulative_B', 'revenue_cummulative_B']"
   ]
  },
  {
   "cell_type": "markdown",
   "metadata": {},
   "source": [
    "Объединим все данные методом *merge()* в переменной `data` и выведем результат:"
   ]
  },
  {
   "cell_type": "code",
   "execution_count": 41,
   "metadata": {},
   "outputs": [
    {
     "data": {
      "text/html": [
       "<div>\n",
       "<style scoped>\n",
       "    .dataframe tbody tr th:only-of-type {\n",
       "        vertical-align: middle;\n",
       "    }\n",
       "\n",
       "    .dataframe tbody tr th {\n",
       "        vertical-align: top;\n",
       "    }\n",
       "\n",
       "    .dataframe thead th {\n",
       "        text-align: right;\n",
       "    }\n",
       "</style>\n",
       "<table border=\"1\" class=\"dataframe\">\n",
       "  <thead>\n",
       "    <tr style=\"text-align: right;\">\n",
       "      <th></th>\n",
       "      <th>date</th>\n",
       "      <th>orders_per_date_A</th>\n",
       "      <th>revenue_per_date_A</th>\n",
       "      <th>orders_per_date_B</th>\n",
       "      <th>revenue_per_date_B</th>\n",
       "      <th>orders_сummulative_A</th>\n",
       "      <th>revenue_сummulative_A</th>\n",
       "      <th>orders_cummulative_B</th>\n",
       "      <th>revenue_cummulative_B</th>\n",
       "      <th>visitors_per_date_A</th>\n",
       "      <th>visitors_per_date_B</th>\n",
       "      <th>visitors_cummulative_A</th>\n",
       "      <th>visitors_cummulative_B</th>\n",
       "    </tr>\n",
       "  </thead>\n",
       "  <tbody>\n",
       "    <tr>\n",
       "      <th>0</th>\n",
       "      <td>2019-08-01</td>\n",
       "      <td>23</td>\n",
       "      <td>142779</td>\n",
       "      <td>17</td>\n",
       "      <td>59758</td>\n",
       "      <td>23</td>\n",
       "      <td>142779</td>\n",
       "      <td>17</td>\n",
       "      <td>59758</td>\n",
       "      <td>719</td>\n",
       "      <td>713</td>\n",
       "      <td>719</td>\n",
       "      <td>713</td>\n",
       "    </tr>\n",
       "    <tr>\n",
       "      <th>1</th>\n",
       "      <td>2019-08-02</td>\n",
       "      <td>19</td>\n",
       "      <td>91602</td>\n",
       "      <td>23</td>\n",
       "      <td>162043</td>\n",
       "      <td>42</td>\n",
       "      <td>234381</td>\n",
       "      <td>40</td>\n",
       "      <td>221801</td>\n",
       "      <td>619</td>\n",
       "      <td>581</td>\n",
       "      <td>1338</td>\n",
       "      <td>1294</td>\n",
       "    </tr>\n",
       "    <tr>\n",
       "      <th>2</th>\n",
       "      <td>2019-08-03</td>\n",
       "      <td>24</td>\n",
       "      <td>112473</td>\n",
       "      <td>14</td>\n",
       "      <td>67049</td>\n",
       "      <td>66</td>\n",
       "      <td>346854</td>\n",
       "      <td>54</td>\n",
       "      <td>288850</td>\n",
       "      <td>507</td>\n",
       "      <td>509</td>\n",
       "      <td>1845</td>\n",
       "      <td>1803</td>\n",
       "    </tr>\n",
       "    <tr>\n",
       "      <th>3</th>\n",
       "      <td>2019-08-04</td>\n",
       "      <td>11</td>\n",
       "      <td>41176</td>\n",
       "      <td>14</td>\n",
       "      <td>96890</td>\n",
       "      <td>77</td>\n",
       "      <td>388030</td>\n",
       "      <td>68</td>\n",
       "      <td>385740</td>\n",
       "      <td>717</td>\n",
       "      <td>770</td>\n",
       "      <td>2562</td>\n",
       "      <td>2573</td>\n",
       "    </tr>\n",
       "    <tr>\n",
       "      <th>4</th>\n",
       "      <td>2019-08-05</td>\n",
       "      <td>22</td>\n",
       "      <td>86383</td>\n",
       "      <td>21</td>\n",
       "      <td>89908</td>\n",
       "      <td>99</td>\n",
       "      <td>474413</td>\n",
       "      <td>89</td>\n",
       "      <td>475648</td>\n",
       "      <td>756</td>\n",
       "      <td>707</td>\n",
       "      <td>3318</td>\n",
       "      <td>3280</td>\n",
       "    </tr>\n",
       "  </tbody>\n",
       "</table>\n",
       "</div>"
      ],
      "text/plain": [
       "        date  orders_per_date_A  revenue_per_date_A  orders_per_date_B  \\\n",
       "0 2019-08-01                 23              142779                 17   \n",
       "1 2019-08-02                 19               91602                 23   \n",
       "2 2019-08-03                 24              112473                 14   \n",
       "3 2019-08-04                 11               41176                 14   \n",
       "4 2019-08-05                 22               86383                 21   \n",
       "\n",
       "   revenue_per_date_B  orders_сummulative_A  revenue_сummulative_A  \\\n",
       "0               59758                    23                 142779   \n",
       "1              162043                    42                 234381   \n",
       "2               67049                    66                 346854   \n",
       "3               96890                    77                 388030   \n",
       "4               89908                    99                 474413   \n",
       "\n",
       "   orders_cummulative_B  revenue_cummulative_B  visitors_per_date_A  \\\n",
       "0                    17                  59758                  719   \n",
       "1                    40                 221801                  619   \n",
       "2                    54                 288850                  507   \n",
       "3                    68                 385740                  717   \n",
       "4                    89                 475648                  756   \n",
       "\n",
       "   visitors_per_date_B  visitors_cummulative_A  visitors_cummulative_B  \n",
       "0                  713                     719                     713  \n",
       "1                  581                    1338                    1294  \n",
       "2                  509                    1845                    1803  \n",
       "3                  770                    2562                    2573  \n",
       "4                  707                    3318                    3280  "
      ]
     },
     "execution_count": 41,
     "metadata": {},
     "output_type": "execute_result"
    }
   ],
   "source": [
    "data = (\n",
    "    orders_A_daily.merge(\n",
    "        orders_B_daily, left_on='date', right_on='date', how='left'\n",
    "    )\n",
    "    .merge(orders_A_cummulative, left_on='date', right_on='date', how='left')\n",
    "    .merge(orders_B_cummulative, left_on='date', right_on='date', how='left')\n",
    "    .merge(visitors_A_daily, left_on='date', right_on='date', how='left')\n",
    "    .merge(visitors_B_daily, left_on='date', right_on='date', how='left')\n",
    "    .merge(visitors_A_cummulative, left_on='date', right_on='date', how='left')\n",
    "    .merge(visitors_B_cummulative, left_on='date', right_on='date', how='left')\n",
    ")\n",
    "\n",
    "data.head(5)"
   ]
  },
  {
   "cell_type": "markdown",
   "metadata": {},
   "source": [
    "---"
   ]
  },
  {
   "cell_type": "markdown",
   "metadata": {},
   "source": [
    "#### Cтатистическая значимость различий в среднем количестве заказов на посетителя между группами по «сырым» данным"
   ]
  },
  {
   "cell_type": "markdown",
   "metadata": {},
   "source": [
    "Сформулируем гипотезы:    \n",
    "```\n",
    "H_0: Различий в среднем количестве заказов между группами нет\n",
    "H_1: Различия в среднем количестве заказов между группами есть\n",
    "\n",
    "```\n"
   ]
  },
  {
   "cell_type": "markdown",
   "metadata": {},
   "source": [
    "Создадим переменные `orders_by_users_A` и `orders_by_users_B`. В них для пользователей, которые заказывали хотя бы 1 раз, укажем число совершённых заказов:"
   ]
  },
  {
   "cell_type": "code",
   "execution_count": 42,
   "metadata": {},
   "outputs": [],
   "source": [
    "# находим число уникальных заказов для пользователей из группы А\n",
    "orders_by_users_A = (\n",
    "    orders[orders['group'] == 'A']\n",
    "    .groupby('visitor_id', as_index=False)\n",
    "    .agg({'transaction_id': pd.Series.nunique})\n",
    ")\n",
    "orders_by_users_A.columns = ['visitor_id', 'orders']\n",
    "\n",
    "# находим число уникальных заказов для пользователей из группы В\n",
    "orders_by_users_B = (\n",
    "    orders[orders['group'] == 'B']\n",
    "    .groupby('visitor_id', as_index=False)\n",
    "    .agg({'transaction_id': pd.Series.nunique})\n",
    ")\n",
    "orders_by_users_B.columns = ['visitor_id', 'orders']"
   ]
  },
  {
   "cell_type": "markdown",
   "metadata": {},
   "source": [
    "Объявим переменные `sample_A` и `sample_B`, в которых пользователям из разных групп будет соответствовать количество заказов. Тем, кто ничего не заказал, будут соответствовать нули. И применим тест Манна-Уитни и и выведем относительное различие в среднем между группами:"
   ]
  },
  {
   "cell_type": "code",
   "execution_count": 43,
   "metadata": {},
   "outputs": [
    {
     "name": "stdout",
     "output_type": "stream",
     "text": [
      "0.01102\n",
      "0.160\n"
     ]
    }
   ],
   "source": [
    "# находим количество заказов для пользователей группы А\n",
    "sample_A = pd.concat(\n",
    "    [\n",
    "        orders_by_users_A['orders'],\n",
    "        pd.Series(0,index=np.arange(data['visitors_per_date_A'].sum() - len(orders_by_users_A['orders'])),\n",
    "            name='orders',\n",
    "        ),\n",
    "    ],\n",
    "    axis=0,\n",
    ")\n",
    "\n",
    "# находим количество заказов для пользователей группы В\n",
    "sample_B = pd.concat(\n",
    "    [\n",
    "        orders_by_users_B['orders'],\n",
    "        pd.Series(0, index=np.arange(data['visitors_per_date_B'].sum() - len(orders_by_users_B['orders'])),\n",
    "            name='orders',\n",
    "        ),\n",
    "    ],\n",
    "    axis=0,\n",
    ")\n",
    "\n",
    "# рассчитываем p-value\n",
    "print(\"{0:.5f}\".format(stats.mannwhitneyu(sample_A, sample_B, alternative='two-sided')[1]))\n",
    "\n",
    "print(\"{0:.3f}\".format(sample_B.mean() / sample_A.mean() - 1))"
   ]
  },
  {
   "cell_type": "markdown",
   "metadata": {},
   "source": [
    "p-value = 0,01102 меньше 0.05. Значит, нулевую гипотезу о том, что статистически значимых различий в среднем числе заказов на посетителя между группами нет - отвергаем. По «сырым» данным есть различия в среднем числе заказов групп A и B.    \n",
    "Относительный прирост среднего группы В к конверсии группы А равен 16,0%."
   ]
  },
  {
   "cell_type": "markdown",
   "metadata": {},
   "source": [
    "#### Cтатистическая значимость различий в среднем чеке заказа между группами по «сырым» данным"
   ]
  },
  {
   "cell_type": "markdown",
   "metadata": {},
   "source": [
    "Сформулируем гипотезы:    \n",
    "```\n",
    "H_0: Различий в среднем чеке заказа между группами нет\n",
    "H_1: Различия в среднем чеке заказа между группами есть\n",
    "\n",
    "```\n"
   ]
  },
  {
   "cell_type": "code",
   "execution_count": 44,
   "metadata": {},
   "outputs": [
    {
     "name": "stdout",
     "output_type": "stream",
     "text": [
      "0.82949\n",
      "0.287\n"
     ]
    }
   ],
   "source": [
    "# рассчитываем p-value тестом Манна-Уитни\n",
    "print('{0:.5f}'.format(\n",
    "    stats.mannwhitneyu(orders[orders['group']=='A']['revenue'], \n",
    "                       orders[orders['group']=='B']['revenue'], alternative='two-sided')[1])\n",
    "     )\n",
    "\n",
    "# oтносительный прирост среднего чека группы B\n",
    "print('{0:.3f}'.format(orders[orders['group']=='B']['revenue'].mean()/orders[orders['group']=='A']['revenue'].mean()-1))"
   ]
  },
  {
   "cell_type": "markdown",
   "metadata": {},
   "source": [
    "p-value больше 0,05 - статистически значимых отличий в среднем чеке между группами нет. Стоит отметить, что относительное различие среднего чека между сегментами значительное - 28,7% (то есть средний чек группы B значительно выше среднего чека группы A)."
   ]
  },
  {
   "cell_type": "markdown",
   "metadata": {},
   "source": [
    "#### Cтатистическая значимость различий в среднем количестве заказов на посетителя между группами по «очищенным» данным."
   ]
  },
  {
   "cell_type": "markdown",
   "metadata": {},
   "source": [
    "Сформулируем гипотезы:    \n",
    "```\n",
    "H_0: Различий в среднем количестве заказов между группами по отфильтрованным данным нет\n",
    "H_1: Различия в среднем количестве заказов между группами по отфильтрованным данным есть\n",
    "\n",
    "```\n"
   ]
  },
  {
   "cell_type": "markdown",
   "metadata": {},
   "source": [
    "Выясним сколько в данных аномальных пользователей (в соответствии с верхними границами, которые мы приняли в результате расчета перцентилей):"
   ]
  },
  {
   "cell_type": "code",
   "execution_count": 45,
   "metadata": {},
   "outputs": [
    {
     "name": "stdout",
     "output_type": "stream",
     "text": [
      "58\n"
     ]
    }
   ],
   "source": [
    "# отбираем пользователей, у которых более 2 заказов\n",
    "users_with_many_orders = pd.concat(\n",
    "    [\n",
    "        orders_by_users_A[orders_by_users_A['orders'] > 2]['visitor_id'],\n",
    "        orders_by_users_B[orders_by_users_B['orders'] > 2]['visitor_id'],\n",
    "    ],\n",
    "    axis=0,\n",
    ")\n",
    "# и отбираем пользователей, у которых стоимость заказа превышает 26785 единиц\n",
    "users_with_expensive_orders = orders[orders['revenue'] > 26785]['visitor_id']\n",
    "abnormal_users = (\n",
    "    pd.concat([users_with_many_orders, users_with_expensive_orders], axis=0)\n",
    "    .drop_duplicates()\n",
    "    .sort_values()\n",
    ")\n",
    "\n",
    "print(abnormal_users.shape[0])"
   ]
  },
  {
   "cell_type": "markdown",
   "metadata": {},
   "source": [
    "Получается всего 58 аномальных пользователей. Проверим как их действия повлияли на результаты теста. Посчитаем статистическую значимость различий в среднем количестве заказов между группами теста по очищенным данным."
   ]
  },
  {
   "cell_type": "code",
   "execution_count": 46,
   "metadata": {},
   "outputs": [
    {
     "name": "stdout",
     "output_type": "stream",
     "text": [
      "0.01235\n",
      "0.182\n"
     ]
    }
   ],
   "source": [
    "# готовим выборку количества заказов по пользователям в группе А\n",
    "sample_a_filtered = pd.concat(\n",
    "    [\n",
    "        orders_by_users_A[\n",
    "            np.logical_not(orders_by_users_A['visitor_id'].isin(abnormal_users))\n",
    "        ]['orders'],\n",
    "        pd.Series(\n",
    "            0,\n",
    "            index=np.arange(\n",
    "                data['visitors_per_date_A'].sum() - len(orders_by_users_A['orders'])\n",
    "            ),\n",
    "            name='orders',\n",
    "        ),\n",
    "    ],\n",
    "    axis=0,\n",
    ")\n",
    "\n",
    "# готовим выборку количества заказов по пользователям в группе В\n",
    "sample_b_filtered = pd.concat(\n",
    "    [\n",
    "        orders_by_users_B[\n",
    "            np.logical_not(orders_by_users_B['visitor_id'].isin(abnormal_users))\n",
    "        ]['orders'],\n",
    "        pd.Series(\n",
    "            0,\n",
    "            index=np.arange(\n",
    "                data['visitors_per_date_B'].sum() - len(orders_by_users_B['orders'])\n",
    "            ),\n",
    "            name='orders',\n",
    "        ),\n",
    "    ],\n",
    "    axis=0,\n",
    ")\n",
    "\n",
    "# рассчитываем p-value\n",
    "print('{0:.5f}'.format(stats.mannwhitneyu(sample_a_filtered, sample_b_filtered, alternative='two-sided')[1]))\n",
    "print('{0:.3f}'.format(sample_b_filtered.mean()/sample_a_filtered.mean()-1))"
   ]
  },
  {
   "cell_type": "markdown",
   "metadata": {},
   "source": [
    "Также как и в случае с \"сырыми\" данными, *p-value* говорит нам о том, что различия в среднем числе заказов групп A и B есть. \"Очистка\" данных ситуацию не изменила, а относительная разница между сегментами увеличилась до 18,2%."
   ]
  },
  {
   "cell_type": "markdown",
   "metadata": {},
   "source": [
    "#### Cтатистическая значимость различий в среднем чеке заказа между группами по «очищенным» данным"
   ]
  },
  {
   "cell_type": "markdown",
   "metadata": {},
   "source": [
    " Сформулируем гипотезы:    \n",
    "```\n",
    "H_0: Различий в среднем чеке заказа между группами по отфильтрованным данным нет\n",
    "H_1: Различия в среднем чеке заказа между группами по отфильтрованным данным есть\n",
    "\n",
    "```\n",
    "Проверим что произошло с результами по среднему чеку."
   ]
  },
  {
   "cell_type": "code",
   "execution_count": 47,
   "metadata": {},
   "outputs": [
    {
     "name": "stdout",
     "output_type": "stream",
     "text": [
      "0.646\n",
      "-0.048\n"
     ]
    }
   ],
   "source": [
    "print(\n",
    "    '{0:.3f}'.format(\n",
    "        stats.mannwhitneyu(\n",
    "            orders[\n",
    "                np.logical_and(\n",
    "                    orders['group'] == 'A',\n",
    "                    np.logical_not(orders['visitor_id'].isin(abnormal_users)),\n",
    "                )\n",
    "            ]['revenue'],\n",
    "            orders[\n",
    "                np.logical_and(\n",
    "                    orders['group'] == 'B',\n",
    "                    np.logical_not(orders['visitor_id'].isin(abnormal_users)),\n",
    "                )\n",
    "            ]['revenue'],\n",
    "            alternative='two-sided'\n",
    "        )[1]\n",
    "    )\n",
    ")\n",
    "\n",
    "print(\n",
    "    \"{0:.3f}\".format(\n",
    "        orders[\n",
    "            np.logical_and(\n",
    "                orders['group'] == 'B',\n",
    "                np.logical_not(orders['visitor_id'].isin(abnormal_users)),\n",
    "            )\n",
    "        ]['revenue'].mean()\n",
    "        / orders[\n",
    "            np.logical_and(\n",
    "                orders['group'] == 'A',\n",
    "                np.logical_not(orders['visitor_id'].isin(abnormal_users)),\n",
    "            )\n",
    "        ]['revenue'].mean()\n",
    "        - 1\n",
    "    )\n",
    ")"
   ]
  },
  {
   "cell_type": "markdown",
   "metadata": {},
   "source": [
    "Значение p-value после \"очистки\" данных слегка снизилось, но осталось больше 0,05. Это говорит о том, что статистически значимых отличий в среднем чеке между группами нет.\n",
    "Но важно отметить, что относительное различие среднего чека между сегментами изменилось кардинально: теперь средний чек группы B стал ниже среднего чека группы A (различие составляет 4,8%)."
   ]
  },
  {
   "cell_type": "markdown",
   "metadata": {},
   "source": [
    "**Выводы по исследованию**\n",
    "\n",
    "В ходе исследования установлены следующие факты:    \n",
    "1. Есть статистически значимое различие по конверсии между группами как по сырым данным, так и после фильтрации аномалий;    \n",
    "2. Нет статистически значимого различия по среднему чеку между группами ни по «сырым», ни по данным после фильтрации аномалий;  \n",
    "3. График различия конверсий между группами сообщает, что результаты группы B лучше результатов группы A и они зафиксировались на одном уровне (сейчас они на 11% лучше результатов группы А);    \n",
    "4. График различия среднего чека колеблется, что позволило обнаружить наличие аномалий. Сделать из этого графика определённые выводы нельзя.\n",
    "\n",
    "Исходя из перечисленных фактов **следует остановить тест, признать победу группы В,**  так как ее конверсия значительно лучше.\n",
    "\n",
    "Также стоит заострить внимание на наличии не качественно собранных данных теста: по каким-то причинам некоторые пользователи попали в обе группы, что может быть недоработкой разработчиков и специалистов, проводивших A/A-тестирование - было бы полезным разобраться в причинах.\n"
   ]
  }
 ],
 "metadata": {
  "ExecuteTimeLog": [
   {
    "duration": 1261,
    "start_time": "2023-02-06T09:57:55.836Z"
   },
   {
    "duration": 3,
    "start_time": "2023-02-06T09:59:55.573Z"
   },
   {
    "duration": 292,
    "start_time": "2023-02-06T10:08:55.481Z"
   },
   {
    "duration": 10,
    "start_time": "2023-02-06T10:09:09.154Z"
   },
   {
    "duration": 8,
    "start_time": "2023-02-06T10:09:59.642Z"
   },
   {
    "duration": 7,
    "start_time": "2023-02-06T10:11:36.938Z"
   },
   {
    "duration": 4,
    "start_time": "2023-02-06T10:16:35.738Z"
   },
   {
    "duration": 19,
    "start_time": "2023-02-06T10:20:25.483Z"
   },
   {
    "duration": 3,
    "start_time": "2023-02-06T10:28:03.032Z"
   },
   {
    "duration": 4,
    "start_time": "2023-02-06T10:28:05.995Z"
   },
   {
    "duration": 8,
    "start_time": "2023-02-06T10:28:17.936Z"
   },
   {
    "duration": 21,
    "start_time": "2023-02-06T10:30:14.383Z"
   },
   {
    "duration": 5,
    "start_time": "2023-02-06T10:42:47.778Z"
   },
   {
    "duration": 4,
    "start_time": "2023-02-06T10:42:56.932Z"
   },
   {
    "duration": 10,
    "start_time": "2023-02-06T10:43:05.062Z"
   },
   {
    "duration": 9,
    "start_time": "2023-02-06T10:45:38.732Z"
   },
   {
    "duration": 16,
    "start_time": "2023-02-06T10:48:50.889Z"
   },
   {
    "duration": 6,
    "start_time": "2023-02-06T10:51:48.318Z"
   },
   {
    "duration": 4,
    "start_time": "2023-02-06T11:09:47.572Z"
   },
   {
    "duration": 1045,
    "start_time": "2023-02-06T11:13:49.941Z"
   },
   {
    "duration": 3,
    "start_time": "2023-02-06T11:13:50.988Z"
   },
   {
    "duration": 150,
    "start_time": "2023-02-06T11:13:50.992Z"
   },
   {
    "duration": 3,
    "start_time": "2023-02-06T11:13:51.144Z"
   },
   {
    "duration": 54,
    "start_time": "2023-02-06T11:13:51.149Z"
   },
   {
    "duration": 22,
    "start_time": "2023-02-06T11:13:51.205Z"
   },
   {
    "duration": 37,
    "start_time": "2023-02-06T11:13:51.229Z"
   },
   {
    "duration": 11,
    "start_time": "2023-02-06T11:13:51.268Z"
   },
   {
    "duration": 34,
    "start_time": "2023-02-06T11:13:51.280Z"
   },
   {
    "duration": 6,
    "start_time": "2023-02-06T11:13:51.316Z"
   },
   {
    "duration": 12,
    "start_time": "2023-02-06T11:14:23.168Z"
   },
   {
    "duration": 1251,
    "start_time": "2023-02-07T03:45:23.449Z"
   },
   {
    "duration": 4,
    "start_time": "2023-02-07T03:46:37.134Z"
   },
   {
    "duration": 338,
    "start_time": "2023-02-07T03:46:46.274Z"
   },
   {
    "duration": 4,
    "start_time": "2023-02-07T03:46:49.414Z"
   },
   {
    "duration": 21,
    "start_time": "2023-02-07T03:46:52.524Z"
   },
   {
    "duration": 2,
    "start_time": "2023-02-07T03:47:14.914Z"
   },
   {
    "duration": 17,
    "start_time": "2023-02-07T03:47:17.424Z"
   },
   {
    "duration": 8,
    "start_time": "2023-02-07T03:47:29.294Z"
   },
   {
    "duration": 19,
    "start_time": "2023-02-07T03:47:37.011Z"
   },
   {
    "duration": 8,
    "start_time": "2023-02-07T03:47:51.072Z"
   },
   {
    "duration": 11,
    "start_time": "2023-02-07T03:48:17.495Z"
   },
   {
    "duration": 66,
    "start_time": "2023-02-07T03:56:16.559Z"
   },
   {
    "duration": 80,
    "start_time": "2023-02-07T03:56:30.100Z"
   },
   {
    "duration": 93,
    "start_time": "2023-02-07T03:56:41.623Z"
   },
   {
    "duration": 1235,
    "start_time": "2023-02-07T03:56:55.911Z"
   },
   {
    "duration": 237,
    "start_time": "2023-02-07T03:58:07.879Z"
   },
   {
    "duration": 18,
    "start_time": "2023-02-07T03:58:59.239Z"
   },
   {
    "duration": 58,
    "start_time": "2023-02-07T04:02:05.669Z"
   },
   {
    "duration": 261,
    "start_time": "2023-02-07T04:03:54.789Z"
   },
   {
    "duration": 27,
    "start_time": "2023-02-07T04:04:02.133Z"
   },
   {
    "duration": 254,
    "start_time": "2023-02-07T04:04:34.961Z"
   },
   {
    "duration": 251,
    "start_time": "2023-02-07T04:05:02.577Z"
   },
   {
    "duration": 251,
    "start_time": "2023-02-07T04:06:10.647Z"
   },
   {
    "duration": 228,
    "start_time": "2023-02-07T04:06:18.578Z"
   },
   {
    "duration": 244,
    "start_time": "2023-02-07T04:13:48.829Z"
   },
   {
    "duration": 255,
    "start_time": "2023-02-07T04:13:54.997Z"
   },
   {
    "duration": 333,
    "start_time": "2023-02-07T04:14:02.059Z"
   },
   {
    "duration": 229,
    "start_time": "2023-02-07T04:14:08.359Z"
   },
   {
    "duration": 229,
    "start_time": "2023-02-07T04:14:16.537Z"
   },
   {
    "duration": 206,
    "start_time": "2023-02-07T04:14:22.609Z"
   },
   {
    "duration": 218,
    "start_time": "2023-02-07T04:14:33.507Z"
   },
   {
    "duration": 214,
    "start_time": "2023-02-07T04:14:37.066Z"
   },
   {
    "duration": 235,
    "start_time": "2023-02-07T04:14:41.978Z"
   },
   {
    "duration": 103,
    "start_time": "2023-02-07T04:15:21.218Z"
   },
   {
    "duration": 113,
    "start_time": "2023-02-07T04:15:29.766Z"
   },
   {
    "duration": 112,
    "start_time": "2023-02-07T04:15:48.314Z"
   },
   {
    "duration": 244,
    "start_time": "2023-02-07T04:15:58.157Z"
   },
   {
    "duration": 319,
    "start_time": "2023-02-07T04:16:04.374Z"
   },
   {
    "duration": 243,
    "start_time": "2023-02-07T04:16:08.431Z"
   },
   {
    "duration": 275,
    "start_time": "2023-02-07T04:16:13.830Z"
   },
   {
    "duration": 234,
    "start_time": "2023-02-07T04:16:20.755Z"
   },
   {
    "duration": 78,
    "start_time": "2023-02-07T04:18:29.375Z"
   },
   {
    "duration": 1333,
    "start_time": "2023-02-07T04:18:41.835Z"
   },
   {
    "duration": 16,
    "start_time": "2023-02-07T04:20:23.865Z"
   },
   {
    "duration": 160,
    "start_time": "2023-02-07T04:20:49.639Z"
   },
   {
    "duration": 158,
    "start_time": "2023-02-07T04:21:32.757Z"
   },
   {
    "duration": 110,
    "start_time": "2023-02-07T04:25:20.223Z"
   },
   {
    "duration": 19,
    "start_time": "2023-02-07T04:25:28.364Z"
   },
   {
    "duration": 244,
    "start_time": "2023-02-07T04:25:45.627Z"
   },
   {
    "duration": 249,
    "start_time": "2023-02-07T04:25:54.925Z"
   },
   {
    "duration": 253,
    "start_time": "2023-02-07T04:26:14.395Z"
   },
   {
    "duration": 22,
    "start_time": "2023-02-07T04:27:28.115Z"
   },
   {
    "duration": 265,
    "start_time": "2023-02-07T04:28:58.833Z"
   },
   {
    "duration": 374,
    "start_time": "2023-02-07T04:29:26.272Z"
   },
   {
    "duration": 261,
    "start_time": "2023-02-07T04:30:37.264Z"
   },
   {
    "duration": 287,
    "start_time": "2023-02-07T04:31:18.365Z"
   },
   {
    "duration": 14,
    "start_time": "2023-02-07T04:32:21.693Z"
   },
   {
    "duration": 277,
    "start_time": "2023-02-07T04:38:42.258Z"
   },
   {
    "duration": 322,
    "start_time": "2023-02-07T04:38:50.180Z"
   },
   {
    "duration": 325,
    "start_time": "2023-02-07T04:41:47.001Z"
   },
   {
    "duration": 299,
    "start_time": "2023-02-07T04:42:07.509Z"
   },
   {
    "duration": 300,
    "start_time": "2023-02-07T04:42:57.989Z"
   },
   {
    "duration": 396,
    "start_time": "2023-02-07T04:43:07.013Z"
   },
   {
    "duration": 433,
    "start_time": "2023-02-07T04:43:23.212Z"
   },
   {
    "duration": 380,
    "start_time": "2023-02-07T04:43:47.201Z"
   },
   {
    "duration": 455,
    "start_time": "2023-02-07T04:43:53.161Z"
   },
   {
    "duration": 351,
    "start_time": "2023-02-07T04:43:59.313Z"
   },
   {
    "duration": 336,
    "start_time": "2023-02-07T04:45:10.723Z"
   },
   {
    "duration": 395,
    "start_time": "2023-02-07T04:45:15.478Z"
   },
   {
    "duration": 337,
    "start_time": "2023-02-07T04:45:39.800Z"
   },
   {
    "duration": 321,
    "start_time": "2023-02-07T04:45:44.810Z"
   },
   {
    "duration": 313,
    "start_time": "2023-02-07T04:45:52.530Z"
   },
   {
    "duration": 329,
    "start_time": "2023-02-07T04:46:07.079Z"
   },
   {
    "duration": 307,
    "start_time": "2023-02-07T04:46:15.497Z"
   },
   {
    "duration": 302,
    "start_time": "2023-02-07T04:46:23.850Z"
   },
   {
    "duration": 329,
    "start_time": "2023-02-07T04:46:29.103Z"
   },
   {
    "duration": 468,
    "start_time": "2023-02-07T04:47:04.331Z"
   },
   {
    "duration": 318,
    "start_time": "2023-02-07T04:47:10.410Z"
   },
   {
    "duration": 316,
    "start_time": "2023-02-07T04:47:21.058Z"
   },
   {
    "duration": 310,
    "start_time": "2023-02-07T04:47:31.461Z"
   },
   {
    "duration": 296,
    "start_time": "2023-02-07T04:48:48.927Z"
   },
   {
    "duration": 300,
    "start_time": "2023-02-07T04:48:52.434Z"
   },
   {
    "duration": 443,
    "start_time": "2023-02-07T04:49:08.999Z"
   },
   {
    "duration": 480,
    "start_time": "2023-02-07T04:49:18.027Z"
   },
   {
    "duration": 486,
    "start_time": "2023-02-07T04:49:22.507Z"
   },
   {
    "duration": 357,
    "start_time": "2023-02-07T04:49:26.667Z"
   },
   {
    "duration": 369,
    "start_time": "2023-02-07T04:51:13.191Z"
   },
   {
    "duration": 492,
    "start_time": "2023-02-07T04:51:53.268Z"
   },
   {
    "duration": 321,
    "start_time": "2023-02-07T04:52:56.998Z"
   },
   {
    "duration": 386,
    "start_time": "2023-02-07T04:53:03.281Z"
   },
   {
    "duration": 356,
    "start_time": "2023-02-07T04:53:19.549Z"
   },
   {
    "duration": 366,
    "start_time": "2023-02-07T04:53:25.777Z"
   },
   {
    "duration": 371,
    "start_time": "2023-02-07T04:53:32.429Z"
   },
   {
    "duration": 426,
    "start_time": "2023-02-07T04:53:39.640Z"
   },
   {
    "duration": 72,
    "start_time": "2023-02-07T05:01:10.696Z"
   },
   {
    "duration": 4,
    "start_time": "2023-02-07T05:01:29.111Z"
   },
   {
    "duration": 4,
    "start_time": "2023-02-07T05:01:54.917Z"
   },
   {
    "duration": 179,
    "start_time": "2023-02-07T05:02:12.178Z"
   },
   {
    "duration": 186,
    "start_time": "2023-02-07T05:02:25.918Z"
   },
   {
    "duration": 97,
    "start_time": "2023-02-07T05:03:15.056Z"
   },
   {
    "duration": 90,
    "start_time": "2023-02-07T05:03:59.757Z"
   },
   {
    "duration": 183,
    "start_time": "2023-02-07T05:04:04.766Z"
   },
   {
    "duration": 204,
    "start_time": "2023-02-07T05:05:09.628Z"
   },
   {
    "duration": 264,
    "start_time": "2023-02-07T05:05:18.178Z"
   },
   {
    "duration": 232,
    "start_time": "2023-02-07T05:05:38.246Z"
   },
   {
    "duration": 277,
    "start_time": "2023-02-07T05:05:56.580Z"
   },
   {
    "duration": 249,
    "start_time": "2023-02-07T05:08:12.295Z"
   },
   {
    "duration": 191,
    "start_time": "2023-02-07T05:08:19.431Z"
   },
   {
    "duration": 203,
    "start_time": "2023-02-07T05:08:33.207Z"
   },
   {
    "duration": 197,
    "start_time": "2023-02-07T05:08:44.575Z"
   },
   {
    "duration": 373,
    "start_time": "2023-02-07T05:11:19.143Z"
   },
   {
    "duration": 1120,
    "start_time": "2023-02-07T05:11:30.569Z"
   },
   {
    "duration": 3,
    "start_time": "2023-02-07T05:11:31.691Z"
   },
   {
    "duration": 84,
    "start_time": "2023-02-07T05:11:31.696Z"
   },
   {
    "duration": 4,
    "start_time": "2023-02-07T05:11:31.782Z"
   },
   {
    "duration": 24,
    "start_time": "2023-02-07T05:11:31.789Z"
   },
   {
    "duration": 3,
    "start_time": "2023-02-07T05:11:31.815Z"
   },
   {
    "duration": 24,
    "start_time": "2023-02-07T05:11:31.820Z"
   },
   {
    "duration": 9,
    "start_time": "2023-02-07T05:11:31.846Z"
   },
   {
    "duration": 21,
    "start_time": "2023-02-07T05:11:31.856Z"
   },
   {
    "duration": 5,
    "start_time": "2023-02-07T05:11:31.879Z"
   },
   {
    "duration": 17,
    "start_time": "2023-02-07T05:11:31.886Z"
   },
   {
    "duration": 261,
    "start_time": "2023-02-07T05:11:34.997Z"
   },
   {
    "duration": 374,
    "start_time": "2023-02-07T05:11:47.884Z"
   },
   {
    "duration": 311,
    "start_time": "2023-02-07T05:11:53.616Z"
   },
   {
    "duration": 307,
    "start_time": "2023-02-07T05:12:02.504Z"
   },
   {
    "duration": 284,
    "start_time": "2023-02-07T05:12:09.756Z"
   },
   {
    "duration": 273,
    "start_time": "2023-02-07T05:12:18.688Z"
   },
   {
    "duration": 313,
    "start_time": "2023-02-07T05:12:24.556Z"
   },
   {
    "duration": 292,
    "start_time": "2023-02-07T05:12:29.280Z"
   },
   {
    "duration": 1181,
    "start_time": "2023-02-07T05:12:44.655Z"
   },
   {
    "duration": 3,
    "start_time": "2023-02-07T05:12:45.839Z"
   },
   {
    "duration": 84,
    "start_time": "2023-02-07T05:12:45.844Z"
   },
   {
    "duration": 4,
    "start_time": "2023-02-07T05:12:45.930Z"
   },
   {
    "duration": 36,
    "start_time": "2023-02-07T05:12:45.935Z"
   },
   {
    "duration": 3,
    "start_time": "2023-02-07T05:12:45.973Z"
   },
   {
    "duration": 27,
    "start_time": "2023-02-07T05:12:45.978Z"
   },
   {
    "duration": 8,
    "start_time": "2023-02-07T05:12:46.007Z"
   },
   {
    "duration": 48,
    "start_time": "2023-02-07T05:12:46.016Z"
   },
   {
    "duration": 6,
    "start_time": "2023-02-07T05:12:46.066Z"
   },
   {
    "duration": 13,
    "start_time": "2023-02-07T05:12:46.074Z"
   },
   {
    "duration": 11,
    "start_time": "2023-02-07T05:12:49.371Z"
   },
   {
    "duration": 254,
    "start_time": "2023-02-07T05:12:52.763Z"
   },
   {
    "duration": 276,
    "start_time": "2023-02-07T05:14:32.424Z"
   },
   {
    "duration": 271,
    "start_time": "2023-02-07T05:14:57.972Z"
   },
   {
    "duration": 270,
    "start_time": "2023-02-07T05:15:01.824Z"
   },
   {
    "duration": 290,
    "start_time": "2023-02-07T05:15:23.684Z"
   },
   {
    "duration": 276,
    "start_time": "2023-02-07T05:15:44.158Z"
   },
   {
    "duration": 1140,
    "start_time": "2023-02-07T05:15:59.865Z"
   },
   {
    "duration": 4,
    "start_time": "2023-02-07T05:16:01.007Z"
   },
   {
    "duration": 112,
    "start_time": "2023-02-07T05:16:01.013Z"
   },
   {
    "duration": 4,
    "start_time": "2023-02-07T05:16:01.128Z"
   },
   {
    "duration": 45,
    "start_time": "2023-02-07T05:16:01.134Z"
   },
   {
    "duration": 16,
    "start_time": "2023-02-07T05:16:01.182Z"
   },
   {
    "duration": 34,
    "start_time": "2023-02-07T05:16:01.201Z"
   },
   {
    "duration": 26,
    "start_time": "2023-02-07T05:16:01.237Z"
   },
   {
    "duration": 39,
    "start_time": "2023-02-07T05:16:01.265Z"
   },
   {
    "duration": 28,
    "start_time": "2023-02-07T05:16:01.307Z"
   },
   {
    "duration": 52,
    "start_time": "2023-02-07T05:16:01.337Z"
   },
   {
    "duration": 306,
    "start_time": "2023-02-07T05:16:11.476Z"
   },
   {
    "duration": 1163,
    "start_time": "2023-02-07T11:03:09.480Z"
   },
   {
    "duration": 3,
    "start_time": "2023-02-07T11:03:10.645Z"
   },
   {
    "duration": 73,
    "start_time": "2023-02-07T11:03:10.650Z"
   },
   {
    "duration": 4,
    "start_time": "2023-02-07T11:03:10.725Z"
   },
   {
    "duration": 26,
    "start_time": "2023-02-07T11:03:10.730Z"
   },
   {
    "duration": 3,
    "start_time": "2023-02-07T11:03:10.758Z"
   },
   {
    "duration": 26,
    "start_time": "2023-02-07T11:03:10.762Z"
   },
   {
    "duration": 14,
    "start_time": "2023-02-07T11:03:10.790Z"
   },
   {
    "duration": 21,
    "start_time": "2023-02-07T11:03:10.806Z"
   },
   {
    "duration": 7,
    "start_time": "2023-02-07T11:03:10.829Z"
   },
   {
    "duration": 15,
    "start_time": "2023-02-07T11:03:10.838Z"
   },
   {
    "duration": 298,
    "start_time": "2023-02-07T11:03:10.856Z"
   },
   {
    "duration": 13,
    "start_time": "2023-02-07T11:03:17.540Z"
   },
   {
    "duration": 269,
    "start_time": "2023-02-07T11:03:42.900Z"
   },
   {
    "duration": 51,
    "start_time": "2023-02-07T11:20:15.831Z"
   },
   {
    "duration": 1219,
    "start_time": "2023-02-07T11:20:37.980Z"
   },
   {
    "duration": 3,
    "start_time": "2023-02-07T11:20:39.201Z"
   },
   {
    "duration": 92,
    "start_time": "2023-02-07T11:20:39.206Z"
   },
   {
    "duration": 4,
    "start_time": "2023-02-07T11:20:39.301Z"
   },
   {
    "duration": 35,
    "start_time": "2023-02-07T11:20:39.312Z"
   },
   {
    "duration": 3,
    "start_time": "2023-02-07T11:20:39.349Z"
   },
   {
    "duration": 22,
    "start_time": "2023-02-07T11:20:39.354Z"
   },
   {
    "duration": 9,
    "start_time": "2023-02-07T11:20:39.377Z"
   },
   {
    "duration": 24,
    "start_time": "2023-02-07T11:20:39.403Z"
   },
   {
    "duration": 7,
    "start_time": "2023-02-07T11:20:39.430Z"
   },
   {
    "duration": 18,
    "start_time": "2023-02-07T11:20:39.439Z"
   },
   {
    "duration": 328,
    "start_time": "2023-02-07T11:20:39.459Z"
   },
   {
    "duration": 17,
    "start_time": "2023-02-07T11:20:39.789Z"
   },
   {
    "duration": 292,
    "start_time": "2023-02-07T11:20:39.808Z"
   },
   {
    "duration": 9,
    "start_time": "2023-02-07T11:20:43.128Z"
   },
   {
    "duration": 7,
    "start_time": "2023-02-07T11:21:36.296Z"
   },
   {
    "duration": 4,
    "start_time": "2023-02-07T12:06:22.122Z"
   },
   {
    "duration": 5,
    "start_time": "2023-02-07T12:06:32.156Z"
   },
   {
    "duration": 245,
    "start_time": "2023-02-07T12:14:38.079Z"
   },
   {
    "duration": 291,
    "start_time": "2023-02-07T12:28:16.581Z"
   },
   {
    "duration": 5,
    "start_time": "2023-02-07T12:28:49.797Z"
   },
   {
    "duration": 5,
    "start_time": "2023-02-07T12:28:55.278Z"
   },
   {
    "duration": 7,
    "start_time": "2023-02-07T12:41:17.958Z"
   },
   {
    "duration": 265,
    "start_time": "2023-02-07T12:43:12.915Z"
   },
   {
    "duration": 174,
    "start_time": "2023-02-07T12:43:25.847Z"
   },
   {
    "duration": 190,
    "start_time": "2023-02-07T12:45:29.928Z"
   },
   {
    "duration": 204,
    "start_time": "2023-02-07T12:47:21.013Z"
   },
   {
    "duration": 191,
    "start_time": "2023-02-07T12:49:05.031Z"
   },
   {
    "duration": 216,
    "start_time": "2023-02-07T12:49:10.601Z"
   },
   {
    "duration": 312,
    "start_time": "2023-02-07T12:49:18.362Z"
   },
   {
    "duration": 224,
    "start_time": "2023-02-07T12:49:31.482Z"
   },
   {
    "duration": 215,
    "start_time": "2023-02-07T12:50:28.978Z"
   },
   {
    "duration": 164,
    "start_time": "2023-02-07T12:50:55.566Z"
   },
   {
    "duration": 196,
    "start_time": "2023-02-07T12:51:06.926Z"
   },
   {
    "duration": 238,
    "start_time": "2023-02-07T12:51:43.241Z"
   },
   {
    "duration": 207,
    "start_time": "2023-02-07T12:51:51.479Z"
   },
   {
    "duration": 235,
    "start_time": "2023-02-07T12:57:00.881Z"
   },
   {
    "duration": 298,
    "start_time": "2023-02-07T12:59:03.967Z"
   },
   {
    "duration": 230,
    "start_time": "2023-02-07T12:59:09.059Z"
   },
   {
    "duration": 215,
    "start_time": "2023-02-07T13:25:05.638Z"
   },
   {
    "duration": 321,
    "start_time": "2023-02-07T13:26:13.214Z"
   },
   {
    "duration": 263,
    "start_time": "2023-02-07T13:26:24.133Z"
   },
   {
    "duration": 264,
    "start_time": "2023-02-07T13:26:29.139Z"
   },
   {
    "duration": 1132,
    "start_time": "2023-02-07T14:42:39.510Z"
   },
   {
    "duration": 4,
    "start_time": "2023-02-07T14:42:40.645Z"
   },
   {
    "duration": 72,
    "start_time": "2023-02-07T14:42:40.650Z"
   },
   {
    "duration": 4,
    "start_time": "2023-02-07T14:42:40.724Z"
   },
   {
    "duration": 30,
    "start_time": "2023-02-07T14:42:40.730Z"
   },
   {
    "duration": 4,
    "start_time": "2023-02-07T14:42:40.761Z"
   },
   {
    "duration": 24,
    "start_time": "2023-02-07T14:42:40.766Z"
   },
   {
    "duration": 17,
    "start_time": "2023-02-07T14:42:40.792Z"
   },
   {
    "duration": 18,
    "start_time": "2023-02-07T14:42:40.811Z"
   },
   {
    "duration": 7,
    "start_time": "2023-02-07T14:42:40.831Z"
   },
   {
    "duration": 13,
    "start_time": "2023-02-07T14:42:40.839Z"
   },
   {
    "duration": 301,
    "start_time": "2023-02-07T14:42:40.854Z"
   },
   {
    "duration": 12,
    "start_time": "2023-02-07T14:42:41.158Z"
   },
   {
    "duration": 263,
    "start_time": "2023-02-07T14:42:41.172Z"
   },
   {
    "duration": 9,
    "start_time": "2023-02-07T14:42:41.437Z"
   },
   {
    "duration": 9,
    "start_time": "2023-02-07T14:42:41.448Z"
   },
   {
    "duration": 11,
    "start_time": "2023-02-07T14:42:41.458Z"
   },
   {
    "duration": 7,
    "start_time": "2023-02-07T14:42:41.471Z"
   },
   {
    "duration": 315,
    "start_time": "2023-02-07T14:42:41.504Z"
   },
   {
    "duration": 6,
    "start_time": "2023-02-07T14:42:41.821Z"
   },
   {
    "duration": 285,
    "start_time": "2023-02-07T14:42:41.829Z"
   },
   {
    "duration": 214,
    "start_time": "2023-02-07T14:42:57.856Z"
   },
   {
    "duration": 222,
    "start_time": "2023-02-07T14:43:10.995Z"
   },
   {
    "duration": 1142,
    "start_time": "2023-02-07T14:43:25.250Z"
   },
   {
    "duration": 10,
    "start_time": "2023-02-07T14:43:26.394Z"
   },
   {
    "duration": 71,
    "start_time": "2023-02-07T14:43:26.406Z"
   },
   {
    "duration": 3,
    "start_time": "2023-02-07T14:43:26.480Z"
   },
   {
    "duration": 27,
    "start_time": "2023-02-07T14:43:26.485Z"
   },
   {
    "duration": 2,
    "start_time": "2023-02-07T14:43:26.514Z"
   },
   {
    "duration": 23,
    "start_time": "2023-02-07T14:43:26.518Z"
   },
   {
    "duration": 8,
    "start_time": "2023-02-07T14:43:26.542Z"
   },
   {
    "duration": 21,
    "start_time": "2023-02-07T14:43:26.552Z"
   },
   {
    "duration": 6,
    "start_time": "2023-02-07T14:43:26.606Z"
   },
   {
    "duration": 19,
    "start_time": "2023-02-07T14:43:26.614Z"
   },
   {
    "duration": 293,
    "start_time": "2023-02-07T14:43:26.634Z"
   },
   {
    "duration": 17,
    "start_time": "2023-02-07T14:43:26.929Z"
   },
   {
    "duration": 268,
    "start_time": "2023-02-07T14:43:26.948Z"
   },
   {
    "duration": 10,
    "start_time": "2023-02-07T14:43:27.222Z"
   },
   {
    "duration": 24,
    "start_time": "2023-02-07T14:43:27.233Z"
   },
   {
    "duration": 24,
    "start_time": "2023-02-07T14:43:27.259Z"
   },
   {
    "duration": 7,
    "start_time": "2023-02-07T14:43:27.285Z"
   },
   {
    "duration": 300,
    "start_time": "2023-02-07T14:43:27.293Z"
   },
   {
    "duration": 15,
    "start_time": "2023-02-07T14:43:27.594Z"
   },
   {
    "duration": 326,
    "start_time": "2023-02-07T14:43:34.027Z"
   },
   {
    "duration": 237,
    "start_time": "2023-02-07T14:43:57.351Z"
   },
   {
    "duration": 1351,
    "start_time": "2023-02-07T14:44:31.816Z"
   },
   {
    "duration": 3,
    "start_time": "2023-02-07T14:44:33.169Z"
   },
   {
    "duration": 71,
    "start_time": "2023-02-07T14:44:33.174Z"
   },
   {
    "duration": 4,
    "start_time": "2023-02-07T14:44:33.248Z"
   },
   {
    "duration": 173,
    "start_time": "2023-02-07T14:44:33.253Z"
   },
   {
    "duration": 4,
    "start_time": "2023-02-07T14:44:33.429Z"
   },
   {
    "duration": 23,
    "start_time": "2023-02-07T14:44:33.434Z"
   },
   {
    "duration": 9,
    "start_time": "2023-02-07T14:44:33.459Z"
   },
   {
    "duration": 49,
    "start_time": "2023-02-07T14:44:33.470Z"
   },
   {
    "duration": 8,
    "start_time": "2023-02-07T14:44:33.522Z"
   },
   {
    "duration": 15,
    "start_time": "2023-02-07T14:44:33.532Z"
   },
   {
    "duration": 302,
    "start_time": "2023-02-07T14:44:33.548Z"
   },
   {
    "duration": 12,
    "start_time": "2023-02-07T14:44:33.851Z"
   },
   {
    "duration": 280,
    "start_time": "2023-02-07T14:44:33.865Z"
   },
   {
    "duration": 10,
    "start_time": "2023-02-07T14:44:34.146Z"
   },
   {
    "duration": 8,
    "start_time": "2023-02-07T14:44:34.158Z"
   },
   {
    "duration": 22,
    "start_time": "2023-02-07T14:44:34.168Z"
   },
   {
    "duration": 4,
    "start_time": "2023-02-07T14:44:34.203Z"
   },
   {
    "duration": 386,
    "start_time": "2023-02-07T14:44:34.209Z"
   },
   {
    "duration": 14,
    "start_time": "2023-02-07T14:44:34.604Z"
   },
   {
    "duration": 293,
    "start_time": "2023-02-07T14:44:41.828Z"
   },
   {
    "duration": 227,
    "start_time": "2023-02-07T14:45:08.371Z"
   },
   {
    "duration": 226,
    "start_time": "2023-02-07T14:45:35.620Z"
   },
   {
    "duration": 235,
    "start_time": "2023-02-07T14:45:42.618Z"
   },
   {
    "duration": 215,
    "start_time": "2023-02-07T14:45:48.275Z"
   },
   {
    "duration": 231,
    "start_time": "2023-02-07T14:49:08.025Z"
   },
   {
    "duration": 316,
    "start_time": "2023-02-07T14:49:29.833Z"
   },
   {
    "duration": 219,
    "start_time": "2023-02-07T14:49:40.905Z"
   },
   {
    "duration": 244,
    "start_time": "2023-02-07T14:49:58.693Z"
   },
   {
    "duration": 1216,
    "start_time": "2023-02-07T14:50:19.154Z"
   },
   {
    "duration": 4,
    "start_time": "2023-02-07T14:50:20.372Z"
   },
   {
    "duration": 72,
    "start_time": "2023-02-07T14:50:20.378Z"
   },
   {
    "duration": 5,
    "start_time": "2023-02-07T14:50:20.452Z"
   },
   {
    "duration": 33,
    "start_time": "2023-02-07T14:50:20.460Z"
   },
   {
    "duration": 3,
    "start_time": "2023-02-07T14:50:20.495Z"
   },
   {
    "duration": 49,
    "start_time": "2023-02-07T14:50:20.500Z"
   },
   {
    "duration": 12,
    "start_time": "2023-02-07T14:50:20.551Z"
   },
   {
    "duration": 24,
    "start_time": "2023-02-07T14:50:20.564Z"
   },
   {
    "duration": 15,
    "start_time": "2023-02-07T14:50:20.589Z"
   },
   {
    "duration": 32,
    "start_time": "2023-02-07T14:50:20.607Z"
   },
   {
    "duration": 341,
    "start_time": "2023-02-07T14:50:20.641Z"
   },
   {
    "duration": 20,
    "start_time": "2023-02-07T14:50:20.984Z"
   },
   {
    "duration": 342,
    "start_time": "2023-02-07T14:50:21.008Z"
   },
   {
    "duration": 8,
    "start_time": "2023-02-07T14:50:21.352Z"
   },
   {
    "duration": 12,
    "start_time": "2023-02-07T14:50:21.362Z"
   },
   {
    "duration": 29,
    "start_time": "2023-02-07T14:50:21.376Z"
   },
   {
    "duration": 6,
    "start_time": "2023-02-07T14:50:21.406Z"
   },
   {
    "duration": 331,
    "start_time": "2023-02-07T14:50:21.414Z"
   },
   {
    "duration": 7,
    "start_time": "2023-02-07T14:50:21.747Z"
   },
   {
    "duration": 305,
    "start_time": "2023-02-07T14:50:46.025Z"
   },
   {
    "duration": 249,
    "start_time": "2023-02-07T14:51:42.154Z"
   },
   {
    "duration": 336,
    "start_time": "2023-02-07T14:55:53.481Z"
   },
   {
    "duration": 268,
    "start_time": "2023-02-07T14:56:21.505Z"
   },
   {
    "duration": 309,
    "start_time": "2023-02-07T14:56:29.670Z"
   },
   {
    "duration": 230,
    "start_time": "2023-02-07T14:56:52.297Z"
   },
   {
    "duration": 366,
    "start_time": "2023-02-07T14:56:57.025Z"
   },
   {
    "duration": 343,
    "start_time": "2023-02-07T15:31:36.176Z"
   },
   {
    "duration": 312,
    "start_time": "2023-02-07T15:32:58.120Z"
   },
   {
    "duration": 369,
    "start_time": "2023-02-07T15:33:44.085Z"
   },
   {
    "duration": 10,
    "start_time": "2023-02-07T15:54:59.432Z"
   },
   {
    "duration": 4,
    "start_time": "2023-02-07T16:00:10.874Z"
   },
   {
    "duration": 325,
    "start_time": "2023-02-07T16:01:16.430Z"
   },
   {
    "duration": 220,
    "start_time": "2023-02-07T16:01:40.110Z"
   },
   {
    "duration": 246,
    "start_time": "2023-02-07T16:02:49.815Z"
   },
   {
    "duration": 206,
    "start_time": "2023-02-07T16:04:01.000Z"
   },
   {
    "duration": 212,
    "start_time": "2023-02-07T16:05:19.876Z"
   },
   {
    "duration": 267,
    "start_time": "2023-02-07T16:06:13.937Z"
   },
   {
    "duration": 263,
    "start_time": "2023-02-07T16:06:18.432Z"
   },
   {
    "duration": 1268,
    "start_time": "2023-02-08T06:55:53.125Z"
   },
   {
    "duration": 3,
    "start_time": "2023-02-08T06:55:54.395Z"
   },
   {
    "duration": 238,
    "start_time": "2023-02-08T06:55:54.399Z"
   },
   {
    "duration": 3,
    "start_time": "2023-02-08T06:55:54.640Z"
   },
   {
    "duration": 28,
    "start_time": "2023-02-08T06:55:54.645Z"
   },
   {
    "duration": 4,
    "start_time": "2023-02-08T06:55:54.674Z"
   },
   {
    "duration": 24,
    "start_time": "2023-02-08T06:55:54.680Z"
   },
   {
    "duration": 8,
    "start_time": "2023-02-08T06:55:54.706Z"
   },
   {
    "duration": 21,
    "start_time": "2023-02-08T06:55:54.715Z"
   },
   {
    "duration": 5,
    "start_time": "2023-02-08T06:55:54.740Z"
   },
   {
    "duration": 13,
    "start_time": "2023-02-08T06:55:54.746Z"
   },
   {
    "duration": 283,
    "start_time": "2023-02-08T06:55:54.761Z"
   },
   {
    "duration": 13,
    "start_time": "2023-02-08T06:55:55.046Z"
   },
   {
    "duration": 268,
    "start_time": "2023-02-08T06:55:55.061Z"
   },
   {
    "duration": 8,
    "start_time": "2023-02-08T06:55:55.331Z"
   },
   {
    "duration": 8,
    "start_time": "2023-02-08T06:55:55.340Z"
   },
   {
    "duration": 9,
    "start_time": "2023-02-08T06:55:55.349Z"
   },
   {
    "duration": 7,
    "start_time": "2023-02-08T06:55:55.360Z"
   },
   {
    "duration": 284,
    "start_time": "2023-02-08T06:55:55.391Z"
   },
   {
    "duration": 7,
    "start_time": "2023-02-08T06:55:55.676Z"
   },
   {
    "duration": 321,
    "start_time": "2023-02-08T06:55:55.684Z"
   },
   {
    "duration": 241,
    "start_time": "2023-02-08T06:55:56.007Z"
   },
   {
    "duration": 389,
    "start_time": "2023-02-08T06:55:56.249Z"
   },
   {
    "duration": 10,
    "start_time": "2023-02-08T06:58:29.814Z"
   },
   {
    "duration": 105,
    "start_time": "2023-02-08T07:02:47.552Z"
   },
   {
    "duration": 5,
    "start_time": "2023-02-08T07:02:54.804Z"
   },
   {
    "duration": 206,
    "start_time": "2023-02-08T07:02:57.354Z"
   },
   {
    "duration": 205,
    "start_time": "2023-02-08T07:05:06.829Z"
   },
   {
    "duration": 214,
    "start_time": "2023-02-08T07:05:28.897Z"
   },
   {
    "duration": 277,
    "start_time": "2023-02-08T07:13:36.349Z"
   },
   {
    "duration": 208,
    "start_time": "2023-02-08T07:13:51.705Z"
   },
   {
    "duration": 15,
    "start_time": "2023-02-08T07:26:56.958Z"
   },
   {
    "duration": 339,
    "start_time": "2023-02-08T07:27:10.578Z"
   },
   {
    "duration": 289,
    "start_time": "2023-02-08T07:28:07.839Z"
   },
   {
    "duration": 279,
    "start_time": "2023-02-08T07:28:24.319Z"
   },
   {
    "duration": 314,
    "start_time": "2023-02-08T07:31:20.012Z"
   },
   {
    "duration": 333,
    "start_time": "2023-02-08T07:31:33.181Z"
   },
   {
    "duration": 288,
    "start_time": "2023-02-08T07:40:40.222Z"
   },
   {
    "duration": 290,
    "start_time": "2023-02-08T07:40:54.254Z"
   },
   {
    "duration": 10,
    "start_time": "2023-02-08T07:54:26.935Z"
   },
   {
    "duration": 4,
    "start_time": "2023-02-08T07:54:31.123Z"
   },
   {
    "duration": 9,
    "start_time": "2023-02-08T07:55:27.923Z"
   },
   {
    "duration": 11,
    "start_time": "2023-02-08T07:55:49.591Z"
   },
   {
    "duration": 10,
    "start_time": "2023-02-08T07:55:59.759Z"
   },
   {
    "duration": 128,
    "start_time": "2023-02-08T08:02:24.757Z"
   },
   {
    "duration": 147,
    "start_time": "2023-02-08T08:04:47.470Z"
   },
   {
    "duration": 211,
    "start_time": "2023-02-08T08:04:57.589Z"
   },
   {
    "duration": 5,
    "start_time": "2023-02-08T08:19:20.827Z"
   },
   {
    "duration": 5,
    "start_time": "2023-02-08T08:19:43.967Z"
   },
   {
    "duration": 9,
    "start_time": "2023-02-08T08:39:03.972Z"
   },
   {
    "duration": 9,
    "start_time": "2023-02-08T08:39:24.152Z"
   },
   {
    "duration": 141,
    "start_time": "2023-02-08T08:46:54.724Z"
   },
   {
    "duration": 168,
    "start_time": "2023-02-08T08:48:21.593Z"
   },
   {
    "duration": 164,
    "start_time": "2023-02-08T08:50:14.749Z"
   },
   {
    "duration": 144,
    "start_time": "2023-02-08T08:50:33.601Z"
   },
   {
    "duration": 150,
    "start_time": "2023-02-08T08:50:49.853Z"
   },
   {
    "duration": 136,
    "start_time": "2023-02-08T08:50:58.082Z"
   },
   {
    "duration": 153,
    "start_time": "2023-02-08T08:54:28.119Z"
   },
   {
    "duration": 4,
    "start_time": "2023-02-08T09:04:35.501Z"
   },
   {
    "duration": 11,
    "start_time": "2023-02-08T09:39:25.764Z"
   },
   {
    "duration": 49,
    "start_time": "2023-02-08T09:43:28.029Z"
   },
   {
    "duration": 15,
    "start_time": "2023-02-08T09:49:32.402Z"
   },
   {
    "duration": 4,
    "start_time": "2023-02-08T09:50:00.910Z"
   },
   {
    "duration": 14,
    "start_time": "2023-02-08T09:50:23.354Z"
   },
   {
    "duration": 18,
    "start_time": "2023-02-08T09:50:30.458Z"
   },
   {
    "duration": 56,
    "start_time": "2023-02-08T09:53:01.360Z"
   },
   {
    "duration": 107,
    "start_time": "2023-02-08T10:15:09.459Z"
   },
   {
    "duration": 11,
    "start_time": "2023-02-08T10:15:13.433Z"
   },
   {
    "duration": 8,
    "start_time": "2023-02-08T10:15:22.045Z"
   },
   {
    "duration": 1089,
    "start_time": "2023-02-08T10:19:39.851Z"
   },
   {
    "duration": 3,
    "start_time": "2023-02-08T10:19:40.942Z"
   },
   {
    "duration": 85,
    "start_time": "2023-02-08T10:19:40.947Z"
   },
   {
    "duration": 3,
    "start_time": "2023-02-08T10:19:41.034Z"
   },
   {
    "duration": 47,
    "start_time": "2023-02-08T10:19:41.039Z"
   },
   {
    "duration": 30,
    "start_time": "2023-02-08T10:19:41.087Z"
   },
   {
    "duration": 41,
    "start_time": "2023-02-08T10:19:41.119Z"
   },
   {
    "duration": 13,
    "start_time": "2023-02-08T10:19:41.162Z"
   },
   {
    "duration": 39,
    "start_time": "2023-02-08T10:19:41.176Z"
   },
   {
    "duration": 14,
    "start_time": "2023-02-08T10:19:41.218Z"
   },
   {
    "duration": 44,
    "start_time": "2023-02-08T10:19:41.234Z"
   },
   {
    "duration": 299,
    "start_time": "2023-02-08T10:19:41.280Z"
   },
   {
    "duration": 20,
    "start_time": "2023-02-08T10:19:41.581Z"
   },
   {
    "duration": 258,
    "start_time": "2023-02-08T10:19:41.603Z"
   },
   {
    "duration": 7,
    "start_time": "2023-02-08T10:19:41.863Z"
   },
   {
    "duration": 17,
    "start_time": "2023-02-08T10:19:41.872Z"
   },
   {
    "duration": 13,
    "start_time": "2023-02-08T10:19:41.892Z"
   },
   {
    "duration": 7,
    "start_time": "2023-02-08T10:19:41.907Z"
   },
   {
    "duration": 288,
    "start_time": "2023-02-08T10:19:41.916Z"
   },
   {
    "duration": 6,
    "start_time": "2023-02-08T10:19:42.205Z"
   },
   {
    "duration": 300,
    "start_time": "2023-02-08T10:19:42.213Z"
   },
   {
    "duration": 219,
    "start_time": "2023-02-08T10:19:42.516Z"
   },
   {
    "duration": 300,
    "start_time": "2023-02-08T10:19:42.737Z"
   },
   {
    "duration": 10,
    "start_time": "2023-02-08T10:19:43.038Z"
   },
   {
    "duration": 10,
    "start_time": "2023-02-08T10:19:43.049Z"
   },
   {
    "duration": 233,
    "start_time": "2023-02-08T10:19:43.061Z"
   },
   {
    "duration": 337,
    "start_time": "2023-02-08T10:19:43.295Z"
   },
   {
    "duration": 12,
    "start_time": "2023-02-08T10:19:43.635Z"
   },
   {
    "duration": 159,
    "start_time": "2023-02-08T10:19:43.648Z"
   },
   {
    "duration": 4,
    "start_time": "2023-02-08T10:19:43.809Z"
   },
   {
    "duration": 16,
    "start_time": "2023-02-08T10:19:43.814Z"
   },
   {
    "duration": 244,
    "start_time": "2023-02-08T10:19:43.832Z"
   },
   {
    "duration": 5,
    "start_time": "2023-02-08T10:19:44.078Z"
   },
   {
    "duration": 98,
    "start_time": "2023-02-08T10:19:48.995Z"
   },
   {
    "duration": 115,
    "start_time": "2023-02-08T10:29:32.606Z"
   },
   {
    "duration": 8,
    "start_time": "2023-02-08T10:29:42.490Z"
   },
   {
    "duration": 8,
    "start_time": "2023-02-08T10:29:55.231Z"
   },
   {
    "duration": 28,
    "start_time": "2023-02-08T10:32:58.509Z"
   },
   {
    "duration": 4,
    "start_time": "2023-02-08T10:58:59.402Z"
   },
   {
    "duration": 129,
    "start_time": "2023-02-08T11:00:58.656Z"
   },
   {
    "duration": 8,
    "start_time": "2023-02-08T11:01:13.199Z"
   },
   {
    "duration": 7,
    "start_time": "2023-02-08T11:01:23.751Z"
   },
   {
    "duration": 8,
    "start_time": "2023-02-08T11:01:38.947Z"
   },
   {
    "duration": 8,
    "start_time": "2023-02-08T11:01:47.279Z"
   },
   {
    "duration": 97,
    "start_time": "2023-02-08T11:15:13.649Z"
   },
   {
    "duration": 7,
    "start_time": "2023-02-08T11:15:47.557Z"
   },
   {
    "duration": 4,
    "start_time": "2023-02-08T11:15:56.690Z"
   },
   {
    "duration": 5,
    "start_time": "2023-02-08T11:16:00.634Z"
   },
   {
    "duration": 6,
    "start_time": "2023-02-08T11:16:08.674Z"
   },
   {
    "duration": 6,
    "start_time": "2023-02-08T11:16:16.555Z"
   },
   {
    "duration": 13,
    "start_time": "2023-02-08T11:21:03.307Z"
   },
   {
    "duration": 24,
    "start_time": "2023-02-08T11:21:16.987Z"
   },
   {
    "duration": 24,
    "start_time": "2023-02-08T11:27:52.353Z"
   },
   {
    "duration": 9,
    "start_time": "2023-02-08T11:41:19.451Z"
   },
   {
    "duration": 13,
    "start_time": "2023-02-08T11:41:23.887Z"
   },
   {
    "duration": 1547,
    "start_time": "2023-02-09T06:14:56.029Z"
   },
   {
    "duration": 7,
    "start_time": "2023-02-09T06:14:57.579Z"
   },
   {
    "duration": 290,
    "start_time": "2023-02-09T06:14:57.588Z"
   },
   {
    "duration": 5,
    "start_time": "2023-02-09T06:14:57.884Z"
   },
   {
    "duration": 28,
    "start_time": "2023-02-09T06:14:57.895Z"
   },
   {
    "duration": 3,
    "start_time": "2023-02-09T06:14:57.925Z"
   },
   {
    "duration": 31,
    "start_time": "2023-02-09T06:14:57.930Z"
   },
   {
    "duration": 36,
    "start_time": "2023-02-09T06:14:57.963Z"
   },
   {
    "duration": 40,
    "start_time": "2023-02-09T06:14:58.000Z"
   },
   {
    "duration": 8,
    "start_time": "2023-02-09T06:14:58.042Z"
   },
   {
    "duration": 56,
    "start_time": "2023-02-09T06:14:58.052Z"
   },
   {
    "duration": 315,
    "start_time": "2023-02-09T06:14:58.110Z"
   },
   {
    "duration": 12,
    "start_time": "2023-02-09T06:14:58.427Z"
   },
   {
    "duration": 323,
    "start_time": "2023-02-09T06:14:58.455Z"
   },
   {
    "duration": 14,
    "start_time": "2023-02-09T06:14:58.782Z"
   },
   {
    "duration": 11,
    "start_time": "2023-02-09T06:14:58.798Z"
   },
   {
    "duration": 21,
    "start_time": "2023-02-09T06:14:58.811Z"
   },
   {
    "duration": 12,
    "start_time": "2023-02-09T06:14:58.834Z"
   },
   {
    "duration": 365,
    "start_time": "2023-02-09T06:14:58.847Z"
   },
   {
    "duration": 7,
    "start_time": "2023-02-09T06:14:59.214Z"
   },
   {
    "duration": 388,
    "start_time": "2023-02-09T06:14:59.222Z"
   },
   {
    "duration": 315,
    "start_time": "2023-02-09T06:14:59.612Z"
   },
   {
    "duration": 415,
    "start_time": "2023-02-09T06:14:59.928Z"
   },
   {
    "duration": 29,
    "start_time": "2023-02-09T06:15:00.345Z"
   },
   {
    "duration": 22,
    "start_time": "2023-02-09T06:15:00.382Z"
   },
   {
    "duration": 340,
    "start_time": "2023-02-09T06:15:00.405Z"
   },
   {
    "duration": 375,
    "start_time": "2023-02-09T06:15:00.757Z"
   },
   {
    "duration": 29,
    "start_time": "2023-02-09T06:15:01.134Z"
   },
   {
    "duration": 228,
    "start_time": "2023-02-09T06:15:01.182Z"
   },
   {
    "duration": 6,
    "start_time": "2023-02-09T06:15:01.412Z"
   },
   {
    "duration": 49,
    "start_time": "2023-02-09T06:15:01.419Z"
   },
   {
    "duration": 351,
    "start_time": "2023-02-09T06:15:01.470Z"
   },
   {
    "duration": 4,
    "start_time": "2023-02-09T06:15:01.823Z"
   },
   {
    "duration": 149,
    "start_time": "2023-02-09T06:15:01.829Z"
   },
   {
    "duration": 143,
    "start_time": "2023-02-09T06:15:01.981Z"
   },
   {
    "duration": 49,
    "start_time": "2023-02-09T06:15:02.126Z"
   },
   {
    "duration": 203,
    "start_time": "2023-02-09T06:15:02.176Z"
   },
   {
    "duration": 32,
    "start_time": "2023-02-09T06:15:02.383Z"
   },
   {
    "duration": 84,
    "start_time": "2023-02-09T06:15:02.416Z"
   },
   {
    "duration": 15,
    "start_time": "2023-02-09T06:33:27.779Z"
   },
   {
    "duration": 1130,
    "start_time": "2023-02-09T06:47:41.083Z"
   },
   {
    "duration": 1078,
    "start_time": "2023-02-09T06:47:51.319Z"
   },
   {
    "duration": 57,
    "start_time": "2023-02-09T06:48:08.131Z"
   },
   {
    "duration": 6,
    "start_time": "2023-02-09T06:50:14.983Z"
   },
   {
    "duration": 6,
    "start_time": "2023-02-09T06:50:47.984Z"
   },
   {
    "duration": 7,
    "start_time": "2023-02-09T06:50:54.527Z"
   },
   {
    "duration": 6,
    "start_time": "2023-02-09T06:51:35.985Z"
   },
   {
    "duration": 9,
    "start_time": "2023-02-09T06:52:11.079Z"
   },
   {
    "duration": 30,
    "start_time": "2023-02-09T06:54:09.227Z"
   },
   {
    "duration": 16,
    "start_time": "2023-02-09T09:41:40.034Z"
   },
   {
    "duration": 1314,
    "start_time": "2023-02-10T02:38:08.043Z"
   },
   {
    "duration": 3,
    "start_time": "2023-02-10T02:38:09.359Z"
   },
   {
    "duration": 192,
    "start_time": "2023-02-10T02:38:09.364Z"
   },
   {
    "duration": 4,
    "start_time": "2023-02-10T02:38:09.557Z"
   },
   {
    "duration": 28,
    "start_time": "2023-02-10T02:38:09.564Z"
   },
   {
    "duration": 4,
    "start_time": "2023-02-10T02:38:09.594Z"
   },
   {
    "duration": 24,
    "start_time": "2023-02-10T02:38:09.600Z"
   },
   {
    "duration": 16,
    "start_time": "2023-02-10T02:38:09.626Z"
   },
   {
    "duration": 23,
    "start_time": "2023-02-10T02:38:09.644Z"
   },
   {
    "duration": 6,
    "start_time": "2023-02-10T02:38:09.669Z"
   },
   {
    "duration": 15,
    "start_time": "2023-02-10T02:38:09.676Z"
   },
   {
    "duration": 311,
    "start_time": "2023-02-10T02:38:09.693Z"
   },
   {
    "duration": 13,
    "start_time": "2023-02-10T02:38:10.005Z"
   },
   {
    "duration": 258,
    "start_time": "2023-02-10T02:38:10.020Z"
   },
   {
    "duration": 9,
    "start_time": "2023-02-10T02:38:10.279Z"
   },
   {
    "duration": 9,
    "start_time": "2023-02-10T02:38:10.289Z"
   },
   {
    "duration": 10,
    "start_time": "2023-02-10T02:38:10.299Z"
   },
   {
    "duration": 26,
    "start_time": "2023-02-10T02:38:10.311Z"
   },
   {
    "duration": 295,
    "start_time": "2023-02-10T02:38:10.339Z"
   },
   {
    "duration": 6,
    "start_time": "2023-02-10T02:38:10.637Z"
   },
   {
    "duration": 298,
    "start_time": "2023-02-10T02:38:10.645Z"
   },
   {
    "duration": 210,
    "start_time": "2023-02-10T02:38:10.945Z"
   },
   {
    "duration": 346,
    "start_time": "2023-02-10T02:38:11.156Z"
   },
   {
    "duration": 10,
    "start_time": "2023-02-10T02:38:11.503Z"
   },
   {
    "duration": 6,
    "start_time": "2023-02-10T02:38:11.515Z"
   },
   {
    "duration": 224,
    "start_time": "2023-02-10T02:38:11.523Z"
   },
   {
    "duration": 309,
    "start_time": "2023-02-10T02:38:11.748Z"
   },
   {
    "duration": 12,
    "start_time": "2023-02-10T02:38:12.058Z"
   },
   {
    "duration": 152,
    "start_time": "2023-02-10T02:38:12.071Z"
   },
   {
    "duration": 4,
    "start_time": "2023-02-10T02:38:12.225Z"
   },
   {
    "duration": 9,
    "start_time": "2023-02-10T02:38:12.236Z"
   },
   {
    "duration": 271,
    "start_time": "2023-02-10T02:38:12.247Z"
   },
   {
    "duration": 5,
    "start_time": "2023-02-10T02:38:12.520Z"
   },
   {
    "duration": 103,
    "start_time": "2023-02-10T02:38:12.527Z"
   },
   {
    "duration": 110,
    "start_time": "2023-02-10T02:38:12.632Z"
   },
   {
    "duration": 29,
    "start_time": "2023-02-10T02:38:12.744Z"
   },
   {
    "duration": 137,
    "start_time": "2023-02-10T02:38:12.775Z"
   },
   {
    "duration": 25,
    "start_time": "2023-02-10T02:38:12.914Z"
   },
   {
    "duration": 9,
    "start_time": "2023-02-10T02:38:12.941Z"
   },
   {
    "duration": 8,
    "start_time": "2023-02-10T02:38:12.952Z"
   },
   {
    "duration": 24,
    "start_time": "2023-02-10T02:38:12.963Z"
   },
   {
    "duration": 13,
    "start_time": "2023-02-10T02:38:12.989Z"
   },
   {
    "duration": 4,
    "start_time": "2023-02-10T03:26:34.086Z"
   },
   {
    "duration": 94,
    "start_time": "2023-02-10T03:28:24.048Z"
   },
   {
    "duration": 9,
    "start_time": "2023-02-10T03:28:32.272Z"
   },
   {
    "duration": 4,
    "start_time": "2023-02-10T03:28:46.508Z"
   },
   {
    "duration": 3,
    "start_time": "2023-02-10T03:29:08.528Z"
   },
   {
    "duration": 10,
    "start_time": "2023-02-10T03:31:28.671Z"
   },
   {
    "duration": 7,
    "start_time": "2023-02-10T03:34:26.927Z"
   },
   {
    "duration": 8,
    "start_time": "2023-02-10T03:34:33.201Z"
   },
   {
    "duration": 9,
    "start_time": "2023-02-10T03:42:56.970Z"
   },
   {
    "duration": 11,
    "start_time": "2023-02-10T03:43:08.756Z"
   },
   {
    "duration": 12,
    "start_time": "2023-02-10T03:44:38.796Z"
   },
   {
    "duration": 9,
    "start_time": "2023-02-10T03:44:58.111Z"
   },
   {
    "duration": 8,
    "start_time": "2023-02-10T03:55:58.928Z"
   },
   {
    "duration": 10,
    "start_time": "2023-02-10T03:56:06.401Z"
   },
   {
    "duration": 11,
    "start_time": "2023-02-10T03:57:28.947Z"
   },
   {
    "duration": 8,
    "start_time": "2023-02-10T03:58:11.452Z"
   },
   {
    "duration": 8,
    "start_time": "2023-02-10T03:58:19.450Z"
   },
   {
    "duration": 646,
    "start_time": "2023-02-10T03:58:25.058Z"
   },
   {
    "duration": 649,
    "start_time": "2023-02-10T03:58:48.988Z"
   },
   {
    "duration": 9,
    "start_time": "2023-02-10T04:00:13.820Z"
   },
   {
    "duration": 11,
    "start_time": "2023-02-10T04:00:44.145Z"
   },
   {
    "duration": 11,
    "start_time": "2023-02-10T04:01:24.630Z"
   },
   {
    "duration": 11,
    "start_time": "2023-02-10T04:02:31.667Z"
   },
   {
    "duration": 13,
    "start_time": "2023-02-10T04:03:56.496Z"
   },
   {
    "duration": 17,
    "start_time": "2023-02-10T04:04:19.048Z"
   },
   {
    "duration": 12,
    "start_time": "2023-02-10T04:04:36.317Z"
   },
   {
    "duration": 11,
    "start_time": "2023-02-10T04:07:16.830Z"
   },
   {
    "duration": 7,
    "start_time": "2023-02-10T04:14:11.403Z"
   },
   {
    "duration": 16,
    "start_time": "2023-02-10T04:15:12.449Z"
   },
   {
    "duration": 15,
    "start_time": "2023-02-10T04:16:03.088Z"
   },
   {
    "duration": 13,
    "start_time": "2023-02-10T04:16:14.094Z"
   },
   {
    "duration": 11,
    "start_time": "2023-02-10T04:17:47.428Z"
   },
   {
    "duration": 12,
    "start_time": "2023-02-10T04:19:41.157Z"
   },
   {
    "duration": 11,
    "start_time": "2023-02-10T04:19:56.126Z"
   },
   {
    "duration": 14,
    "start_time": "2023-02-10T04:20:07.806Z"
   },
   {
    "duration": 24,
    "start_time": "2023-02-10T04:22:41.671Z"
   },
   {
    "duration": 5,
    "start_time": "2023-02-10T04:24:36.076Z"
   },
   {
    "duration": 3,
    "start_time": "2023-02-10T04:24:50.068Z"
   },
   {
    "duration": 25,
    "start_time": "2023-02-10T04:24:52.278Z"
   },
   {
    "duration": 9,
    "start_time": "2023-02-10T04:27:49.005Z"
   },
   {
    "duration": 708,
    "start_time": "2023-02-10T04:33:35.965Z"
   },
   {
    "duration": 675,
    "start_time": "2023-02-10T04:33:48.305Z"
   },
   {
    "duration": 46,
    "start_time": "2023-02-10T04:45:25.439Z"
   },
   {
    "duration": 8,
    "start_time": "2023-02-10T04:45:33.284Z"
   },
   {
    "duration": 14,
    "start_time": "2023-02-10T04:47:23.112Z"
   },
   {
    "duration": 13,
    "start_time": "2023-02-10T04:47:48.617Z"
   },
   {
    "duration": 14,
    "start_time": "2023-02-10T04:49:21.579Z"
   },
   {
    "duration": 7,
    "start_time": "2023-02-10T04:49:34.395Z"
   },
   {
    "duration": 13,
    "start_time": "2023-02-10T04:50:05.992Z"
   },
   {
    "duration": 36,
    "start_time": "2023-02-10T04:50:30.068Z"
   },
   {
    "duration": 43,
    "start_time": "2023-02-10T04:50:45.389Z"
   },
   {
    "duration": 13,
    "start_time": "2023-02-10T04:51:05.328Z"
   },
   {
    "duration": 6,
    "start_time": "2023-02-10T04:51:51.749Z"
   },
   {
    "duration": 18,
    "start_time": "2023-02-10T04:51:58.209Z"
   },
   {
    "duration": 7,
    "start_time": "2023-02-10T04:52:22.793Z"
   },
   {
    "duration": 12,
    "start_time": "2023-02-10T04:52:45.061Z"
   },
   {
    "duration": 1120,
    "start_time": "2023-02-10T04:55:07.191Z"
   },
   {
    "duration": 3,
    "start_time": "2023-02-10T04:55:08.313Z"
   },
   {
    "duration": 75,
    "start_time": "2023-02-10T04:55:08.318Z"
   },
   {
    "duration": 3,
    "start_time": "2023-02-10T04:55:08.396Z"
   },
   {
    "duration": 30,
    "start_time": "2023-02-10T04:55:08.400Z"
   },
   {
    "duration": 7,
    "start_time": "2023-02-10T04:55:08.432Z"
   },
   {
    "duration": 27,
    "start_time": "2023-02-10T04:55:08.440Z"
   },
   {
    "duration": 8,
    "start_time": "2023-02-10T04:55:08.468Z"
   },
   {
    "duration": 26,
    "start_time": "2023-02-10T04:55:08.478Z"
   },
   {
    "duration": 7,
    "start_time": "2023-02-10T04:55:08.507Z"
   },
   {
    "duration": 26,
    "start_time": "2023-02-10T04:55:08.516Z"
   },
   {
    "duration": 274,
    "start_time": "2023-02-10T04:55:08.544Z"
   },
   {
    "duration": 17,
    "start_time": "2023-02-10T04:55:08.820Z"
   },
   {
    "duration": 244,
    "start_time": "2023-02-10T04:55:08.838Z"
   },
   {
    "duration": 8,
    "start_time": "2023-02-10T04:55:09.084Z"
   },
   {
    "duration": 12,
    "start_time": "2023-02-10T04:55:09.093Z"
   },
   {
    "duration": 15,
    "start_time": "2023-02-10T04:55:09.107Z"
   },
   {
    "duration": 15,
    "start_time": "2023-02-10T04:55:09.124Z"
   },
   {
    "duration": 10,
    "start_time": "2023-02-10T04:55:09.140Z"
   },
   {
    "duration": 14,
    "start_time": "2023-02-10T04:55:09.152Z"
   },
   {
    "duration": 5,
    "start_time": "2023-02-10T04:55:09.168Z"
   },
   {
    "duration": 18,
    "start_time": "2023-02-10T04:55:09.175Z"
   },
   {
    "duration": 319,
    "start_time": "2023-02-10T04:55:09.195Z"
   },
   {
    "duration": 5,
    "start_time": "2023-02-10T04:55:09.518Z"
   },
   {
    "duration": 286,
    "start_time": "2023-02-10T04:55:09.525Z"
   },
   {
    "duration": 232,
    "start_time": "2023-02-10T04:55:09.813Z"
   },
   {
    "duration": 304,
    "start_time": "2023-02-10T04:55:10.046Z"
   },
   {
    "duration": 12,
    "start_time": "2023-02-10T04:55:10.353Z"
   },
   {
    "duration": 12,
    "start_time": "2023-02-10T04:55:10.368Z"
   },
   {
    "duration": 218,
    "start_time": "2023-02-10T04:55:10.381Z"
   },
   {
    "duration": 344,
    "start_time": "2023-02-10T04:55:10.601Z"
   },
   {
    "duration": 12,
    "start_time": "2023-02-10T04:55:10.947Z"
   },
   {
    "duration": 167,
    "start_time": "2023-02-10T04:55:10.960Z"
   },
   {
    "duration": 10,
    "start_time": "2023-02-10T04:55:11.128Z"
   },
   {
    "duration": 10,
    "start_time": "2023-02-10T04:55:11.139Z"
   },
   {
    "duration": 253,
    "start_time": "2023-02-10T04:55:11.151Z"
   },
   {
    "duration": 4,
    "start_time": "2023-02-10T04:55:11.406Z"
   },
   {
    "duration": 110,
    "start_time": "2023-02-10T04:55:11.412Z"
   },
   {
    "duration": 129,
    "start_time": "2023-02-10T04:55:11.525Z"
   },
   {
    "duration": 27,
    "start_time": "2023-02-10T04:55:11.655Z"
   },
   {
    "duration": 162,
    "start_time": "2023-02-10T04:55:11.683Z"
   },
   {
    "duration": 28,
    "start_time": "2023-02-10T04:55:11.846Z"
   },
   {
    "duration": 10,
    "start_time": "2023-02-10T04:55:11.876Z"
   },
   {
    "duration": 9,
    "start_time": "2023-02-10T04:55:11.887Z"
   },
   {
    "duration": 51,
    "start_time": "2023-02-10T04:55:11.897Z"
   },
   {
    "duration": 13,
    "start_time": "2023-02-10T04:55:11.950Z"
   },
   {
    "duration": 9,
    "start_time": "2023-02-10T04:59:17.350Z"
   },
   {
    "duration": 1142,
    "start_time": "2023-02-10T05:00:10.315Z"
   },
   {
    "duration": 3,
    "start_time": "2023-02-10T05:00:11.459Z"
   },
   {
    "duration": 74,
    "start_time": "2023-02-10T05:00:11.463Z"
   },
   {
    "duration": 4,
    "start_time": "2023-02-10T05:00:11.539Z"
   },
   {
    "duration": 28,
    "start_time": "2023-02-10T05:00:11.544Z"
   },
   {
    "duration": 4,
    "start_time": "2023-02-10T05:00:11.574Z"
   },
   {
    "duration": 23,
    "start_time": "2023-02-10T05:00:11.580Z"
   },
   {
    "duration": 10,
    "start_time": "2023-02-10T05:00:11.604Z"
   },
   {
    "duration": 41,
    "start_time": "2023-02-10T05:00:11.615Z"
   },
   {
    "duration": 6,
    "start_time": "2023-02-10T05:00:11.659Z"
   },
   {
    "duration": 16,
    "start_time": "2023-02-10T05:00:11.667Z"
   },
   {
    "duration": 269,
    "start_time": "2023-02-10T05:00:11.684Z"
   },
   {
    "duration": 11,
    "start_time": "2023-02-10T05:00:11.955Z"
   },
   {
    "duration": 247,
    "start_time": "2023-02-10T05:00:11.968Z"
   },
   {
    "duration": 9,
    "start_time": "2023-02-10T05:00:12.217Z"
   },
   {
    "duration": 5,
    "start_time": "2023-02-10T05:00:12.237Z"
   },
   {
    "duration": 10,
    "start_time": "2023-02-10T05:00:12.243Z"
   },
   {
    "duration": 16,
    "start_time": "2023-02-10T05:00:12.255Z"
   },
   {
    "duration": 16,
    "start_time": "2023-02-10T05:00:12.273Z"
   },
   {
    "duration": 368,
    "start_time": "2023-02-10T05:00:12.290Z"
   },
   {
    "duration": 6,
    "start_time": "2023-02-10T05:00:12.660Z"
   },
   {
    "duration": 308,
    "start_time": "2023-02-10T05:00:12.668Z"
   },
   {
    "duration": 219,
    "start_time": "2023-02-10T05:00:12.978Z"
   },
   {
    "duration": 308,
    "start_time": "2023-02-10T05:00:13.199Z"
   },
   {
    "duration": 11,
    "start_time": "2023-02-10T05:00:13.509Z"
   },
   {
    "duration": 21,
    "start_time": "2023-02-10T05:00:13.521Z"
   },
   {
    "duration": 237,
    "start_time": "2023-02-10T05:00:13.544Z"
   },
   {
    "duration": 319,
    "start_time": "2023-02-10T05:00:13.786Z"
   },
   {
    "duration": 11,
    "start_time": "2023-02-10T05:00:14.106Z"
   },
   {
    "duration": 153,
    "start_time": "2023-02-10T05:00:14.118Z"
   },
   {
    "duration": 4,
    "start_time": "2023-02-10T05:00:14.272Z"
   },
   {
    "duration": 16,
    "start_time": "2023-02-10T05:00:14.277Z"
   },
   {
    "duration": 242,
    "start_time": "2023-02-10T05:00:14.295Z"
   },
   {
    "duration": 4,
    "start_time": "2023-02-10T05:00:14.538Z"
   },
   {
    "duration": 98,
    "start_time": "2023-02-10T05:00:14.544Z"
   },
   {
    "duration": 106,
    "start_time": "2023-02-10T05:00:14.643Z"
   },
   {
    "duration": 26,
    "start_time": "2023-02-10T05:00:14.751Z"
   },
   {
    "duration": 174,
    "start_time": "2023-02-10T05:00:14.779Z"
   },
   {
    "duration": 28,
    "start_time": "2023-02-10T05:00:14.955Z"
   },
   {
    "duration": 13,
    "start_time": "2023-02-10T05:00:14.984Z"
   },
   {
    "duration": 38,
    "start_time": "2023-02-10T05:00:14.998Z"
   },
   {
    "duration": 47,
    "start_time": "2023-02-10T05:00:15.038Z"
   },
   {
    "duration": 13,
    "start_time": "2023-02-10T05:00:15.087Z"
   },
   {
    "duration": 20,
    "start_time": "2023-02-10T06:33:16.630Z"
   },
   {
    "duration": 98,
    "start_time": "2023-02-10T06:34:41.479Z"
   },
   {
    "duration": 15,
    "start_time": "2023-02-10T06:34:50.249Z"
   },
   {
    "duration": 10,
    "start_time": "2023-02-10T06:35:33.467Z"
   },
   {
    "duration": 8,
    "start_time": "2023-02-10T06:35:40.219Z"
   },
   {
    "duration": 18,
    "start_time": "2023-02-10T06:40:21.701Z"
   },
   {
    "duration": 10,
    "start_time": "2023-02-10T06:40:42.017Z"
   },
   {
    "duration": 8,
    "start_time": "2023-02-10T06:42:25.426Z"
   },
   {
    "duration": 1109,
    "start_time": "2023-02-10T06:42:38.945Z"
   },
   {
    "duration": 4,
    "start_time": "2023-02-10T06:42:40.056Z"
   },
   {
    "duration": 83,
    "start_time": "2023-02-10T06:42:40.062Z"
   },
   {
    "duration": 4,
    "start_time": "2023-02-10T06:42:40.147Z"
   },
   {
    "duration": 30,
    "start_time": "2023-02-10T06:42:40.153Z"
   },
   {
    "duration": 3,
    "start_time": "2023-02-10T06:42:40.185Z"
   },
   {
    "duration": 21,
    "start_time": "2023-02-10T06:42:40.190Z"
   },
   {
    "duration": 7,
    "start_time": "2023-02-10T06:42:40.212Z"
   },
   {
    "duration": 44,
    "start_time": "2023-02-10T06:42:40.220Z"
   },
   {
    "duration": 6,
    "start_time": "2023-02-10T06:42:40.266Z"
   },
   {
    "duration": 17,
    "start_time": "2023-02-10T06:42:40.273Z"
   },
   {
    "duration": 279,
    "start_time": "2023-02-10T06:42:40.292Z"
   },
   {
    "duration": 12,
    "start_time": "2023-02-10T06:42:40.572Z"
   },
   {
    "duration": 249,
    "start_time": "2023-02-10T06:42:40.585Z"
   },
   {
    "duration": 13,
    "start_time": "2023-02-10T06:42:40.837Z"
   },
   {
    "duration": 13,
    "start_time": "2023-02-10T06:42:40.852Z"
   },
   {
    "duration": 9,
    "start_time": "2023-02-10T06:42:40.867Z"
   },
   {
    "duration": 5,
    "start_time": "2023-02-10T06:42:40.878Z"
   },
   {
    "duration": 14,
    "start_time": "2023-02-10T06:42:40.885Z"
   },
   {
    "duration": 10,
    "start_time": "2023-02-10T06:42:40.900Z"
   },
   {
    "duration": 310,
    "start_time": "2023-02-10T06:42:40.911Z"
   },
   {
    "duration": 6,
    "start_time": "2023-02-10T06:42:41.222Z"
   },
   {
    "duration": 295,
    "start_time": "2023-02-10T06:42:41.230Z"
   },
   {
    "duration": 230,
    "start_time": "2023-02-10T06:42:41.527Z"
   },
   {
    "duration": 318,
    "start_time": "2023-02-10T06:42:41.759Z"
   },
   {
    "duration": 10,
    "start_time": "2023-02-10T06:42:42.079Z"
   },
   {
    "duration": 8,
    "start_time": "2023-02-10T06:42:42.091Z"
   },
   {
    "duration": 257,
    "start_time": "2023-02-10T06:42:42.102Z"
   },
   {
    "duration": 325,
    "start_time": "2023-02-10T06:42:42.360Z"
   },
   {
    "duration": 14,
    "start_time": "2023-02-10T06:42:42.687Z"
   },
   {
    "duration": 173,
    "start_time": "2023-02-10T06:42:42.703Z"
   },
   {
    "duration": 4,
    "start_time": "2023-02-10T06:42:42.878Z"
   },
   {
    "duration": 27,
    "start_time": "2023-02-10T06:42:42.884Z"
   },
   {
    "duration": 241,
    "start_time": "2023-02-10T06:42:42.913Z"
   },
   {
    "duration": 4,
    "start_time": "2023-02-10T06:42:43.156Z"
   },
   {
    "duration": 104,
    "start_time": "2023-02-10T06:42:43.161Z"
   },
   {
    "duration": 125,
    "start_time": "2023-02-10T06:42:43.267Z"
   },
   {
    "duration": 27,
    "start_time": "2023-02-10T06:42:43.394Z"
   },
   {
    "duration": 158,
    "start_time": "2023-02-10T06:42:43.422Z"
   },
   {
    "duration": 37,
    "start_time": "2023-02-10T06:42:43.582Z"
   },
   {
    "duration": 34,
    "start_time": "2023-02-10T06:42:43.621Z"
   },
   {
    "duration": 11,
    "start_time": "2023-02-10T06:42:43.657Z"
   },
   {
    "duration": 26,
    "start_time": "2023-02-10T06:42:43.670Z"
   },
   {
    "duration": 13,
    "start_time": "2023-02-10T06:42:43.698Z"
   },
   {
    "duration": 16,
    "start_time": "2023-02-10T06:44:47.934Z"
   },
   {
    "duration": 9,
    "start_time": "2023-02-10T06:47:02.867Z"
   },
   {
    "duration": 1083,
    "start_time": "2023-02-10T06:49:24.376Z"
   },
   {
    "duration": 3,
    "start_time": "2023-02-10T06:49:25.461Z"
   },
   {
    "duration": 99,
    "start_time": "2023-02-10T06:49:25.465Z"
   },
   {
    "duration": 3,
    "start_time": "2023-02-10T06:49:25.566Z"
   },
   {
    "duration": 25,
    "start_time": "2023-02-10T06:49:25.571Z"
   },
   {
    "duration": 3,
    "start_time": "2023-02-10T06:49:25.598Z"
   },
   {
    "duration": 27,
    "start_time": "2023-02-10T06:49:25.603Z"
   },
   {
    "duration": 20,
    "start_time": "2023-02-10T06:49:25.631Z"
   },
   {
    "duration": 22,
    "start_time": "2023-02-10T06:49:25.653Z"
   },
   {
    "duration": 13,
    "start_time": "2023-02-10T06:49:25.678Z"
   },
   {
    "duration": 13,
    "start_time": "2023-02-10T06:49:25.693Z"
   },
   {
    "duration": 269,
    "start_time": "2023-02-10T06:49:25.707Z"
   },
   {
    "duration": 11,
    "start_time": "2023-02-10T06:49:25.977Z"
   },
   {
    "duration": 250,
    "start_time": "2023-02-10T06:49:25.989Z"
   },
   {
    "duration": 10,
    "start_time": "2023-02-10T06:49:26.245Z"
   },
   {
    "duration": 7,
    "start_time": "2023-02-10T06:49:26.256Z"
   },
   {
    "duration": 10,
    "start_time": "2023-02-10T06:49:26.264Z"
   },
   {
    "duration": 6,
    "start_time": "2023-02-10T06:49:26.275Z"
   },
   {
    "duration": 11,
    "start_time": "2023-02-10T06:49:26.282Z"
   },
   {
    "duration": 9,
    "start_time": "2023-02-10T06:49:26.294Z"
   },
   {
    "duration": 297,
    "start_time": "2023-02-10T06:49:26.304Z"
   },
   {
    "duration": 6,
    "start_time": "2023-02-10T06:49:26.604Z"
   },
   {
    "duration": 301,
    "start_time": "2023-02-10T06:49:26.611Z"
   },
   {
    "duration": 239,
    "start_time": "2023-02-10T06:49:26.914Z"
   },
   {
    "duration": 326,
    "start_time": "2023-02-10T06:49:27.155Z"
   },
   {
    "duration": 10,
    "start_time": "2023-02-10T06:49:27.483Z"
   },
   {
    "duration": 6,
    "start_time": "2023-02-10T06:49:27.494Z"
   },
   {
    "duration": 226,
    "start_time": "2023-02-10T06:49:27.504Z"
   },
   {
    "duration": 322,
    "start_time": "2023-02-10T06:49:27.732Z"
   },
   {
    "duration": 11,
    "start_time": "2023-02-10T06:49:28.056Z"
   },
   {
    "duration": 158,
    "start_time": "2023-02-10T06:49:28.068Z"
   },
   {
    "duration": 14,
    "start_time": "2023-02-10T06:49:28.228Z"
   },
   {
    "duration": 15,
    "start_time": "2023-02-10T06:49:28.249Z"
   },
   {
    "duration": 245,
    "start_time": "2023-02-10T06:49:28.266Z"
   },
   {
    "duration": 4,
    "start_time": "2023-02-10T06:49:28.512Z"
   },
   {
    "duration": 96,
    "start_time": "2023-02-10T06:49:28.518Z"
   },
   {
    "duration": 127,
    "start_time": "2023-02-10T06:49:28.615Z"
   },
   {
    "duration": 31,
    "start_time": "2023-02-10T06:49:28.743Z"
   },
   {
    "duration": 135,
    "start_time": "2023-02-10T06:49:28.776Z"
   },
   {
    "duration": 32,
    "start_time": "2023-02-10T06:49:28.913Z"
   },
   {
    "duration": 11,
    "start_time": "2023-02-10T06:49:28.947Z"
   },
   {
    "duration": 12,
    "start_time": "2023-02-10T06:49:28.960Z"
   },
   {
    "duration": 26,
    "start_time": "2023-02-10T06:49:28.974Z"
   },
   {
    "duration": 13,
    "start_time": "2023-02-10T06:49:29.001Z"
   },
   {
    "duration": 11,
    "start_time": "2023-02-10T07:43:41.206Z"
   },
   {
    "duration": 9,
    "start_time": "2023-02-10T07:49:48.000Z"
   },
   {
    "duration": 15,
    "start_time": "2023-02-10T07:54:22.414Z"
   },
   {
    "duration": 12,
    "start_time": "2023-02-10T07:54:25.514Z"
   },
   {
    "duration": 511,
    "start_time": "2023-02-10T08:00:40.349Z"
   },
   {
    "duration": 12,
    "start_time": "2023-02-10T08:01:12.257Z"
   },
   {
    "duration": 28,
    "start_time": "2023-02-10T08:02:15.626Z"
   },
   {
    "duration": 10,
    "start_time": "2023-02-10T08:02:24.626Z"
   },
   {
    "duration": 18,
    "start_time": "2023-02-10T08:02:56.370Z"
   },
   {
    "duration": 9,
    "start_time": "2023-02-10T08:03:14.218Z"
   },
   {
    "duration": 17,
    "start_time": "2023-02-10T08:03:47.552Z"
   },
   {
    "duration": 7,
    "start_time": "2023-02-10T08:04:18.668Z"
   },
   {
    "duration": 70,
    "start_time": "2023-02-10T08:09:01.052Z"
   },
   {
    "duration": 9,
    "start_time": "2023-02-10T08:09:08.176Z"
   },
   {
    "duration": 9,
    "start_time": "2023-02-10T08:10:07.401Z"
   },
   {
    "duration": 11,
    "start_time": "2023-02-10T08:10:38.033Z"
   },
   {
    "duration": 6,
    "start_time": "2023-02-10T08:11:30.881Z"
   },
   {
    "duration": 12,
    "start_time": "2023-02-10T08:12:59.367Z"
   },
   {
    "duration": 10,
    "start_time": "2023-02-10T08:13:55.471Z"
   },
   {
    "duration": 12,
    "start_time": "2023-02-10T08:18:53.009Z"
   },
   {
    "duration": 1243,
    "start_time": "2023-02-10T08:22:30.018Z"
   },
   {
    "duration": 5,
    "start_time": "2023-02-10T08:22:31.267Z"
   },
   {
    "duration": 123,
    "start_time": "2023-02-10T08:22:31.274Z"
   },
   {
    "duration": 3,
    "start_time": "2023-02-10T08:22:31.399Z"
   },
   {
    "duration": 44,
    "start_time": "2023-02-10T08:22:31.404Z"
   },
   {
    "duration": 41,
    "start_time": "2023-02-10T08:22:31.450Z"
   },
   {
    "duration": 77,
    "start_time": "2023-02-10T08:22:31.493Z"
   },
   {
    "duration": 28,
    "start_time": "2023-02-10T08:22:31.572Z"
   },
   {
    "duration": 48,
    "start_time": "2023-02-10T08:22:31.602Z"
   },
   {
    "duration": 23,
    "start_time": "2023-02-10T08:22:31.660Z"
   },
   {
    "duration": 33,
    "start_time": "2023-02-10T08:22:31.685Z"
   },
   {
    "duration": 283,
    "start_time": "2023-02-10T08:22:31.720Z"
   },
   {
    "duration": 12,
    "start_time": "2023-02-10T08:22:32.005Z"
   },
   {
    "duration": 287,
    "start_time": "2023-02-10T08:22:32.018Z"
   },
   {
    "duration": 7,
    "start_time": "2023-02-10T08:22:32.307Z"
   },
   {
    "duration": 8,
    "start_time": "2023-02-10T08:22:32.316Z"
   },
   {
    "duration": 29,
    "start_time": "2023-02-10T08:22:32.325Z"
   },
   {
    "duration": 39,
    "start_time": "2023-02-10T08:22:32.361Z"
   },
   {
    "duration": 39,
    "start_time": "2023-02-10T08:22:32.402Z"
   },
   {
    "duration": 38,
    "start_time": "2023-02-10T08:22:32.448Z"
   },
   {
    "duration": 19,
    "start_time": "2023-02-10T08:22:32.488Z"
   },
   {
    "duration": 15,
    "start_time": "2023-02-10T08:22:32.509Z"
   },
   {
    "duration": 363,
    "start_time": "2023-02-10T08:22:32.526Z"
   },
   {
    "duration": 7,
    "start_time": "2023-02-10T08:22:32.891Z"
   },
   {
    "duration": 322,
    "start_time": "2023-02-10T08:22:32.900Z"
   },
   {
    "duration": 243,
    "start_time": "2023-02-10T08:22:33.224Z"
   },
   {
    "duration": 313,
    "start_time": "2023-02-10T08:22:33.469Z"
   },
   {
    "duration": 10,
    "start_time": "2023-02-10T08:22:33.785Z"
   },
   {
    "duration": 16,
    "start_time": "2023-02-10T08:22:33.796Z"
   },
   {
    "duration": 248,
    "start_time": "2023-02-10T08:22:33.813Z"
   },
   {
    "duration": 298,
    "start_time": "2023-02-10T08:22:34.068Z"
   },
   {
    "duration": 15,
    "start_time": "2023-02-10T08:22:34.378Z"
   },
   {
    "duration": 185,
    "start_time": "2023-02-10T08:22:34.394Z"
   },
   {
    "duration": 4,
    "start_time": "2023-02-10T08:22:34.580Z"
   },
   {
    "duration": 20,
    "start_time": "2023-02-10T08:22:34.586Z"
   },
   {
    "duration": 243,
    "start_time": "2023-02-10T08:22:34.607Z"
   },
   {
    "duration": 10,
    "start_time": "2023-02-10T08:22:34.851Z"
   },
   {
    "duration": 113,
    "start_time": "2023-02-10T08:22:34.862Z"
   },
   {
    "duration": 118,
    "start_time": "2023-02-10T08:22:34.977Z"
   },
   {
    "duration": 26,
    "start_time": "2023-02-10T08:22:35.097Z"
   },
   {
    "duration": 156,
    "start_time": "2023-02-10T08:22:35.124Z"
   },
   {
    "duration": 25,
    "start_time": "2023-02-10T08:22:35.282Z"
   },
   {
    "duration": 10,
    "start_time": "2023-02-10T08:22:35.309Z"
   },
   {
    "duration": 24,
    "start_time": "2023-02-10T08:22:35.321Z"
   },
   {
    "duration": 57,
    "start_time": "2023-02-10T08:22:35.346Z"
   },
   {
    "duration": 12,
    "start_time": "2023-02-10T08:22:35.404Z"
   },
   {
    "duration": 1163,
    "start_time": "2023-02-10T08:27:01.156Z"
   },
   {
    "duration": 4,
    "start_time": "2023-02-10T08:27:02.321Z"
   },
   {
    "duration": 130,
    "start_time": "2023-02-10T08:27:02.326Z"
   },
   {
    "duration": 5,
    "start_time": "2023-02-10T08:27:02.458Z"
   },
   {
    "duration": 62,
    "start_time": "2023-02-10T08:27:02.465Z"
   },
   {
    "duration": 3,
    "start_time": "2023-02-10T08:27:02.529Z"
   },
   {
    "duration": 69,
    "start_time": "2023-02-10T08:27:02.534Z"
   },
   {
    "duration": 30,
    "start_time": "2023-02-10T08:27:02.605Z"
   },
   {
    "duration": 65,
    "start_time": "2023-02-10T08:27:02.638Z"
   },
   {
    "duration": 21,
    "start_time": "2023-02-10T08:27:02.707Z"
   },
   {
    "duration": 81,
    "start_time": "2023-02-10T08:27:02.731Z"
   },
   {
    "duration": 321,
    "start_time": "2023-02-10T08:27:02.814Z"
   },
   {
    "duration": 25,
    "start_time": "2023-02-10T08:27:03.141Z"
   },
   {
    "duration": 265,
    "start_time": "2023-02-10T08:27:03.168Z"
   },
   {
    "duration": 19,
    "start_time": "2023-02-10T08:27:03.437Z"
   },
   {
    "duration": 29,
    "start_time": "2023-02-10T08:27:03.457Z"
   },
   {
    "duration": 7,
    "start_time": "2023-02-10T08:27:03.487Z"
   },
   {
    "duration": 9,
    "start_time": "2023-02-10T08:27:03.496Z"
   },
   {
    "duration": 13,
    "start_time": "2023-02-10T08:27:03.506Z"
   },
   {
    "duration": 10,
    "start_time": "2023-02-10T08:27:03.520Z"
   },
   {
    "duration": 16,
    "start_time": "2023-02-10T08:27:03.532Z"
   },
   {
    "duration": 39,
    "start_time": "2023-02-10T08:27:03.555Z"
   },
   {
    "duration": 293,
    "start_time": "2023-02-10T08:27:03.596Z"
   },
   {
    "duration": 6,
    "start_time": "2023-02-10T08:27:03.890Z"
   },
   {
    "duration": 312,
    "start_time": "2023-02-10T08:27:03.897Z"
   },
   {
    "duration": 253,
    "start_time": "2023-02-10T08:27:04.211Z"
   },
   {
    "duration": 300,
    "start_time": "2023-02-10T08:27:04.471Z"
   },
   {
    "duration": 13,
    "start_time": "2023-02-10T08:27:04.774Z"
   },
   {
    "duration": 4,
    "start_time": "2023-02-10T08:27:04.789Z"
   },
   {
    "duration": 236,
    "start_time": "2023-02-10T08:27:04.794Z"
   },
   {
    "duration": 349,
    "start_time": "2023-02-10T08:27:05.032Z"
   },
   {
    "duration": 11,
    "start_time": "2023-02-10T08:27:05.383Z"
   },
   {
    "duration": 190,
    "start_time": "2023-02-10T08:27:05.395Z"
   },
   {
    "duration": 4,
    "start_time": "2023-02-10T08:27:05.586Z"
   },
   {
    "duration": 18,
    "start_time": "2023-02-10T08:27:05.591Z"
   },
   {
    "duration": 294,
    "start_time": "2023-02-10T08:27:05.611Z"
   },
   {
    "duration": 4,
    "start_time": "2023-02-10T08:27:05.907Z"
   },
   {
    "duration": 104,
    "start_time": "2023-02-10T08:27:05.912Z"
   },
   {
    "duration": 127,
    "start_time": "2023-02-10T08:27:06.018Z"
   },
   {
    "duration": 32,
    "start_time": "2023-02-10T08:27:06.149Z"
   },
   {
    "duration": 131,
    "start_time": "2023-02-10T08:27:06.183Z"
   },
   {
    "duration": 48,
    "start_time": "2023-02-10T08:27:06.315Z"
   },
   {
    "duration": 23,
    "start_time": "2023-02-10T08:27:06.375Z"
   },
   {
    "duration": 8,
    "start_time": "2023-02-10T08:27:06.400Z"
   },
   {
    "duration": 24,
    "start_time": "2023-02-10T08:27:06.410Z"
   },
   {
    "duration": 18,
    "start_time": "2023-02-10T08:27:06.435Z"
   },
   {
    "duration": 1150,
    "start_time": "2023-02-10T08:55:01.973Z"
   },
   {
    "duration": 3,
    "start_time": "2023-02-10T08:55:03.125Z"
   },
   {
    "duration": 91,
    "start_time": "2023-02-10T08:55:03.130Z"
   },
   {
    "duration": 5,
    "start_time": "2023-02-10T08:55:03.223Z"
   },
   {
    "duration": 32,
    "start_time": "2023-02-10T08:55:03.229Z"
   },
   {
    "duration": 4,
    "start_time": "2023-02-10T08:55:03.262Z"
   },
   {
    "duration": 22,
    "start_time": "2023-02-10T08:55:03.267Z"
   },
   {
    "duration": 7,
    "start_time": "2023-02-10T08:55:03.290Z"
   },
   {
    "duration": 39,
    "start_time": "2023-02-10T08:55:03.299Z"
   },
   {
    "duration": 8,
    "start_time": "2023-02-10T08:55:03.341Z"
   },
   {
    "duration": 18,
    "start_time": "2023-02-10T08:55:03.352Z"
   },
   {
    "duration": 269,
    "start_time": "2023-02-10T08:55:03.372Z"
   },
   {
    "duration": 15,
    "start_time": "2023-02-10T08:55:03.650Z"
   },
   {
    "duration": 249,
    "start_time": "2023-02-10T08:55:03.667Z"
   },
   {
    "duration": 8,
    "start_time": "2023-02-10T08:55:03.917Z"
   },
   {
    "duration": 18,
    "start_time": "2023-02-10T08:55:03.927Z"
   },
   {
    "duration": 14,
    "start_time": "2023-02-10T08:55:03.949Z"
   },
   {
    "duration": 13,
    "start_time": "2023-02-10T08:55:03.965Z"
   },
   {
    "duration": 15,
    "start_time": "2023-02-10T08:55:03.979Z"
   },
   {
    "duration": 13,
    "start_time": "2023-02-10T08:55:03.996Z"
   },
   {
    "duration": 7,
    "start_time": "2023-02-10T08:55:04.011Z"
   },
   {
    "duration": 29,
    "start_time": "2023-02-10T08:55:04.020Z"
   },
   {
    "duration": 280,
    "start_time": "2023-02-10T08:55:04.054Z"
   },
   {
    "duration": 18,
    "start_time": "2023-02-10T08:55:04.336Z"
   },
   {
    "duration": 301,
    "start_time": "2023-02-10T08:55:04.356Z"
   },
   {
    "duration": 223,
    "start_time": "2023-02-10T08:55:04.658Z"
   },
   {
    "duration": 294,
    "start_time": "2023-02-10T08:55:04.883Z"
   },
   {
    "duration": 11,
    "start_time": "2023-02-10T08:55:05.181Z"
   },
   {
    "duration": 6,
    "start_time": "2023-02-10T08:55:05.194Z"
   },
   {
    "duration": 231,
    "start_time": "2023-02-10T08:55:05.202Z"
   },
   {
    "duration": 343,
    "start_time": "2023-02-10T08:55:05.436Z"
   },
   {
    "duration": 12,
    "start_time": "2023-02-10T08:55:05.781Z"
   },
   {
    "duration": 181,
    "start_time": "2023-02-10T08:55:05.795Z"
   },
   {
    "duration": 4,
    "start_time": "2023-02-10T08:55:05.978Z"
   },
   {
    "duration": 14,
    "start_time": "2023-02-10T08:55:05.983Z"
   },
   {
    "duration": 249,
    "start_time": "2023-02-10T08:55:05.999Z"
   },
   {
    "duration": 4,
    "start_time": "2023-02-10T08:55:06.252Z"
   },
   {
    "duration": 109,
    "start_time": "2023-02-10T08:55:06.258Z"
   },
   {
    "duration": 133,
    "start_time": "2023-02-10T08:55:06.368Z"
   },
   {
    "duration": 25,
    "start_time": "2023-02-10T08:55:06.503Z"
   },
   {
    "duration": 141,
    "start_time": "2023-02-10T08:55:06.530Z"
   },
   {
    "duration": 23,
    "start_time": "2023-02-10T08:55:06.673Z"
   },
   {
    "duration": 13,
    "start_time": "2023-02-10T08:55:06.698Z"
   },
   {
    "duration": 10,
    "start_time": "2023-02-10T08:55:14.639Z"
   },
   {
    "duration": 4,
    "start_time": "2023-02-10T08:56:24.306Z"
   },
   {
    "duration": 4,
    "start_time": "2023-02-10T08:56:33.766Z"
   },
   {
    "duration": 1154,
    "start_time": "2023-02-10T09:10:34.379Z"
   },
   {
    "duration": 9,
    "start_time": "2023-02-10T09:10:35.536Z"
   },
   {
    "duration": 129,
    "start_time": "2023-02-10T09:10:35.549Z"
   },
   {
    "duration": 5,
    "start_time": "2023-02-10T09:10:35.686Z"
   },
   {
    "duration": 34,
    "start_time": "2023-02-10T09:10:35.693Z"
   },
   {
    "duration": 3,
    "start_time": "2023-02-10T09:10:35.729Z"
   },
   {
    "duration": 74,
    "start_time": "2023-02-10T09:10:35.734Z"
   },
   {
    "duration": 8,
    "start_time": "2023-02-10T09:10:35.810Z"
   },
   {
    "duration": 41,
    "start_time": "2023-02-10T09:10:35.820Z"
   },
   {
    "duration": 33,
    "start_time": "2023-02-10T09:10:35.865Z"
   },
   {
    "duration": 18,
    "start_time": "2023-02-10T09:10:35.900Z"
   },
   {
    "duration": 309,
    "start_time": "2023-02-10T09:10:35.920Z"
   },
   {
    "duration": 14,
    "start_time": "2023-02-10T09:10:36.240Z"
   },
   {
    "duration": 269,
    "start_time": "2023-02-10T09:10:36.265Z"
   },
   {
    "duration": 10,
    "start_time": "2023-02-10T09:10:36.539Z"
   },
   {
    "duration": 43,
    "start_time": "2023-02-10T09:10:36.550Z"
   },
   {
    "duration": 13,
    "start_time": "2023-02-10T09:10:36.595Z"
   },
   {
    "duration": 14,
    "start_time": "2023-02-10T09:10:36.609Z"
   },
   {
    "duration": 29,
    "start_time": "2023-02-10T09:10:36.625Z"
   },
   {
    "duration": 40,
    "start_time": "2023-02-10T09:10:36.655Z"
   },
   {
    "duration": 9,
    "start_time": "2023-02-10T09:10:36.697Z"
   },
   {
    "duration": 21,
    "start_time": "2023-02-10T09:10:36.708Z"
   },
   {
    "duration": 341,
    "start_time": "2023-02-10T09:10:36.731Z"
   },
   {
    "duration": 8,
    "start_time": "2023-02-10T09:10:37.074Z"
   },
   {
    "duration": 349,
    "start_time": "2023-02-10T09:10:37.084Z"
   },
   {
    "duration": 249,
    "start_time": "2023-02-10T09:10:37.437Z"
   },
   {
    "duration": 291,
    "start_time": "2023-02-10T09:10:37.689Z"
   },
   {
    "duration": 11,
    "start_time": "2023-02-10T09:10:37.983Z"
   },
   {
    "duration": 5,
    "start_time": "2023-02-10T09:10:37.996Z"
   },
   {
    "duration": 263,
    "start_time": "2023-02-10T09:10:38.003Z"
   },
   {
    "duration": 342,
    "start_time": "2023-02-10T09:10:38.268Z"
   },
   {
    "duration": 27,
    "start_time": "2023-02-10T09:10:38.612Z"
   },
   {
    "duration": 194,
    "start_time": "2023-02-10T09:10:38.641Z"
   },
   {
    "duration": 9,
    "start_time": "2023-02-10T09:10:38.837Z"
   },
   {
    "duration": 42,
    "start_time": "2023-02-10T09:10:38.849Z"
   },
   {
    "duration": 258,
    "start_time": "2023-02-10T09:10:38.893Z"
   },
   {
    "duration": 4,
    "start_time": "2023-02-10T09:10:39.152Z"
   },
   {
    "duration": 133,
    "start_time": "2023-02-10T09:10:39.158Z"
   },
   {
    "duration": 124,
    "start_time": "2023-02-10T09:10:39.293Z"
   },
   {
    "duration": 57,
    "start_time": "2023-02-10T09:10:39.419Z"
   },
   {
    "duration": 147,
    "start_time": "2023-02-10T09:10:39.478Z"
   },
   {
    "duration": 35,
    "start_time": "2023-02-10T09:10:39.627Z"
   },
   {
    "duration": 24,
    "start_time": "2023-02-10T09:10:39.664Z"
   },
   {
    "duration": 10,
    "start_time": "2023-02-10T09:10:39.690Z"
   },
   {
    "duration": 25,
    "start_time": "2023-02-10T09:10:39.701Z"
   },
   {
    "duration": 23,
    "start_time": "2023-02-10T09:10:39.739Z"
   },
   {
    "duration": 145,
    "start_time": "2023-02-10T09:22:00.966Z"
   },
   {
    "duration": 138,
    "start_time": "2023-02-10T09:22:10.567Z"
   },
   {
    "duration": 123,
    "start_time": "2023-02-10T09:23:03.371Z"
   },
   {
    "duration": 135,
    "start_time": "2023-02-10T09:23:47.424Z"
   },
   {
    "duration": 130,
    "start_time": "2023-02-10T09:23:59.883Z"
   },
   {
    "duration": 154,
    "start_time": "2023-02-10T09:24:15.850Z"
   },
   {
    "duration": 142,
    "start_time": "2023-02-10T09:24:36.385Z"
   },
   {
    "duration": 148,
    "start_time": "2023-02-10T09:26:38.127Z"
   },
   {
    "duration": 1118,
    "start_time": "2023-02-10T09:30:13.415Z"
   },
   {
    "duration": 5,
    "start_time": "2023-02-10T09:30:14.535Z"
   },
   {
    "duration": 84,
    "start_time": "2023-02-10T09:30:14.542Z"
   },
   {
    "duration": 3,
    "start_time": "2023-02-10T09:30:14.628Z"
   },
   {
    "duration": 40,
    "start_time": "2023-02-10T09:30:14.633Z"
   },
   {
    "duration": 3,
    "start_time": "2023-02-10T09:30:14.674Z"
   },
   {
    "duration": 22,
    "start_time": "2023-02-10T09:30:14.678Z"
   },
   {
    "duration": 7,
    "start_time": "2023-02-10T09:30:14.702Z"
   },
   {
    "duration": 15,
    "start_time": "2023-02-10T09:30:14.711Z"
   },
   {
    "duration": 18,
    "start_time": "2023-02-10T09:30:14.728Z"
   },
   {
    "duration": 18,
    "start_time": "2023-02-10T09:30:14.751Z"
   },
   {
    "duration": 287,
    "start_time": "2023-02-10T09:30:14.771Z"
   },
   {
    "duration": 13,
    "start_time": "2023-02-10T09:30:15.059Z"
   },
   {
    "duration": 290,
    "start_time": "2023-02-10T09:30:15.073Z"
   },
   {
    "duration": 9,
    "start_time": "2023-02-10T09:30:15.364Z"
   },
   {
    "duration": 9,
    "start_time": "2023-02-10T09:30:15.374Z"
   },
   {
    "duration": 9,
    "start_time": "2023-02-10T09:30:15.385Z"
   },
   {
    "duration": 8,
    "start_time": "2023-02-10T09:30:15.396Z"
   },
   {
    "duration": 34,
    "start_time": "2023-02-10T09:30:15.406Z"
   },
   {
    "duration": 29,
    "start_time": "2023-02-10T09:30:15.442Z"
   },
   {
    "duration": 11,
    "start_time": "2023-02-10T09:30:15.473Z"
   },
   {
    "duration": 14,
    "start_time": "2023-02-10T09:30:15.486Z"
   },
   {
    "duration": 356,
    "start_time": "2023-02-10T09:30:15.502Z"
   },
   {
    "duration": 6,
    "start_time": "2023-02-10T09:30:15.860Z"
   },
   {
    "duration": 327,
    "start_time": "2023-02-10T09:30:15.867Z"
   },
   {
    "duration": 248,
    "start_time": "2023-02-10T09:30:16.196Z"
   },
   {
    "duration": 325,
    "start_time": "2023-02-10T09:30:16.445Z"
   },
   {
    "duration": 11,
    "start_time": "2023-02-10T09:30:16.775Z"
   },
   {
    "duration": 41,
    "start_time": "2023-02-10T09:30:16.788Z"
   },
   {
    "duration": 325,
    "start_time": "2023-02-10T09:30:16.832Z"
   },
   {
    "duration": 335,
    "start_time": "2023-02-10T09:30:17.159Z"
   },
   {
    "duration": 15,
    "start_time": "2023-02-10T09:30:17.496Z"
   },
   {
    "duration": 185,
    "start_time": "2023-02-10T09:30:17.513Z"
   },
   {
    "duration": 5,
    "start_time": "2023-02-10T09:30:17.700Z"
   },
   {
    "duration": 17,
    "start_time": "2023-02-10T09:30:17.706Z"
   },
   {
    "duration": 260,
    "start_time": "2023-02-10T09:30:17.725Z"
   },
   {
    "duration": 5,
    "start_time": "2023-02-10T09:30:17.987Z"
   },
   {
    "duration": 136,
    "start_time": "2023-02-10T09:30:17.993Z"
   },
   {
    "duration": 154,
    "start_time": "2023-02-10T09:30:18.132Z"
   },
   {
    "duration": 26,
    "start_time": "2023-02-10T09:30:18.288Z"
   },
   {
    "duration": 141,
    "start_time": "2023-02-10T09:30:18.317Z"
   },
   {
    "duration": 26,
    "start_time": "2023-02-10T09:30:18.460Z"
   },
   {
    "duration": 10,
    "start_time": "2023-02-10T09:30:18.488Z"
   },
   {
    "duration": 8,
    "start_time": "2023-02-10T09:30:18.500Z"
   },
   {
    "duration": 53,
    "start_time": "2023-02-10T09:30:18.510Z"
   },
   {
    "duration": 15,
    "start_time": "2023-02-10T09:30:18.565Z"
   },
   {
    "duration": 1101,
    "start_time": "2023-02-10T09:34:58.733Z"
   },
   {
    "duration": 4,
    "start_time": "2023-02-10T09:34:59.838Z"
   },
   {
    "duration": 82,
    "start_time": "2023-02-10T09:34:59.843Z"
   },
   {
    "duration": 5,
    "start_time": "2023-02-10T09:34:59.927Z"
   },
   {
    "duration": 43,
    "start_time": "2023-02-10T09:34:59.934Z"
   },
   {
    "duration": 3,
    "start_time": "2023-02-10T09:34:59.979Z"
   },
   {
    "duration": 27,
    "start_time": "2023-02-10T09:34:59.984Z"
   },
   {
    "duration": 17,
    "start_time": "2023-02-10T09:35:00.012Z"
   },
   {
    "duration": 28,
    "start_time": "2023-02-10T09:35:00.031Z"
   },
   {
    "duration": 6,
    "start_time": "2023-02-10T09:35:00.061Z"
   },
   {
    "duration": 19,
    "start_time": "2023-02-10T09:35:00.069Z"
   },
   {
    "duration": 302,
    "start_time": "2023-02-10T09:35:00.089Z"
   },
   {
    "duration": 11,
    "start_time": "2023-02-10T09:35:00.393Z"
   },
   {
    "duration": 342,
    "start_time": "2023-02-10T09:35:00.406Z"
   },
   {
    "duration": 10,
    "start_time": "2023-02-10T09:35:00.757Z"
   },
   {
    "duration": 36,
    "start_time": "2023-02-10T09:35:00.769Z"
   },
   {
    "duration": 31,
    "start_time": "2023-02-10T09:35:00.807Z"
   },
   {
    "duration": 22,
    "start_time": "2023-02-10T09:35:00.847Z"
   },
   {
    "duration": 32,
    "start_time": "2023-02-10T09:35:00.870Z"
   },
   {
    "duration": 27,
    "start_time": "2023-02-10T09:35:00.904Z"
   },
   {
    "duration": 17,
    "start_time": "2023-02-10T09:35:00.933Z"
   },
   {
    "duration": 32,
    "start_time": "2023-02-10T09:35:00.952Z"
   },
   {
    "duration": 299,
    "start_time": "2023-02-10T09:35:00.986Z"
   },
   {
    "duration": 8,
    "start_time": "2023-02-10T09:35:01.287Z"
   },
   {
    "duration": 316,
    "start_time": "2023-02-10T09:35:01.296Z"
   },
   {
    "duration": 258,
    "start_time": "2023-02-10T09:35:01.614Z"
   },
   {
    "duration": 311,
    "start_time": "2023-02-10T09:35:01.873Z"
   },
   {
    "duration": 12,
    "start_time": "2023-02-10T09:35:02.188Z"
   },
   {
    "duration": 12,
    "start_time": "2023-02-10T09:35:02.203Z"
   },
   {
    "duration": 266,
    "start_time": "2023-02-10T09:35:02.216Z"
   },
   {
    "duration": 347,
    "start_time": "2023-02-10T09:35:02.484Z"
   },
   {
    "duration": 24,
    "start_time": "2023-02-10T09:35:02.833Z"
   },
   {
    "duration": 145,
    "start_time": "2023-02-10T09:35:02.859Z"
   },
   {
    "duration": 4,
    "start_time": "2023-02-10T09:35:03.006Z"
   },
   {
    "duration": 13,
    "start_time": "2023-02-10T09:35:03.012Z"
   },
   {
    "duration": 233,
    "start_time": "2023-02-10T09:35:03.042Z"
   },
   {
    "duration": 3,
    "start_time": "2023-02-10T09:35:03.277Z"
   },
   {
    "duration": 103,
    "start_time": "2023-02-10T09:35:03.282Z"
   },
   {
    "duration": 119,
    "start_time": "2023-02-10T09:35:03.387Z"
   },
   {
    "duration": 47,
    "start_time": "2023-02-10T09:35:03.508Z"
   },
   {
    "duration": 130,
    "start_time": "2023-02-10T09:35:03.557Z"
   },
   {
    "duration": 24,
    "start_time": "2023-02-10T09:35:03.689Z"
   },
   {
    "duration": 9,
    "start_time": "2023-02-10T09:35:03.715Z"
   },
   {
    "duration": 21,
    "start_time": "2023-02-10T09:35:03.741Z"
   },
   {
    "duration": 58,
    "start_time": "2023-02-10T09:35:03.764Z"
   },
   {
    "duration": 17,
    "start_time": "2023-02-10T09:35:03.823Z"
   },
   {
    "duration": 1215,
    "start_time": "2023-02-10T11:10:50.858Z"
   },
   {
    "duration": 3,
    "start_time": "2023-02-10T11:10:52.075Z"
   },
   {
    "duration": 98,
    "start_time": "2023-02-10T11:10:52.081Z"
   },
   {
    "duration": 4,
    "start_time": "2023-02-10T11:10:52.181Z"
   },
   {
    "duration": 32,
    "start_time": "2023-02-10T11:10:52.186Z"
   },
   {
    "duration": 4,
    "start_time": "2023-02-10T11:10:52.220Z"
   },
   {
    "duration": 37,
    "start_time": "2023-02-10T11:10:52.226Z"
   },
   {
    "duration": 11,
    "start_time": "2023-02-10T11:10:52.266Z"
   },
   {
    "duration": 45,
    "start_time": "2023-02-10T11:10:52.280Z"
   },
   {
    "duration": 12,
    "start_time": "2023-02-10T11:10:52.328Z"
   },
   {
    "duration": 26,
    "start_time": "2023-02-10T11:10:52.342Z"
   },
   {
    "duration": 308,
    "start_time": "2023-02-10T11:10:52.370Z"
   },
   {
    "duration": 12,
    "start_time": "2023-02-10T11:10:52.680Z"
   },
   {
    "duration": 274,
    "start_time": "2023-02-10T11:10:52.694Z"
   },
   {
    "duration": 9,
    "start_time": "2023-02-10T11:10:52.970Z"
   },
   {
    "duration": 14,
    "start_time": "2023-02-10T11:10:52.981Z"
   },
   {
    "duration": 17,
    "start_time": "2023-02-10T11:10:52.997Z"
   },
   {
    "duration": 17,
    "start_time": "2023-02-10T11:10:53.015Z"
   },
   {
    "duration": 20,
    "start_time": "2023-02-10T11:10:53.033Z"
   },
   {
    "duration": 17,
    "start_time": "2023-02-10T11:10:53.055Z"
   },
   {
    "duration": 8,
    "start_time": "2023-02-10T11:10:53.074Z"
   },
   {
    "duration": 38,
    "start_time": "2023-02-10T11:10:53.083Z"
   },
   {
    "duration": 317,
    "start_time": "2023-02-10T11:10:53.123Z"
   },
   {
    "duration": 6,
    "start_time": "2023-02-10T11:10:53.442Z"
   },
   {
    "duration": 349,
    "start_time": "2023-02-10T11:10:53.451Z"
   },
   {
    "duration": 295,
    "start_time": "2023-02-10T11:10:53.802Z"
   },
   {
    "duration": 348,
    "start_time": "2023-02-10T11:10:54.099Z"
   },
   {
    "duration": 11,
    "start_time": "2023-02-10T11:10:54.451Z"
   },
   {
    "duration": 10,
    "start_time": "2023-02-10T11:10:54.465Z"
   },
   {
    "duration": 320,
    "start_time": "2023-02-10T11:10:54.476Z"
   },
   {
    "duration": 407,
    "start_time": "2023-02-10T11:10:54.798Z"
   },
   {
    "duration": 19,
    "start_time": "2023-02-10T11:10:55.206Z"
   },
   {
    "duration": 186,
    "start_time": "2023-02-10T11:10:55.227Z"
   },
   {
    "duration": 9,
    "start_time": "2023-02-10T11:10:55.414Z"
   },
   {
    "duration": 18,
    "start_time": "2023-02-10T11:10:55.424Z"
   },
   {
    "duration": 278,
    "start_time": "2023-02-10T11:10:55.443Z"
   },
   {
    "duration": 5,
    "start_time": "2023-02-10T11:10:55.723Z"
   },
   {
    "duration": 108,
    "start_time": "2023-02-10T11:10:55.730Z"
   },
   {
    "duration": 142,
    "start_time": "2023-02-10T11:10:55.840Z"
   },
   {
    "duration": 38,
    "start_time": "2023-02-10T11:10:55.984Z"
   },
   {
    "duration": 180,
    "start_time": "2023-02-10T11:10:56.024Z"
   },
   {
    "duration": 61,
    "start_time": "2023-02-10T11:10:56.206Z"
   },
   {
    "duration": 9,
    "start_time": "2023-02-10T11:10:56.269Z"
   },
   {
    "duration": 14,
    "start_time": "2023-02-10T11:10:56.280Z"
   },
   {
    "duration": 51,
    "start_time": "2023-02-10T11:10:56.296Z"
   },
   {
    "duration": 17,
    "start_time": "2023-02-10T11:10:56.350Z"
   },
   {
    "duration": 45,
    "start_time": "2023-02-11T02:42:11.719Z"
   },
   {
    "duration": 1197,
    "start_time": "2023-02-11T02:42:20.982Z"
   },
   {
    "duration": 3,
    "start_time": "2023-02-11T02:42:22.181Z"
   },
   {
    "duration": 200,
    "start_time": "2023-02-11T02:42:22.186Z"
   },
   {
    "duration": 4,
    "start_time": "2023-02-11T02:42:22.387Z"
   },
   {
    "duration": 28,
    "start_time": "2023-02-11T02:42:22.393Z"
   },
   {
    "duration": 4,
    "start_time": "2023-02-11T02:42:22.422Z"
   },
   {
    "duration": 23,
    "start_time": "2023-02-11T02:42:22.428Z"
   },
   {
    "duration": 9,
    "start_time": "2023-02-11T02:42:22.453Z"
   },
   {
    "duration": 36,
    "start_time": "2023-02-11T02:42:22.463Z"
   },
   {
    "duration": 7,
    "start_time": "2023-02-11T02:42:22.501Z"
   },
   {
    "duration": 28,
    "start_time": "2023-02-11T02:42:22.510Z"
   },
   {
    "duration": 287,
    "start_time": "2023-02-11T02:42:22.541Z"
   },
   {
    "duration": 13,
    "start_time": "2023-02-11T02:42:22.830Z"
   },
   {
    "duration": 236,
    "start_time": "2023-02-11T02:42:22.846Z"
   },
   {
    "duration": 8,
    "start_time": "2023-02-11T02:42:34.444Z"
   },
   {
    "duration": 50,
    "start_time": "2023-02-11T02:47:46.000Z"
   },
   {
    "duration": 16,
    "start_time": "2023-02-11T02:48:56.301Z"
   },
   {
    "duration": 30,
    "start_time": "2023-02-11T02:49:42.870Z"
   },
   {
    "duration": 20,
    "start_time": "2023-02-11T02:49:48.939Z"
   },
   {
    "duration": 16,
    "start_time": "2023-02-11T02:51:18.081Z"
   },
   {
    "duration": 17,
    "start_time": "2023-02-11T02:51:55.415Z"
   },
   {
    "duration": 23,
    "start_time": "2023-02-11T02:52:02.657Z"
   },
   {
    "duration": 17,
    "start_time": "2023-02-11T02:52:25.400Z"
   },
   {
    "duration": 21,
    "start_time": "2023-02-11T02:52:33.856Z"
   },
   {
    "duration": 16,
    "start_time": "2023-02-11T02:53:09.720Z"
   },
   {
    "duration": 62,
    "start_time": "2023-02-11T02:57:29.330Z"
   },
   {
    "duration": 14,
    "start_time": "2023-02-11T02:57:45.540Z"
   },
   {
    "duration": 14,
    "start_time": "2023-02-11T03:02:26.078Z"
   },
   {
    "duration": 10,
    "start_time": "2023-02-11T03:02:41.181Z"
   },
   {
    "duration": 46,
    "start_time": "2023-02-11T03:13:30.556Z"
   },
   {
    "duration": 53,
    "start_time": "2023-02-11T03:14:32.556Z"
   },
   {
    "duration": 48,
    "start_time": "2023-02-11T03:15:48.546Z"
   },
   {
    "duration": 43,
    "start_time": "2023-02-11T03:16:46.105Z"
   },
   {
    "duration": 17,
    "start_time": "2023-02-11T03:16:58.757Z"
   },
   {
    "duration": 18,
    "start_time": "2023-02-11T03:18:08.024Z"
   },
   {
    "duration": 16,
    "start_time": "2023-02-11T03:18:11.785Z"
   },
   {
    "duration": 16,
    "start_time": "2023-02-11T03:18:19.393Z"
   },
   {
    "duration": 15,
    "start_time": "2023-02-11T03:22:06.056Z"
   },
   {
    "duration": 16,
    "start_time": "2023-02-11T03:25:32.586Z"
   },
   {
    "duration": 13,
    "start_time": "2023-02-11T03:25:41.986Z"
   },
   {
    "duration": 12,
    "start_time": "2023-02-11T03:30:57.747Z"
   },
   {
    "duration": 15,
    "start_time": "2023-02-11T03:34:16.355Z"
   },
   {
    "duration": 14,
    "start_time": "2023-02-11T03:34:36.439Z"
   },
   {
    "duration": 15,
    "start_time": "2023-02-11T03:36:47.797Z"
   },
   {
    "duration": 15,
    "start_time": "2023-02-11T03:38:50.134Z"
   },
   {
    "duration": 12,
    "start_time": "2023-02-11T03:41:55.698Z"
   },
   {
    "duration": 49,
    "start_time": "2023-02-11T03:42:36.646Z"
   },
   {
    "duration": 13,
    "start_time": "2023-02-11T03:42:43.706Z"
   },
   {
    "duration": 59,
    "start_time": "2023-02-11T03:52:53.851Z"
   },
   {
    "duration": 13,
    "start_time": "2023-02-11T03:53:00.730Z"
   },
   {
    "duration": 14,
    "start_time": "2023-02-11T03:53:34.489Z"
   },
   {
    "duration": 13,
    "start_time": "2023-02-11T03:57:41.237Z"
   },
   {
    "duration": 1120,
    "start_time": "2023-02-11T04:01:54.123Z"
   },
   {
    "duration": 3,
    "start_time": "2023-02-11T04:01:55.245Z"
   },
   {
    "duration": 69,
    "start_time": "2023-02-11T04:01:55.249Z"
   },
   {
    "duration": 4,
    "start_time": "2023-02-11T04:01:55.320Z"
   },
   {
    "duration": 31,
    "start_time": "2023-02-11T04:01:55.326Z"
   },
   {
    "duration": 3,
    "start_time": "2023-02-11T04:01:55.359Z"
   },
   {
    "duration": 19,
    "start_time": "2023-02-11T04:01:55.364Z"
   },
   {
    "duration": 7,
    "start_time": "2023-02-11T04:01:55.384Z"
   },
   {
    "duration": 46,
    "start_time": "2023-02-11T04:01:55.392Z"
   },
   {
    "duration": 6,
    "start_time": "2023-02-11T04:01:55.440Z"
   },
   {
    "duration": 13,
    "start_time": "2023-02-11T04:01:55.447Z"
   },
   {
    "duration": 280,
    "start_time": "2023-02-11T04:01:55.461Z"
   },
   {
    "duration": 11,
    "start_time": "2023-02-11T04:01:55.742Z"
   },
   {
    "duration": 245,
    "start_time": "2023-02-11T04:01:55.756Z"
   },
   {
    "duration": 57,
    "start_time": "2023-02-11T04:01:56.003Z"
   },
   {
    "duration": 7,
    "start_time": "2023-02-11T04:01:56.062Z"
   },
   {
    "duration": 6,
    "start_time": "2023-02-11T04:01:56.070Z"
   },
   {
    "duration": 9,
    "start_time": "2023-02-11T04:01:56.077Z"
   },
   {
    "duration": 7,
    "start_time": "2023-02-11T04:01:56.087Z"
   },
   {
    "duration": 11,
    "start_time": "2023-02-11T04:01:56.095Z"
   },
   {
    "duration": 36,
    "start_time": "2023-02-11T04:01:56.108Z"
   },
   {
    "duration": 8,
    "start_time": "2023-02-11T04:01:56.146Z"
   },
   {
    "duration": 13,
    "start_time": "2023-02-11T04:01:56.155Z"
   },
   {
    "duration": 291,
    "start_time": "2023-02-11T04:01:56.169Z"
   },
   {
    "duration": 6,
    "start_time": "2023-02-11T04:01:56.461Z"
   },
   {
    "duration": 262,
    "start_time": "2023-02-11T04:01:56.468Z"
   },
   {
    "duration": 205,
    "start_time": "2023-02-11T04:01:56.736Z"
   },
   {
    "duration": 297,
    "start_time": "2023-02-11T04:01:56.942Z"
   },
   {
    "duration": 10,
    "start_time": "2023-02-11T04:01:57.241Z"
   },
   {
    "duration": 5,
    "start_time": "2023-02-11T04:01:57.252Z"
   },
   {
    "duration": 231,
    "start_time": "2023-02-11T04:01:57.258Z"
   },
   {
    "duration": 323,
    "start_time": "2023-02-11T04:01:57.491Z"
   },
   {
    "duration": 22,
    "start_time": "2023-02-11T04:01:57.816Z"
   },
   {
    "duration": 214,
    "start_time": "2023-02-11T04:01:57.839Z"
   },
   {
    "duration": 4,
    "start_time": "2023-02-11T04:01:58.055Z"
   },
   {
    "duration": 11,
    "start_time": "2023-02-11T04:01:58.061Z"
   },
   {
    "duration": 168,
    "start_time": "2023-02-11T04:01:58.073Z"
   },
   {
    "duration": 4,
    "start_time": "2023-02-11T04:01:58.243Z"
   },
   {
    "duration": 99,
    "start_time": "2023-02-11T04:01:58.248Z"
   },
   {
    "duration": 128,
    "start_time": "2023-02-11T04:01:58.349Z"
   },
   {
    "duration": 27,
    "start_time": "2023-02-11T04:01:58.482Z"
   },
   {
    "duration": 116,
    "start_time": "2023-02-11T04:01:58.510Z"
   },
   {
    "duration": 26,
    "start_time": "2023-02-11T04:01:58.636Z"
   },
   {
    "duration": 10,
    "start_time": "2023-02-11T04:01:58.663Z"
   },
   {
    "duration": 9,
    "start_time": "2023-02-11T04:01:58.675Z"
   },
   {
    "duration": 25,
    "start_time": "2023-02-11T04:01:58.686Z"
   },
   {
    "duration": 36,
    "start_time": "2023-02-11T04:01:58.712Z"
   },
   {
    "duration": 13,
    "start_time": "2023-02-11T04:08:49.275Z"
   },
   {
    "duration": 27,
    "start_time": "2023-02-11T04:11:04.478Z"
   },
   {
    "duration": 23,
    "start_time": "2023-02-11T04:11:13.815Z"
   },
   {
    "duration": 21,
    "start_time": "2023-02-11T04:12:21.631Z"
   },
   {
    "duration": 10,
    "start_time": "2023-02-11T04:12:44.345Z"
   },
   {
    "duration": 24,
    "start_time": "2023-02-11T04:13:35.205Z"
   },
   {
    "duration": 12,
    "start_time": "2023-02-11T04:13:53.251Z"
   },
   {
    "duration": 89,
    "start_time": "2023-02-11T06:44:18.874Z"
   },
   {
    "duration": 9,
    "start_time": "2023-02-11T06:44:59.973Z"
   },
   {
    "duration": 12,
    "start_time": "2023-02-11T06:45:09.302Z"
   },
   {
    "duration": 5,
    "start_time": "2023-02-11T06:45:23.182Z"
   },
   {
    "duration": 1079,
    "start_time": "2023-02-11T06:46:12.346Z"
   },
   {
    "duration": 4,
    "start_time": "2023-02-11T06:46:13.427Z"
   },
   {
    "duration": 69,
    "start_time": "2023-02-11T06:46:13.436Z"
   },
   {
    "duration": 4,
    "start_time": "2023-02-11T06:46:13.507Z"
   },
   {
    "duration": 27,
    "start_time": "2023-02-11T06:46:13.512Z"
   },
   {
    "duration": 3,
    "start_time": "2023-02-11T06:46:13.540Z"
   },
   {
    "duration": 24,
    "start_time": "2023-02-11T06:46:13.544Z"
   },
   {
    "duration": 8,
    "start_time": "2023-02-11T06:46:13.569Z"
   },
   {
    "duration": 18,
    "start_time": "2023-02-11T06:46:13.578Z"
   },
   {
    "duration": 5,
    "start_time": "2023-02-11T06:46:13.599Z"
   },
   {
    "duration": 40,
    "start_time": "2023-02-11T06:46:13.606Z"
   },
   {
    "duration": 257,
    "start_time": "2023-02-11T06:46:13.647Z"
   },
   {
    "duration": 11,
    "start_time": "2023-02-11T06:46:13.905Z"
   },
   {
    "duration": 249,
    "start_time": "2023-02-11T06:46:13.918Z"
   },
   {
    "duration": 47,
    "start_time": "2023-02-11T06:46:14.169Z"
   },
   {
    "duration": 20,
    "start_time": "2023-02-11T06:46:14.218Z"
   },
   {
    "duration": 10,
    "start_time": "2023-02-11T06:46:14.239Z"
   },
   {
    "duration": 13,
    "start_time": "2023-02-11T06:46:14.250Z"
   },
   {
    "duration": 6,
    "start_time": "2023-02-11T06:46:14.264Z"
   },
   {
    "duration": 13,
    "start_time": "2023-02-11T06:46:14.271Z"
   },
   {
    "duration": 9,
    "start_time": "2023-02-11T06:46:14.286Z"
   },
   {
    "duration": 6,
    "start_time": "2023-02-11T06:46:14.296Z"
   },
   {
    "duration": 34,
    "start_time": "2023-02-11T06:46:14.304Z"
   },
   {
    "duration": 274,
    "start_time": "2023-02-11T06:46:14.340Z"
   },
   {
    "duration": 7,
    "start_time": "2023-02-11T06:46:14.617Z"
   },
   {
    "duration": 286,
    "start_time": "2023-02-11T06:46:14.625Z"
   },
   {
    "duration": 236,
    "start_time": "2023-02-11T06:46:14.912Z"
   },
   {
    "duration": 314,
    "start_time": "2023-02-11T06:46:15.151Z"
   },
   {
    "duration": 10,
    "start_time": "2023-02-11T06:46:15.467Z"
   },
   {
    "duration": 7,
    "start_time": "2023-02-11T06:46:15.479Z"
   },
   {
    "duration": 244,
    "start_time": "2023-02-11T06:46:15.488Z"
   },
   {
    "duration": 312,
    "start_time": "2023-02-11T06:46:15.736Z"
   },
   {
    "duration": 10,
    "start_time": "2023-02-11T06:46:16.050Z"
   },
   {
    "duration": 230,
    "start_time": "2023-02-11T06:46:16.062Z"
   },
   {
    "duration": 5,
    "start_time": "2023-02-11T06:46:16.293Z"
   },
   {
    "duration": 12,
    "start_time": "2023-02-11T06:46:16.299Z"
   },
   {
    "duration": 186,
    "start_time": "2023-02-11T06:46:16.313Z"
   },
   {
    "duration": 4,
    "start_time": "2023-02-11T06:46:16.501Z"
   },
   {
    "duration": 114,
    "start_time": "2023-02-11T06:46:16.507Z"
   },
   {
    "duration": 135,
    "start_time": "2023-02-11T06:46:16.623Z"
   },
   {
    "duration": 29,
    "start_time": "2023-02-11T06:46:16.760Z"
   },
   {
    "duration": 138,
    "start_time": "2023-02-11T06:46:16.791Z"
   },
   {
    "duration": 28,
    "start_time": "2023-02-11T06:46:16.931Z"
   },
   {
    "duration": 10,
    "start_time": "2023-02-11T06:46:16.961Z"
   },
   {
    "duration": 14,
    "start_time": "2023-02-11T06:46:16.973Z"
   },
   {
    "duration": 35,
    "start_time": "2023-02-11T06:46:16.989Z"
   },
   {
    "duration": 14,
    "start_time": "2023-02-11T06:46:17.037Z"
   },
   {
    "duration": 1008,
    "start_time": "2023-02-11T06:54:47.095Z"
   },
   {
    "duration": 3,
    "start_time": "2023-02-11T06:54:48.105Z"
   },
   {
    "duration": 71,
    "start_time": "2023-02-11T06:54:48.109Z"
   },
   {
    "duration": 3,
    "start_time": "2023-02-11T06:54:48.182Z"
   },
   {
    "duration": 25,
    "start_time": "2023-02-11T06:54:48.187Z"
   },
   {
    "duration": 3,
    "start_time": "2023-02-11T06:54:48.213Z"
   },
   {
    "duration": 20,
    "start_time": "2023-02-11T06:54:48.217Z"
   },
   {
    "duration": 8,
    "start_time": "2023-02-11T06:54:48.238Z"
   },
   {
    "duration": 18,
    "start_time": "2023-02-11T06:54:48.248Z"
   },
   {
    "duration": 6,
    "start_time": "2023-02-11T06:54:48.268Z"
   },
   {
    "duration": 13,
    "start_time": "2023-02-11T06:54:48.276Z"
   },
   {
    "duration": 274,
    "start_time": "2023-02-11T06:54:48.291Z"
   },
   {
    "duration": 11,
    "start_time": "2023-02-11T06:54:48.566Z"
   },
   {
    "duration": 243,
    "start_time": "2023-02-11T06:54:48.579Z"
   },
   {
    "duration": 53,
    "start_time": "2023-02-11T06:54:48.824Z"
   },
   {
    "duration": 8,
    "start_time": "2023-02-11T06:54:48.879Z"
   },
   {
    "duration": 21,
    "start_time": "2023-02-11T06:54:48.888Z"
   },
   {
    "duration": 12,
    "start_time": "2023-02-11T06:54:48.910Z"
   },
   {
    "duration": 8,
    "start_time": "2023-02-11T06:54:48.924Z"
   },
   {
    "duration": 19,
    "start_time": "2023-02-11T06:54:48.933Z"
   },
   {
    "duration": 15,
    "start_time": "2023-02-11T06:54:48.953Z"
   },
   {
    "duration": 6,
    "start_time": "2023-02-11T06:54:48.970Z"
   },
   {
    "duration": 13,
    "start_time": "2023-02-11T06:54:48.977Z"
   },
   {
    "duration": 271,
    "start_time": "2023-02-11T06:54:48.992Z"
   },
   {
    "duration": 5,
    "start_time": "2023-02-11T06:54:49.265Z"
   },
   {
    "duration": 278,
    "start_time": "2023-02-11T06:54:49.271Z"
   },
   {
    "duration": 203,
    "start_time": "2023-02-11T06:54:49.551Z"
   },
   {
    "duration": 288,
    "start_time": "2023-02-11T06:54:49.757Z"
   },
   {
    "duration": 10,
    "start_time": "2023-02-11T06:54:50.047Z"
   },
   {
    "duration": 8,
    "start_time": "2023-02-11T06:54:50.058Z"
   },
   {
    "duration": 213,
    "start_time": "2023-02-11T06:54:50.067Z"
   },
   {
    "duration": 278,
    "start_time": "2023-02-11T06:54:50.282Z"
   },
   {
    "duration": 10,
    "start_time": "2023-02-11T06:54:50.561Z"
   },
   {
    "duration": 207,
    "start_time": "2023-02-11T06:54:50.573Z"
   },
   {
    "duration": 4,
    "start_time": "2023-02-11T06:54:50.782Z"
   },
   {
    "duration": 12,
    "start_time": "2023-02-11T06:54:50.788Z"
   },
   {
    "duration": 162,
    "start_time": "2023-02-11T06:54:50.802Z"
   },
   {
    "duration": 4,
    "start_time": "2023-02-11T06:54:50.966Z"
   },
   {
    "duration": 100,
    "start_time": "2023-02-11T06:54:50.971Z"
   },
   {
    "duration": 110,
    "start_time": "2023-02-11T06:54:51.072Z"
   },
   {
    "duration": 25,
    "start_time": "2023-02-11T06:54:51.184Z"
   },
   {
    "duration": 112,
    "start_time": "2023-02-11T06:54:51.211Z"
   },
   {
    "duration": 25,
    "start_time": "2023-02-11T06:54:51.325Z"
   },
   {
    "duration": 9,
    "start_time": "2023-02-11T06:54:51.352Z"
   },
   {
    "duration": 10,
    "start_time": "2023-02-11T06:54:51.362Z"
   },
   {
    "duration": 28,
    "start_time": "2023-02-11T06:54:51.373Z"
   },
   {
    "duration": 35,
    "start_time": "2023-02-11T06:54:51.402Z"
   },
   {
    "duration": 1130,
    "start_time": "2023-02-11T07:22:09.894Z"
   },
   {
    "duration": 4,
    "start_time": "2023-02-11T07:22:11.025Z"
   },
   {
    "duration": 75,
    "start_time": "2023-02-11T07:22:11.031Z"
   },
   {
    "duration": 4,
    "start_time": "2023-02-11T07:22:11.109Z"
   },
   {
    "duration": 52,
    "start_time": "2023-02-11T07:22:11.114Z"
   },
   {
    "duration": 30,
    "start_time": "2023-02-11T07:22:11.167Z"
   },
   {
    "duration": 44,
    "start_time": "2023-02-11T07:22:11.199Z"
   },
   {
    "duration": 10,
    "start_time": "2023-02-11T07:22:11.245Z"
   },
   {
    "duration": 34,
    "start_time": "2023-02-11T07:22:11.257Z"
   },
   {
    "duration": 29,
    "start_time": "2023-02-11T07:22:11.294Z"
   },
   {
    "duration": 36,
    "start_time": "2023-02-11T07:22:11.325Z"
   },
   {
    "duration": 266,
    "start_time": "2023-02-11T07:22:11.363Z"
   },
   {
    "duration": 14,
    "start_time": "2023-02-11T07:22:11.630Z"
   },
   {
    "duration": 260,
    "start_time": "2023-02-11T07:22:11.646Z"
   },
   {
    "duration": 48,
    "start_time": "2023-02-11T07:22:11.908Z"
   },
   {
    "duration": 20,
    "start_time": "2023-02-11T07:22:11.958Z"
   },
   {
    "duration": 18,
    "start_time": "2023-02-11T07:22:11.980Z"
   },
   {
    "duration": 23,
    "start_time": "2023-02-11T07:22:11.999Z"
   },
   {
    "duration": 7,
    "start_time": "2023-02-11T07:22:12.023Z"
   },
   {
    "duration": 12,
    "start_time": "2023-02-11T07:22:12.032Z"
   },
   {
    "duration": 14,
    "start_time": "2023-02-11T07:22:12.045Z"
   },
   {
    "duration": 7,
    "start_time": "2023-02-11T07:22:12.060Z"
   },
   {
    "duration": 31,
    "start_time": "2023-02-11T07:22:12.069Z"
   },
   {
    "duration": 314,
    "start_time": "2023-02-11T07:22:12.102Z"
   },
   {
    "duration": 7,
    "start_time": "2023-02-11T07:22:12.418Z"
   },
   {
    "duration": 304,
    "start_time": "2023-02-11T07:22:12.428Z"
   },
   {
    "duration": 238,
    "start_time": "2023-02-11T07:22:12.734Z"
   },
   {
    "duration": 342,
    "start_time": "2023-02-11T07:22:12.977Z"
   },
   {
    "duration": 11,
    "start_time": "2023-02-11T07:22:13.322Z"
   },
   {
    "duration": 12,
    "start_time": "2023-02-11T07:22:13.336Z"
   },
   {
    "duration": 284,
    "start_time": "2023-02-11T07:22:13.350Z"
   },
   {
    "duration": 333,
    "start_time": "2023-02-11T07:22:13.636Z"
   },
   {
    "duration": 22,
    "start_time": "2023-02-11T07:22:13.971Z"
   },
   {
    "duration": 260,
    "start_time": "2023-02-11T07:22:13.995Z"
   },
   {
    "duration": 3,
    "start_time": "2023-02-11T07:22:14.257Z"
   },
   {
    "duration": 13,
    "start_time": "2023-02-11T07:22:14.262Z"
   },
   {
    "duration": 187,
    "start_time": "2023-02-11T07:22:14.277Z"
   },
   {
    "duration": 4,
    "start_time": "2023-02-11T07:22:14.467Z"
   },
   {
    "duration": 107,
    "start_time": "2023-02-11T07:22:14.473Z"
   },
   {
    "duration": 136,
    "start_time": "2023-02-11T07:22:14.582Z"
   },
   {
    "duration": 28,
    "start_time": "2023-02-11T07:22:14.720Z"
   },
   {
    "duration": 132,
    "start_time": "2023-02-11T07:22:14.749Z"
   },
   {
    "duration": 36,
    "start_time": "2023-02-11T07:22:14.882Z"
   },
   {
    "duration": 10,
    "start_time": "2023-02-11T07:22:14.920Z"
   },
   {
    "duration": 8,
    "start_time": "2023-02-11T07:22:14.932Z"
   },
   {
    "duration": 31,
    "start_time": "2023-02-11T07:22:14.941Z"
   },
   {
    "duration": 34,
    "start_time": "2023-02-11T07:22:14.973Z"
   }
  ],
  "kernelspec": {
   "display_name": "Python 3 (ipykernel)",
   "language": "python",
   "name": "python3"
  },
  "language_info": {
   "codemirror_mode": {
    "name": "ipython",
    "version": 3
   },
   "file_extension": ".py",
   "mimetype": "text/x-python",
   "name": "python",
   "nbconvert_exporter": "python",
   "pygments_lexer": "ipython3",
   "version": "3.9.16"
  },
  "toc": {
   "base_numbering": 1,
   "nav_menu": {},
   "number_sections": true,
   "sideBar": true,
   "skip_h1_title": true,
   "title_cell": "Оглавление",
   "title_sidebar": "Contents",
   "toc_cell": true,
   "toc_position": {},
   "toc_section_display": true,
   "toc_window_display": false
  }
 },
 "nbformat": 4,
 "nbformat_minor": 2
}
