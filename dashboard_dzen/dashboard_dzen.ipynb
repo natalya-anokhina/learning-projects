{
 "cells": [
  {
   "cell_type": "markdown",
   "id": "0ff371af",
   "metadata": {},
   "source": [
    "# Дашборд: "
   ]
  },
  {
   "cell_type": "markdown",
   "id": "772d1965",
   "metadata": {},
   "source": [
    "https://public.tableau.com/app/profile/natalia.anokhina/viz/dash_project_anokhina/Dashboard?publish=yes"
   ]
  },
  {
   "cell_type": "markdown",
   "id": "c0b14175",
   "metadata": {},
   "source": [
    "# Презентация:"
   ]
  },
  {
   "cell_type": "markdown",
   "id": "f19f45a9",
   "metadata": {},
   "source": [
    "https://disk.yandex.ru/i/s74oWEL1smt2_A"
   ]
  }
 ],
 "metadata": {
  "kernelspec": {
   "display_name": "Python 3 (ipykernel)",
   "language": "python",
   "name": "python3"
  },
  "language_info": {
   "codemirror_mode": {
    "name": "ipython",
    "version": 3
   },
   "file_extension": ".py",
   "mimetype": "text/x-python",
   "name": "python",
   "nbconvert_exporter": "python",
   "pygments_lexer": "ipython3",
   "version": "3.9.13"
  }
 },
 "nbformat": 4,
 "nbformat_minor": 5
}
